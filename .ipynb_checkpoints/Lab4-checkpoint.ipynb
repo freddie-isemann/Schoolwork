{
 "cells": [
  {
   "cell_type": "markdown",
   "id": "d38cef6e-ba9b-4e56-a69f-eb5e754433c7",
   "metadata": {},
   "source": [
    "# Lab 4\n",
    "\n",
    "Deadline: **Week 5** in your respective lab session"
   ]
  },
  {
   "cell_type": "markdown",
   "id": "3fd8d6f9-4682-450d-8faf-a4faf17daf50",
   "metadata": {},
   "source": [
    "### Name:\n",
    "### Student ID:"
   ]
  },
  {
   "cell_type": "markdown",
   "id": "3fcd557a-64b1-4fab-9c69-b67db745f3fa",
   "metadata": {},
   "source": [
    "***\n",
    "<span style=\"color: red;\">You should only use things we learned up to this week (week 4), i.e. ArrayLists, HashMaps, Hashtables, etc., are not allowed. If you are unfamiliar with them, you are not expected to at this stage. Some of them will be introduced in future weeks.</span>"
   ]
  },
  {
   "cell_type": "markdown",
   "id": "e59f7f40-2982-4996-b01e-63212844413b",
   "metadata": {},
   "source": [
    "***\n",
    "\n",
    "## Question 1 [1 mark]"
   ]
  },
  {
   "cell_type": "markdown",
   "id": "9a329058-b307-477a-89aa-bed21e076027",
   "metadata": {},
   "source": [
    "Write class `Animal`.\n",
    "\n",
    "Class `Animal` has two subclasses, `Dog` and `Cat`.\n",
    "\n",
    "Override the `toString()` method in class `Animal` and its subclasses. It should now return the name of the class e.g. `\"Animal\"`.\n",
    "\n",
    "Write a method `populateArray`, which takes an integer as an argument specifying the size of the array, creates a new array of specified size, populates it randomly with instances of `Dog` and `Cat` and returns it. Both classes should have an equal chance of being instantiated.\n",
    "\n",
    "Lastly write some code to test the method you defined."
   ]
  },
  {
   "cell_type": "markdown",
   "id": "eb316635-97f3-4c19-bccf-4c6f69b18318",
   "metadata": {},
   "source": [
    "**Write your answer below:**\n"
   ]
  },
  {
   "cell_type": "code",
   "execution_count": 1,
   "id": "7178281f-9bd0-4f59-9424-21ef6a509a00",
   "metadata": {},
   "outputs": [],
   "source": [
    "import java.util.Random;\n",
    "\n",
    "class Animal {\n",
    "\n",
    "    public String toString() {\n",
    "        String className = this.getClass().getName();\n",
    "        return className;\n",
    "    }\n",
    "\n",
    "    public static Animal[] populateArray(int size) {\n",
    "        int nextInstance = 0;\n",
    "        Random random = new Random();\n",
    "        Animal[] animals = new Animal[size];\n",
    "        for(int i = 0; i < animals.length; i++) {\n",
    "            nextInstance = random.nextInt(2);\n",
    "            if(nextInstance == 1) {\n",
    "                animals[i] = new Dog();\n",
    "            }\n",
    "            else if(nextInstance == 0) {\n",
    "                animals[i] = new Cat();\n",
    "            }\n",
    "        }\n",
    "\n",
    "        return animals;\n",
    "    }\n",
    "}"
   ]
  },
  {
   "cell_type": "code",
   "execution_count": 2,
   "id": "c9653abd-09c0-423d-b5ad-f3a50cea0361",
   "metadata": {
    "vscode": {
     "languageId": "java"
    }
   },
   "outputs": [],
   "source": [
    "class Cat extends Animal {\n",
    "\n",
    "    public String toString() {\n",
    "        return \"Cat\";\n",
    "    }\n",
    "}"
   ]
  },
  {
   "cell_type": "code",
   "execution_count": 3,
   "id": "185983a8-3f44-47d0-9b8d-3a607e704955",
   "metadata": {},
   "outputs": [],
   "source": [
    "class Dog extends Animal {\n",
    "\n",
    "    public String toString() {\n",
    "        return \"Dog\";\n",
    "    }\n",
    "}"
   ]
  },
  {
   "cell_type": "code",
   "execution_count": 4,
   "id": "104c9550-cf11-4519-bfe3-8773f64e2dde",
   "metadata": {},
   "outputs": [],
   "source": [
    "public class Main1 {\n",
    "    public static void main (String [] args) {\n",
    "        Animal[] animals = Animal.populateArray(5);\n",
    "        int j = 3;\n",
    "        String className = animals[j].toString();\n",
    "        System.out.println(className);\n",
    "    }\n",
    "}"
   ]
  },
  {
   "cell_type": "markdown",
   "id": "6fabf667-97b1-4343-96e3-86b4dd65765d",
   "metadata": {},
   "source": [
    "**Run your program:**\n"
   ]
  },
  {
   "cell_type": "code",
   "execution_count": 22,
   "id": "8aa692bb-3548-42a1-9306-11a72fcfbacd",
   "metadata": {
    "vscode": {
     "languageId": "java"
    }
   },
   "outputs": [
    {
     "name": "stdout",
     "output_type": "stream",
     "text": [
      "Cat\n"
     ]
    }
   ],
   "source": [
    "Main1.main(null);"
   ]
  },
  {
   "cell_type": "markdown",
   "id": "4a31bb78-6117-412b-92d9-f150ba2ee053",
   "metadata": {},
   "source": [
    "***\n",
    "\n",
    "## Question 2 [1 mark]"
   ]
  },
  {
   "cell_type": "markdown",
   "id": "69e5f1d4-400d-4c56-b3e7-2cfacd1e88fb",
   "metadata": {},
   "source": [
    "Write a method `separateArray` which separates an array of type `Animal` into two arrays and returns both inside another array (2D array). The first array should be of type `Dog` and contain just instances of class `Dog`, and the second should be of type `Cat` with just instances of class `Cat`.\n",
    "\n",
    "Remember to test your code!\n",
    "\n"
   ]
  },
  {
   "cell_type": "markdown",
   "id": "661ca302-591d-4686-ba0c-09b186a7b981",
   "metadata": {},
   "source": [
    "**Write your answer below:**"
   ]
  },
  {
   "cell_type": "code",
   "execution_count": 6,
   "id": "e6919491-27b6-4393-9147-94dfb863a54d",
   "metadata": {},
   "outputs": [],
   "source": [
    "public static Animal[][] separateArray(Animal [] animals) {\n",
    "    int dogCounter = 0;\n",
    "    int catCounter = 0;\n",
    "    for(int i = 0; i < animals.length; i++) {\n",
    "        if(animals[i] instanceof Dog) {\n",
    "            dogCounter = dogCounter + 1;\n",
    "        }\n",
    "        else if(animals[i] instanceof Cat) {\n",
    "            catCounter = catCounter + 1;\n",
    "        }\n",
    "    }\n",
    "\n",
    "    Dog[] dogs = new Dog[dogCounter];\n",
    "    Cat[] cats = new Cat[catCounter];\n",
    "\n",
    "    int dogIndex = 0;\n",
    "    int catIndex = 0;\n",
    "\n",
    "    for(int i = 0; i < animals.length; i++) {\n",
    "        if(animals[i] instanceof Dog) {\n",
    "            dogs[dogIndex] = (Dog) animals[i];\n",
    "            dogIndex = dogIndex + 1;\n",
    "        }\n",
    "        if(animals[i] instanceof Cat) {\n",
    "            cats[catIndex] = (Cat) animals[i];\n",
    "            catIndex = catIndex + 1;\n",
    "        }\n",
    "    }\n",
    "\n",
    "    Animal[][] result = new Animal[2][];\n",
    "    result[0] = dogs;\n",
    "    result[1] = cats;\n",
    "    return result;\n",
    "}"
   ]
  },
  {
   "cell_type": "markdown",
   "id": "86678292-eaf1-4144-8540-af5a2897235f",
   "metadata": {},
   "source": [
    "**Run your program:**\n"
   ]
  },
  {
   "cell_type": "code",
   "execution_count": 23,
   "id": "0ad396b2-a91f-474c-bfc3-8c395500544a",
   "metadata": {
    "vscode": {
     "languageId": "java"
    }
   },
   "outputs": [
    {
     "name": "stdout",
     "output_type": "stream",
     "text": [
      "Dogs:\n",
      "Dog\n",
      "Dog\n",
      "Dog\n",
      "Dog\n",
      "Cats:\n",
      "Cat\n",
      "Cat\n",
      "Cat\n",
      "Cat\n"
     ]
    }
   ],
   "source": [
    "Animal[] animals = Animal.populateArray(10);\n",
    "\n",
    "Animal[][] separated = separateArray(animals);\n",
    "\n",
    "System.out.println(\"Dogs:\");\n",
    "    for(int i = 0; i < separated[0].length; i++) {\n",
    "        System.out.println(separated[0][i]);\n",
    "    }\n",
    "\n",
    "System.out.println(\"Cats:\");\n",
    "    for(int i = 0; i < separated[0].length; i++) {\n",
    "        System.out.println(separated[1][i]);\n",
    "    }"
   ]
  },
  {
   "cell_type": "markdown",
   "id": "f7d78bc4-91d6-4599-9b1b-92f54ad04024",
   "metadata": {},
   "source": [
    "***\n",
    "## Question 3 [1 mark]"
   ]
  },
  {
   "cell_type": "markdown",
   "id": "3c8c2842-016a-4fc3-a860-08725ed30efd",
   "metadata": {},
   "source": [
    "Write a method `countAnimalInstances` which takes an array of type `Animal` and returns an array with counts for each unique class.\n",
    "\n",
    "For example `{new Cat(), new Dog(), new Cat()}` should return `{2, 1}`. This is because the instance of class `Cat` occurred `2` times, and the instance of class `Dog` occurred `1` time. The order of the counts should be based on the order in which instances occurred first in the array. Here, the cat occurred first; thus, it is placed at index `0`, whereas the dog occurred second; thus, it is placed at index `1`.\n",
    "\n",
    "Another example: `{new Cat(), new Pig(), new Cat(), new Cat(), new Dog(), new Cow(), new Dog()}` should return `{3, 1, 2, 1}`.\n",
    "\n",
    "You should assume the method must work for any number of subclasses of Animal, i.e. if we create subclasses `Pig` and `Cow`, the method should still work."
   ]
  },
  {
   "cell_type": "markdown",
   "id": "c5fe0fd0-036e-485c-911a-437f103e1e2f",
   "metadata": {},
   "source": [
    "**Write your answer below:**"
   ]
  },
  {
   "cell_type": "code",
   "execution_count": 24,
   "id": "f765cc02-b3ea-49c6-b3d3-f73526086582",
   "metadata": {},
   "outputs": [],
   "source": [
    "public int[] countAnimalInstances(Animal[] instanceArray) {\n",
    "    String[] arrayInstances = new String[instanceArray.length];\n",
    "    for(int i = 0; i < instanceArray.length; i++) {\n",
    "        arrayInstances[i] = instanceArray[i].toString();\n",
    "    }\n",
    "\n",
    "    // This section determines the number of unique names in the array to determine the unique animals found (this could be either cats or dogs, or other subclass animals if needed)\n",
    "    String[] uniqueNames = new String[instanceArray.length];\n",
    "    int uniqueCount = 0;\n",
    "    boolean isUnique = false;\n",
    "    for(int i = 0; i < instanceArray.length; i++) {\n",
    "        isUnique = true;\n",
    "        for(int j = 0; j < uniqueCount; j++) {\n",
    "            if(arrayInstances[i].equals(uniqueNames[j])) {\n",
    "                isUnique = false;\n",
    "            }\n",
    "        }\n",
    "        if (isUnique) {\n",
    "            uniqueNames[uniqueCount] = arrayInstances[i];\n",
    "            uniqueCount++;\n",
    "        }\n",
    "    }\n",
    "\n",
    "    // This determines the final number of each unique animal and how many are in the array\n",
    "    int[] finalCount = new int[uniqueCount];\n",
    "    for(int i = 0; i < instanceArray.length; i++) {\n",
    "        for(int j = 0; j < uniqueCount; j++) {\n",
    "            if(arrayInstances[i].equals(uniqueNames[j])) {\n",
    "                finalCount[j]++;\n",
    "            }\n",
    "        }\n",
    "    }\n",
    "\n",
    "    return finalCount;\n",
    "    \n",
    "}"
   ]
  },
  {
   "cell_type": "markdown",
   "id": "cbf3c460-6088-4e9f-aced-e51555d57b4e",
   "metadata": {},
   "source": [
    "**Run your program:**\n"
   ]
  },
  {
   "cell_type": "code",
   "execution_count": 25,
   "id": "ac33953a-bc70-4107-924e-511d71686f12",
   "metadata": {
    "vscode": {
     "languageId": "java"
    }
   },
   "outputs": [
    {
     "name": "stdout",
     "output_type": "stream",
     "text": [
      "[2, 1]\n",
      "[Cat, Dog, Cat]\n"
     ]
    }
   ],
   "source": [
    "Animal[] array = Animal.populateArray(3);\n",
    "System.out.println(Arrays.toString(countAnimalInstances(array)));\n",
    "System.out.println(Arrays.toString(array));"
   ]
  },
  {
   "cell_type": "markdown",
   "id": "f4db984e-b240-4b08-98b2-4950400706c2",
   "metadata": {},
   "source": [
    "***"
   ]
  },
  {
   "cell_type": "markdown",
   "id": "139be293-bfe1-4ded-b6ef-eecf28decfa5",
   "metadata": {},
   "source": [
    "## Question 4 [1 mark]"
   ]
  },
  {
   "cell_type": "markdown",
   "id": "49def47a",
   "metadata": {},
   "source": [
    "Write class `Person`, which has a private instance variable `name`, a constructor to initialise the `name` and a method `printInfo`, which prints out the person's name.\n",
    "\n",
    "Write another class, `Student`, a subclass of a `Person`. `Student` has instance variable `SID`, constructor to initialise the `SID` and overrides method `printInfo`. It should print out the `name` and `SID`.\n",
    "\n",
    "You are expected to use the keyword `super` in your answer.\n",
    "\n",
    "Test your code!"
   ]
  },
  {
   "cell_type": "markdown",
   "id": "e361e947",
   "metadata": {},
   "source": [
    "**Write your answer below:**"
   ]
  },
  {
   "cell_type": "code",
   "execution_count": 10,
   "id": "a62a4c53-9680-410e-a100-d6894b4c4a4b",
   "metadata": {},
   "outputs": [],
   "source": [
    "class Person {\n",
    "\n",
    "    private String name;\n",
    "    \n",
    "    Person(String name) {\n",
    "        this.name = name;\n",
    "    }\n",
    "\n",
    "    public void printInfo() {\n",
    "        System.out.println(name);\n",
    "    }\n",
    "\n",
    "    public String getName() {\n",
    "        return name;\n",
    "    }\n",
    "}"
   ]
  },
  {
   "cell_type": "code",
   "execution_count": 11,
   "id": "b0e0ad9d",
   "metadata": {
    "vscode": {
     "languageId": "java"
    }
   },
   "outputs": [],
   "source": [
    "class Student extends Person {\n",
    "    \n",
    "    int SID;\n",
    "\n",
    "    Student(String name, int SID) {\n",
    "        super(name);\n",
    "        this.SID = SID;\n",
    "    }\n",
    "\n",
    "    // Overrides printInfo by making another version of it\n",
    "    public void printInfo() {\n",
    "        System.out.println(getName());\n",
    "        System.out.println(this.SID);\n",
    "    }\n",
    "            \n",
    "}"
   ]
  },
  {
   "cell_type": "markdown",
   "id": "57b12d04",
   "metadata": {},
   "source": [
    "**Run your program:**\n"
   ]
  },
  {
   "cell_type": "code",
   "execution_count": 26,
   "id": "7a139c49",
   "metadata": {
    "vscode": {
     "languageId": "java"
    }
   },
   "outputs": [
    {
     "name": "stdout",
     "output_type": "stream",
     "text": [
      "John\n",
      "Adam\n",
      "210642\n"
     ]
    }
   ],
   "source": [
    "Person person = new Person(\"John\");\n",
    "person.printInfo();\n",
    "\n",
    "Student student = new Student(\"Adam\", 210642);\n",
    "student.printInfo();"
   ]
  },
  {
   "cell_type": "markdown",
   "id": "36473178",
   "metadata": {},
   "source": [
    "***"
   ]
  },
  {
   "cell_type": "markdown",
   "id": "a2769fc4-0864-4328-85f3-7dcb7034045c",
   "metadata": {},
   "source": [
    "## Question 5 [1 mark]"
   ]
  },
  {
   "cell_type": "markdown",
   "id": "c86c6dbc",
   "metadata": {},
   "source": [
    "A unit fraction contains  $1$ in the numerator. The decimal representation of the unit fractions with denominators $2$ to $10$ are given:\n",
    "\n",
    "$1/2=0.5$  \n",
    "$1/3=0.(3)$  \n",
    "$1/4=0.25$  \n",
    "$1/5=0.2$  \n",
    "$1/6=0.1(6)$  \n",
    "$1/7=0.(142857)$  \n",
    "$1/8=0.125$  \n",
    "$1/9=0.(1)$  \n",
    "$1/10=0.1$  \n",
    "\n",
    "Where $0.1(6)$ means $0.166666$..., and has a $1$-digit recurring cycle. It can be seen that $1/7$ has a $6$-digit recurring cycle.\n",
    "\n",
    "Find the value of $d < 1000$ for which $1/d$ contains the longest recurring cycle in its decimal fraction part.\n",
    "\n",
    "Tip: Make it work for $d < 10$ first.\n"
   ]
  },
  {
   "cell_type": "markdown",
   "id": "adbd95c5",
   "metadata": {},
   "source": [
    "**Write your answer below:**"
   ]
  },
  {
   "cell_type": "code",
   "execution_count": 27,
   "id": "3540b103-e972-4d1a-a8d5-1c08521944a1",
   "metadata": {},
   "outputs": [],
   "source": [
    "public static int findLongestRecurring() {\n",
    "    int maxLength = 0;\n",
    "    int maxValueOfD = 0;\n",
    "\n",
    "    // This section works on iterating through denominator d from 2 - 999\n",
    "    for(int d = 2; d < 1000; d++) {\n",
    "        int remainder = 1;\n",
    "        int[] remainders = new int[d]; // Array to keep track of all the remainders achieved\n",
    "        int position = 0; // Tracks the potition in the division process\n",
    "\n",
    "        // Implements division until the remainder becomes 0 or a repeating process is found - it inputs the positions into an array to keep track of where the current array is\n",
    "        while(remainders[remainder] == 0 && remainder != 0) {\n",
    "            remainders[remainder] = position;\n",
    "            remainder = (remainder * 10) % d; // next remainder is calculated using the formula remainder x 10 mod d \n",
    "            position++; // Increments the position\n",
    "        }\n",
    "\n",
    "        if (remainder != 0) {\n",
    "            int cycleLength = position - remainders[remainder]; // Calculates the length of the cycle and compares it with the max length found so far\n",
    "            // If the current cycle is greater than the max cycle, it swaps\n",
    "            if (cycleLength > maxLength) {\n",
    "                maxLength = cycleLength;\n",
    "                maxValueOfD = d;\n",
    "            }\n",
    "        }\n",
    "    }\n",
    "\n",
    "    return maxValueOfD;\n",
    "}"
   ]
  },
  {
   "cell_type": "markdown",
   "id": "592174e5",
   "metadata": {},
   "source": [
    "**Run your program:**\n"
   ]
  },
  {
   "cell_type": "code",
   "execution_count": 28,
   "id": "3de85efc",
   "metadata": {
    "vscode": {
     "languageId": "java"
    }
   },
   "outputs": [],
   "source": [
    "public class Main5 {\n",
    "    public static void Main(String[] args) {\n",
    "        int result = findLongestRecurring();\n",
    "        System.out.println(\"Value of D = \" + result);\n",
    "    }\n",
    "}"
   ]
  },
  {
   "cell_type": "code",
   "execution_count": 29,
   "id": "64ad1d4d-482c-4e22-b522-8495f68b95a1",
   "metadata": {},
   "outputs": [
    {
     "name": "stdout",
     "output_type": "stream",
     "text": [
      "Value of D = 983\n"
     ]
    }
   ],
   "source": [
    "Main5.Main(null);"
   ]
  },
  {
   "cell_type": "code",
   "execution_count": null,
   "id": "c35d304c-95df-4ff1-8816-469f5e1d1b42",
   "metadata": {},
   "outputs": [],
   "source": []
  }
 ],
 "metadata": {
  "kernelspec": {
   "display_name": "Java",
   "language": "java",
   "name": "java"
  },
  "language_info": {
   "codemirror_mode": "java",
   "file_extension": ".jshell",
   "mimetype": "text/x-java-source",
   "name": "Java",
   "pygments_lexer": "java",
   "version": "11.0.8+10-LTS"
  }
 },
 "nbformat": 4,
 "nbformat_minor": 5
}
