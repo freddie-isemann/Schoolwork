{
 "cells": [
  {
   "cell_type": "code",
   "execution_count": 1,
   "id": "90dc4e08-0154-43ec-825e-41880f89f18e",
   "metadata": {
    "tags": []
   },
   "outputs": [],
   "source": [
    "class A { }"
   ]
  },
  {
   "cell_type": "code",
   "execution_count": 2,
   "id": "5faebb80-77b7-4415-a33f-5606878e10da",
   "metadata": {},
   "outputs": [],
   "source": [
    "A x, y;\n"
   ]
  },
  {
   "cell_type": "code",
   "execution_count": 3,
   "id": "ed684af0-8f8b-4f70-aac8-f01c3a3a19d3",
   "metadata": {},
   "outputs": [],
   "source": [
    "x\n"
   ]
  },
  {
   "cell_type": "code",
   "execution_count": 4,
   "id": "25a33f42-edb5-4732-ad9a-0c0ac755e166",
   "metadata": {},
   "outputs": [
    {
     "name": "stdout",
     "output_type": "stream",
     "text": [
      "null\n"
     ]
    }
   ],
   "source": [
    "System.out.println(x);"
   ]
  },
  {
   "cell_type": "code",
   "execution_count": 5,
   "id": "10f4faeb-7402-4d6e-9e27-a66316db3956",
   "metadata": {},
   "outputs": [
    {
     "data": {
      "text/plain": [
       "true"
      ]
     },
     "execution_count": 5,
     "metadata": {},
     "output_type": "execute_result"
    }
   ],
   "source": [
    "x == y"
   ]
  },
  {
   "cell_type": "code",
   "execution_count": 6,
   "id": "ce60bf15-9ac3-4263-aff9-ba3a7089090b",
   "metadata": {},
   "outputs": [],
   "source": [
    "x = new A();"
   ]
  },
  {
   "cell_type": "code",
   "execution_count": 7,
   "id": "104b14f0-5b33-4981-ab67-57a3779c688a",
   "metadata": {},
   "outputs": [
    {
     "data": {
      "text/plain": [
       "false"
      ]
     },
     "execution_count": 7,
     "metadata": {},
     "output_type": "execute_result"
    }
   ],
   "source": [
    "x == y"
   ]
  },
  {
   "cell_type": "code",
   "execution_count": 8,
   "id": "c1ecd88b-e057-4bb2-96aa-5be21abc1da4",
   "metadata": {},
   "outputs": [],
   "source": [
    "y = new A();"
   ]
  },
  {
   "cell_type": "code",
   "execution_count": 9,
   "id": "1f64f7a1-df79-40c0-a969-0860d5f7554f",
   "metadata": {},
   "outputs": [
    {
     "data": {
      "text/plain": [
       "false"
      ]
     },
     "execution_count": 9,
     "metadata": {},
     "output_type": "execute_result"
    }
   ],
   "source": [
    "x == y"
   ]
  },
  {
   "cell_type": "code",
   "execution_count": 10,
   "id": "60d858d1-79c4-43cc-989d-66d5e25c4682",
   "metadata": {},
   "outputs": [],
   "source": [
    "x = y;"
   ]
  },
  {
   "cell_type": "code",
   "execution_count": 11,
   "id": "1efc21ff-f423-4a3a-92a0-d5f81920438f",
   "metadata": {},
   "outputs": [
    {
     "data": {
      "text/plain": [
       "true"
      ]
     },
     "execution_count": 11,
     "metadata": {},
     "output_type": "execute_result"
    }
   ],
   "source": [
    "x == y"
   ]
  },
  {
   "cell_type": "code",
   "execution_count": 12,
   "id": "224a5c62-c5b6-4c82-a0ac-dee749b94b18",
   "metadata": {},
   "outputs": [
    {
     "ename": "CompilationException",
     "evalue": "",
     "output_type": "error",
     "traceback": [
      "\u001b[1m\u001b[30m|   \u001b[1m\u001b[30m\u001b[0m\u001b[1m\u001b[30m\u001b[41mx + y\u001b[0m\u001b[1m\u001b[30m\u001b[0m",
      "\u001b[1m\u001b[31mbad operand types for binary operator '+'\u001b[0m",
      "\u001b[1m\u001b[31m  first type:  A\u001b[0m",
      "\u001b[1m\u001b[31m  second type: A\u001b[0m",
      ""
     ]
    }
   ],
   "source": [
    "x + y"
   ]
  },
  {
   "cell_type": "code",
   "execution_count": null,
   "id": "28ae1630-41db-4348-8339-f7d43b52d31b",
   "metadata": {},
   "outputs": [],
   "source": []
  },
  {
   "cell_type": "code",
   "execution_count": 34,
   "id": "d30ba05c-d8d9-4118-91ee-1ed2c076ab63",
   "metadata": {},
   "outputs": [],
   "source": [
    "A[] p = {new A(), new A(),new A(),new A()};"
   ]
  },
  {
   "cell_type": "code",
   "execution_count": 35,
   "id": "d5bbe525-76bc-4672-8f59-598930b6d08b",
   "metadata": {},
   "outputs": [
    {
     "data": {
      "text/plain": [
       "false"
      ]
     },
     "execution_count": 35,
     "metadata": {},
     "output_type": "execute_result"
    }
   ],
   "source": [
    "p[2] == p[0]"
   ]
  },
  {
   "cell_type": "code",
   "execution_count": 36,
   "id": "99ba500a-017e-4c0b-b45a-f8e97e11cf41",
   "metadata": {},
   "outputs": [],
   "source": [
    "A bob = new A();"
   ]
  },
  {
   "cell_type": "code",
   "execution_count": 37,
   "id": "567023c4-1ba4-416a-801e-fc57d8f011a0",
   "metadata": {},
   "outputs": [
    {
     "data": {
      "text/plain": [
       "false"
      ]
     },
     "execution_count": 37,
     "metadata": {},
     "output_type": "execute_result"
    }
   ],
   "source": [
    "bob == p[3]"
   ]
  },
  {
   "cell_type": "code",
   "execution_count": 38,
   "id": "74ca94dc-b6d6-48bf-98f5-c9fcb567e102",
   "metadata": {},
   "outputs": [
    {
     "data": {
      "text/plain": [
       "REPL.$JShell$12$A@7be437c6"
      ]
     },
     "execution_count": 38,
     "metadata": {},
     "output_type": "execute_result"
    }
   ],
   "source": [
    "p[(new Random()).nextInt(p.length)] = bob;"
   ]
  },
  {
   "cell_type": "code",
   "execution_count": 40,
   "id": "f1470d0b-089c-4c0e-a769-7e8a24930fb9",
   "metadata": {},
   "outputs": [
    {
     "data": {
      "text/plain": [
       "true"
      ]
     },
     "execution_count": 40,
     "metadata": {},
     "output_type": "execute_result"
    }
   ],
   "source": [
    "p[0] == bob"
   ]
  },
  {
   "cell_type": "code",
   "execution_count": 41,
   "id": "3c7b1b9a-0e18-4d0a-8621-15eb5c5fd86d",
   "metadata": {},
   "outputs": [
    {
     "data": {
      "text/plain": [
       "false"
      ]
     },
     "execution_count": 41,
     "metadata": {},
     "output_type": "execute_result"
    }
   ],
   "source": [
    "p[1] == bob"
   ]
  },
  {
   "cell_type": "code",
   "execution_count": 42,
   "id": "032ac44e-0b83-45c0-a731-98ce31a524c0",
   "metadata": {},
   "outputs": [
    {
     "data": {
      "text/plain": [
       "false"
      ]
     },
     "execution_count": 42,
     "metadata": {},
     "output_type": "execute_result"
    }
   ],
   "source": [
    "p[2] == bob"
   ]
  },
  {
   "cell_type": "code",
   "execution_count": 43,
   "id": "498a64b6-ce20-49dd-b9ed-7e75484e0161",
   "metadata": {},
   "outputs": [
    {
     "data": {
      "text/plain": [
       "false"
      ]
     },
     "execution_count": 43,
     "metadata": {},
     "output_type": "execute_result"
    }
   ],
   "source": [
    "p[3] == bob"
   ]
  },
  {
   "cell_type": "code",
   "execution_count": 44,
   "id": "ad3997e0-e2d3-4a5c-b779-d7ec578fdfa8",
   "metadata": {},
   "outputs": [],
   "source": [
    "<T> int seek(T s, T[] a) {\n",
    "    for (int i=0;i<a.length;i++){\n",
    "        if (s == a[i]) return i;\n",
    "    }\n",
    "    return -1729;\n",
    "}"
   ]
  },
  {
   "cell_type": "code",
   "execution_count": 45,
   "id": "1a0a9ee9-ff75-478f-9547-3fa1dcfccddc",
   "metadata": {},
   "outputs": [
    {
     "data": {
      "text/plain": [
       "0"
      ]
     },
     "execution_count": 45,
     "metadata": {},
     "output_type": "execute_result"
    }
   ],
   "source": [
    "seek(bob, p)"
   ]
  },
  {
   "cell_type": "code",
   "execution_count": 11,
   "id": "2ef3a530-c595-4bba-9076-33bf6eb3ad39",
   "metadata": {},
   "outputs": [],
   "source": [
    "class A { }\n",
    "class B extends A { }\n",
    "A a = new A();\n",
    "B b = new B();"
   ]
  },
  {
   "cell_type": "code",
   "execution_count": 12,
   "id": "1abdd8c1-373d-4666-b5a2-2da2c3b9fbbd",
   "metadata": {},
   "outputs": [
    {
     "data": {
      "text/plain": [
       "true"
      ]
     },
     "execution_count": 12,
     "metadata": {},
     "output_type": "execute_result"
    }
   ],
   "source": [
    "a == a"
   ]
  },
  {
   "cell_type": "code",
   "execution_count": 13,
   "id": "3173fa8c-fba5-4a96-a8f3-fdb3fad2c779",
   "metadata": {},
   "outputs": [
    {
     "data": {
      "text/plain": [
       "false"
      ]
     },
     "execution_count": 13,
     "metadata": {},
     "output_type": "execute_result"
    }
   ],
   "source": [
    "a == b"
   ]
  },
  {
   "cell_type": "code",
   "execution_count": 14,
   "id": "4ae69937-ce7f-495a-89f0-9c3e04239ccb",
   "metadata": {},
   "outputs": [
    {
     "data": {
      "text/plain": [
       "false"
      ]
     },
     "execution_count": 14,
     "metadata": {},
     "output_type": "execute_result"
    }
   ],
   "source": [
    "b == a"
   ]
  },
  {
   "cell_type": "code",
   "execution_count": 15,
   "id": "f7c5f591-8b49-4829-bb1d-5b6bac5e2dca",
   "metadata": {},
   "outputs": [],
   "source": [
    "a = a;"
   ]
  },
  {
   "cell_type": "code",
   "execution_count": 16,
   "id": "76c43962-e409-4383-926a-c2aa2e04f506",
   "metadata": {},
   "outputs": [],
   "source": [
    "a = b;"
   ]
  },
  {
   "cell_type": "code",
   "execution_count": 17,
   "id": "0db96a77-eef9-4cf6-a041-94960e217c87",
   "metadata": {},
   "outputs": [
    {
     "ename": "CompilationException",
     "evalue": "",
     "output_type": "error",
     "traceback": [
      "\u001b[1m\u001b[30m|   \u001b[1m\u001b[30mb = \u001b[0m\u001b[1m\u001b[30m\u001b[41ma\u001b[0m\u001b[1m\u001b[30m;\u001b[0m",
      "\u001b[1m\u001b[31mincompatible types: A cannot be converted to B\u001b[0m",
      ""
     ]
    }
   ],
   "source": [
    "b = a;"
   ]
  },
  {
   "cell_type": "code",
   "execution_count": 18,
   "id": "e4b16a40-65cd-44f9-af3f-79da9e282e49",
   "metadata": {},
   "outputs": [
    {
     "name": "stdout",
     "output_type": "stream",
     "text": [
      "REPL.$JShell$13C$B@4e8ce200\n"
     ]
    }
   ],
   "source": [
    "System.out.println(a);"
   ]
  },
  {
   "cell_type": "code",
   "execution_count": 20,
   "id": "ef235b49-6ad3-4045-aa85-17aae62d9b9e",
   "metadata": {},
   "outputs": [
    {
     "data": {
      "text/plain": [
       "REPL.$JShell$13C$B@4e8ce200"
      ]
     },
     "execution_count": 20,
     "metadata": {},
     "output_type": "execute_result"
    }
   ],
   "source": [
    "a.toString()"
   ]
  },
  {
   "cell_type": "code",
   "execution_count": 21,
   "id": "7534162b-1a71-45da-b362-a0876512e0de",
   "metadata": {},
   "outputs": [
    {
     "data": {
      "text/plain": [
       "1317855744"
      ]
     },
     "execution_count": 21,
     "metadata": {},
     "output_type": "execute_result"
    }
   ],
   "source": [
    "a.hashCode() // 4E8CE200"
   ]
  },
  {
   "cell_type": "code",
   "execution_count": 28,
   "id": "60ae5f84-016f-478d-abca-52f5d6cbc2b6",
   "metadata": {},
   "outputs": [],
   "source": [
    "class A { }\n",
    "class B extends A { }\n",
    "class C<T> { }\n",
    "C<A> ca = new C<A>();\n",
    "C<B> cb = new C<B>();"
   ]
  },
  {
   "cell_type": "code",
   "execution_count": 29,
   "id": "fdc315ad-7350-4262-ac58-af1d13fcaf9c",
   "metadata": {},
   "outputs": [
    {
     "ename": "CompilationException",
     "evalue": "",
     "output_type": "error",
     "traceback": [
      "\u001b[1m\u001b[30m|   \u001b[1m\u001b[30m\u001b[0m\u001b[1m\u001b[30m\u001b[41mca == cb\u001b[0m\u001b[1m\u001b[30m\u001b[0m",
      "\u001b[1m\u001b[31mincomparable types: C<A> and C<B>\u001b[0m",
      ""
     ]
    }
   ],
   "source": [
    "ca == cb"
   ]
  },
  {
   "cell_type": "code",
   "execution_count": 30,
   "id": "7da6f94e-d4fb-444a-97ae-bdd2eee93e76",
   "metadata": {},
   "outputs": [
    {
     "ename": "CompilationException",
     "evalue": "",
     "output_type": "error",
     "traceback": [
      "\u001b[1m\u001b[30m|   \u001b[1m\u001b[30m\u001b[0m\u001b[1m\u001b[30m\u001b[41mcb == ca\u001b[0m\u001b[1m\u001b[30m\u001b[0m",
      "\u001b[1m\u001b[31mincomparable types: C<B> and C<A>\u001b[0m",
      ""
     ]
    }
   ],
   "source": [
    "cb == ca"
   ]
  },
  {
   "cell_type": "code",
   "execution_count": 31,
   "id": "5ab885eb-201e-4204-add8-150901989b4d",
   "metadata": {},
   "outputs": [
    {
     "ename": "CompilationException",
     "evalue": "",
     "output_type": "error",
     "traceback": [
      "\u001b[1m\u001b[30m|   \u001b[1m\u001b[30mca = \u001b[0m\u001b[1m\u001b[30m\u001b[41mcb\u001b[0m\u001b[1m\u001b[30m;\u001b[0m",
      "\u001b[1m\u001b[31mincompatible types: C<B> cannot be converted to C<A>\u001b[0m",
      ""
     ]
    }
   ],
   "source": [
    "ca = cb;"
   ]
  },
  {
   "cell_type": "code",
   "execution_count": 32,
   "id": "76cf6ae8-a03d-4837-8aea-716927166db9",
   "metadata": {},
   "outputs": [
    {
     "ename": "CompilationException",
     "evalue": "",
     "output_type": "error",
     "traceback": [
      "\u001b[1m\u001b[30m|   \u001b[1m\u001b[30mcb = \u001b[0m\u001b[1m\u001b[30m\u001b[41mca\u001b[0m\u001b[1m\u001b[30m;\u001b[0m",
      "\u001b[1m\u001b[31mincompatible types: C<A> cannot be converted to C<B>\u001b[0m",
      ""
     ]
    }
   ],
   "source": [
    "cb = ca;"
   ]
  },
  {
   "cell_type": "code",
   "execution_count": null,
   "id": "c6abced1-148b-4fd5-bbc8-9f9bd58db993",
   "metadata": {},
   "outputs": [],
   "source": []
  },
  {
   "cell_type": "code",
   "execution_count": null,
   "id": "9d4be082-24fd-427c-9a54-60c78ad6786b",
   "metadata": {},
   "outputs": [],
   "source": []
  },
  {
   "cell_type": "code",
   "execution_count": null,
   "id": "934552e4-8dc6-4eca-b019-ad66af550c07",
   "metadata": {},
   "outputs": [],
   "source": []
  }
 ],
 "metadata": {
  "kernelspec": {
   "display_name": "Java",
   "language": "java",
   "name": "java"
  },
  "language_info": {
   "codemirror_mode": "java",
   "file_extension": ".jshell",
   "mimetype": "text/x-java-source",
   "name": "Java",
   "pygments_lexer": "java",
   "version": "11.0.8+10-LTS"
  }
 },
 "nbformat": 4,
 "nbformat_minor": 5
}
