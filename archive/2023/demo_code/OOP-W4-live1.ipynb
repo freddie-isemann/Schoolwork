{
 "cells": [
  {
   "cell_type": "code",
   "execution_count": 37,
   "id": "3f2f3c85-e248-4467-af54-062fe0a71a23",
   "metadata": {},
   "outputs": [],
   "source": [
    "<T> void pr(T s) {System.out.println(s);}\n"
   ]
  },
  {
   "cell_type": "code",
   "execution_count": 20,
   "id": "003972c5-476f-4d86-b15d-5d4215f56cc7",
   "metadata": {},
   "outputs": [],
   "source": [
    "class A {\n",
    "     int n;  String s;  A a;\n",
    "    \n",
    "      static <T extends A> T pickBigN(T a1, T a2) {\n",
    "          return (a1.n > a2.n ? a1 : a2);\n",
    "}\n",
    "    A(int n, String s, A a) {\n",
    "          this.n = n;  this.s = s;  this.a = a;\n",
    "}\n",
    "     A(int n) {\n",
    "          this.n = n; stringify(); this.a = this;\n",
    "}\n",
    "     A() {\n",
    "         this(0);\n",
    "}\n",
    "     void restore() {\n",
    "          n = a.n; s = a.s; a = a.a;\n",
    "}\n",
    "\n",
    "    \n",
    "    \n",
    "     void randomize() {\n",
    "          n = (new Random()).nextInt();\n",
    "     }\n",
    "     void stringify() {\n",
    "          s = Integer.toString(n);\n",
    "     }\n",
    "     void backup() {\n",
    "          A temp = a; a = new A();\n",
    "          a.n = n;\n",
    "          a.s = s;\n",
    "          a.a = temp;\n",
    "     }\n",
    "     void scale(int factor) {\n",
    "          n = n * factor;\n",
    "     }\n",
    "}"
   ]
  },
  {
   "cell_type": "code",
   "execution_count": 21,
   "id": "ba9e09cc-6d73-44e4-9551-1a159e59e25a",
   "metadata": {},
   "outputs": [],
   "source": [
    "A x = new A(42);\n"
   ]
  },
  {
   "cell_type": "code",
   "execution_count": 22,
   "id": "72ea8e9f-0ca4-46c2-aaa6-a3b1ae894d13",
   "metadata": {},
   "outputs": [
    {
     "data": {
      "text/plain": [
       "42"
      ]
     },
     "execution_count": 22,
     "metadata": {},
     "output_type": "execute_result"
    }
   ],
   "source": [
    "x.n"
   ]
  },
  {
   "cell_type": "code",
   "execution_count": 23,
   "id": "83b1bca4-bad1-4f0b-81b5-492449096203",
   "metadata": {},
   "outputs": [
    {
     "data": {
      "text/plain": [
       "42"
      ]
     },
     "execution_count": 23,
     "metadata": {},
     "output_type": "execute_result"
    }
   ],
   "source": [
    "x.s"
   ]
  },
  {
   "cell_type": "code",
   "execution_count": 24,
   "id": "2a5a9452-90fd-42fb-ac92-9cba935ed7e0",
   "metadata": {},
   "outputs": [
    {
     "data": {
      "text/plain": [
       "42"
      ]
     },
     "execution_count": 24,
     "metadata": {},
     "output_type": "execute_result"
    }
   ],
   "source": [
    "x.a.n"
   ]
  },
  {
   "cell_type": "code",
   "execution_count": 25,
   "id": "60e37458-a960-4a6c-9761-b5db27ce7710",
   "metadata": {},
   "outputs": [],
   "source": [
    "x.backup();"
   ]
  },
  {
   "cell_type": "code",
   "execution_count": 26,
   "id": "e637d8c6-5e5d-4ba2-a4e0-e8a3305cb5e9",
   "metadata": {},
   "outputs": [
    {
     "data": {
      "text/plain": [
       "1729"
      ]
     },
     "execution_count": 26,
     "metadata": {},
     "output_type": "execute_result"
    }
   ],
   "source": [
    "x.n = 1729;"
   ]
  },
  {
   "cell_type": "code",
   "execution_count": 29,
   "id": "7022ca61-0695-4dca-92f8-c00addcce028",
   "metadata": {},
   "outputs": [
    {
     "data": {
      "text/plain": [
       "1729"
      ]
     },
     "execution_count": 29,
     "metadata": {},
     "output_type": "execute_result"
    }
   ],
   "source": [
    "x.s"
   ]
  },
  {
   "cell_type": "code",
   "execution_count": 28,
   "id": "7011a298-8a4e-4769-98e4-13eca20ef81e",
   "metadata": {},
   "outputs": [],
   "source": [
    "x.stringify();"
   ]
  },
  {
   "cell_type": "code",
   "execution_count": 30,
   "id": "86db1e46-f348-4eb9-b423-49386f511b65",
   "metadata": {},
   "outputs": [],
   "source": [
    "x.restore();\n"
   ]
  },
  {
   "cell_type": "code",
   "execution_count": 31,
   "id": "7937d6a5-5957-436e-961a-e7926346c7fa",
   "metadata": {},
   "outputs": [
    {
     "data": {
      "text/plain": [
       "42"
      ]
     },
     "execution_count": 31,
     "metadata": {},
     "output_type": "execute_result"
    }
   ],
   "source": [
    "x.n\n"
   ]
  },
  {
   "cell_type": "code",
   "execution_count": 32,
   "id": "7a1919f8-546a-485d-8307-fcfc7ffad8e2",
   "metadata": {},
   "outputs": [
    {
     "data": {
      "text/plain": [
       "42"
      ]
     },
     "execution_count": 32,
     "metadata": {},
     "output_type": "execute_result"
    }
   ],
   "source": [
    "x.a.n"
   ]
  },
  {
   "cell_type": "code",
   "execution_count": 34,
   "id": "cdee7735-1f90-4c82-a0b0-28158709bc86",
   "metadata": {},
   "outputs": [
    {
     "data": {
      "text/plain": [
       "42"
      ]
     },
     "execution_count": 34,
     "metadata": {},
     "output_type": "execute_result"
    }
   ],
   "source": [
    "x.a.a.a.a.a.a.a.n"
   ]
  },
  {
   "cell_type": "code",
   "execution_count": 35,
   "id": "eb4b20d6-740c-4557-8537-8022f1091f2c",
   "metadata": {},
   "outputs": [],
   "source": [
    "  class Pair<E> {\n",
    "     E first;  E second;\n",
    "   Pair(E f, E s) {\n",
    "       first = f; second = s;\n",
    "}\n",
    "   Pair() { } // Must exist even if\n",
    "   void swap() {\n",
    "       E temp = first;\n",
    "       first = second; second = temp;\n",
    "   }\n",
    "   Pair<E> swapped() {\n",
    "       Pair<E> r = new Pair<E>();\n",
    "       r.first = second; r.second = first;\n",
    "       return r;\n",
    "} }"
   ]
  },
  {
   "cell_type": "code",
   "execution_count": 36,
   "id": "195513da-2076-4a2a-9ee5-d074ad24064f",
   "metadata": {},
   "outputs": [],
   "source": [
    "Pair<A> p1 = new Pair(new A(34), new A(56));"
   ]
  },
  {
   "cell_type": "code",
   "execution_count": 42,
   "id": "53ed491b-15f2-4b49-bc82-1e1e0d4eaa45",
   "metadata": {},
   "outputs": [
    {
     "data": {
      "text/plain": [
       "34"
      ]
     },
     "execution_count": 42,
     "metadata": {},
     "output_type": "execute_result"
    }
   ],
   "source": [
    "p1.first.n"
   ]
  },
  {
   "cell_type": "code",
   "execution_count": 41,
   "id": "48d5cb9b-033f-421a-aa8a-176a5a15fba2",
   "metadata": {},
   "outputs": [],
   "source": [
    "p1.swap();"
   ]
  },
  {
   "cell_type": "code",
   "execution_count": 44,
   "id": "b20c8a3b-db0f-42c1-8039-989c15de8e99",
   "metadata": {},
   "outputs": [
    {
     "data": {
      "text/plain": [
       "56"
      ]
     },
     "execution_count": 44,
     "metadata": {},
     "output_type": "execute_result"
    }
   ],
   "source": [
    "p1.swapped().first.n"
   ]
  },
  {
   "cell_type": "code",
   "execution_count": 43,
   "id": "2372db99-c611-41ca-8c2e-d2dd5b8acc08",
   "metadata": {},
   "outputs": [],
   "source": [
    "class A {\n",
    "      int b, t; A() {this(1,3);}\n",
    "     A(int bottom, int top) {this.b = bottom; this.t = top;}\n",
    "     int m(int n) {\n",
    "          if (n < this.b) n = this.b;\n",
    "          if (n > this.t) n = this.t;\n",
    "          return n;\n",
    "} }"
   ]
  },
  {
   "cell_type": "code",
   "execution_count": 44,
   "id": "2edca05c-ca90-484d-b842-e6b1605cbdd6",
   "metadata": {},
   "outputs": [
    {
     "name": "stdout",
     "output_type": "stream",
     "text": [
      "3\n",
      "50\n"
     ]
    }
   ],
   "source": [
    "A narrow = new A();// ! Does not compile now.\n",
    "A wide = new A(-10, 50);\n",
    "pr(narrow.m(100)); // Prints 3.\n",
    "pr(  wide.m(100));"
   ]
  },
  {
   "cell_type": "code",
   "execution_count": 48,
   "id": "2f700f33-4f36-4896-afa6-7b93465b7612",
   "metadata": {},
   "outputs": [],
   "source": [
    "class D {\n",
    "     String s; D() {s = \"Woof\";}\n",
    "     D(String bark) {s = bark;}\n",
    "     void w() {\n",
    "pr(s); }\n",
    "}\n"
   ]
  },
  {
   "cell_type": "code",
   "execution_count": 49,
   "id": "434db7d7-7bf4-406b-9716-cb14f7d9fd5e",
   "metadata": {},
   "outputs": [
    {
     "name": "stdout",
     "output_type": "stream",
     "text": [
      "Bow-wow-wow\n",
      "Yip Yip Yip\n"
     ]
    }
   ],
   "source": [
    "D bowser = new D(\"Bow-wow-wow\");\n",
    "D yippy = new D(\"Yip Yip Yip\");\n",
    "bowser.w(); // Prints \"Bow-wow-wow\".\n",
    "yippy.w(); // Prints \"Yip Yip Yip\"."
   ]
  },
  {
   "cell_type": "code",
   "execution_count": 50,
   "id": "9d781b26-c227-4a41-a253-9ce971b3c5ec",
   "metadata": {},
   "outputs": [
    {
     "name": "stdout",
     "output_type": "stream",
     "text": [
      "Bow\n"
     ]
    }
   ],
   "source": [
    "bowser.s = \"Bow\"; // Change state of object held by bowser. \n",
    "bowser.w(); // "
   ]
  },
  {
   "cell_type": "code",
   "execution_count": 51,
   "id": "25d213b3-08b2-479b-8c41-24522d387c64",
   "metadata": {},
   "outputs": [
    {
     "name": "stdout",
     "output_type": "stream",
     "text": [
      "Yip Yip Yip\n"
     ]
    }
   ],
   "source": [
    "bowser = yippy; // Change which object is held by bowser.\n",
    "bowser.w();"
   ]
  },
  {
   "cell_type": "code",
   "execution_count": 53,
   "id": "c3c08201-e17f-4ec6-ae9f-7b3bf287801f",
   "metadata": {},
   "outputs": [],
   "source": [
    "class B extends A {\n",
    "     float h;\n",
    "     B(float h) {\n",
    "          \n",
    "          // Automatic call to A’s constructor?\n",
    "          this.h = h;\n",
    "}\n",
    "     B() {\n",
    "         super();\n",
    "         this(3.1415f); // Call B(float).\n",
    "}\n",
    "    void scale(int n) {\n",
    "        super.scale(n); // Call A’s scale(int).\n",
    "        h = h * n;\n",
    "    }\n",
    "    \n",
    "}"
   ]
  },
  {
   "cell_type": "code",
   "execution_count": 56,
   "id": "bda23e9a-75f7-476c-9f4e-e72ab75391e8",
   "metadata": {},
   "outputs": [
    {
     "name": "stdout",
     "output_type": "stream",
     "text": [
      "Woof\n"
     ]
    }
   ],
   "source": [
    "class F extends D {\n",
    "     F() { s = \"Ouaf\";}\n",
    "}\n",
    "D x = new F();\n",
    "x.w();"
   ]
  },
  {
   "cell_type": "code",
   "execution_count": null,
   "id": "ed24818c-2ad3-4df2-9cb2-db28a1e6aa0c",
   "metadata": {},
   "outputs": [],
   "source": []
  }
 ],
 "metadata": {
  "kernelspec": {
   "display_name": "Java",
   "language": "java",
   "name": "java"
  },
  "language_info": {
   "codemirror_mode": "java",
   "file_extension": ".jshell",
   "mimetype": "text/x-java-source",
   "name": "Java",
   "pygments_lexer": "java",
   "version": "11.0.8+10-LTS"
  }
 },
 "nbformat": 4,
 "nbformat_minor": 5
}
