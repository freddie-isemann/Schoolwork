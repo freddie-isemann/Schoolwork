{
 "cells": [
  {
   "cell_type": "code",
   "execution_count": 1,
   "id": "004f7c29-ff51-4280-89e1-0527fe656bd5",
   "metadata": {},
   "outputs": [],
   "source": [
    "<T> void pr(T s) {\n",
    "     System.out.println(s);\n",
    "}"
   ]
  },
  {
   "cell_type": "code",
   "execution_count": 28,
   "id": "e957b06b-3366-49d4-aa68-d1605e80c288",
   "metadata": {},
   "outputs": [],
   "source": [
    "class A {\n",
    "    static A pickBigN(A a1, A a2) {return (a1.n > a2.n ? a1 : a2);}\n",
    "    \n",
    "     int n;  String s;  A a;\n",
    "    \n",
    "  A(int n, String s, A a) {\n",
    "          this.n = n;  this.s = s;  this.a = a;\n",
    "}\n",
    "     A(int n) {\n",
    "           this.n = n; stringify(); this.a = this; //  ! Does not compile :0\n",
    "}\n",
    "     A() {\n",
    "         this(0);pr(\"I got called.\");\n",
    "}\n",
    "     void restore() {\n",
    "          n = a.n; s = a.s; a = a.a;\n",
    "}\n",
    "    \n",
    "     void randomize() {\n",
    "          n = (new Random()).nextInt();\n",
    "     }\n",
    "     void stringify() {\n",
    "          s = Integer.toString(n);\n",
    "     }\n",
    "     void backup() {\n",
    "          A temp = a; a = new A();\n",
    "          a.n = n;\n",
    "          a.s = s;\n",
    "          a.a = temp;\n",
    "     }\n",
    "     void scale(int factor) {\n",
    "          n = n * factor;\n",
    "     }\n",
    "}"
   ]
  },
  {
   "cell_type": "code",
   "execution_count": 29,
   "id": "8b4dd5ea-88a4-4b5d-b3c7-e8911fdd84e0",
   "metadata": {},
   "outputs": [
    {
     "name": "stdout",
     "output_type": "stream",
     "text": [
      "I got called.\n",
      "I got called.\n"
     ]
    },
    {
     "data": {
      "text/plain": [
       "420"
      ]
     },
     "execution_count": 29,
     "metadata": {},
     "output_type": "execute_result"
    }
   ],
   "source": [
    "A x = new A();\n",
    "x.n = 42;\n",
    "x.stringify();\n",
    "x.backup();\n",
    "x.scale(10); x.stringify();\n",
    "A.pickBigN(x, x.a).s"
   ]
  },
  {
   "cell_type": "code",
   "execution_count": 30,
   "id": "8ae3e70a-541b-42d8-81ea-62c226a78d6c",
   "metadata": {},
   "outputs": [
    {
     "data": {
      "text/plain": [
       "420"
      ]
     },
     "execution_count": 30,
     "metadata": {},
     "output_type": "execute_result"
    }
   ],
   "source": [
    "x.n"
   ]
  },
  {
   "cell_type": "code",
   "execution_count": 31,
   "id": "6eaa10b3-0ddc-4ca4-9c49-5e3e6dfe8079",
   "metadata": {},
   "outputs": [
    {
     "data": {
      "text/plain": [
       "42"
      ]
     },
     "execution_count": 31,
     "metadata": {},
     "output_type": "execute_result"
    }
   ],
   "source": [
    "x.a.n"
   ]
  },
  {
   "cell_type": "code",
   "execution_count": 32,
   "id": "25e66103-1a9e-4800-a133-e41f99979ac0",
   "metadata": {},
   "outputs": [],
   "source": [
    "/*class A {\n",
    "    \n",
    "    int b, t; \n",
    "    \n",
    "    A() {this.b = 1; this.t = 3;}\n",
    "    \n",
    "      A(int bottom, int top) {this.b = bottom; this.t = top;}\n",
    "    \n",
    "     int m(int n) {\n",
    "          if (n < this.b) n = this.b;\n",
    "          if (n > this.t) n = this.t;\n",
    "          return n;\n",
    "} }*/"
   ]
  },
  {
   "cell_type": "code",
   "execution_count": 33,
   "id": "874dabc4-4df8-4af9-8ff9-ebba378fc575",
   "metadata": {},
   "outputs": [
    {
     "name": "stdout",
     "output_type": "stream",
     "text": [
      "I got called.\n"
     ]
    },
    {
     "ename": "CompilationException",
     "evalue": "",
     "output_type": "error",
     "traceback": [
      "\u001b[1m\u001b[30m|   \u001b[1m\u001b[30mA wide = \u001b[0m\u001b[1m\u001b[30m\u001b[41mnew A(-10, 50)\u001b[0m\u001b[1m\u001b[30m;\u001b[0m",
      "\u001b[1m\u001b[31mno suitable constructor found for A(int,int)\u001b[0m",
      "\u001b[1m\u001b[31m    constructor A.A(int,java.lang.String,A) is not applicable\u001b[0m",
      "\u001b[1m\u001b[31m      (actual and formal argument lists differ in length)\u001b[0m",
      "\u001b[1m\u001b[31m    constructor A.A(int) is not applicable\u001b[0m",
      "\u001b[1m\u001b[31m      (actual and formal argument lists differ in length)\u001b[0m",
      "\u001b[1m\u001b[31m    constructor A.A() is not applicable\u001b[0m",
      "\u001b[1m\u001b[31m      (actual and formal argument lists differ in length)\u001b[0m",
      ""
     ]
    }
   ],
   "source": [
    "A narrow = new A();\n",
    "A wide = new A(-10, 50);\n",
    "pr(narrow.m(100)); // Prints 3.\n",
    "pr(  wide.m(100)); // Prints 50."
   ]
  },
  {
   "cell_type": "code",
   "execution_count": 34,
   "id": "105d58dd-73cb-426f-981c-bfa879940d8f",
   "metadata": {},
   "outputs": [],
   "source": [
    "class D {\n",
    "     String s; D() {s = \"Woof\";}\n",
    "     D(String bark) {s = bark;}\n",
    "     void w() {\n",
    "pr(this.s); }\n",
    "}\n"
   ]
  },
  {
   "cell_type": "code",
   "execution_count": 35,
   "id": "10edb9ce-f8f1-4cae-b7eb-c8bba843031b",
   "metadata": {},
   "outputs": [
    {
     "name": "stdout",
     "output_type": "stream",
     "text": [
      "Bow-wow-wow\n",
      "Yip Yip Yip\n"
     ]
    }
   ],
   "source": [
    "D bowser = new D(\"Bow-wow-wow\");\n",
    "D yippy = new D(\"Yip Yip Yip\");\n",
    "bowser.w(); // Prints \"Bow-wow-wow\".\n",
    "yippy.w(); // Prints \"Yip Yip Yip\"."
   ]
  },
  {
   "cell_type": "code",
   "execution_count": 36,
   "id": "b9d569b9-e0ba-4f5a-b96b-562f8ad6600f",
   "metadata": {},
   "outputs": [
    {
     "name": "stdout",
     "output_type": "stream",
     "text": [
      "Bow\n"
     ]
    }
   ],
   "source": [
    "bowser.s = \"Bow\"; // Change state of object held by bowser. \n",
    "bowser.w(); // Prints \"Bow\"."
   ]
  },
  {
   "cell_type": "code",
   "execution_count": 37,
   "id": "af35abba-cc45-434e-9fd7-53b9ad4d14ef",
   "metadata": {},
   "outputs": [
    {
     "name": "stdout",
     "output_type": "stream",
     "text": [
      "Yip Yip Yip\n"
     ]
    }
   ],
   "source": [
    "bowser = yippy; // Change which object is held by bowser.\n",
    "bowser.w(); // Prints \"Yip Yip Yip\"."
   ]
  },
  {
   "cell_type": "code",
   "execution_count": 38,
   "id": "6f5ffb1e-60eb-49dd-8831-18aae1c6ead6",
   "metadata": {},
   "outputs": [
    {
     "name": "stdout",
     "output_type": "stream",
     "text": [
      "Yip Yip Yip\n"
     ]
    }
   ],
   "source": [
    "yippy.w();"
   ]
  },
  {
   "cell_type": "code",
   "execution_count": 39,
   "id": "85f1f8eb-71da-47c0-afd6-99ff0cf5ee65",
   "metadata": {},
   "outputs": [],
   "source": [
    "class B extends A {\n",
    "     float h;\n",
    "     B(float h) {\n",
    "          super(42);\n",
    "          this.h = h;\n",
    "}\n",
    "     B() {\n",
    "         // Automatic call to A’s constructor.\n",
    "         this(3.1415f); // Call B(float).\n",
    "}\n",
    "    void scale(int n) {\n",
    "        super.scale(n); // Call A’s scale(int).\n",
    "        h = h * n;\n",
    "    }\n",
    "     \n",
    "}"
   ]
  },
  {
   "cell_type": "code",
   "execution_count": 40,
   "id": "7ab85d71-7a4d-4f41-9cd1-7027e2bee35a",
   "metadata": {},
   "outputs": [],
   "source": [
    "B y = new B();"
   ]
  },
  {
   "cell_type": "code",
   "execution_count": 24,
   "id": "8acf4334-80a9-4955-a20b-5986e6ba1ed1",
   "metadata": {},
   "outputs": [
    {
     "data": {
      "text/plain": [
       "42"
      ]
     },
     "execution_count": 24,
     "metadata": {},
     "output_type": "execute_result"
    }
   ],
   "source": [
    "y.n\n"
   ]
  },
  {
   "cell_type": "code",
   "execution_count": 25,
   "id": "ed6d027a-ff32-49a2-8a02-c271dcc4225b",
   "metadata": {},
   "outputs": [
    {
     "data": {
      "text/plain": [
       "42"
      ]
     },
     "execution_count": 25,
     "metadata": {},
     "output_type": "execute_result"
    }
   ],
   "source": [
    "y.s"
   ]
  },
  {
   "cell_type": "code",
   "execution_count": 26,
   "id": "d8095b7c-ace2-4361-bc38-8ba26c11093f",
   "metadata": {},
   "outputs": [
    {
     "data": {
      "text/plain": [
       "42"
      ]
     },
     "execution_count": 26,
     "metadata": {},
     "output_type": "execute_result"
    }
   ],
   "source": [
    "y.a.s"
   ]
  },
  {
   "cell_type": "code",
   "execution_count": 49,
   "id": "4d4ab328-e2ee-4780-b582-82e6585f45ae",
   "metadata": {},
   "outputs": [
    {
     "name": "stdout",
     "output_type": "stream",
     "text": [
      "Ouaf\n"
     ]
    }
   ],
   "source": [
    "\n",
    "class F extends D {\n",
    "      String s;\n",
    "    F() { super(\"Ouaf\");}\n",
    "}\n",
    "D x = new F();\n",
    "x.w();"
   ]
  },
  {
   "cell_type": "code",
   "execution_count": 48,
   "id": "75bbf62f-5555-414c-8644-30dda4f40b8c",
   "metadata": {},
   "outputs": [
    {
     "data": {
      "text/plain": [
       "Woof"
      ]
     },
     "execution_count": 48,
     "metadata": {},
     "output_type": "execute_result"
    }
   ],
   "source": [
    "x.s"
   ]
  },
  {
   "cell_type": "code",
   "execution_count": null,
   "id": "e62a9319-9fff-45ec-b14e-496363bac4b6",
   "metadata": {},
   "outputs": [],
   "source": []
  }
 ],
 "metadata": {
  "kernelspec": {
   "display_name": "Java",
   "language": "java",
   "name": "java"
  },
  "language_info": {
   "codemirror_mode": "java",
   "file_extension": ".jshell",
   "mimetype": "text/x-java-source",
   "name": "Java",
   "pygments_lexer": "java",
   "version": "11.0.8+10-LTS"
  }
 },
 "nbformat": 4,
 "nbformat_minor": 5
}
