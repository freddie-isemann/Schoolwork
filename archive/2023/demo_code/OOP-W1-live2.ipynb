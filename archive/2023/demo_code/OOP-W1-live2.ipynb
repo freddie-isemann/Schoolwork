{
 "cells": [
  {
   "cell_type": "code",
   "execution_count": 1,
   "id": "581ffa91-909e-4256-8b4f-373d8e3bf84e",
   "metadata": {},
   "outputs": [],
   "source": [
    "class A { }"
   ]
  },
  {
   "cell_type": "code",
   "execution_count": 3,
   "id": "06656996",
   "metadata": {},
   "outputs": [],
   "source": [
    "A x, y;"
   ]
  },
  {
   "cell_type": "code",
   "execution_count": 3,
   "id": "59fedec8",
   "metadata": {},
   "outputs": [
    {
     "data": {
      "text/plain": [
       "true"
      ]
     },
     "execution_count": 3,
     "metadata": {},
     "output_type": "execute_result"
    }
   ],
   "source": [
    "x == y"
   ]
  },
  {
   "cell_type": "code",
   "execution_count": 4,
   "id": "4792319a",
   "metadata": {},
   "outputs": [
    {
     "name": "stdout",
     "output_type": "stream",
     "text": [
      "null\n"
     ]
    }
   ],
   "source": [
    "System.out.println(x);"
   ]
  },
  {
   "cell_type": "code",
   "execution_count": 5,
   "id": "d6c4391e",
   "metadata": {},
   "outputs": [],
   "source": [
    "x"
   ]
  },
  {
   "cell_type": "code",
   "execution_count": 5,
   "id": "1427ec01",
   "metadata": {},
   "outputs": [],
   "source": [
    "x = new A();"
   ]
  },
  {
   "cell_type": "code",
   "execution_count": 7,
   "id": "cf9cdc99",
   "metadata": {},
   "outputs": [
    {
     "data": {
      "text/plain": [
       "false"
      ]
     },
     "execution_count": 7,
     "metadata": {},
     "output_type": "execute_result"
    }
   ],
   "source": [
    "x == y"
   ]
  },
  {
   "cell_type": "code",
   "execution_count": 8,
   "id": "9eb97eb1",
   "metadata": {},
   "outputs": [],
   "source": [
    "y = new A();"
   ]
  },
  {
   "cell_type": "code",
   "execution_count": 9,
   "id": "7f687c67",
   "metadata": {},
   "outputs": [
    {
     "data": {
      "text/plain": [
       "false"
      ]
     },
     "execution_count": 9,
     "metadata": {},
     "output_type": "execute_result"
    }
   ],
   "source": [
    "x == y"
   ]
  },
  {
   "cell_type": "code",
   "execution_count": 10,
   "id": "0ec28a5f",
   "metadata": {},
   "outputs": [
    {
     "name": "stdout",
     "output_type": "stream",
     "text": [
      "REPL.$JShell$12$A@2c6dc9b1\n"
     ]
    }
   ],
   "source": [
    "System.out.println(x);"
   ]
  },
  {
   "cell_type": "code",
   "execution_count": 11,
   "id": "54c6172d",
   "metadata": {},
   "outputs": [],
   "source": [
    "x = y"
   ]
  },
  {
   "cell_type": "code",
   "execution_count": 12,
   "id": "05f7890c",
   "metadata": {},
   "outputs": [
    {
     "name": "stdout",
     "output_type": "stream",
     "text": [
      "REPL.$JShell$12$A@6f9c1d39\n"
     ]
    }
   ],
   "source": [
    "System.out.println(x);"
   ]
  },
  {
   "cell_type": "code",
   "execution_count": 13,
   "id": "d6b7ca9a",
   "metadata": {},
   "outputs": [
    {
     "name": "stdout",
     "output_type": "stream",
     "text": [
      "REPL.$JShell$12$A@6f9c1d39\n"
     ]
    }
   ],
   "source": [
    "System.out.println(y);"
   ]
  },
  {
   "cell_type": "code",
   "execution_count": 14,
   "id": "a31edfba",
   "metadata": {},
   "outputs": [
    {
     "data": {
      "text/plain": [
       "true"
      ]
     },
     "execution_count": 14,
     "metadata": {},
     "output_type": "execute_result"
    }
   ],
   "source": [
    "x == y"
   ]
  },
  {
   "cell_type": "code",
   "execution_count": 15,
   "id": "d011a824",
   "metadata": {},
   "outputs": [
    {
     "ename": "CompilationException",
     "evalue": "",
     "output_type": "error",
     "traceback": [
      "\u001b[1m\u001b[30m|   \u001b[1m\u001b[30m\u001b[0m\u001b[1m\u001b[30m\u001b[41mx + y\u001b[0m\u001b[1m\u001b[30m\u001b[0m",
      "\u001b[1m\u001b[31mbad operand types for binary operator '+'\u001b[0m",
      "\u001b[1m\u001b[31m  first type:  A\u001b[0m",
      "\u001b[1m\u001b[31m  second type: A\u001b[0m",
      ""
     ]
    }
   ],
   "source": [
    "x + y"
   ]
  },
  {
   "cell_type": "code",
   "execution_count": 16,
   "id": "f42c0011",
   "metadata": {},
   "outputs": [],
   "source": [
    "A[] p = {new A(), new A(), new A(), new A(), };"
   ]
  },
  {
   "cell_type": "code",
   "execution_count": 17,
   "id": "724fe184",
   "metadata": {},
   "outputs": [],
   "source": [
    "A arthur = new A();"
   ]
  },
  {
   "cell_type": "code",
   "execution_count": 18,
   "id": "56f2f87f",
   "metadata": {},
   "outputs": [
    {
     "data": {
      "text/plain": [
       "REPL.$JShell$12$A@1dbdb8d"
      ]
     },
     "execution_count": 18,
     "metadata": {},
     "output_type": "execute_result"
    }
   ],
   "source": [
    "p[(new Random()).nextInt(p.length)] = arthur;"
   ]
  },
  {
   "cell_type": "code",
   "execution_count": 19,
   "id": "1ae4112a",
   "metadata": {},
   "outputs": [
    {
     "data": {
      "text/plain": [
       "false"
      ]
     },
     "execution_count": 19,
     "metadata": {},
     "output_type": "execute_result"
    }
   ],
   "source": [
    "p[0] == arthur"
   ]
  },
  {
   "cell_type": "code",
   "execution_count": 20,
   "id": "5de40783",
   "metadata": {},
   "outputs": [
    {
     "data": {
      "text/plain": [
       "true"
      ]
     },
     "execution_count": 20,
     "metadata": {},
     "output_type": "execute_result"
    }
   ],
   "source": [
    "p[1] == arthur"
   ]
  },
  {
   "cell_type": "code",
   "execution_count": 21,
   "id": "4d492398",
   "metadata": {},
   "outputs": [
    {
     "data": {
      "text/plain": [
       "false"
      ]
     },
     "execution_count": 21,
     "metadata": {},
     "output_type": "execute_result"
    }
   ],
   "source": [
    "p[2] == arthur"
   ]
  },
  {
   "cell_type": "code",
   "execution_count": 22,
   "id": "370f99d0",
   "metadata": {},
   "outputs": [
    {
     "data": {
      "text/plain": [
       "false"
      ]
     },
     "execution_count": 22,
     "metadata": {},
     "output_type": "execute_result"
    }
   ],
   "source": [
    "p[3] == arthur"
   ]
  },
  {
   "cell_type": "code",
   "execution_count": 23,
   "id": "6fe18063",
   "metadata": {},
   "outputs": [],
   "source": [
    "int seek(A s, A[] places) {\n",
    "  for(int i=0;i<places.length;i++)\n",
    "    if (s == places[i]) \n",
    "      return i;\n",
    "  return -1729;\n",
    "}"
   ]
  },
  {
   "cell_type": "code",
   "execution_count": 24,
   "id": "12976248",
   "metadata": {},
   "outputs": [
    {
     "data": {
      "text/plain": [
       "1"
      ]
     },
     "execution_count": 24,
     "metadata": {},
     "output_type": "execute_result"
    }
   ],
   "source": [
    "seek(arthur,p)"
   ]
  },
  {
   "cell_type": "code",
   "execution_count": 25,
   "id": "53ac765a",
   "metadata": {},
   "outputs": [],
   "source": [
    "class A { }\n",
    "class B extends A { }\n",
    "A a = new A();\n",
    "B b = new B();"
   ]
  },
  {
   "cell_type": "code",
   "execution_count": 26,
   "id": "dd15c403",
   "metadata": {},
   "outputs": [
    {
     "data": {
      "text/plain": [
       "true"
      ]
     },
     "execution_count": 26,
     "metadata": {},
     "output_type": "execute_result"
    }
   ],
   "source": [
    "a == a"
   ]
  },
  {
   "cell_type": "code",
   "execution_count": 27,
   "id": "0810c783",
   "metadata": {},
   "outputs": [
    {
     "data": {
      "text/plain": [
       "false"
      ]
     },
     "execution_count": 27,
     "metadata": {},
     "output_type": "execute_result"
    }
   ],
   "source": [
    "a == b"
   ]
  },
  {
   "cell_type": "code",
   "execution_count": 28,
   "id": "0c268153",
   "metadata": {},
   "outputs": [
    {
     "data": {
      "text/plain": [
       "false"
      ]
     },
     "execution_count": 28,
     "metadata": {},
     "output_type": "execute_result"
    }
   ],
   "source": [
    "b == a"
   ]
  },
  {
   "cell_type": "code",
   "execution_count": 29,
   "id": "55f3e6b2",
   "metadata": {},
   "outputs": [],
   "source": [
    "a = a;"
   ]
  },
  {
   "cell_type": "code",
   "execution_count": 30,
   "id": "96fe62c2",
   "metadata": {},
   "outputs": [],
   "source": [
    "a = b;"
   ]
  },
  {
   "cell_type": "code",
   "execution_count": 31,
   "id": "a83bdbee",
   "metadata": {},
   "outputs": [
    {
     "ename": "CompilationException",
     "evalue": "",
     "output_type": "error",
     "traceback": [
      "\u001b[1m\u001b[30m|   \u001b[1m\u001b[30mb = \u001b[0m\u001b[1m\u001b[30m\u001b[41ma\u001b[0m\u001b[1m\u001b[30m;\u001b[0m",
      "\u001b[1m\u001b[31mincompatible types: A cannot be converted to B\u001b[0m",
      ""
     ]
    }
   ],
   "source": [
    "b = a;"
   ]
  },
  {
   "cell_type": "code",
   "execution_count": null,
   "id": "7b0c4d89",
   "metadata": {},
   "outputs": [],
   "source": []
  },
  {
   "cell_type": "code",
   "execution_count": 32,
   "id": "0b7419b5",
   "metadata": {},
   "outputs": [
    {
     "name": "stdout",
     "output_type": "stream",
     "text": [
      "REPL.$JShell$37$B@34ff6717\n"
     ]
    }
   ],
   "source": [
    "System.out.println(a);"
   ]
  },
  {
   "cell_type": "code",
   "execution_count": 33,
   "id": "02976eab",
   "metadata": {},
   "outputs": [],
   "source": [
    "class C extends B {}\n",
    "C c = new C();"
   ]
  },
  {
   "cell_type": "code",
   "execution_count": 34,
   "id": "7f20e98b",
   "metadata": {},
   "outputs": [],
   "source": [
    "a = c;"
   ]
  },
  {
   "cell_type": "code",
   "execution_count": null,
   "id": "4ccd47d6",
   "metadata": {},
   "outputs": [],
   "source": [
    "class A extends C {}"
   ]
  },
  {
   "cell_type": "code",
   "execution_count": null,
   "id": "c1cdc9f5",
   "metadata": {},
   "outputs": [],
   "source": []
  },
  {
   "cell_type": "code",
   "execution_count": 6,
   "id": "e8321ba5",
   "metadata": {},
   "outputs": [
    {
     "data": {
      "text/plain": [
       "REPL.$JShell$12$A@7f3b3f92"
      ]
     },
     "execution_count": 6,
     "metadata": {},
     "output_type": "execute_result"
    }
   ],
   "source": [
    "x.toString()"
   ]
  },
  {
   "cell_type": "code",
   "execution_count": 7,
   "id": "f605260e",
   "metadata": {},
   "outputs": [
    {
     "data": {
      "text/plain": [
       "2134589330"
      ]
     },
     "execution_count": 7,
     "metadata": {},
     "output_type": "execute_result"
    }
   ],
   "source": [
    "x.hashCode() // 2134589330"
   ]
  },
  {
   "cell_type": "code",
   "execution_count": 9,
   "id": "d8172734",
   "metadata": {},
   "outputs": [
    {
     "data": {
      "text/plain": [
       "REPL.$JShell$12$A"
      ]
     },
     "execution_count": 9,
     "metadata": {},
     "output_type": "execute_result"
    }
   ],
   "source": [
    "x.getClass().getName()"
   ]
  },
  {
   "cell_type": "code",
   "execution_count": 15,
   "id": "3de6f7fe",
   "metadata": {},
   "outputs": [],
   "source": [
    "class A { }\n",
    "class B extends A { }\n",
    "class C<T> { }\n",
    "C<A> ca = new C<A>();\n",
    "C<B> cb = new C<B>();"
   ]
  },
  {
   "cell_type": "code",
   "execution_count": 17,
   "id": "affa39be",
   "metadata": {},
   "outputs": [
    {
     "ename": "CompilationException",
     "evalue": "",
     "output_type": "error",
     "traceback": [
      "\u001b[1m\u001b[30m|   \u001b[1m\u001b[30m\u001b[0m\u001b[1m\u001b[30m\u001b[41mca == cb\u001b[0m\u001b[1m\u001b[30m\u001b[0m",
      "\u001b[1m\u001b[31mincomparable types: C<A> and C<B>\u001b[0m",
      ""
     ]
    }
   ],
   "source": [
    "ca == cb"
   ]
  },
  {
   "cell_type": "code",
   "execution_count": 18,
   "id": "596f61bb",
   "metadata": {},
   "outputs": [
    {
     "ename": "CompilationException",
     "evalue": "",
     "output_type": "error",
     "traceback": [
      "\u001b[1m\u001b[30m|   \u001b[1m\u001b[30m\u001b[0m\u001b[1m\u001b[30m\u001b[41mcb == ca\u001b[0m\u001b[1m\u001b[30m\u001b[0m",
      "\u001b[1m\u001b[31mincomparable types: C<B> and C<A>\u001b[0m",
      ""
     ]
    }
   ],
   "source": [
    "cb == ca"
   ]
  },
  {
   "cell_type": "code",
   "execution_count": 19,
   "id": "6332bef3",
   "metadata": {},
   "outputs": [
    {
     "ename": "CompilationException",
     "evalue": "",
     "output_type": "error",
     "traceback": [
      "\u001b[1m\u001b[30m|   \u001b[1m\u001b[30mca = \u001b[0m\u001b[1m\u001b[30m\u001b[41mcb\u001b[0m\u001b[1m\u001b[30m;\u001b[0m",
      "\u001b[1m\u001b[31mincompatible types: C<B> cannot be converted to C<A>\u001b[0m",
      ""
     ]
    }
   ],
   "source": [
    "ca = cb;"
   ]
  },
  {
   "cell_type": "code",
   "execution_count": 20,
   "id": "e7898748",
   "metadata": {},
   "outputs": [
    {
     "ename": "CompilationException",
     "evalue": "",
     "output_type": "error",
     "traceback": [
      "\u001b[1m\u001b[30m|   \u001b[1m\u001b[30mcb = \u001b[0m\u001b[1m\u001b[30m\u001b[41mca\u001b[0m\u001b[1m\u001b[30m;\u001b[0m",
      "\u001b[1m\u001b[31mincompatible types: C<A> cannot be converted to C<B>\u001b[0m",
      ""
     ]
    }
   ],
   "source": [
    "cb = ca;"
   ]
  },
  {
   "cell_type": "code",
   "execution_count": null,
   "id": "1d7ebc4e",
   "metadata": {},
   "outputs": [],
   "source": []
  }
 ],
 "metadata": {
  "kernelspec": {
   "display_name": "Java",
   "language": "java",
   "name": "java"
  },
  "language_info": {
   "codemirror_mode": "java",
   "file_extension": ".jshell",
   "mimetype": "text/x-java-source",
   "name": "Java",
   "pygments_lexer": "java",
   "version": "11.0.8+10-LTS"
  }
 },
 "nbformat": 4,
 "nbformat_minor": 5
}
