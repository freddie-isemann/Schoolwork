{
 "cells": [
  {
   "cell_type": "code",
   "execution_count": 1,
   "id": "3dee5c97-aebe-4cb1-9c7c-5c49177b3a78",
   "metadata": {},
   "outputs": [],
   "source": [
    "<T> void pr(T s) { System.out.println(s);}"
   ]
  },
  {
   "cell_type": "code",
   "execution_count": 11,
   "id": "d5a27e05-e8f6-40ee-9790-dce00d31c5e7",
   "metadata": {},
   "outputs": [],
   "source": [
    "int a = 42;"
   ]
  },
  {
   "cell_type": "code",
   "execution_count": 13,
   "id": "a56be8db-29c8-4817-b438-f3663e2cabf7",
   "metadata": {},
   "outputs": [
    {
     "data": {
      "text/plain": [
       "-42"
      ]
     },
     "execution_count": 13,
     "metadata": {},
     "output_type": "execute_result"
    }
   ],
   "source": [
    "-a"
   ]
  },
  {
   "cell_type": "code",
   "execution_count": 14,
   "id": "d56c8d00-c29d-438b-9d05-596d77ac29c8",
   "metadata": {},
   "outputs": [
    {
     "data": {
      "text/plain": [
       "-2147483648"
      ]
     },
     "execution_count": 14,
     "metadata": {},
     "output_type": "execute_result"
    }
   ],
   "source": [
    "1 << 31"
   ]
  },
  {
   "cell_type": "code",
   "execution_count": 15,
   "id": "52ca96c2-ca1c-4ccd-a6bf-f109479f8942",
   "metadata": {},
   "outputs": [
    {
     "data": {
      "text/plain": [
       "-2147483606"
      ]
     },
     "execution_count": 15,
     "metadata": {},
     "output_type": "execute_result"
    }
   ],
   "source": [
    "42 ^ -2147483648"
   ]
  },
  {
   "cell_type": "code",
   "execution_count": 16,
   "id": "557bd2e7-922d-4523-8ae2-93b7428b22e1",
   "metadata": {},
   "outputs": [
    {
     "data": {
      "text/plain": [
       "-42"
      ]
     },
     "execution_count": 16,
     "metadata": {},
     "output_type": "execute_result"
    }
   ],
   "source": [
    "(42 ^ -1) + 1"
   ]
  },
  {
   "cell_type": "code",
   "execution_count": 17,
   "id": "20b76ed3-9beb-4b32-84f3-a0886ea6a9d9",
   "metadata": {},
   "outputs": [
    {
     "data": {
      "text/plain": [
       "98"
      ]
     },
     "execution_count": 17,
     "metadata": {},
     "output_type": "execute_result"
    }
   ],
   "source": [
    "42 + 56\n",
    "    "
   ]
  },
  {
   "cell_type": "code",
   "execution_count": 18,
   "id": "57f1113e-a638-4b8c-ae11-0e91397c4bb3",
   "metadata": {},
   "outputs": [
    {
     "data": {
      "text/plain": [
       "-14"
      ]
     },
     "execution_count": 18,
     "metadata": {},
     "output_type": "execute_result"
    }
   ],
   "source": [
    "42 -56"
   ]
  },
  {
   "cell_type": "code",
   "execution_count": 22,
   "id": "35cbf8c8-56a3-4e44-b995-0757a56d2700",
   "metadata": {},
   "outputs": [],
   "source": [
    "class A {\n",
    "     private int n;\n",
    "     void setN(int newValue) {n = newValue;}\n",
    "     int getN() {return n;}\n",
    "    \n",
    "}"
   ]
  },
  {
   "cell_type": "code",
   "execution_count": 23,
   "id": "15debdbf-dde1-4708-91ed-0d646b572e3e",
   "metadata": {},
   "outputs": [
    {
     "name": "stdout",
     "output_type": "stream",
     "text": [
      "10\n"
     ]
    }
   ],
   "source": [
    "A x = new A();\n",
    "x.setN(10);\n",
    "pr(x.getN());"
   ]
  },
  {
   "cell_type": "code",
   "execution_count": 24,
   "id": "9ca1c99a-ce6f-4954-827a-deecbd0a2f3a",
   "metadata": {},
   "outputs": [
    {
     "ename": "CompilationException",
     "evalue": "",
     "output_type": "error",
     "traceback": [
      "\u001b[1m\u001b[30m|   \u001b[1m\u001b[30m\u001b[0m\u001b[1m\u001b[30m\u001b[41mx.n\u001b[0m\u001b[1m\u001b[30m = 10;\u001b[0m",
      "\u001b[1m\u001b[31mn has private access in A\u001b[0m",
      ""
     ]
    }
   ],
   "source": [
    "A x = new A();\n",
    "x.n = 10;\n",
    "pr(x.n);"
   ]
  },
  {
   "cell_type": "code",
   "execution_count": 36,
   "id": "3e09d736-41cb-4a86-baa9-91e1455def65",
   "metadata": {},
   "outputs": [],
   "source": [
    "class A {\n",
    "     private int n;\n",
    "     private int b;\n",
    "     private int t;\n",
    "     void setN(int newVal) {n = newVal;}\n",
    "     void setB(int newVal) {b = newVal;}\n",
    "     void setT(int newVal) {t = newVal;}\n",
    "     int getN() {return n;}\n",
    "     int getB() {return b;}\n",
    "     int getT() {return t;}\n",
    "    boolean check() {return n == t - b + 1;}\n",
    "}"
   ]
  },
  {
   "cell_type": "code",
   "execution_count": 54,
   "id": "bff2e20c-ea58-4ba3-bda6-4690b8f62b1d",
   "metadata": {},
   "outputs": [],
   "source": [
    "class A {\n",
    "     private int b;\n",
    "     private int t;\n",
    "     void setN(int newVal) {t = b + newVal - 1;}\n",
    "     void setB(int newVal) {b = newVal;}\n",
    "     void setT(int newVal) {t = newVal;}\n",
    "     int getN() {return t - b + 1;}\n",
    "     int getB() {return b;}\n",
    "     int getT() {return t;}\n",
    "     boolean check() {return true;} // Right? ...\n",
    "}"
   ]
  },
  {
   "cell_type": "code",
   "execution_count": 60,
   "id": "92e76fbc-40eb-4ebe-9b90-d492b3c6177c",
   "metadata": {},
   "outputs": [],
   "source": [
    "class A {\n",
    "     private int n;\n",
    "     private int t;\n",
    "     void setN(int newVal) {n = newVal;}\n",
    "     void setB(int newVal) {n = t - newVal + 1;}\n",
    "     void setT(int newVal) {t = newVal;}\n",
    "     int getN() {return n;}\n",
    "     int getB() {return t - n + 1;}\n",
    "     int getT() {return t;}\n",
    "     boolean check() {return true;} // Maybe a bit cocky. ...\n",
    "}"
   ]
  },
  {
   "cell_type": "code",
   "execution_count": 56,
   "id": "d5a98e0c-146f-474b-952b-f74b9ee20438",
   "metadata": {},
   "outputs": [],
   "source": [
    "class A {\n",
    "     private int n;\n",
    "     private int b;\n",
    "     void setN(int newVal) {n = newVal;}\n",
    "     void setB(int newVal) {b = newVal;}\n",
    "     void setT(int newVal) {n = newVal - b + 1;}\n",
    "     int getN() {return n;}\n",
    "     int getB() {return b;}\n",
    "     int getT() {return b + n - 1;}\n",
    "     boolean check() {return true;} // Maybe a bit cocky. ...\n",
    "}"
   ]
  },
  {
   "cell_type": "code",
   "execution_count": 61,
   "id": "8d486cd2-ca27-4a9f-b316-63cf5b2adaac",
   "metadata": {},
   "outputs": [
    {
     "name": "stdout",
     "output_type": "stream",
     "text": [
      "2\n",
      "6\n",
      "8\n",
      "6\n"
     ]
    },
    {
     "data": {
      "text/plain": [
       "true"
      ]
     },
     "execution_count": 61,
     "metadata": {},
     "output_type": "execute_result"
    }
   ],
   "source": [
    "A x = new A();\n",
    "x.setB(2);\n",
    "pr(x.getB());\n",
    "x.setT(6);\n",
    "pr(x.getT());\n",
    "x.setN(8);\n",
    "pr(x.getN());\n",
    "pr(x.getT());\n",
    "x.check();"
   ]
  },
  {
   "cell_type": "code",
   "execution_count": 45,
   "id": "c3ac9d1a-0dd5-4c1a-9f6e-14d7d3bbe977",
   "metadata": {},
   "outputs": [
    {
     "name": "stdout",
     "output_type": "stream",
     "text": [
      "2\n",
      "6\n",
      "6\n",
      "7\n"
     ]
    }
   ],
   "source": [
    "A x = new A();\n",
    "x.setB(2);\n",
    "pr(x.getB());\n",
    "x.setT(6);\n",
    "pr(x.getT());\n",
    "x.setN(6);\n",
    "pr(x.getN());\n",
    "//x.setT(6);\n",
    "\n"
   ]
  },
  {
   "cell_type": "code",
   "execution_count": 64,
   "id": "f7914db9-c9df-4962-a6a8-ebe9489f50eb",
   "metadata": {},
   "outputs": [],
   "source": [
    "interface Queue<T> {\n",
    "  boolean isQueueEmpty();\n",
    "  void joinQueue(T theItemThatJoins);\n",
    "  T firstInQueue();\n",
    "  void leaveQueue();\n",
    "}"
   ]
  },
  {
   "cell_type": "code",
   "execution_count": 67,
   "id": "52db1c33-7be2-4d9d-b40e-b25a00874c0a",
   "metadata": {},
   "outputs": [],
   "source": [
    "class Q1 implements Queue<String> { String[] entries; int numberQueueing;\n",
    "  Q1(int size) { entries = new String[size];  numberQueueing = 0;}\n",
    "  public boolean isQueueEmpty() { return (numberQueueing == 0);}\n",
    "  public void joinQueue(String newentry) {\n",
    "    if (numberQueueing < entries.length) {\n",
    "      entries[numberQueueing] = newentry;\n",
    "      numberQueueing = numberQueueing + 1;\n",
    "    }\n",
    "  }\n",
    "  public String firstInQueue() {\n",
    "    if (isQueueEmpty()) return \"Queue Empty\"; else return entries[0];\n",
    "  }\n",
    "  public void leaveQueue() {\n",
    "    if (!(isQueueEmpty())) {\n",
    "      for (int i = 0; i < numberQueueing; i++)\n",
    "        entries[i] = entries[i + 1];\n",
    "      numberQueueing = numberQueueing - 1;\n",
    "    }\n",
    "  }\n",
    "}"
   ]
  },
  {
   "cell_type": "code",
   "execution_count": 71,
   "id": "83e6b37b-f80e-4878-a7ae-3fc0735ae28d",
   "metadata": {},
   "outputs": [],
   "source": [
    "class Q2 implements Queue<String> { String[] entries; int numberQueueing;\n",
    "  int front, end;\n",
    "  Q2(int size) { entries = new String[size];  numberQueueing = 0;\n",
    "                 front = 0; end = 0; }\n",
    "  public boolean isQueueEmpty() { return (numberQueueing == 0);}\n",
    "  public void joinQueue(String newentry) {\n",
    "    if (numberQueueing < entries.length) {\n",
    "      entries[end] = newentry; end = (end + 1) % entries.length;\n",
    "      numberQueueing = numberQueueing + 1;\n",
    "    }\n",
    "  }\n",
    "  public String firstInQueue() {\n",
    "    if (isQueueEmpty()) return \"Queue Empty\"; else return entries[front];\n",
    "  }\n",
    "  public void leaveQueue() {\n",
    "  if (!(isQueueEmpty())) {\n",
    "    front = (front + 1) % entries.length;\n",
    "    numberQueueing = numberQueueing - 1;\n",
    "  }\n",
    "\n",
    "  }\n",
    "                                  }"
   ]
  },
  {
   "cell_type": "code",
   "execution_count": 74,
   "id": "65f69896-d604-4321-9e15-fe72e2bb4f4b",
   "metadata": {},
   "outputs": [
    {
     "name": "stdout",
     "output_type": "stream",
     "text": [
      "true\n",
      "false\n",
      "Todd\n",
      "Michael\n",
      "Karla\n"
     ]
    }
   ],
   "source": [
    "Queue<String> q = new Q2(50);\n",
    "pr(q.isQueueEmpty());\n",
    "q.joinQueue(\"Susan\");\n",
    "q.joinQueue(\"Todd\");\n",
    "pr(q.isQueueEmpty());\n",
    "q.leaveQueue();\n",
    "q.joinQueue(\"Michael\");\n",
    "q.joinQueue(\"Karla\");\n",
    "pr(q.firstInQueue());\n",
    "q.leaveQueue();\n",
    "pr(q.firstInQueue());\n",
    "q.leaveQueue();\n",
    "q.joinQueue(\"Abe\");\n",
    "pr(q.firstInQueue());"
   ]
  },
  {
   "cell_type": "code",
   "execution_count": 69,
   "id": "7ad31999-24d7-4a6c-b377-c5cd92c0835f",
   "metadata": {},
   "outputs": [
    {
     "name": "stdout",
     "output_type": "stream",
     "text": [
      "Abe\n"
     ]
    }
   ],
   "source": [
    "q.leaveQueue();\n",
    "pr(q.firstInQueue());"
   ]
  },
  {
   "cell_type": "code",
   "execution_count": 70,
   "id": "74878400-30a0-47ba-a3d6-75f21a66c595",
   "metadata": {},
   "outputs": [
    {
     "name": "stdout",
     "output_type": "stream",
     "text": [
      "true\n"
     ]
    }
   ],
   "source": [
    "q.leaveQueue();\n",
    "pr(q.isQueueEmpty());"
   ]
  },
  {
   "cell_type": "code",
   "execution_count": null,
   "id": "8bee380b-9c1c-4bcf-8b43-6f1c96444243",
   "metadata": {},
   "outputs": [],
   "source": []
  }
 ],
 "metadata": {
  "kernelspec": {
   "display_name": "Java",
   "language": "java",
   "name": "java"
  },
  "language_info": {
   "codemirror_mode": "java",
   "file_extension": ".jshell",
   "mimetype": "text/x-java-source",
   "name": "Java",
   "pygments_lexer": "java",
   "version": "11.0.8+10-LTS"
  }
 },
 "nbformat": 4,
 "nbformat_minor": 5
}
