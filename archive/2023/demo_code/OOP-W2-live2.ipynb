{
 "cells": [
  {
   "cell_type": "code",
   "execution_count": 1,
   "id": "4a41c031-0d4a-42f6-a6e7-3f197b1dfe3f",
   "metadata": {},
   "outputs": [],
   "source": [
    "<T> void pr(T s) {\n",
    "     System.out.print(s);\n",
    "}\n"
   ]
  },
  {
   "cell_type": "code",
   "execution_count": 4,
   "id": "b69d358e-0029-46ef-ab17-0a9049030f93",
   "metadata": {},
   "outputs": [],
   "source": [
    "class A {\n",
    "     int m(int n) {\n",
    "          int b = 1, t = 3;\n",
    "          if (n < b) n = b;\n",
    "          if (n > t) n = t;\n",
    "          return n;\n",
    "} }"
   ]
  },
  {
   "cell_type": "code",
   "execution_count": 9,
   "id": "f0e525b8-df72-473d-a472-d0211eadcfda",
   "metadata": {},
   "outputs": [
    {
     "data": {
      "text/plain": [
       "3"
      ]
     },
     "execution_count": 9,
     "metadata": {},
     "output_type": "execute_result"
    }
   ],
   "source": [
    "A x = new A();\n",
    "x.m(10)"
   ]
  },
  {
   "cell_type": "code",
   "execution_count": 10,
   "id": "3c659a16-8b88-4c5b-bdba-9cd890ad816d",
   "metadata": {},
   "outputs": [],
   "source": [
    "A x = new A();\n",
    "A y = new A();"
   ]
  },
  {
   "cell_type": "code",
   "execution_count": 11,
   "id": "06ec8490-d577-48fd-90ef-c1561938ab34",
   "metadata": {},
   "outputs": [],
   "source": [
    "class D {\n",
    "     void w() {\n",
    "          String s = \"Woof\";\n",
    "pr(s); }\n",
    "}"
   ]
  },
  {
   "cell_type": "code",
   "execution_count": 12,
   "id": "d3a16795-4e3b-4bbb-ac3b-73fa5b5be38c",
   "metadata": {},
   "outputs": [],
   "source": [
    "D d0 = new D();\n",
    "D d1 = new D();\n",
    "D d2 = new D();"
   ]
  },
  {
   "cell_type": "code",
   "execution_count": 13,
   "id": "a0eeeb16-fdb7-4a14-80b9-2d91170f1a52",
   "metadata": {},
   "outputs": [
    {
     "name": "stdout",
     "output_type": "stream",
     "text": [
      "WoofWoofWoof"
     ]
    }
   ],
   "source": [
    "d0.w(); // Prints \"Woof\".\n",
    "d1.w(); // Prints \"Woof\".\n",
    "d2.w(); // Prints \"Woof\"."
   ]
  },
  {
   "cell_type": "code",
   "execution_count": 14,
   "id": "accc3fa2-84d1-4a5d-ba35-1f846c39632f",
   "metadata": {},
   "outputs": [
    {
     "name": "stdout",
     "output_type": "stream",
     "text": [
      "WoofWoofWoof"
     ]
    }
   ],
   "source": [
    "class P {\n",
    "     D[] k(A limiter) {\n",
    "int n = limiter.m(10);\n",
    "D[] woofers = new D[n];\n",
    "for (int i=0; i<n; i++) woofers[i] = new D();\n",
    "return woofers;\n",
    "} }\n",
    "P p = new P();\n",
    "A a = new A();\n",
    "D[] r = p.k(a);\n",
    "r[0].w(); // Prints \"Woof\".\n",
    "r[1].w(); // Prints \"Woof\".\n",
    "r[2].w(); // Prints \"Woof\"."
   ]
  },
  {
   "cell_type": "code",
   "execution_count": 29,
   "id": "8965009c-b3a7-4112-b342-fa2ec1adfc49",
   "metadata": {},
   "outputs": [
    {
     "ename": "CompilationException",
     "evalue": "",
     "output_type": "error",
     "traceback": [
      "\u001b[1m\u001b[30m|   \u001b[1m\u001b[30m\u001b[0m\u001b[1m\u001b[30m\u001b[41mclass E extends D { }\u001b[0m\u001b[1m\u001b[30m\u001b[0m",
      "\u001b[1m\u001b[31mE is not abstract and does not override abstract method w() in D\u001b[0m",
      ""
     ]
    }
   ],
   "source": [
    "class E extends D { }\n",
    "E e = new E();\n",
    "e.w();"
   ]
  },
  {
   "cell_type": "code",
   "execution_count": 16,
   "id": "95c68a6d-c853-4297-943c-775d65aa50aa",
   "metadata": {},
   "outputs": [
    {
     "data": {
      "text/plain": [
       "REPL.$JShell$37$E"
      ]
     },
     "execution_count": 16,
     "metadata": {},
     "output_type": "execute_result"
    }
   ],
   "source": [
    "e.getClass().getName()"
   ]
  },
  {
   "cell_type": "code",
   "execution_count": 33,
   "id": "68315152-92e8-4a4d-b891-63952c3713d6",
   "metadata": {},
   "outputs": [
    {
     "name": "stdout",
     "output_type": "stream",
     "text": [
      "Ouaf"
     ]
    }
   ],
   "source": [
    "class F extends D {\n",
    "   public void w() { pr(\"Ouaf\");}\n",
    "}\n",
    "D f = new F();  f.w(); "
   ]
  },
  {
   "cell_type": "code",
   "execution_count": 34,
   "id": "357e895c-7cf5-4fb0-bfbe-b0fd3351518b",
   "metadata": {},
   "outputs": [
    {
     "name": "stdout",
     "output_type": "stream",
     "text": [
      "Wau"
     ]
    }
   ],
   "source": [
    "class G extends D {\n",
    "   public void w() { pr(\"Wau\");}\n",
    "}\n",
    "D g = new G();  g.w();"
   ]
  },
  {
   "cell_type": "code",
   "execution_count": 21,
   "id": "1300f374-66e7-4a81-aa7b-80d1a63a3575",
   "metadata": {},
   "outputs": [],
   "source": [
    "D d0 = new E();\n",
    "D d1 = new F();\n",
    "D d2 = new G();"
   ]
  },
  {
   "cell_type": "code",
   "execution_count": 22,
   "id": "27b316b0-ac74-4c8d-bcf5-cdcd4d1d7978",
   "metadata": {},
   "outputs": [
    {
     "name": "stdout",
     "output_type": "stream",
     "text": [
      "WoofOuafWau"
     ]
    }
   ],
   "source": [
    "d0.w(); // Prints \"Woof\".\n",
    "d1.w(); // Prints \"Ouaf\".\n",
    "d2.w(); // Prints \"Wau\"."
   ]
  },
  {
   "cell_type": "code",
   "execution_count": 23,
   "id": "a00f0165-35f7-4ab7-833f-20165c77f5cb",
   "metadata": {},
   "outputs": [
    {
     "name": "stdout",
     "output_type": "stream",
     "text": [
      "Woof Woof"
     ]
    }
   ],
   "source": [
    "class D {\n",
    "     void w() { pr(\"Woof\");}\n",
    "     void twice() {\n",
    "          w(); pr(\" \"); w();\n",
    "     }\n",
    "}\n",
    "D d = new D();  d.twice();"
   ]
  },
  {
   "cell_type": "code",
   "execution_count": 24,
   "id": "1c54d269-f19a-4682-a454-34a956f57aee",
   "metadata": {},
   "outputs": [
    {
     "name": "stdout",
     "output_type": "stream",
     "text": [
      "Woof WoofOuaf OuafWau Wau"
     ]
    }
   ],
   "source": [
    "D d0 = new E();\n",
    "D d1 = new F();\n",
    "D d2 = new G();\n",
    "d0.twice(); // Prints \"Woof Woof\".\n",
    "d1.twice(); // Prints \"Ouaf Ouaf\".\n",
    "d2.twice();"
   ]
  },
  {
   "cell_type": "code",
   "execution_count": 30,
   "id": "92edca9c-c294-4acd-b6de-4be575f81c9b",
   "metadata": {},
   "outputs": [
    {
     "name": "stdout",
     "output_type": "stream",
     "text": [
      "Woof WoofOuaf OuafWau Wau"
     ]
    }
   ],
   "source": [
    "abstract class D {\n",
    "        abstract  void w();\n",
    "     void twice() {\n",
    "          w(); pr(\" \"); w();\n",
    "} }\n",
    "\n",
    "class E extends D { void w() { pr(\"Woof\");}}\n",
    "\n",
    "D d0 = new E();\n",
    "D d1 = new F();\n",
    "D d2 = new G();\n",
    "d0.twice(); // Prints \"Woof Woof\".\n",
    "d1.twice(); // Prints \"Ouaf Ouaf\".\n",
    "d2.twice(); // Prints \"Wau Wau\".\n"
   ]
  },
  {
   "cell_type": "code",
   "execution_count": 35,
   "id": "5c1d8068-ede6-477d-ae3f-f4dee1b9465a",
   "metadata": {},
   "outputs": [
    {
     "name": "stdout",
     "output_type": "stream",
     "text": [
      "Woof WoofOuaf OuafWau Wau"
     ]
    }
   ],
   "source": [
    "interface Woofable { void w();}\n",
    "abstract class D implements Woofable {\n",
    "     void twice() {\n",
    "          w(); pr(\" \"); w();\n",
    "} }\n",
    "class E extends D { public void w() { pr(\"Woof\");}}\n",
    "D d0 = new E();\n",
    "D d1 = new F();\n",
    "D d2 = new G();\n",
    "d0.twice(); // Prints \"Woof Woof\".\n",
    "d1.twice(); // Prints \"Ouaf Ouaf\".\n",
    "d2.twice(); // Prints \"Wau Wau\"."
   ]
  },
  {
   "cell_type": "code",
   "execution_count": 37,
   "id": "10cae6ef-1205-4e9d-bb3c-52305a250513",
   "metadata": {},
   "outputs": [
    {
     "name": "stdout",
     "output_type": "stream",
     "text": [
      "Woof"
     ]
    }
   ],
   "source": [
    "interface Woofable { void w();}\n",
    "interface Meowable { void m();}\n",
    "\n",
    "class D implements Woofable {\n",
    "  public void w() { pr(\"Woof\");}\n",
    "}\n",
    "D d = new D(); d.w(); // Prints \"Woof\"."
   ]
  },
  {
   "cell_type": "code",
   "execution_count": 38,
   "id": "3ba34e13-ed8f-4879-bd12-73a134218406",
   "metadata": {},
   "outputs": [
    {
     "name": "stdout",
     "output_type": "stream",
     "text": [
      "Meow"
     ]
    }
   ],
   "source": [
    "class C implements Meowable {\n",
    "  public void m() { pr(\"Meow\");}\n",
    "}\n",
    "C c = new C(); c.m(); "
   ]
  },
  {
   "cell_type": "code",
   "execution_count": 40,
   "id": "0db7e513-103f-4c6b-b4f0-e0ce522b6939",
   "metadata": {},
   "outputs": [
    {
     "name": "stdout",
     "output_type": "stream",
     "text": [
      "WoofMeow"
     ]
    }
   ],
   "source": [
    "class DC implements Woofable, Meowable {\n",
    "  public void w() { pr(\"Woof\");}\n",
    "  public void m() { pr(\"Meow\");}\n",
    "}\n",
    "DC dc = new DC(); dc.w(); dc.m();"
   ]
  },
  {
   "cell_type": "code",
   "execution_count": null,
   "id": "5e6db125-d1bb-418d-ad02-407b8e45f06c",
   "metadata": {},
   "outputs": [],
   "source": []
  }
 ],
 "metadata": {
  "kernelspec": {
   "display_name": "Java",
   "language": "java",
   "name": "java"
  },
  "language_info": {
   "codemirror_mode": "java",
   "file_extension": ".jshell",
   "mimetype": "text/x-java-source",
   "name": "Java",
   "pygments_lexer": "java",
   "version": "11.0.8+10-LTS"
  }
 },
 "nbformat": 4,
 "nbformat_minor": 5
}
