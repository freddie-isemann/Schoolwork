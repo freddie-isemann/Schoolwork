{
 "cells": [
  {
   "cell_type": "code",
   "execution_count": 1,
   "id": "296b6ac7-29e5-49c1-87b4-51904d6c95ce",
   "metadata": {},
   "outputs": [],
   "source": [
    "<T> void pr(T s) {\n",
    "     System.out.print(s);\n",
    "}"
   ]
  },
  {
   "cell_type": "code",
   "execution_count": 2,
   "id": "2bb0704a-8260-4281-aa71-0a23112009fc",
   "metadata": {},
   "outputs": [
    {
     "name": "stdout",
     "output_type": "stream",
     "text": [
      "7"
     ]
    }
   ],
   "source": [
    "pr(3+4)"
   ]
  },
  {
   "cell_type": "code",
   "execution_count": 45,
   "id": "ce47647e-f4df-426a-90e7-c843132be93f",
   "metadata": {},
   "outputs": [],
   "source": [
    "class A {\n",
    "     int m(int n) {\n",
    "          int b = 1, t = 3;\n",
    "          if (n < b) n = b;\n",
    "          if (n > t) n = t;\n",
    "          return n;\n",
    "} \n",
    "}"
   ]
  },
  {
   "cell_type": "code",
   "execution_count": 4,
   "id": "7c715738-672a-4d81-91a3-60ff652ca891",
   "metadata": {},
   "outputs": [
    {
     "ename": "CompilationException",
     "evalue": "",
     "output_type": "error",
     "traceback": [
      "\u001b[1m\u001b[30m|   \u001b[1m\u001b[30m\u001b[0m\u001b[1m\u001b[30m\u001b[41mm\u001b[0m\u001b[1m\u001b[30m(20)\u001b[0m",
      "\u001b[1m\u001b[31mcannot find symbol\u001b[0m",
      "\u001b[1m\u001b[31m  symbol:   method m(int)\u001b[0m",
      ""
     ]
    }
   ],
   "source": [
    "m(20)"
   ]
  },
  {
   "cell_type": "code",
   "execution_count": 5,
   "id": "84e264d4-357e-4121-b66d-8853310851e8",
   "metadata": {},
   "outputs": [
    {
     "ename": "CompilationException",
     "evalue": "",
     "output_type": "error",
     "traceback": [
      "\u001b[1m\u001b[30m|   \u001b[1m\u001b[30m\u001b[0m\u001b[1m\u001b[30m\u001b[41mA.m\u001b[0m\u001b[1m\u001b[30m(20)\u001b[0m",
      "\u001b[1m\u001b[31mnon-static method m(int) cannot be referenced from a static context\u001b[0m",
      ""
     ]
    }
   ],
   "source": [
    "A.m(20)"
   ]
  },
  {
   "cell_type": "code",
   "execution_count": 6,
   "id": "ac74169e-b7ba-44b2-9a29-3ca85fd63141",
   "metadata": {},
   "outputs": [],
   "source": [
    "A x = new A();"
   ]
  },
  {
   "cell_type": "code",
   "execution_count": 7,
   "id": "562179b8-0675-4147-b706-9bc94dece1f7",
   "metadata": {},
   "outputs": [
    {
     "data": {
      "text/plain": [
       "3"
      ]
     },
     "execution_count": 7,
     "metadata": {},
     "output_type": "execute_result"
    }
   ],
   "source": [
    "x.m(20)"
   ]
  },
  {
   "cell_type": "code",
   "execution_count": 8,
   "id": "78b7d0c4-7c1a-4389-8739-216340d8c2bd",
   "metadata": {},
   "outputs": [],
   "source": [
    "A x = new A();\n",
    "A y = new A();"
   ]
  },
  {
   "cell_type": "code",
   "execution_count": 9,
   "id": "efa325cc-7e32-4af6-a7f2-5eb314e224c3",
   "metadata": {},
   "outputs": [
    {
     "data": {
      "text/plain": [
       "1"
      ]
     },
     "execution_count": 9,
     "metadata": {},
     "output_type": "execute_result"
    }
   ],
   "source": [
    "x.m(0)"
   ]
  },
  {
   "cell_type": "code",
   "execution_count": 10,
   "id": "2eed1e4e-a33b-417c-af46-5c5c8146292c",
   "metadata": {},
   "outputs": [
    {
     "data": {
      "text/plain": [
       "1"
      ]
     },
     "execution_count": 10,
     "metadata": {},
     "output_type": "execute_result"
    }
   ],
   "source": [
    "y.m(0)"
   ]
  },
  {
   "cell_type": "code",
   "execution_count": 11,
   "id": "6469fc6c-e1c2-4045-a173-9c1b20371872",
   "metadata": {},
   "outputs": [],
   "source": [
    "/*Random rs = new Random();\n",
    "while(true) {\n",
    "   int input = rs.nextInt(); // Random input.\n",
    "   if (x.m(input) != y.m(input))\n",
    "      pr(\"Different output\"); // Never, ever happens.\n",
    "}*/"
   ]
  },
  {
   "cell_type": "code",
   "execution_count": 12,
   "id": "e7f3698c-8a91-47aa-b820-a7fc46386597",
   "metadata": {},
   "outputs": [],
   "source": [
    "class D {\n",
    "     void w() {\n",
    "          String s = \"Woof\";\n",
    "pr(s); }\n",
    "}"
   ]
  },
  {
   "cell_type": "code",
   "execution_count": 13,
   "id": "f868ff11-b698-44eb-8a2e-e579b3fc1cbb",
   "metadata": {},
   "outputs": [],
   "source": [
    "D d0 = new D();\n",
    "D d1 = new D();\n",
    "D d2 = new D();"
   ]
  },
  {
   "cell_type": "code",
   "execution_count": 14,
   "id": "4eeeab91-dae8-4529-87e0-7c2f59f1207f",
   "metadata": {},
   "outputs": [
    {
     "name": "stdout",
     "output_type": "stream",
     "text": [
      "WoofWoofWoof"
     ]
    }
   ],
   "source": [
    "d0.w(); // Prints \"Woof\".\n",
    "d1.w(); // Prints \"Woof\".\n",
    "d2.w(); // Prints \"Woof\"."
   ]
  },
  {
   "cell_type": "code",
   "execution_count": 17,
   "id": "12fa864b-d25c-438e-b7dd-5088f68149f7",
   "metadata": {},
   "outputs": [],
   "source": [
    "class P {\n",
    "     D[] k(A a) {\n",
    "          int n = a.m(10);\n",
    "          D[] r = new D[n];\n",
    "          for (int i=0; i<n; i++) r[i] = new D();\n",
    "          return r;\n",
    "} }\n"
   ]
  },
  {
   "cell_type": "code",
   "execution_count": 18,
   "id": "7aae5842-f29f-475b-b2d6-a4d7ef9d3a9f",
   "metadata": {},
   "outputs": [
    {
     "name": "stdout",
     "output_type": "stream",
     "text": [
      "WoofWoofWoof"
     ]
    }
   ],
   "source": [
    "\n",
    "((new P()).k(new A()))[0].w(); // Prints \"Woof\".\n",
    "((new P()).k(new A()))[1].w(); // Prints \"Woof\".\n",
    "((new P()).k(new A()))[2].w(); // Prints \"Woof\"."
   ]
  },
  {
   "cell_type": "code",
   "execution_count": 19,
   "id": "31391ddd-e3ac-486c-97e4-cbc3a4176049",
   "metadata": {},
   "outputs": [],
   "source": [
    "class C { void m() { String s = \"Meow\"; pr(s);}}"
   ]
  },
  {
   "cell_type": "code",
   "execution_count": 20,
   "id": "d8e7115f-758d-4f49-92fb-30cfc62079d0",
   "metadata": {},
   "outputs": [],
   "source": [
    "C c = new C();\n",
    "D d = new D();"
   ]
  },
  {
   "cell_type": "code",
   "execution_count": 21,
   "id": "fac1d386-ece6-4276-aee6-ac72eb4325cd",
   "metadata": {},
   "outputs": [
    {
     "ename": "CompilationException",
     "evalue": "",
     "output_type": "error",
     "traceback": [
      "\u001b[1m\u001b[30m|   \u001b[1m\u001b[30m\u001b[0m\u001b[1m\u001b[30m\u001b[41mc == d\u001b[0m\u001b[1m\u001b[30m\u001b[0m",
      "\u001b[1m\u001b[31mincomparable types: C and D\u001b[0m",
      ""
     ]
    }
   ],
   "source": [
    "c == d"
   ]
  },
  {
   "cell_type": "code",
   "execution_count": 22,
   "id": "69dc9b9a-8055-4193-b7e0-ab56f0b906b8",
   "metadata": {},
   "outputs": [
    {
     "ename": "CompilationException",
     "evalue": "",
     "output_type": "error",
     "traceback": [
      "\u001b[1m\u001b[30m|   \u001b[1m\u001b[30mc = \u001b[0m\u001b[1m\u001b[30m\u001b[41md\u001b[0m\u001b[1m\u001b[30m;\u001b[0m",
      "\u001b[1m\u001b[31mincompatible types: D cannot be converted to C\u001b[0m",
      ""
     ]
    }
   ],
   "source": [
    "c = d;"
   ]
  },
  {
   "cell_type": "code",
   "execution_count": 23,
   "id": "126de573-75f2-48f5-89a1-61aca361036b",
   "metadata": {},
   "outputs": [
    {
     "ename": "CompilationException",
     "evalue": "",
     "output_type": "error",
     "traceback": [
      "\u001b[1m\u001b[30m|   \u001b[1m\u001b[30md = \u001b[0m\u001b[1m\u001b[30m\u001b[41mc\u001b[0m\u001b[1m\u001b[30m;\u001b[0m",
      "\u001b[1m\u001b[31mincompatible types: C cannot be converted to D\u001b[0m",
      ""
     ]
    }
   ],
   "source": [
    "d = c;"
   ]
  },
  {
   "cell_type": "code",
   "execution_count": 24,
   "id": "f5f22a1a-804c-4867-9ebb-4cf54fe91195",
   "metadata": {},
   "outputs": [
    {
     "ename": "CompilationException",
     "evalue": "",
     "output_type": "error",
     "traceback": [
      "\u001b[1m\u001b[30m|   \u001b[1m\u001b[30m\u001b[0m\u001b[1m\u001b[30m\u001b[41md.m\u001b[0m\u001b[1m\u001b[30m();\u001b[0m",
      "\u001b[1m\u001b[31mcannot find symbol\u001b[0m",
      "\u001b[1m\u001b[31m  symbol:   method m()\u001b[0m",
      ""
     ]
    }
   ],
   "source": [
    "d.m();"
   ]
  },
  {
   "cell_type": "code",
   "execution_count": 25,
   "id": "2498b4bd-8dc6-4847-847b-d0fc587ae8b5",
   "metadata": {},
   "outputs": [
    {
     "name": "stdout",
     "output_type": "stream",
     "text": [
      "Meow"
     ]
    }
   ],
   "source": [
    "c.m();"
   ]
  },
  {
   "cell_type": "code",
   "execution_count": 26,
   "id": "3715afed-cd60-46bd-8044-79487c09ef87",
   "metadata": {},
   "outputs": [
    {
     "ename": "CompilationException",
     "evalue": "",
     "output_type": "error",
     "traceback": [
      "\u001b[1m\u001b[30m|   \u001b[1m\u001b[30m\u001b[0m\u001b[1m\u001b[30m\u001b[41mc.w\u001b[0m\u001b[1m\u001b[30m();\u001b[0m",
      "\u001b[1m\u001b[31mcannot find symbol\u001b[0m",
      "\u001b[1m\u001b[31m  symbol:   method w()\u001b[0m",
      ""
     ]
    }
   ],
   "source": [
    "c.w();"
   ]
  },
  {
   "cell_type": "code",
   "execution_count": 27,
   "id": "9d2343fa-db99-4a1a-8d63-e528f1f41378",
   "metadata": {},
   "outputs": [
    {
     "name": "stdout",
     "output_type": "stream",
     "text": [
      "Woof"
     ]
    }
   ],
   "source": [
    "d.w();"
   ]
  },
  {
   "cell_type": "code",
   "execution_count": 58,
   "id": "713d951f-d44f-41ab-8e1b-0df90c7218e3",
   "metadata": {},
   "outputs": [
    {
     "ename": "CompilationException",
     "evalue": "",
     "output_type": "error",
     "traceback": [
      "\u001b[1m\u001b[30m|   \u001b[1m\u001b[30m\u001b[0m\u001b[1m\u001b[30m\u001b[41mclass E extends D { }\u001b[0m\u001b[1m\u001b[30m\u001b[0m",
      "\u001b[1m\u001b[31mE is not abstract and does not override abstract method w() in D\u001b[0m",
      ""
     ]
    }
   ],
   "source": [
    "class E extends D { }\n",
    "E e = new E();"
   ]
  },
  {
   "cell_type": "code",
   "execution_count": 29,
   "id": "c2453c9e-3f3c-4f9e-aaec-789978b0983e",
   "metadata": {},
   "outputs": [
    {
     "name": "stdout",
     "output_type": "stream",
     "text": [
      "Woof"
     ]
    }
   ],
   "source": [
    "e.w()"
   ]
  },
  {
   "cell_type": "code",
   "execution_count": 30,
   "id": "f5378898-77f7-4721-b61d-aca737b47350",
   "metadata": {},
   "outputs": [
    {
     "name": "stdout",
     "output_type": "stream",
     "text": [
      "Woof"
     ]
    }
   ],
   "source": [
    "D d = new E();\n",
    "d.w();"
   ]
  },
  {
   "cell_type": "code",
   "execution_count": 31,
   "id": "c7fa2e82-e6e0-4318-a6ed-d0f9b8393ffd",
   "metadata": {},
   "outputs": [
    {
     "name": "stdout",
     "output_type": "stream",
     "text": [
      "REPL.$JShell$44$E"
     ]
    }
   ],
   "source": [
    "pr(e.getClass().getName());"
   ]
  },
  {
   "cell_type": "code",
   "execution_count": 32,
   "id": "4f89d888-2a5a-4137-9be1-fc9aab562840",
   "metadata": {},
   "outputs": [
    {
     "name": "stdout",
     "output_type": "stream",
     "text": [
      "Ouaf"
     ]
    }
   ],
   "source": [
    "class F extends D {\n",
    "    void w() { pr(\"Ouaf\");}\n",
    "    public String toString() {return \"I'm an F object.\";}\n",
    "}\n",
    "D f = new F();  \n",
    "f.w();"
   ]
  },
  {
   "cell_type": "code",
   "execution_count": 33,
   "id": "37c14c60-62e8-4d7f-829d-ee46aaba6b07",
   "metadata": {},
   "outputs": [
    {
     "data": {
      "text/plain": [
       "I'm an F object."
      ]
     },
     "execution_count": 33,
     "metadata": {},
     "output_type": "execute_result"
    }
   ],
   "source": [
    "f.toString();"
   ]
  },
  {
   "cell_type": "code",
   "execution_count": 34,
   "id": "e9236379-29af-4e70-b5a0-9de6281422c1",
   "metadata": {},
   "outputs": [
    {
     "name": "stdout",
     "output_type": "stream",
     "text": [
      "Wau"
     ]
    }
   ],
   "source": [
    "class G extends D {\n",
    "   void w() { pr(\"Wau\");}\n",
    "}\n",
    "D g = new G();  \n",
    "g.w(); // Prints \"Wau\"."
   ]
  },
  {
   "cell_type": "code",
   "execution_count": 35,
   "id": "2ede9bd2-2fe2-4c73-9a49-e3840ea1ef90",
   "metadata": {},
   "outputs": [],
   "source": [
    "D d0 = new E();\n",
    "D d1 = new F();\n",
    "D d2 = new G();"
   ]
  },
  {
   "cell_type": "code",
   "execution_count": 36,
   "id": "38cf1e7c-a051-4a99-a964-97cb4099c79a",
   "metadata": {},
   "outputs": [
    {
     "name": "stdout",
     "output_type": "stream",
     "text": [
      "WoofOuafWau"
     ]
    }
   ],
   "source": [
    "d0.w(); // Prints \"Woof\".\n",
    "d1.w(); // Prints \"Ouaf\".\n",
    "d2.w(); // Prints \"Wau\"."
   ]
  },
  {
   "cell_type": "code",
   "execution_count": 37,
   "id": "9674d553-ed77-4b24-aa5b-6ca3deafb503",
   "metadata": {},
   "outputs": [
    {
     "name": "stdout",
     "output_type": "stream",
     "text": [
      "Woof Woof"
     ]
    }
   ],
   "source": [
    "class D {\n",
    "     void w() { pr(\"Woof\");}\n",
    "     void twice() {\n",
    "          w(); pr(\" \"); w();\n",
    "     }\n",
    "}\n",
    "D d = new D();  d.twice();"
   ]
  },
  {
   "cell_type": "code",
   "execution_count": 38,
   "id": "5a48ca70-35b7-4774-8141-45b6ef91141f",
   "metadata": {},
   "outputs": [
    {
     "name": "stdout",
     "output_type": "stream",
     "text": [
      "Woof WoofOuaf OuafWau Wau"
     ]
    }
   ],
   "source": [
    "D d0 = new E();\n",
    "D d1 = new F();\n",
    "D d2 = new G();\n",
    "d0.twice(); // Prints \"Woof Woof\".\n",
    "d1.twice(); // Prints \"Ouaf Ouaf\".\n",
    "d2.twice(); // Prints \"Wau Wau\"."
   ]
  },
  {
   "cell_type": "code",
   "execution_count": 46,
   "id": "553f8e73-cb99-461d-8320-b2fe6d8beaf0",
   "metadata": {},
   "outputs": [],
   "source": [
    "\n",
    "class B extends A {\n",
    "     int mm(int n) { return m(m(n));}\n",
    "}\n",
    "A a = new A();\n",
    "B b = new B();"
   ]
  },
  {
   "cell_type": "code",
   "execution_count": 47,
   "id": "2db09cd0-609c-4158-9e09-668eafa30f9c",
   "metadata": {},
   "outputs": [
    {
     "data": {
      "text/plain": [
       "false"
      ]
     },
     "execution_count": 47,
     "metadata": {},
     "output_type": "execute_result"
    }
   ],
   "source": [
    "a == b"
   ]
  },
  {
   "cell_type": "code",
   "execution_count": 49,
   "id": "a3e51de3-75c3-4052-89c5-586cac6597e1",
   "metadata": {},
   "outputs": [],
   "source": [
    "a = b;"
   ]
  },
  {
   "cell_type": "code",
   "execution_count": 50,
   "id": "61245c5a-8387-411d-8711-ba739b07e767",
   "metadata": {},
   "outputs": [
    {
     "ename": "CompilationException",
     "evalue": "",
     "output_type": "error",
     "traceback": [
      "\u001b[1m\u001b[30m|   \u001b[1m\u001b[30mb = \u001b[0m\u001b[1m\u001b[30m\u001b[41ma\u001b[0m\u001b[1m\u001b[30m;\u001b[0m",
      "\u001b[1m\u001b[31mincompatible types: A cannot be converted to B\u001b[0m",
      ""
     ]
    }
   ],
   "source": [
    "b = a;"
   ]
  },
  {
   "cell_type": "code",
   "execution_count": 51,
   "id": "608874a9-6f9f-4198-8eca-833956016f63",
   "metadata": {},
   "outputs": [
    {
     "ename": "CompilationException",
     "evalue": "",
     "output_type": "error",
     "traceback": [
      "\u001b[1m\u001b[30m|   \u001b[1m\u001b[30m\u001b[0m\u001b[1m\u001b[30m\u001b[41ma.mm\u001b[0m\u001b[1m\u001b[30m(10)\u001b[0m",
      "\u001b[1m\u001b[31mcannot find symbol\u001b[0m",
      "\u001b[1m\u001b[31m  symbol:   method mm(int)\u001b[0m",
      ""
     ]
    }
   ],
   "source": [
    "a.mm(10)"
   ]
  },
  {
   "cell_type": "code",
   "execution_count": 52,
   "id": "6927c450-5fd3-44d1-8fb1-c65fe139d5c9",
   "metadata": {},
   "outputs": [
    {
     "data": {
      "text/plain": [
       "3"
      ]
     },
     "execution_count": 52,
     "metadata": {},
     "output_type": "execute_result"
    }
   ],
   "source": [
    "b.mm(10)"
   ]
  },
  {
   "cell_type": "code",
   "execution_count": 59,
   "id": "2d070abd-3871-4658-80a9-98fc551052e1",
   "metadata": {},
   "outputs": [
    {
     "name": "stdout",
     "output_type": "stream",
     "text": [
      "Woof WoofOuaf OuafWau Wau"
     ]
    }
   ],
   "source": [
    "abstract class D {\n",
    "     abstract void w();\n",
    "     void twice() {\n",
    "          w(); pr(\" \"); w();\n",
    "} }\n",
    "class E extends D { void w() { pr(\"Woof\");}}\n",
    "D d0 = new E();\n",
    "D d1 = new F();\n",
    "D d2 = new G();\n",
    "d0.twice(); // Prints \"Woof Woof\".\n",
    "d1.twice(); // Prints \"Ouaf Ouaf\".\n",
    "d2.twice(); // Prints \"Wau Wau\".\n"
   ]
  },
  {
   "cell_type": "code",
   "execution_count": 61,
   "id": "6c1b7009-e2fe-4fcf-a7e2-43c7abdd7b88",
   "metadata": {},
   "outputs": [
    {
     "name": "stdout",
     "output_type": "stream",
     "text": [
      "Woof"
     ]
    }
   ],
   "source": [
    "interface Woofable { void w();}\n",
    "interface Meowable { void m();}\n",
    "class D implements Woofable {\n",
    "  public void w() { pr(\"Woof\");}\n",
    "}\n",
    "D d = new D(); d.w(); // Prints \"Woof\"."
   ]
  },
  {
   "cell_type": "code",
   "execution_count": 62,
   "id": "8f99b510-a192-44d7-9c4b-cbd526524c3e",
   "metadata": {},
   "outputs": [
    {
     "name": "stdout",
     "output_type": "stream",
     "text": [
      "Meow"
     ]
    }
   ],
   "source": [
    "class C implements Meowable {\n",
    "  public void m() { pr(\"Meow\");}\n",
    "}\n",
    "C c = new C(); c.m(); // Prints \"Meow\"."
   ]
  },
  {
   "cell_type": "code",
   "execution_count": 64,
   "id": "b4b6b67e-3a6a-4927-8dce-491b0b1a6d92",
   "metadata": {},
   "outputs": [
    {
     "name": "stdout",
     "output_type": "stream",
     "text": [
      "WoofMeow"
     ]
    }
   ],
   "source": [
    "class DC implements Woofable, Meowable {\n",
    "  public void w() { pr(\"Woof\");}\n",
    "  public void m() { pr(\"Meow\");}\n",
    "}\n",
    "DC dc = new DC(); dc.w(); dc.m();"
   ]
  },
  {
   "cell_type": "code",
   "execution_count": 67,
   "id": "c6f8e6c8-6761-4b4c-90e0-c4a4e27f0475",
   "metadata": {},
   "outputs": [
    {
     "ename": "CompilationException",
     "evalue": "",
     "output_type": "error",
     "traceback": [
      "\u001b[1m\u001b[30m|   \u001b[1m\u001b[30m\u001b[0m\u001b[1m\u001b[30m\u001b[41m\u001b[0m",
      "\u001b[1m\u001b[30m|   \u001b[1m\u001b[30m\u001b[41minterface Woofable extends Twiceable, Woofable { void w();}\u001b[0m",
      "\u001b[1m\u001b[31mcyclic inheritance involving Woofable\u001b[0m",
      ""
     ]
    }
   ],
   "source": [
    "interface Twiceable { void twice();}\n",
    "interface Woofable extends Twiceable, Woofable { void w();}\n",
    "interface Meowable extends Twiceable { void m();}"
   ]
  },
  {
   "cell_type": "code",
   "execution_count": 68,
   "id": "7a4f60f0-bf00-49b2-b970-3ff91fbfc840",
   "metadata": {},
   "outputs": [],
   "source": [
    "interface gg {}\n",
    "interface hh {}\n",
    "interface jj extends gg, hh {}"
   ]
  },
  {
   "cell_type": "code",
   "execution_count": null,
   "id": "ce4f81cc-f82d-4b9d-b6d5-01c2dc847db0",
   "metadata": {},
   "outputs": [],
   "source": []
  }
 ],
 "metadata": {
  "kernelspec": {
   "display_name": "Java",
   "language": "java",
   "name": "java"
  },
  "language_info": {
   "codemirror_mode": "java",
   "file_extension": ".jshell",
   "mimetype": "text/x-java-source",
   "name": "Java",
   "pygments_lexer": "java",
   "version": "11.0.8+10-LTS"
  }
 },
 "nbformat": 4,
 "nbformat_minor": 5
}
