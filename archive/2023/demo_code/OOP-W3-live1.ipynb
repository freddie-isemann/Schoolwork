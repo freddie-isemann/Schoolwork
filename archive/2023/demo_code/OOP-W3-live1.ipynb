{
 "cells": [
  {
   "cell_type": "code",
   "execution_count": 1,
   "id": "94f037e2-0289-46a5-a913-f9a271e57ea5",
   "metadata": {},
   "outputs": [],
   "source": [
    "<T> void pr(T s) {System.out.println(s);}"
   ]
  },
  {
   "cell_type": "code",
   "execution_count": 2,
   "id": "0d1eaaa7-2f13-4006-a875-8e2e029aa9bc",
   "metadata": {},
   "outputs": [],
   "source": [
    "class A {\n",
    "     int n;\n",
    "String s;\n",
    "A a; }"
   ]
  },
  {
   "cell_type": "code",
   "execution_count": 3,
   "id": "0efd065a-6481-4959-9f0c-cb1013cbc1dc",
   "metadata": {},
   "outputs": [
    {
     "ename": "CompilationException",
     "evalue": "",
     "output_type": "error",
     "traceback": [
      "\u001b[1m\u001b[30m|   \u001b[1m\u001b[30m\u001b[0m\u001b[1m\u001b[30m\u001b[41mn\u001b[0m\u001b[1m\u001b[30m = 42;\u001b[0m",
      "\u001b[1m\u001b[31mcannot find symbol\u001b[0m",
      "\u001b[1m\u001b[31m  symbol:   variable n\u001b[0m",
      ""
     ]
    }
   ],
   "source": [
    "\n",
    "\n",
    "n = 42; // ! Does not compile.\n",
    "s = \"Green\"; // ! Does not compile.\n",
    "a = new A(); // ! Does not compile.\n"
   ]
  },
  {
   "cell_type": "code",
   "execution_count": 4,
   "id": "2c2bcaf1-3ea9-46e2-8706-a71553eb5dff",
   "metadata": {},
   "outputs": [
    {
     "data": {
      "text/plain": [
       "REPL.$JShell$13$A@35ff38e9"
      ]
     },
     "execution_count": 4,
     "metadata": {},
     "output_type": "execute_result"
    }
   ],
   "source": [
    "A x = new A();\n",
    "A y = new A();\n",
    "x.n = 42; // Puts 42 in variable n of the object held by x.\n",
    "x.s = \"Green\"; // Puts \"Green\" in s of the object held by x.\n",
    "x.a = new A();"
   ]
  },
  {
   "cell_type": "code",
   "execution_count": 5,
   "id": "69e5ee03-f3d1-467a-bc29-4a09cbb23584",
   "metadata": {},
   "outputs": [
    {
     "data": {
      "text/plain": [
       "Green"
      ]
     },
     "execution_count": 5,
     "metadata": {},
     "output_type": "execute_result"
    }
   ],
   "source": [
    "x.s"
   ]
  },
  {
   "cell_type": "code",
   "execution_count": 6,
   "id": "be59a0fd-a510-4ab5-b8a1-f8c70303b8e6",
   "metadata": {},
   "outputs": [
    {
     "name": "stdout",
     "output_type": "stream",
     "text": [
      "42\n"
     ]
    }
   ],
   "source": [
    "x.n = 42;\n",
    "y.n = 1729;\n",
    "pr(x.n)\n",
    "    "
   ]
  },
  {
   "cell_type": "code",
   "execution_count": 7,
   "id": "12bd1de9-cba0-42d3-8992-06f9972cf62a",
   "metadata": {},
   "outputs": [],
   "source": [
    "A x = new A();\n",
    "A y = x;"
   ]
  },
  {
   "cell_type": "code",
   "execution_count": 8,
   "id": "f24c04d3-7d0d-4b10-8f05-6ebcdac15bf2",
   "metadata": {},
   "outputs": [
    {
     "name": "stdout",
     "output_type": "stream",
     "text": [
      "1729\n"
     ]
    }
   ],
   "source": [
    "x.n = 42;\n",
    "y.n = 1729;\n",
    "pr(x.n)\n",
    "    "
   ]
  },
  {
   "cell_type": "code",
   "execution_count": 9,
   "id": "d3cc0c1e-3cbb-4a08-8042-5e12ac936cfc",
   "metadata": {},
   "outputs": [
    {
     "name": "stdout",
     "output_type": "stream",
     "text": [
      "Red\n"
     ]
    }
   ],
   "source": [
    "A x = new A(); x.s = \"Green\";\n",
    "A y = new A(); y.s = \"Red\";\n",
    "x.a = y; y.a = x;\n",
    "pr(y.s);"
   ]
  },
  {
   "cell_type": "code",
   "execution_count": 10,
   "id": "b577d1f8-3075-4f75-9009-2f09fd2c5c0d",
   "metadata": {},
   "outputs": [
    {
     "name": "stdout",
     "output_type": "stream",
     "text": [
      "Red\n"
     ]
    }
   ],
   "source": [
    "pr(x.a.s);"
   ]
  },
  {
   "cell_type": "code",
   "execution_count": 11,
   "id": "76b64128-8dcf-4609-9897-327b924b9e33",
   "metadata": {},
   "outputs": [
    {
     "name": "stdout",
     "output_type": "stream",
     "text": [
      "Green\n"
     ]
    }
   ],
   "source": [
    "pr(y.a.a.a.a.a.a.a.s);"
   ]
  },
  {
   "cell_type": "code",
   "execution_count": 12,
   "id": "12c215bf-a449-41f7-8cdb-8ddc48c95420",
   "metadata": {},
   "outputs": [],
   "source": [
    "class A { int n; String s; A a;\n",
    "     public void finalize () {\n",
    "          pr(\"Last words of an A object being collected: my string was \" + s + \". \");\n",
    "     }\n",
    "}"
   ]
  },
  {
   "cell_type": "code",
   "execution_count": 13,
   "id": "102b6e16-9649-45f1-9839-6a89b9e80c4f",
   "metadata": {},
   "outputs": [
    {
     "name": "stdout",
     "output_type": "stream",
     "text": [
      "Green\n"
     ]
    }
   ],
   "source": [
    "A x = new A(); x.s = \"Green\";\n",
    "A y = new A(); y.s = \"Red\";\n",
    "y.a = y;\n",
    "y = x; // y now holds the same object as x.\n",
    "pr(y.s);\n",
    "System.gc();"
   ]
  },
  {
   "cell_type": "code",
   "execution_count": 14,
   "id": "a405b70c-9437-4367-97b0-d8a50ae3394b",
   "metadata": {},
   "outputs": [],
   "source": [
    "System.gc();"
   ]
  },
  {
   "cell_type": "code",
   "execution_count": 15,
   "id": "8ae148bd-da7d-4444-8706-6d11d048b066",
   "metadata": {},
   "outputs": [
    {
     "name": "stdout",
     "output_type": "stream",
     "text": [
      "Blue\n"
     ]
    }
   ],
   "source": [
    "class B extends A {\n",
    "     float h;\n",
    "}\n",
    "B b = new B();\n",
    "b.n = 10; // Puts 10 in variable n of the B object held by b.\n",
    "b.s = \"Blue\"; // Puts \"Blue\" in variable s.\n",
    "b.a = new B(); // Puts a new B object in variable a.\n",
    "b.h = 3.1415f; // Puts pi in variable h.\n",
    "b.a.a = b;\n",
    "pr(b.a.a.s);"
   ]
  },
  {
   "cell_type": "code",
   "execution_count": 16,
   "id": "7bc72240-8169-48bd-9024-58b30a169db2",
   "metadata": {},
   "outputs": [
    {
     "ename": "CompilationException",
     "evalue": "",
     "output_type": "error",
     "traceback": [
      "\u001b[1m\u001b[30m|   \u001b[1m\u001b[30mpr(\u001b[0m\u001b[1m\u001b[30m\u001b[41mb.a.a.h\u001b[0m\u001b[1m\u001b[30m);\u001b[0m",
      "\u001b[1m\u001b[31mcannot find symbol\u001b[0m",
      "\u001b[1m\u001b[31m  symbol:   variable h\u001b[0m",
      ""
     ]
    }
   ],
   "source": [
    "pr(b.a.a.h);"
   ]
  },
  {
   "cell_type": "code",
   "execution_count": 31,
   "id": "642c2bbc-e2a9-4a00-9a77-7510cf9c3696",
   "metadata": {},
   "outputs": [],
   "source": [
    "static <T extends A> T pickBigN(T a1, T a2) {\n",
    "     if (a1.n > a2.n) return a1;\n",
    "     else return a2;\n",
    "}"
   ]
  },
  {
   "cell_type": "code",
   "execution_count": 32,
   "id": "5d583e63-60d2-40c0-a9ee-66f472f2667c",
   "metadata": {},
   "outputs": [
    {
     "data": {
      "text/plain": [
       "5.1413"
      ]
     },
     "execution_count": 32,
     "metadata": {},
     "output_type": "execute_result"
    }
   ],
   "source": [
    "B b1 = new B(); b1.n = 42;   b1.h = 3.1415f;\n",
    "B b2 = new B(); b2.n = 1729; b2.h = 5.1413f;"
   ]
  },
  {
   "cell_type": "code",
   "execution_count": 33,
   "id": "01f99258-9f73-4a8f-91b5-88c47981858c",
   "metadata": {},
   "outputs": [],
   "source": [
    "B z = (B) pickBigN(b1, b2);"
   ]
  },
  {
   "cell_type": "code",
   "execution_count": 34,
   "id": "3c638cea-d3ff-4adb-90d4-d68e83e50948",
   "metadata": {},
   "outputs": [
    {
     "name": "stdout",
     "output_type": "stream",
     "text": [
      "5.1413\n"
     ]
    }
   ],
   "source": [
    "pr(z.h);"
   ]
  },
  {
   "cell_type": "code",
   "execution_count": 36,
   "id": "77ec2dba-67aa-4df4-8fb4-0489a559c292",
   "metadata": {},
   "outputs": [
    {
     "name": "stdout",
     "output_type": "stream",
     "text": [
      "Last words of an A object being collected: my string was null. \n",
      "Last words of an A object being collected: my string was null. \n",
      "Last words of an A object being collected: my string was null. \n",
      "Last words of an A object being collected: my string was null. \n",
      "Last words of an A object being collected: my string was null. \n",
      "Last words of an A object being collected: my string was null. \n",
      "1\n"
     ]
    }
   ],
   "source": [
    "class C extends A {\n",
    "     int n; // We say this n ’hides’ the n in A.\n",
    "}\n",
    "\n",
    "C c = new C();\n",
    "A a = c; // a and c now hold the same object.\n",
    "a.n = 1;\n",
    "c.n = 3;\n",
    "pr(a.n)"
   ]
  },
  {
   "cell_type": "code",
   "execution_count": 37,
   "id": "a2a1e6f5-a489-4edd-824f-ee0ef425c8f6",
   "metadata": {},
   "outputs": [
    {
     "data": {
      "text/plain": [
       "3"
      ]
     },
     "execution_count": 37,
     "metadata": {},
     "output_type": "execute_result"
    }
   ],
   "source": [
    "c.n"
   ]
  },
  {
   "cell_type": "code",
   "execution_count": 38,
   "id": "9ae42ca8-6a95-461a-bbad-6a203df17ffd",
   "metadata": {},
   "outputs": [
    {
     "data": {
      "text/plain": [
       "1"
      ]
     },
     "execution_count": 38,
     "metadata": {},
     "output_type": "execute_result"
    }
   ],
   "source": [
    "a.n"
   ]
  },
  {
   "cell_type": "code",
   "execution_count": null,
   "id": "5d6c5433-39d8-4f9a-91f9-034625d1c6af",
   "metadata": {},
   "outputs": [],
   "source": []
  }
 ],
 "metadata": {
  "kernelspec": {
   "display_name": "Java",
   "language": "java",
   "name": "java"
  },
  "language_info": {
   "codemirror_mode": "java",
   "file_extension": ".jshell",
   "mimetype": "text/x-java-source",
   "name": "Java",
   "pygments_lexer": "java",
   "version": "11.0.8+10-LTS"
  }
 },
 "nbformat": 4,
 "nbformat_minor": 5
}
