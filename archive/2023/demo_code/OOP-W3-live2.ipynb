{
 "cells": [
  {
   "cell_type": "code",
   "execution_count": 3,
   "id": "82c2b4f2-6a2d-45c2-aef6-5a1291d9d7b3",
   "metadata": {},
   "outputs": [],
   "source": [
    "<T> void pr(T s) {System.out.println(s);}"
   ]
  },
  {
   "cell_type": "code",
   "execution_count": 1,
   "id": "e624368c-4ebf-4191-9c35-17934c77a709",
   "metadata": {},
   "outputs": [],
   "source": [
    "class A { \n",
    "    int n; \n",
    "    String s; \n",
    "    A a;\n",
    "    \n",
    "    public void finalize () {\n",
    "          pr(\"Last words of an A object being collected: my string was \" + s + \". \");\n",
    "     }\n",
    "}"
   ]
  },
  {
   "cell_type": "code",
   "execution_count": 11,
   "id": "ac8c47bc-4d8e-4fbe-bbce-5d3dddc15c80",
   "metadata": {},
   "outputs": [
    {
     "data": {
      "text/plain": [
       "56"
      ]
     },
     "execution_count": 11,
     "metadata": {},
     "output_type": "execute_result"
    }
   ],
   "source": [
    "A x = new A();\n",
    "\n",
    "x.n = 56;"
   ]
  },
  {
   "cell_type": "code",
   "execution_count": 12,
   "id": "994ff571-5cb7-4301-abe2-8689fe392e1b",
   "metadata": {},
   "outputs": [],
   "source": [
    "x.s"
   ]
  },
  {
   "cell_type": "code",
   "execution_count": 14,
   "id": "9552bb01-76c7-4e5c-80c5-fa2266fa2134",
   "metadata": {},
   "outputs": [
    {
     "data": {
      "text/plain": [
       "REPL.$JShell$13C$A@2f70269"
      ]
     },
     "execution_count": 14,
     "metadata": {},
     "output_type": "execute_result"
    }
   ],
   "source": [
    "\n",
    "A x = new A();\n",
    "x.n = 42; // Puts 42 in variable n of the object held by x.\n",
    "x.s = \"Green\"; // Puts \"Green\" in s of the object held by x.\n",
    "x.a = new A();"
   ]
  },
  {
   "cell_type": "code",
   "execution_count": 17,
   "id": "9c65fdd6-d05a-47ea-8c4f-cfd8b348ab65",
   "metadata": {},
   "outputs": [
    {
     "name": "stdout",
     "output_type": "stream",
     "text": [
      "42\n"
     ]
    }
   ],
   "source": [
    "A x = new A();\n",
    "A y = new A();\n",
    "\n",
    "x.n = 42;\n",
    "y.n = 1729;\n",
    "pr(x.n) //"
   ]
  },
  {
   "cell_type": "code",
   "execution_count": 18,
   "id": "e9aac674-9320-4c2a-8d92-f4a83b04a57b",
   "metadata": {},
   "outputs": [
    {
     "name": "stdout",
     "output_type": "stream",
     "text": [
      "Last words of an A object being collected: my string was Green. \n",
      "Last words of an A object being collected: my string was null. \n"
     ]
    }
   ],
   "source": [
    "A x = new A();\n",
    "A y = x;"
   ]
  },
  {
   "cell_type": "code",
   "execution_count": 19,
   "id": "7e4b9772-a50c-42d4-9416-4ef2a2e57084",
   "metadata": {},
   "outputs": [
    {
     "name": "stdout",
     "output_type": "stream",
     "text": [
      "1729\n"
     ]
    }
   ],
   "source": [
    "x.n = 42;\n",
    "y.n = 1729;\n",
    "pr(x.n) //"
   ]
  },
  {
   "cell_type": "code",
   "execution_count": 20,
   "id": "9b746fa4-dadc-47d8-a4ef-f84cd898deda",
   "metadata": {},
   "outputs": [
    {
     "data": {
      "text/plain": [
       "REPL.$JShell$13C$A@b0dcb2d"
      ]
     },
     "execution_count": 20,
     "metadata": {},
     "output_type": "execute_result"
    }
   ],
   "source": [
    "A x = new A(); x.s = \"Green\";\n",
    "A y = new A(); y.s = \"Red\";\n",
    "x.a = y; y.a = x;"
   ]
  },
  {
   "cell_type": "code",
   "execution_count": 21,
   "id": "5fc1eb32-c7ac-481a-8e3e-c8088daaf759",
   "metadata": {},
   "outputs": [
    {
     "data": {
      "text/plain": [
       "Red"
      ]
     },
     "execution_count": 21,
     "metadata": {},
     "output_type": "execute_result"
    }
   ],
   "source": [
    "y.s"
   ]
  },
  {
   "cell_type": "code",
   "execution_count": 22,
   "id": "b456747f-a600-4e6e-8bec-fece5893341c",
   "metadata": {},
   "outputs": [
    {
     "data": {
      "text/plain": [
       "Green"
      ]
     },
     "execution_count": 22,
     "metadata": {},
     "output_type": "execute_result"
    }
   ],
   "source": [
    "y.a.s"
   ]
  },
  {
   "cell_type": "code",
   "execution_count": 23,
   "id": "e24046c6-e6be-4d01-b117-8a9dacab3b27",
   "metadata": {},
   "outputs": [
    {
     "data": {
      "text/plain": [
       "Red"
      ]
     },
     "execution_count": 23,
     "metadata": {},
     "output_type": "execute_result"
    }
   ],
   "source": [
    "x.a.s"
   ]
  },
  {
   "cell_type": "code",
   "execution_count": 24,
   "id": "ec4341db-0ac8-47dc-b4be-7e422f0a55e8",
   "metadata": {},
   "outputs": [
    {
     "data": {
      "text/plain": [
       "Green"
      ]
     },
     "execution_count": 24,
     "metadata": {},
     "output_type": "execute_result"
    }
   ],
   "source": [
    "y.a.a.a.a.a.a.a.s"
   ]
  },
  {
   "cell_type": "code",
   "execution_count": 25,
   "id": "083509d8-613a-420c-8074-80a580f2c082",
   "metadata": {},
   "outputs": [
    {
     "name": "stdout",
     "output_type": "stream",
     "text": [
      "Last words of an A object being collected: my string was null. "
     ]
    }
   ],
   "source": [
    "System.gc()"
   ]
  },
  {
   "cell_type": "code",
   "execution_count": 7,
   "id": "a179f1ed-1bc6-4be6-9353-4ab5f4eea5b0",
   "metadata": {},
   "outputs": [
    {
     "name": "stdout",
     "output_type": "stream",
     "text": [
      "\n",
      "Last words of an A object being collected: my string was Green. "
     ]
    }
   ],
   "source": [
    "A x = new A(); x.s = \"Green\";\n",
    "A y = new A(); y.s = \"Red\";\n",
    "y.a = y; // \"Red\" holds itself.\n",
    "y = x;\n",
    "System.gc()"
   ]
  },
  {
   "cell_type": "code",
   "execution_count": 11,
   "id": "961d8e4d-06df-4de4-87df-828bfd555c15",
   "metadata": {},
   "outputs": [
    {
     "data": {
      "text/plain": [
       "REPL.$JShell$36C$B@268428b2"
      ]
     },
     "execution_count": 11,
     "metadata": {},
     "output_type": "execute_result"
    }
   ],
   "source": [
    "class B extends A {\n",
    "     float h;\n",
    "}\n",
    "B b = new B();\n",
    "b.n = 10; // Puts 10 in variable n of the B object held by b.\n",
    "b.s = \"Blue\"; // Puts \"Blue\" in variable s.\n",
    "b.a = new B(); // Puts a new B object in variable a."
   ]
  },
  {
   "cell_type": "code",
   "execution_count": 12,
   "id": "86a1eff9-36c0-448e-9567-7601d1489b47",
   "metadata": {},
   "outputs": [
    {
     "name": "stdout",
     "output_type": "stream",
     "text": [
      "Blue\n"
     ]
    }
   ],
   "source": [
    "b.h = 3.1415f; // Puts pi in variable h.\n",
    "b.a.a = b;\n",
    "pr(b.a.a.s);"
   ]
  },
  {
   "cell_type": "code",
   "execution_count": 13,
   "id": "1ed5e66c-acad-4aa3-8974-cf7f8613efd0",
   "metadata": {},
   "outputs": [
    {
     "ename": "CompilationException",
     "evalue": "",
     "output_type": "error",
     "traceback": [
      "\u001b[1m\u001b[30m|   \u001b[1m\u001b[30mpr(\u001b[0m\u001b[1m\u001b[30m\u001b[41mb.a.a.h\u001b[0m\u001b[1m\u001b[30m);\u001b[0m",
      "\u001b[1m\u001b[31mcannot find symbol\u001b[0m",
      "\u001b[1m\u001b[31m  symbol:   variable h\u001b[0m",
      ""
     ]
    }
   ],
   "source": [
    "pr(b.a.a.h);"
   ]
  },
  {
   "cell_type": "code",
   "execution_count": 24,
   "id": "0318ddc1-3628-4431-abdd-7880df2e31a9",
   "metadata": {},
   "outputs": [],
   "source": [
    "static <T extends A> T pickBigN(T a1, T a2) {\n",
    "     if (a1.n > a2.n) return a1;\n",
    "     else return a2;\n",
    "}\n"
   ]
  },
  {
   "cell_type": "code",
   "execution_count": 25,
   "id": "68a5571d-e4b8-4524-ae60-4405e4935ee5",
   "metadata": {},
   "outputs": [
    {
     "data": {
      "text/plain": [
       "5.1413"
      ]
     },
     "execution_count": 25,
     "metadata": {},
     "output_type": "execute_result"
    }
   ],
   "source": [
    "B b1 = new B(); b1.n = 42;   b1.h = 3.1415f;\n",
    "B b2 = new B(); b2.n = 1729; b2.h = 5.1413f;\n"
   ]
  },
  {
   "cell_type": "code",
   "execution_count": 27,
   "id": "91c83413-7d60-4ddf-a269-c30d1ed379c9",
   "metadata": {},
   "outputs": [],
   "source": [
    "B z = pickBigN(b1, b2);"
   ]
  },
  {
   "cell_type": "code",
   "execution_count": 28,
   "id": "b133d033-331d-479c-a46a-6b0c77a861c8",
   "metadata": {},
   "outputs": [
    {
     "data": {
      "text/plain": [
       "5.1413"
      ]
     },
     "execution_count": 28,
     "metadata": {},
     "output_type": "execute_result"
    }
   ],
   "source": [
    "z.h"
   ]
  },
  {
   "cell_type": "code",
   "execution_count": 33,
   "id": "673c15b0-9a08-425c-915b-f6bc86227ff5",
   "metadata": {},
   "outputs": [
    {
     "name": "stdout",
     "output_type": "stream",
     "text": [
      "1\n"
     ]
    }
   ],
   "source": [
    "class C extends A {\n",
    "     int n; // We say this n ’hides’ the n in A.\n",
    "}\n",
    "C c = new C();\n",
    "A a = c; // a and c now hold the same object.\n",
    "a.n = 1;\n",
    "c.n = 3;\n",
    "pr(a.n)"
   ]
  },
  {
   "cell_type": "code",
   "execution_count": 30,
   "id": "792f1791-b411-493c-a325-d7c00becc5d0",
   "metadata": {},
   "outputs": [
    {
     "data": {
      "text/plain": [
       "1"
      ]
     },
     "execution_count": 30,
     "metadata": {},
     "output_type": "execute_result"
    }
   ],
   "source": [
    "a.n"
   ]
  },
  {
   "cell_type": "code",
   "execution_count": 31,
   "id": "9ec1e66b-31d9-4b0c-a738-f62f99481ff6",
   "metadata": {},
   "outputs": [
    {
     "data": {
      "text/plain": [
       "3"
      ]
     },
     "execution_count": 31,
     "metadata": {},
     "output_type": "execute_result"
    }
   ],
   "source": [
    "c.n"
   ]
  },
  {
   "cell_type": "code",
   "execution_count": null,
   "id": "16be3505-f8aa-4531-92e1-bedc8f827a31",
   "metadata": {},
   "outputs": [],
   "source": []
  }
 ],
 "metadata": {
  "kernelspec": {
   "display_name": "Java",
   "language": "java",
   "name": "java"
  },
  "language_info": {
   "codemirror_mode": "java",
   "file_extension": ".jshell",
   "mimetype": "text/x-java-source",
   "name": "Java",
   "pygments_lexer": "java",
   "version": "11.0.8+10-LTS"
  }
 },
 "nbformat": 4,
 "nbformat_minor": 5
}
