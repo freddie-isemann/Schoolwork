{
 "cells": [
  {
   "cell_type": "code",
   "execution_count": 1,
   "id": "13d96f27-3b9a-4791-bb36-90fa7952f856",
   "metadata": {},
   "outputs": [],
   "source": [
    "class A { }\n",
    "class B { }"
   ]
  },
  {
   "cell_type": "code",
   "execution_count": 2,
   "id": "f6f7f3a2-a48a-4059-957b-04790df131ce",
   "metadata": {},
   "outputs": [],
   "source": [
    "A x, y;"
   ]
  },
  {
   "cell_type": "code",
   "execution_count": 3,
   "id": "99164de6-d182-4876-8a04-611bdb531f55",
   "metadata": {},
   "outputs": [
    {
     "data": {
      "text/plain": [
       "true"
      ]
     },
     "execution_count": 3,
     "metadata": {},
     "output_type": "execute_result"
    }
   ],
   "source": [
    "x == y"
   ]
  },
  {
   "cell_type": "code",
   "execution_count": 4,
   "id": "27fd7189-7d8f-4d58-83ea-eef35d54a549",
   "metadata": {},
   "outputs": [],
   "source": [
    "x"
   ]
  },
  {
   "cell_type": "code",
   "execution_count": 5,
   "id": "95a218df-f9cb-471d-93e7-444d160be7af",
   "metadata": {},
   "outputs": [
    {
     "name": "stdout",
     "output_type": "stream",
     "text": [
      "null\n"
     ]
    }
   ],
   "source": [
    "System.out.println(x);"
   ]
  },
  {
   "cell_type": "code",
   "execution_count": 6,
   "id": "661f3cea-8bc0-4202-a1d1-2ee84c2df036",
   "metadata": {},
   "outputs": [],
   "source": [
    "x = new A();"
   ]
  },
  {
   "cell_type": "code",
   "execution_count": 7,
   "id": "93680020-f9c8-47b0-a364-88b19e7491ba",
   "metadata": {},
   "outputs": [
    {
     "data": {
      "text/plain": [
       "false"
      ]
     },
     "execution_count": 7,
     "metadata": {},
     "output_type": "execute_result"
    }
   ],
   "source": [
    "x == y"
   ]
  },
  {
   "cell_type": "code",
   "execution_count": 8,
   "id": "01695d61-e0c9-4e8c-8301-716a86bc6a8a",
   "metadata": {},
   "outputs": [],
   "source": [
    "y = new A();"
   ]
  },
  {
   "cell_type": "code",
   "execution_count": 9,
   "id": "fbfff243-459d-4595-9161-da43e0af35a1",
   "metadata": {},
   "outputs": [
    {
     "data": {
      "text/plain": [
       "false"
      ]
     },
     "execution_count": 9,
     "metadata": {},
     "output_type": "execute_result"
    }
   ],
   "source": [
    "x == y"
   ]
  },
  {
   "cell_type": "code",
   "execution_count": 10,
   "id": "a214ade9-d1d0-4df6-b923-109e77e5354a",
   "metadata": {},
   "outputs": [],
   "source": [
    "x = y;"
   ]
  },
  {
   "cell_type": "code",
   "execution_count": 11,
   "id": "6819cef1-acb3-42bd-b29e-9f1c8d9a965a",
   "metadata": {},
   "outputs": [
    {
     "data": {
      "text/plain": [
       "true"
      ]
     },
     "execution_count": 11,
     "metadata": {},
     "output_type": "execute_result"
    }
   ],
   "source": [
    "x == y"
   ]
  },
  {
   "cell_type": "code",
   "execution_count": 17,
   "id": "492c7ac9-f0f9-49b3-859b-9958cb08eb9b",
   "metadata": {},
   "outputs": [],
   "source": [
    "A[] p = {new A(), new A(), new A(), new A(), new A(),};\n",
    "//B[] p = {new B(), new B(), new B(), new B(), new B(),};"
   ]
  },
  {
   "cell_type": "code",
   "execution_count": 18,
   "id": "edcfcebc-7cc6-4443-806c-b4b177408156",
   "metadata": {},
   "outputs": [],
   "source": [
    "A ann = new A();"
   ]
  },
  {
   "cell_type": "code",
   "execution_count": 19,
   "id": "8c8d652f-4f6a-415a-bd90-0838aba937cb",
   "metadata": {},
   "outputs": [],
   "source": [
    "<T> void hide(T h, T[] places) {\n",
    "    places[(new Random()).nextInt(places.length)] = h;\n",
    "}"
   ]
  },
  {
   "cell_type": "code",
   "execution_count": 20,
   "id": "37b55bab-8f32-4f5a-a0e1-875d29b68fed",
   "metadata": {},
   "outputs": [],
   "source": [
    "hide(ann,p);"
   ]
  },
  {
   "cell_type": "code",
   "execution_count": 21,
   "id": "78b2f59b-0606-4582-877a-bf12e1caf40c",
   "metadata": {},
   "outputs": [
    {
     "data": {
      "text/plain": [
       "false"
      ]
     },
     "execution_count": 21,
     "metadata": {},
     "output_type": "execute_result"
    }
   ],
   "source": [
    "p[0] == ann"
   ]
  },
  {
   "cell_type": "code",
   "execution_count": 22,
   "id": "381730ed-f9eb-46b4-a471-3ef08918f9ff",
   "metadata": {},
   "outputs": [
    {
     "data": {
      "text/plain": [
       "true"
      ]
     },
     "execution_count": 22,
     "metadata": {},
     "output_type": "execute_result"
    }
   ],
   "source": [
    "p[1] == ann"
   ]
  },
  {
   "cell_type": "code",
   "execution_count": 23,
   "id": "9871f8c6-af80-48c2-b780-b47e4873065a",
   "metadata": {},
   "outputs": [
    {
     "data": {
      "text/plain": [
       "false"
      ]
     },
     "execution_count": 23,
     "metadata": {},
     "output_type": "execute_result"
    }
   ],
   "source": [
    "p[2] == ann"
   ]
  },
  {
   "cell_type": "code",
   "execution_count": 24,
   "id": "0213af87-3723-4567-a1f4-ffa86ab3058e",
   "metadata": {},
   "outputs": [
    {
     "data": {
      "text/plain": [
       "false"
      ]
     },
     "execution_count": 24,
     "metadata": {},
     "output_type": "execute_result"
    }
   ],
   "source": [
    "p[3] == ann"
   ]
  },
  {
   "cell_type": "code",
   "execution_count": 25,
   "id": "bb8bc417-5439-41d9-bf69-2572db233bda",
   "metadata": {},
   "outputs": [
    {
     "data": {
      "text/plain": [
       "false"
      ]
     },
     "execution_count": 25,
     "metadata": {},
     "output_type": "execute_result"
    }
   ],
   "source": [
    "p[4] == ann"
   ]
  },
  {
   "cell_type": "code",
   "execution_count": 26,
   "id": "7582b8dc-5fad-4512-ad87-eb44da3ca4b5",
   "metadata": {},
   "outputs": [],
   "source": [
    "<T> int seek(T s, T[] places) {\n",
    "    for (int i=0;i<places.length;i++)\n",
    "        if (places[i] == s)\n",
    "            return i;\n",
    "    return -1;\n",
    "}"
   ]
  },
  {
   "cell_type": "code",
   "execution_count": 27,
   "id": "071f04cc-da3b-40f2-a64c-33f343b01c5c",
   "metadata": {},
   "outputs": [
    {
     "data": {
      "text/plain": [
       "1"
      ]
     },
     "execution_count": 27,
     "metadata": {},
     "output_type": "execute_result"
    }
   ],
   "source": [
    "seek(ann, p)"
   ]
  },
  {
   "cell_type": "code",
   "execution_count": 28,
   "id": "5a277b6c-1195-444e-95df-4f10b8031e63",
   "metadata": {},
   "outputs": [],
   "source": [
    "class A { }\n",
    "class B { }\n",
    "A a = new A();\n",
    "B b = new B();"
   ]
  },
  {
   "cell_type": "code",
   "execution_count": 29,
   "id": "9bb0d15d-d9e9-4054-8d01-0eaec7f2db31",
   "metadata": {},
   "outputs": [
    {
     "data": {
      "text/plain": [
       "true"
      ]
     },
     "execution_count": 29,
     "metadata": {},
     "output_type": "execute_result"
    }
   ],
   "source": [
    "a == a"
   ]
  },
  {
   "cell_type": "code",
   "execution_count": 30,
   "id": "441bff01-3231-412c-8c85-f728d25d5465",
   "metadata": {},
   "outputs": [
    {
     "ename": "CompilationException",
     "evalue": "",
     "output_type": "error",
     "traceback": [
      "\u001b[1m\u001b[30m|   \u001b[1m\u001b[30m\u001b[0m\u001b[1m\u001b[30m\u001b[41ma == b\u001b[0m\u001b[1m\u001b[30m\u001b[0m",
      "\u001b[1m\u001b[31mincomparable types: A and B\u001b[0m",
      ""
     ]
    }
   ],
   "source": [
    "a == b"
   ]
  },
  {
   "cell_type": "code",
   "execution_count": 31,
   "id": "f96a66fd-02c0-4473-b930-122c9ae577be",
   "metadata": {},
   "outputs": [
    {
     "ename": "CompilationException",
     "evalue": "",
     "output_type": "error",
     "traceback": [
      "\u001b[1m\u001b[30m|   \u001b[1m\u001b[30m\u001b[0m\u001b[1m\u001b[30m\u001b[41mb == a\u001b[0m\u001b[1m\u001b[30m\u001b[0m",
      "\u001b[1m\u001b[31mincomparable types: B and A\u001b[0m",
      ""
     ]
    }
   ],
   "source": [
    "b == a"
   ]
  },
  {
   "cell_type": "code",
   "execution_count": 32,
   "id": "d31d99f7-dbca-400c-903a-98a1a7bb7d7a",
   "metadata": {},
   "outputs": [],
   "source": [
    "a = a;"
   ]
  },
  {
   "cell_type": "code",
   "execution_count": 33,
   "id": "e634438e-7e44-4b92-a5bf-faee5984d208",
   "metadata": {},
   "outputs": [
    {
     "ename": "CompilationException",
     "evalue": "",
     "output_type": "error",
     "traceback": [
      "\u001b[1m\u001b[30m|   \u001b[1m\u001b[30ma = \u001b[0m\u001b[1m\u001b[30m\u001b[41mb\u001b[0m\u001b[1m\u001b[30m;\u001b[0m",
      "\u001b[1m\u001b[31mincompatible types: B cannot be converted to A\u001b[0m",
      ""
     ]
    }
   ],
   "source": [
    "a = b;"
   ]
  },
  {
   "cell_type": "code",
   "execution_count": 34,
   "id": "000b9273-4e4d-4402-919c-361acfccbf3a",
   "metadata": {},
   "outputs": [
    {
     "ename": "CompilationException",
     "evalue": "",
     "output_type": "error",
     "traceback": [
      "\u001b[1m\u001b[30m|   \u001b[1m\u001b[30mb = \u001b[0m\u001b[1m\u001b[30m\u001b[41ma\u001b[0m\u001b[1m\u001b[30m;\u001b[0m",
      "\u001b[1m\u001b[31mincompatible types: A cannot be converted to B\u001b[0m",
      ""
     ]
    }
   ],
   "source": [
    "b = a;"
   ]
  },
  {
   "cell_type": "code",
   "execution_count": 35,
   "id": "96f21721-13ed-4776-af01-dd816d858e1c",
   "metadata": {},
   "outputs": [],
   "source": [
    "\n",
    "class A { }\n",
    "class B extends A { }\n",
    "A a = new A();\n",
    "B b = new B();"
   ]
  },
  {
   "cell_type": "code",
   "execution_count": 36,
   "id": "bae6b712-d26c-43af-b3e7-a8dc7b3b1b15",
   "metadata": {},
   "outputs": [
    {
     "data": {
      "text/plain": [
       "false"
      ]
     },
     "execution_count": 36,
     "metadata": {},
     "output_type": "execute_result"
    }
   ],
   "source": [
    "a == b"
   ]
  },
  {
   "cell_type": "code",
   "execution_count": 37,
   "id": "8be12681-995b-41fc-9cc5-cc974345422b",
   "metadata": {},
   "outputs": [
    {
     "data": {
      "text/plain": [
       "false"
      ]
     },
     "execution_count": 37,
     "metadata": {},
     "output_type": "execute_result"
    }
   ],
   "source": [
    "b == a"
   ]
  },
  {
   "cell_type": "code",
   "execution_count": 38,
   "id": "31fcfa67-a98f-4f90-b883-a56b47ba2bbb",
   "metadata": {},
   "outputs": [],
   "source": [
    "a = b;"
   ]
  },
  {
   "cell_type": "code",
   "execution_count": 39,
   "id": "b9741087-fd03-401d-8b0f-445025744779",
   "metadata": {},
   "outputs": [
    {
     "data": {
      "text/plain": [
       "true"
      ]
     },
     "execution_count": 39,
     "metadata": {},
     "output_type": "execute_result"
    }
   ],
   "source": [
    "a == b"
   ]
  },
  {
   "cell_type": "code",
   "execution_count": 40,
   "id": "516e0323-2955-4444-879f-efdb24abae84",
   "metadata": {},
   "outputs": [
    {
     "ename": "CompilationException",
     "evalue": "",
     "output_type": "error",
     "traceback": [
      "\u001b[1m\u001b[30m|   \u001b[1m\u001b[30mb = \u001b[0m\u001b[1m\u001b[30m\u001b[41ma\u001b[0m\u001b[1m\u001b[30m;\u001b[0m",
      "\u001b[1m\u001b[31mincompatible types: A cannot be converted to B\u001b[0m",
      ""
     ]
    }
   ],
   "source": [
    "b = a;"
   ]
  },
  {
   "cell_type": "code",
   "execution_count": 41,
   "id": "f107d3ea-82db-464d-b6ff-8237e5202683",
   "metadata": {},
   "outputs": [],
   "source": [
    "class C extends B { }"
   ]
  },
  {
   "cell_type": "code",
   "execution_count": 40,
   "id": "047df9f3-be28-4eb7-89db-f482f1d93da1",
   "metadata": {},
   "outputs": [],
   "source": [
    "C c = new C();"
   ]
  },
  {
   "cell_type": "code",
   "execution_count": 41,
   "id": "94f1c9da-5dc9-42a6-9c46-ec00261f97eb",
   "metadata": {},
   "outputs": [],
   "source": [
    "a = c;"
   ]
  },
  {
   "cell_type": "code",
   "execution_count": 42,
   "id": "fc4ec84a-2f77-4663-af05-60884796cb3f",
   "metadata": {},
   "outputs": [
    {
     "data": {
      "text/plain": [
       "true"
      ]
     },
     "execution_count": 42,
     "metadata": {},
     "output_type": "execute_result"
    }
   ],
   "source": [
    "a == c"
   ]
  },
  {
   "cell_type": "code",
   "execution_count": 43,
   "id": "8191e840-ca1b-426d-b2e0-09dc4fe31e03",
   "metadata": {},
   "outputs": [
    {
     "data": {
      "text/plain": [
       "REPL.$JShell$47$C@5fa26fea"
      ]
     },
     "execution_count": 43,
     "metadata": {},
     "output_type": "execute_result"
    }
   ],
   "source": [
    "a.toString();"
   ]
  },
  {
   "cell_type": "code",
   "execution_count": 44,
   "id": "4c15b1d3-a5fb-4de0-b57e-6ca80d0734b7",
   "metadata": {},
   "outputs": [
    {
     "data": {
      "text/plain": [
       "1604481002"
      ]
     },
     "execution_count": 44,
     "metadata": {},
     "output_type": "execute_result"
    }
   ],
   "source": [
    "a.hashCode(); //1604481002"
   ]
  },
  {
   "cell_type": "code",
   "execution_count": 45,
   "id": "1afbae44-5d5a-43cc-bf9a-c6cf13cbf08e",
   "metadata": {},
   "outputs": [
    {
     "data": {
      "text/plain": [
       "REPL.$JShell$47$C"
      ]
     },
     "execution_count": 45,
     "metadata": {},
     "output_type": "execute_result"
    }
   ],
   "source": [
    "a.getClass().getName()"
   ]
  },
  {
   "cell_type": "code",
   "execution_count": 16,
   "id": "4528ae91-e70a-414a-93fc-a4f0467169cb",
   "metadata": {},
   "outputs": [],
   "source": [
    "class A { }\n",
    "class B extends A { }\n",
    "class C<T> { }\n",
    "C<A> ca = new C<A>();\n",
    "C<B> cb = new C<B>();"
   ]
  },
  {
   "cell_type": "code",
   "execution_count": 17,
   "id": "8a249232-1bed-414d-86fc-f5f22a95e32a",
   "metadata": {},
   "outputs": [
    {
     "ename": "CompilationException",
     "evalue": "",
     "output_type": "error",
     "traceback": [
      "\u001b[1m\u001b[30m|   \u001b[1m\u001b[30m\u001b[0m\u001b[1m\u001b[30m\u001b[41mca == cb\u001b[0m\u001b[1m\u001b[30m\u001b[0m",
      "\u001b[1m\u001b[31mincomparable types: C<A> and C<B>\u001b[0m",
      ""
     ]
    }
   ],
   "source": [
    "ca == cb"
   ]
  },
  {
   "cell_type": "code",
   "execution_count": 18,
   "id": "9ccda552-8669-4f7d-8cc0-88125ebf1638",
   "metadata": {},
   "outputs": [
    {
     "ename": "CompilationException",
     "evalue": "",
     "output_type": "error",
     "traceback": [
      "\u001b[1m\u001b[30m|   \u001b[1m\u001b[30mca = \u001b[0m\u001b[1m\u001b[30m\u001b[41mcb\u001b[0m\u001b[1m\u001b[30m;\u001b[0m",
      "\u001b[1m\u001b[31mincompatible types: C<B> cannot be converted to C<A>\u001b[0m",
      ""
     ]
    }
   ],
   "source": [
    "ca = cb;"
   ]
  },
  {
   "cell_type": "code",
   "execution_count": 19,
   "id": "6b768386-127d-418f-ab92-915c214fb9b7",
   "metadata": {},
   "outputs": [
    {
     "ename": "CompilationException",
     "evalue": "",
     "output_type": "error",
     "traceback": [
      "\u001b[1m\u001b[30m|   \u001b[1m\u001b[30mcb = \u001b[0m\u001b[1m\u001b[30m\u001b[41mca\u001b[0m\u001b[1m\u001b[30m;\u001b[0m",
      "\u001b[1m\u001b[31mincompatible types: C<A> cannot be converted to C<B>\u001b[0m",
      ""
     ]
    }
   ],
   "source": [
    "cb = ca;"
   ]
  },
  {
   "cell_type": "code",
   "execution_count": null,
   "id": "4ca79c0b-afab-4c48-96e1-acb3d6a5b712",
   "metadata": {},
   "outputs": [],
   "source": []
  }
 ],
 "metadata": {
  "kernelspec": {
   "display_name": "Java",
   "language": "java",
   "name": "java"
  },
  "language_info": {
   "codemirror_mode": "java",
   "file_extension": ".jshell",
   "mimetype": "text/x-java-source",
   "name": "Java",
   "pygments_lexer": "java",
   "version": "11.0.8+10-LTS"
  }
 },
 "nbformat": 4,
 "nbformat_minor": 5
}
