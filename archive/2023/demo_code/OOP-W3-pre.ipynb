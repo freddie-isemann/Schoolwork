{
 "cells": [
  {
   "cell_type": "code",
   "execution_count": 4,
   "id": "a4613a6d-bd00-4f44-993a-fff40def4fa1",
   "metadata": {},
   "outputs": [],
   "source": [
    "<T> void pr(T s) {\n",
    "     System.out.print(s);\n",
    "}\n"
   ]
  },
  {
   "cell_type": "code",
   "execution_count": 1,
   "id": "7f0006cd-4a6f-4fac-9b5d-3a0e4c934b1f",
   "metadata": {},
   "outputs": [],
   "source": [
    "class A {\n",
    "     int n;\n",
    "     String s;\n",
    "     A a; \n",
    "}"
   ]
  },
  {
   "cell_type": "code",
   "execution_count": 3,
   "id": "539b0283-8e6a-4a9a-b660-14281a4c53cf",
   "metadata": {},
   "outputs": [
    {
     "data": {
      "text/plain": [
       "10"
      ]
     },
     "execution_count": 3,
     "metadata": {},
     "output_type": "execute_result"
    }
   ],
   "source": [
    "A a = new A();\n",
    "a.n = 10"
   ]
  },
  {
   "cell_type": "code",
   "execution_count": 4,
   "id": "abc9a423-9794-40e4-8c21-71f8bbe742c8",
   "metadata": {},
   "outputs": [
    {
     "data": {
      "text/plain": [
       "10"
      ]
     },
     "execution_count": 4,
     "metadata": {},
     "output_type": "execute_result"
    }
   ],
   "source": [
    "a.n"
   ]
  },
  {
   "cell_type": "code",
   "execution_count": 5,
   "id": "4c79c00a-45ec-48fa-a267-fe91afa27286",
   "metadata": {},
   "outputs": [
    {
     "data": {
      "text/plain": [
       "REPL.$JShell$13$A@3198d37c"
      ]
     },
     "execution_count": 5,
     "metadata": {},
     "output_type": "execute_result"
    }
   ],
   "source": [
    "a.n = 42; // ! Does not compile.\n",
    "a.s = \"Green\"; // ! Does not compile.\n",
    "a.a = new A();"
   ]
  },
  {
   "cell_type": "code",
   "execution_count": 9,
   "id": "aea24685-da60-4302-983b-3e3dea8f2e53",
   "metadata": {},
   "outputs": [],
   "source": [
    "A x = new A();\n",
    "A y = new A();"
   ]
  },
  {
   "cell_type": "code",
   "execution_count": 10,
   "id": "40d9d5cb-0037-4eb9-b9fa-777d181d6334",
   "metadata": {},
   "outputs": [
    {
     "name": "stdout",
     "output_type": "stream",
     "text": [
      "42"
     ]
    }
   ],
   "source": [
    "x.n = 42;\n",
    "y.n = 1729;\n",
    "pr(x.n)"
   ]
  },
  {
   "cell_type": "code",
   "execution_count": 11,
   "id": "7a1e7acc-d7a9-4045-868b-db27768aa3e0",
   "metadata": {},
   "outputs": [],
   "source": [
    "A x = new A();\n",
    "A y = x;"
   ]
  },
  {
   "cell_type": "code",
   "execution_count": 12,
   "id": "4aa50f8f-21ee-4120-bfa0-6a1e113ece5a",
   "metadata": {},
   "outputs": [
    {
     "name": "stdout",
     "output_type": "stream",
     "text": [
      "1729"
     ]
    }
   ],
   "source": [
    "x.n = 42;\n",
    "y.n = 1729;\n",
    "pr(x.n)"
   ]
  },
  {
   "cell_type": "code",
   "execution_count": 13,
   "id": "e3a9a994-35ba-48ac-b16c-64075a983609",
   "metadata": {},
   "outputs": [
    {
     "name": "stdout",
     "output_type": "stream",
     "text": [
      "Red"
     ]
    }
   ],
   "source": [
    "A x = new A(); x.s = \"Green\";\n",
    "A y = new A(); y.s = \"Red\";\n",
    "x.a = y; y.a = x;\n",
    "pr(y.s);"
   ]
  },
  {
   "cell_type": "code",
   "execution_count": 14,
   "id": "cc5e6e9a-3c60-4d6c-801f-e5f34f2763ac",
   "metadata": {},
   "outputs": [
    {
     "name": "stdout",
     "output_type": "stream",
     "text": [
      "Red"
     ]
    }
   ],
   "source": [
    "pr(x.a.s);"
   ]
  },
  {
   "cell_type": "code",
   "execution_count": 15,
   "id": "85f1ff2b-c3d6-4dd7-a295-f6f7afeb635e",
   "metadata": {},
   "outputs": [
    {
     "name": "stdout",
     "output_type": "stream",
     "text": [
      "Green"
     ]
    }
   ],
   "source": [
    "pr(y.a.a.a.a.a.a.a.s);"
   ]
  },
  {
   "cell_type": "code",
   "execution_count": 16,
   "id": "dbbaa95e-5002-4106-adbf-48ce6c5ae1f9",
   "metadata": {},
   "outputs": [
    {
     "name": "stdout",
     "output_type": "stream",
     "text": [
      "Green"
     ]
    }
   ],
   "source": [
    "A x = new A(); x.s = \"Green\";\n",
    "A y = new A(); y.s = \"Red\";\n",
    "y = x; // y now holds the same object as x.\n",
    "pr(y.s);"
   ]
  },
  {
   "cell_type": "code",
   "execution_count": 3,
   "id": "edd34ca6-6afb-4ccc-9498-c77ab29ba670",
   "metadata": {},
   "outputs": [],
   "source": [
    "\n",
    "class A { int n; String s; A a;\n",
    "         \n",
    "     protected void finalize () {\n",
    "          pr(\"Last words of an A object being collected: my hash was \" + this.s + \". \");\n",
    "\n",
    "}\n",
    "        \n",
    "}\n",
    "         \n",
    "         "
   ]
  },
  {
   "cell_type": "code",
   "execution_count": 24,
   "id": "4dbd2957-fd1f-4254-b689-0064f10d6e34",
   "metadata": {},
   "outputs": [
    {
     "name": "stdout",
     "output_type": "stream",
     "text": [
      "Green"
     ]
    }
   ],
   "source": [
    "A x = new A(); x.s = \"Green\";\n",
    "A y = new A(); y.s = \"Red\";\n",
    "x.a = y;\n",
    "y = x; // y now holds the same object as x.\n",
    "pr(y.s);"
   ]
  },
  {
   "cell_type": "code",
   "execution_count": null,
   "id": "f72c52f3-7619-427c-8908-4c457d0c8bd0",
   "metadata": {},
   "outputs": [
    {
     "name": "stdout",
     "output_type": "stream",
     "text": [
      "Last words of an A object being collected: my hash was Green. "
     ]
    }
   ],
   "source": [
    "System.gc();"
   ]
  },
  {
   "cell_type": "code",
   "execution_count": 22,
   "id": "a84d9f59-7041-4cc0-ac9a-9c2219d60c44",
   "metadata": {},
   "outputs": [
    {
     "name": "stdout",
     "output_type": "stream",
     "text": [
      "Last words of an A object being collected: my hash was 307999380. Last words of an A object being collected: my hash was 1983469668. Last words of an A object being collected: my hash was 1125985064. Last words of an A object being collected: my hash was 519823362. Last words of an A object being collected: my hash was 1367027291. Last words of an A object being collected: my hash was 1832760936. Last words of an A object being collected: my hash was 1196659852. Last words of an A object being collected: my hash was 115971988. Last words of an A object being collected: my hash was 250112228. Last words of an A object being collected: my hash was 249958823. Last words of an A object being collected: my hash was 1439302403. Last words of an A object being collected: my hash was 534080281. Last words of an A object being collected: my hash was 1379372879. Last words of an A object being collected: my hash was 1826801543. "
     ]
    },
    {
     "ename": "EvaluationInterruptedException",
     "evalue": "Evaluator was interrupted while executing: 'while (true) {A x = new A(); System.gc();}'",
     "output_type": "error",
     "traceback": [
      "\u001b[1m\u001b[30m|   \u001b[1m\u001b[30mwhile (true) {A x = new A(); System.gc();}\u001b[0m",
      "\u001b[1m\u001b[31mEvaluation interrupted.\u001b[0m"
     ]
    },
    {
     "name": "stdout",
     "output_type": "stream",
     "text": [
      "Last words of an A object being collected: my hash was 1765085955. Last words of an A object being collected: my hash was 1561075871. "
     ]
    }
   ],
   "source": [
    "//while (true) {A x = new A(); System.gc();}"
   ]
  },
  {
   "cell_type": "code",
   "execution_count": 26,
   "id": "fc2147bc-a0d0-489a-a932-e005bf917b30",
   "metadata": {},
   "outputs": [],
   "source": [
    "System.gc();"
   ]
  },
  {
   "cell_type": "code",
   "execution_count": 2,
   "id": "ba59078e-42b7-4644-965e-277083f9e135",
   "metadata": {},
   "outputs": [],
   "source": [
    "class A {\n",
    "     int n;\n",
    "     String s;\n",
    "     A a; \n",
    "}"
   ]
  },
  {
   "cell_type": "code",
   "execution_count": 5,
   "id": "205eb382-0fa7-4658-bff4-0e6f404a88ba",
   "metadata": {},
   "outputs": [
    {
     "name": "stdout",
     "output_type": "stream",
     "text": [
      "Pertama"
     ]
    }
   ],
   "source": [
    " class Pair<E> {\n",
    "  E first;\n",
    "  E second;\n",
    "}\n",
    "Pair<A> p1 = new Pair<A>();\n",
    "p1.first = new A(); p1.second = new A();\n",
    "p1.first.s = \"Primo\"; p1.second.s = \"Secundo\";\n",
    "Pair<A> p2 = new Pair<A>();\n",
    "p2.first = new A(); p2.second = new A();\n",
    "p2.first.s = \"Pertama\"; p2.second.s = \"Kedua\";\n",
    "Pair<Pair<A>> pp = new Pair<Pair<A>>();\n",
    "pp.first = p1; pp.second = p2;\n",
    "pr(pp.second.first.s);"
   ]
  },
  {
   "cell_type": "code",
   "execution_count": 6,
   "id": "c3b62cf3-ceb8-4bfb-a5f1-296faae3dca3",
   "metadata": {},
   "outputs": [
    {
     "data": {
      "text/plain": [
       "REPL.$JShell$13$Pair@79a6367b"
      ]
     },
     "execution_count": 6,
     "metadata": {},
     "output_type": "execute_result"
    }
   ],
   "source": [
    "Pair<Pair<A>> pp = new Pair<Pair<A>>();\n",
    "pp.first = p1; pp.second = p2;"
   ]
  },
  {
   "cell_type": "code",
   "execution_count": 8,
   "id": "5ec9b123-5069-4c7e-8d8f-689b40ad4a16",
   "metadata": {},
   "outputs": [
    {
     "name": "stdout",
     "output_type": "stream",
     "text": [
      "PrimoPrimo"
     ]
    }
   ],
   "source": [
    "class Pair<E,F> {\n",
    "  E first;\n",
    "  F second;\n",
    "}\n",
    "Pair<A,A> p1 = new Pair();\n",
    "p1.first = new A(); p1.second = new A();\n",
    "p1.first.s = \"Primo\"; p1.second.s = \"Secundo\";\n",
    "Pair<String,String> p2 = new Pair();\n",
    "p2.first = \"Primo\"; p2.second = \"Levy\";\n",
    "pr(p2.first); // Prints \"Primo\".\n",
    "Pair<Pair<A,A>,Pair<String,String>> pp = new Pair();\n",
    "pp.first = p1; pp.second = p2;\n",
    "pr(pp.second.first);"
   ]
  },
  {
   "cell_type": "code",
   "execution_count": 9,
   "id": "f738fe6f-5c9c-4258-8aa2-cdf3f984bccb",
   "metadata": {},
   "outputs": [],
   "source": [
    " class Pair<E> {\n",
    "  E first;\n",
    "  E second;\n",
    "}\n"
   ]
  },
  {
   "cell_type": "code",
   "execution_count": 10,
   "id": "f573adfb-5c3a-44aa-b925-457ba7eff87a",
   "metadata": {},
   "outputs": [],
   "source": [
    "static <S> void swap(Pair<S> p) {\n",
    "  S temp = p.first;\n",
    "  p.first = p.second; p.second = temp;\n",
    "}"
   ]
  },
  {
   "cell_type": "code",
   "execution_count": 12,
   "id": "cc32f9d5-07dd-43e7-a8d6-74b39f7c581c",
   "metadata": {},
   "outputs": [
    {
     "data": {
      "text/plain": [
       "REPL.$JShell$13C$Pair@3c883346"
      ]
     },
     "execution_count": 12,
     "metadata": {},
     "output_type": "execute_result"
    }
   ],
   "source": [
    "Pair<A> p1 = new Pair<A>();\n",
    "p1.first = new A(); p1.second = new A();\n",
    "p1.first.s = \"Primo\"; p1.second.s = \"Secundo\";\n",
    "Pair<A> p2 = new Pair<A>();\n",
    "p2.first = new A(); p2.second = new A();\n",
    "p2.first.s = \"Pertama\"; p2.second.s = \"Kedua\";\n",
    "Pair<Pair<A>> pp = new Pair<Pair<A>>();\n",
    "pp.first = p1; pp.second = p2;"
   ]
  },
  {
   "cell_type": "code",
   "execution_count": 13,
   "id": "65c3f156-b1f5-481f-82d0-83f5a36b5740",
   "metadata": {},
   "outputs": [
    {
     "name": "stdout",
     "output_type": "stream",
     "text": [
      "Pertama"
     ]
    }
   ],
   "source": [
    "pr(pp.second.first.s);"
   ]
  },
  {
   "cell_type": "code",
   "execution_count": 14,
   "id": "061986ad-5de4-4ee5-a608-d6f14f9fa6ea",
   "metadata": {},
   "outputs": [
    {
     "name": "stdout",
     "output_type": "stream",
     "text": [
      "Kedua"
     ]
    }
   ],
   "source": [
    "swap(p2); // Call to swap with set S to A.\n",
    "pr(pp.second.first.s);"
   ]
  },
  {
   "cell_type": "code",
   "execution_count": 15,
   "id": "28c212cd-ca99-4614-b60d-8a37657670d5",
   "metadata": {},
   "outputs": [
    {
     "name": "stdout",
     "output_type": "stream",
     "text": [
      "Pertama"
     ]
    }
   ],
   "source": [
    "swap(p2); // Call to swap with set S to A.\n",
    "pr(pp.second.first.s);"
   ]
  },
  {
   "cell_type": "code",
   "execution_count": 16,
   "id": "d4ac65e9-072d-4cf3-8279-6917661134b1",
   "metadata": {},
   "outputs": [
    {
     "name": "stdout",
     "output_type": "stream",
     "text": [
      "Secundo"
     ]
    }
   ],
   "source": [
    "static <T> Pair<T> swap(Pair<T> p) {\n",
    "  Pair<T> r = new Pair();\n",
    "  r.first = p.second; r.second = p.first;\n",
    "  return r;\n",
    "}\n",
    "pr(swap(p1).first.s);"
   ]
  },
  {
   "cell_type": "code",
   "execution_count": 17,
   "id": "ac698b2c-f298-4b09-bd35-e9a3a71d3ac2",
   "metadata": {},
   "outputs": [
    {
     "name": "stdout",
     "output_type": "stream",
     "text": [
      "Secundo"
     ]
    }
   ],
   "source": [
    "pr(swap(p1).first.s);"
   ]
  },
  {
   "cell_type": "code",
   "execution_count": 21,
   "id": "254f896e-cce2-4af0-b9c9-1e288ffd514a",
   "metadata": {},
   "outputs": [],
   "source": [
    "class B extends A {\n",
    "         float h;\n",
    "}"
   ]
  },
  {
   "cell_type": "code",
   "execution_count": 22,
   "id": "5a5f15c3-f308-459f-aab6-2c825ebd35d3",
   "metadata": {},
   "outputs": [
    {
     "data": {
      "text/plain": [
       "3.1415"
      ]
     },
     "execution_count": 22,
     "metadata": {},
     "output_type": "execute_result"
    }
   ],
   "source": [
    "B b = new B();\n",
    "b.n = 10; // Puts 10 in variable n of the B object held by b.\n",
    "b.s = \"Blue\"; // Puts \"Blue\" in variable s.\n",
    "b.a = new B(); // Puts a new B object in variable a.\n",
    "b.h = 3.1415f;"
   ]
  },
  {
   "cell_type": "code",
   "execution_count": 23,
   "id": "2d8511aa-def7-431b-be1b-a0ad60ab6571",
   "metadata": {},
   "outputs": [
    {
     "data": {
      "text/plain": [
       "REPL.$JShell$89C$B@38bc3417"
      ]
     },
     "execution_count": 23,
     "metadata": {},
     "output_type": "execute_result"
    }
   ],
   "source": [
    "b.a.a = b;"
   ]
  },
  {
   "cell_type": "code",
   "execution_count": 24,
   "id": "cc5b6edd-336a-4f67-8408-1a8839a9e657",
   "metadata": {},
   "outputs": [
    {
     "name": "stdout",
     "output_type": "stream",
     "text": [
      "Blue"
     ]
    }
   ],
   "source": [
    "pr(b.a.a.s);"
   ]
  },
  {
   "cell_type": "code",
   "execution_count": 25,
   "id": "e9de3767-4739-4d1f-b431-e17d8c484afd",
   "metadata": {},
   "outputs": [
    {
     "ename": "CompilationException",
     "evalue": "",
     "output_type": "error",
     "traceback": [
      "\u001b[1m\u001b[30m|   \u001b[1m\u001b[30mpr(\u001b[0m\u001b[1m\u001b[30m\u001b[41mb.a.a.h\u001b[0m\u001b[1m\u001b[30m);\u001b[0m",
      "\u001b[1m\u001b[31mcannot find symbol\u001b[0m",
      "\u001b[1m\u001b[31m  symbol:   variable h\u001b[0m",
      ""
     ]
    }
   ],
   "source": [
    "pr(b.a.a.h);"
   ]
  },
  {
   "cell_type": "code",
   "execution_count": 31,
   "id": "e49e9cae-56eb-40d4-b5a6-c03182d62c2f",
   "metadata": {},
   "outputs": [],
   "source": [
    "\n",
    "static A pickBigN(A a1, A a2) {\n",
    "     if (a1.n > a2.n) return a1;\n",
    "     else return a2;\n",
    "}"
   ]
  },
  {
   "cell_type": "code",
   "execution_count": 27,
   "id": "edf157f0-7d72-4f08-aa5d-fe8108a979b0",
   "metadata": {},
   "outputs": [
    {
     "data": {
      "text/plain": [
       "5.1413"
      ]
     },
     "execution_count": 27,
     "metadata": {},
     "output_type": "execute_result"
    }
   ],
   "source": [
    "B b1 = new B(); b1.n = 42;   b1.h = 3.1415f;\n",
    "B b2 = new B(); b2.n = 1729; b2.h = 5.1413f;\n"
   ]
  },
  {
   "cell_type": "code",
   "execution_count": 29,
   "id": "0f4c6452-91ed-4f4e-9c02-17a57b74bf25",
   "metadata": {},
   "outputs": [],
   "source": [
    "A z = pickBigN(b1, b2);"
   ]
  },
  {
   "cell_type": "code",
   "execution_count": 30,
   "id": "b1bc49cc-740d-4e54-9d22-a8b9511f25ad",
   "metadata": {},
   "outputs": [
    {
     "ename": "CompilationException",
     "evalue": "",
     "output_type": "error",
     "traceback": [
      "\u001b[1m\u001b[30m|   \u001b[1m\u001b[30mpr(\u001b[0m\u001b[1m\u001b[30m\u001b[41mz.h\u001b[0m\u001b[1m\u001b[30m);\u001b[0m",
      "\u001b[1m\u001b[31mcannot find symbol\u001b[0m",
      "\u001b[1m\u001b[31m  symbol:   variable h\u001b[0m",
      ""
     ]
    }
   ],
   "source": [
    "pr(z.h);"
   ]
  },
  {
   "cell_type": "code",
   "execution_count": 33,
   "id": "90a367ef-a1c3-44ff-8884-366a64afd16b",
   "metadata": {},
   "outputs": [],
   "source": [
    "static A pickBigN(A a1, A a2) {\n",
    "     if (a1.n > a2.n) return a1;\n",
    "     else {A r = new A(); r.n = a2.n; return r;}\n",
    "}"
   ]
  },
  {
   "cell_type": "code",
   "execution_count": 34,
   "id": "9ec5a646-7534-403d-aabb-7c1a1b208fa3",
   "metadata": {},
   "outputs": [
    {
     "ename": "EvalException",
     "evalue": "class REPL.$JShell$12$A cannot be cast to class REPL.$JShell$89C$B (REPL.$JShell$12$A and REPL.$JShell$89C$B are in unnamed module of loader jdk.jshell.execution.DefaultLoaderDelegate$RemoteClassLoader @481a996b)",
     "output_type": "error",
     "traceback": [
      "\u001b[1m\u001b[31m---------------------------------------------------------------------------\u001b[0m",
      "\u001b[1m\u001b[31mjava.lang.ClassCastException: class REPL.$JShell$12$A cannot be cast to class REPL.$JShell$89C$B (REPL.$JShell$12$A and REPL.$JShell$89C$B are in unnamed module of loader jdk.jshell.execution.DefaultLoaderDelegate$RemoteClassLoader @481a996b)\u001b[0m",
      "\u001b[1m\u001b[31m\tat .(#109:1)\u001b[0m"
     ]
    }
   ],
   "source": [
    "B b1 = new B(); b1.n = 42;   b1.h = 3.1415f;\n",
    "B b2 = new B(); b2.n = 1729; b2.h = 5.1413f;\n",
    "B z = (B) pickBigN(b1, b2);"
   ]
  },
  {
   "cell_type": "code",
   "execution_count": 35,
   "id": "908f119d-9e1e-4988-b366-4d712db1c4a7",
   "metadata": {},
   "outputs": [],
   "source": [
    "static <T extends A> T pickBigN(T a1, T a2) {\n",
    "     if (a1.n > a2.n) return a1;\n",
    "     else return a2;\n",
    "}"
   ]
  },
  {
   "cell_type": "code",
   "execution_count": 36,
   "id": "e6b0e15b-7ca6-4789-a91e-a1dda633e4b1",
   "metadata": {},
   "outputs": [],
   "source": [
    "B b1 = new B(); b1.n = 42;   b1.h = 3.1415f;\n",
    "B b2 = new B(); b2.n = 1729; b2.h = 5.1413f;\n",
    "B z = pickBigN(b1, b2);"
   ]
  },
  {
   "cell_type": "code",
   "execution_count": 37,
   "id": "6ab12ebd-4d5b-4021-8b1b-4ddfee96f241",
   "metadata": {},
   "outputs": [
    {
     "data": {
      "text/plain": [
       "5.1413"
      ]
     },
     "execution_count": 37,
     "metadata": {},
     "output_type": "execute_result"
    }
   ],
   "source": [
    "z.h"
   ]
  },
  {
   "cell_type": "code",
   "execution_count": 44,
   "id": "acb451e6-ec96-4a1f-bc50-3ae216812fab",
   "metadata": {},
   "outputs": [
    {
     "name": "stdout",
     "output_type": "stream",
     "text": [
      "1"
     ]
    }
   ],
   "source": [
    "class C extends A {\n",
    "     int n; // We say this n ’hides’ the n in A.\n",
    "}\n",
    "C c = new C();\n",
    "A a = c; // a and c now hold the same object.\n",
    "a.n = 1;\n",
    "c.n = 3;\n",
    "pr(a.n)"
   ]
  },
  {
   "cell_type": "code",
   "execution_count": 43,
   "id": "d5c4a531-ddd6-4b7a-8ad0-c2c6fda20df3",
   "metadata": {},
   "outputs": [
    {
     "name": "stdout",
     "output_type": "stream",
     "text": [
      "3"
     ]
    }
   ],
   "source": [
    "pr(c.n)"
   ]
  },
  {
   "cell_type": "code",
   "execution_count": null,
   "id": "0ccd50ca-8a14-48b0-b897-22eb16f9f51e",
   "metadata": {},
   "outputs": [],
   "source": []
  }
 ],
 "metadata": {
  "kernelspec": {
   "display_name": "Java",
   "language": "java",
   "name": "java"
  },
  "language_info": {
   "codemirror_mode": "java",
   "file_extension": ".jshell",
   "mimetype": "text/x-java-source",
   "name": "Java",
   "pygments_lexer": "java",
   "version": "11.0.8+10-LTS"
  }
 },
 "nbformat": 4,
 "nbformat_minor": 5
}
