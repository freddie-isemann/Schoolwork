{
 "cells": [
  {
   "cell_type": "markdown",
   "id": "af75ab60-fe96-4f59-b8f2-d8a102cca58c",
   "metadata": {},
   "source": [
    "# Assignment 6 - Start your Mini-project on GitHub\n",
    "\n",
    "For your mini-project (A6-A8) you will be writing a simple Java application using Swing and code from the Class Projects.\n",
    "\n",
    "Your first assignment is to create a repository on your QM GitHub account named (exactly) \n",
    "```\n",
    "A6-/username/\n",
    "```\n",
    "with code for a simple Java app that uses Swing to create a window with the text \n",
    "\n",
    "> OOP Mini-project by /username/\n",
    "\n",
    "and a button that does something when clicked.\n",
    "\n",
    "You should create your repo via IntelliJ IDEA so that anyone can import, build and run your project \n",
    "using the IntelliJ option 'Get from VCS'.\n",
    "\n",
    "Your repo should have visibility 'Public'.\n",
    "\n",
    "The instructions below have been tested on Ubuntu in the ITL. You may choose to use IntelliJ on Windows in the ITL or an IntelliJ install on your own machine, but you will have to support yourself (and each other) in case of problems.\n",
    "\n",
    "Evaluation of your Mini-project will be done via IntelliJ on Ubuntu in the ITL, so be sure that it builds and runs using IntelliJ on Ubuntu in the ITL."
   ]
  },
  {
   "cell_type": "markdown",
   "id": "9773c75e-a237-4d0b-8503-dec2b52465e9",
   "metadata": {},
   "source": [
    "## Create a project\n",
    "\n",
    "Launch IntelliJ IDEA and select 'New Project'. \n",
    "Enter Name 'A6-/username/' and tick 'Creaet Git repository'.\n",
    "Choose Language 'Java'\n",
    "and Build system 'IntelliJ'.\n",
    "Choose JDK 17,\n",
    "leave 'Add sample code' unticked\n",
    "and click 'Create'."
   ]
  },
  {
   "cell_type": "markdown",
   "id": "ca647265-b4af-4866-8109-9c8c3c7c6860",
   "metadata": {},
   "source": [
    "## Set up access to QM GitHub Enterprise \n",
    "\n",
    "Once the project window opens, select menu item File -> Settings.\n",
    "Choose Version Control -> GitHub\n",
    "and in the + menu select 'Log In to GitHub Enterprise'.\n",
    "Enter Server 'github.qmul.ac.uk'\n",
    "and click 'Generate'.\n",
    "\n",
    "When the GitHub page opens in your browser,\n",
    "the correct access options should already be ticked and all you have to do is click 'Create'.\n",
    "Click the copy button when the token comes up, paste into the IntelliJ Token field \n",
    "and click 'Add account'."
   ]
  },
  {
   "cell_type": "markdown",
   "id": "eec02592-ac31-4cec-b41c-cdfe07814cdd",
   "metadata": {},
   "source": [
    "## Share on QM GitHub\n",
    "\n",
    "Select menu item Git -> GitHub -> Share Project on GitHub.\n",
    "Leave Repo name 'A6-/username/', leave Private unticked, leave Remote 'origin'\n",
    "and click 'Share'.\n",
    "Leave everything ticked and click 'Add'.\n",
    "\n",
    "Check your repo exists on your page on QM GitHub and its visibility is set to 'Public'."
   ]
  },
  {
   "cell_type": "markdown",
   "id": "b687d99c-24c3-45ff-b53d-37e08342dfc7",
   "metadata": {},
   "source": [
    "## Write your app and push to GitHub\n",
    "\n",
    "Find a Swing tutorial online \n",
    "and/or follow [this video](https://www.youtube.com/watch?v=5vSyylPPEko) \n",
    "and write a simple Swing app.\n",
    "\n",
    "Put your source code in a package called 'OOP./username/.A6', which is to say in directory \n",
    "```\n",
    "scr/OOP/<username>/A6/\n",
    "```\n",
    "of the project.\n",
    "\n",
    "Check it compiles and runs, creating a window with a text area and a button.\n",
    "\n",
    "Commit and push to origin. check that your code appears on your page on QM GitHub."
   ]
  },
  {
   "cell_type": "code",
   "execution_count": null,
   "id": "c63fd9b8-21e6-445a-ace2-cb011c727c7a",
   "metadata": {},
   "outputs": [],
   "source": []
  }
 ],
 "metadata": {
  "kernelspec": {
   "display_name": "Java",
   "language": "java",
   "name": "java"
  },
  "language_info": {
   "codemirror_mode": "java",
   "file_extension": ".jshell",
   "mimetype": "text/x-java-source",
   "name": "Java",
   "pygments_lexer": "java",
   "version": "11.0.8+10-LTS"
  }
 },
 "nbformat": 4,
 "nbformat_minor": 5
}
