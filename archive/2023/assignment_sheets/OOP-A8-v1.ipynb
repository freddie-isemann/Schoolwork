{
 "cells": [
  {
   "cell_type": "markdown",
   "id": "af75ab60-fe96-4f59-b8f2-d8a102cca58c",
   "metadata": {},
   "source": [
    "# Assignment 8 - Add a GUI to Assignment 4/5\n",
    "\n",
    "For your Mini-project (including Assignments 6 - 8) \n",
    "you will be writing a simple Java application using Java collection classes, Swing and code from the Class Projects.\n",
    "[See the Mini-project section on QMPlus](https://qmplus.qmul.ac.uk/course/view.php?id=15546#section-44).\n",
    "\n",
    "Your third assignment is to create a repository on your QM GitHub account named (exactly) \n",
    "```\n",
    "A8-/username/\n",
    "```\n",
    "with code for a simple Swing front-end to a Room or House class contributed to A5.\n",
    "\n",
    "Your repo should have visibility 'Public'.\n",
    "\n",
    "Your code should be in a package called `OOP.<username>.A8` \n",
    "in an IntelliJ project `A8-/username/` \n",
    "that can be cloned, built and run on Ubuntu in the ITL \n",
    "using the IntelliJ option 'Get from VCS'.\n",
    "\n",
    "Your app should allow the user to interact, via a Swing GUI, \n",
    "with a Room or House selected from the A5 repo\n",
    "(crediting the original author of the Room or House).\n",
    "\n",
    "Your code should include a class called `GUIVisitor_/username/` \n",
    "that implements the Visitor interface using a Swing GUI for user interaction.\n",
    "\n",
    "Your GUI should show the visitor's gold and a list of Items currently held.\n",
    "\n",
    "Ideally, your GUIVisitor_/username/ \n",
    "would implement getChoice with buttons rather than keyboard, \n",
    "but this is not required for A8.\n",
    "\n",
    "You may choose to use IntelliJ on your own machine, but you will have to support yourself \n",
    "(and each other via the [IntelliJ Forum](https://qmplus.qmul.ac.uk/mod/forum/view.php?id=2214001)) in case of problems. \n",
    "Evaluation of your mini-project will be done via IntelliJ on Ubuntu in the ITL."
   ]
  },
  {
   "cell_type": "code",
   "execution_count": null,
   "id": "c63fd9b8-21e6-445a-ace2-cb011c727c7a",
   "metadata": {},
   "outputs": [],
   "source": []
  }
 ],
 "metadata": {
  "kernelspec": {
   "display_name": "Java",
   "language": "java",
   "name": "java"
  },
  "language_info": {
   "codemirror_mode": "java",
   "file_extension": ".jshell",
   "mimetype": "text/x-java-source",
   "name": "Java",
   "pygments_lexer": "java",
   "version": "11.0.8+10-LTS"
  }
 },
 "nbformat": 4,
 "nbformat_minor": 5
}
