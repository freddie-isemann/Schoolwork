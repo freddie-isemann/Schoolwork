{
 "cells": [
  {
   "cell_type": "markdown",
   "id": "9ccbce25-398d-4956-a9da-a9645c7bca22",
   "metadata": {},
   "source": [
    "# Assignment 1\n",
    "- Create a file.\n",
    "- In the file, declare a class.\n",
    "- In the class, implement two procedures (static methods),\n",
    "    - one that returns a Candidate object and\n",
    "    - one that takes an array of Candidate objects and returns a Candidate object.\n",
    "- Contribute by naming everything correctly and **both**\n",
    "    - uploading your file to QMPlus **and**\n",
    "    - editing your stub on GitHub to match and creating a pull request.\n",
    "    \n",
    "The Assignment is very easy - just a few lines of code - but you must name things correctly for your contribution to be compiled in with all the others.\n",
    "\n",
    "So Assignment 1 is really about submitting with care."
   ]
  },
  {
   "cell_type": "markdown",
   "id": "006254ab-0bdd-4130-a51d-bd09ffde1fdb",
   "metadata": {},
   "source": [
    "## Naming\n",
    "\n",
    "Where you see `/username/` you must put your QM username. Do not include the slashes. For example \n",
    "```\n",
    "A1_/username/\n",
    "```\n",
    "becomes\n",
    "```\n",
    "A1_eey577\n",
    "```\n",
    "with no slashes. Also note that an underscore (_) is neither a space ( ) nor a hyphen (-).\n",
    "\n",
    "- Create a plain text file called `A1_/username/.java`.\n",
    "- In the file, declare a class called `A1_/username/`.\n",
    "- In the class, implement two public static methods,\n",
    "    - one called `vote()`\n",
    "    - one called `winner(Candidate[])`.\n",
    "- Contribute by **both**\n",
    "    - uploading your file `A1_/username/.java` to [Assignment 1 Upload](https://qmplus.qmul.ac.uk/mod/assign/view.php?id=2161055) **and**\n",
    "    - editing your stub `A1_/username/.java` on GitHub \n",
    "        - on a branch called `/username/` and\n",
    "        - creating a pull request asking for the merge `main <- /username/`.\n",
    "        \n",
    "Make sure the file you upload to is plain text (7-bit ASCII).\n",
    "\n",
    "On GitHub only edit and commit your stub `A1_/username/.java`. Don't try to change any other files."
   ]
  },
  {
   "cell_type": "markdown",
   "id": "5edcfc01-0e72-44ff-8291-032a15d770ad",
   "metadata": {},
   "source": [
    "## Spec\n",
    "\n",
    "Your `vote` procedure must return a Candidate object. That is the only requirement (assuming you have named everything correctly).\n",
    "\n",
    "Each vote() contributed is expected to return one of the official objects \n",
    "provided in the OfficialCandidate class, but it doesn't have to. \n",
    "It can, for example, return an object produced by `new Candidate()`, \n",
    "but who wants to throw away their vote?\n",
    "\n",
    "Your `winner` procedure must return a Candidate object. That is the only requirement (assuming you have named everything correctly).\n",
    "\n",
    "Each winner(Candidate[]) is expected to return one the objects in the array it is passed,\n",
    "and normally, as part of an election, \n",
    "it would work out which object occurs most frequently and return that,\n",
    "but it doesn't have to. It can, for example, return one of the elements at random, but that's not very democratic.\n",
    "\n",
    "Your contribution must run without any input/output activity. It must not print anything or consult the user. It must not take a long time or fail to return. Think simple."
   ]
  },
  {
   "cell_type": "markdown",
   "id": "ddd47f0e-64a7-492a-bdc5-504c0b16a79e",
   "metadata": {},
   "source": [
    "## Framework\n",
    "\n",
    "The framework for the assignment consists of classes you do not contribute yourself but make the program work as a whole. When you upload your contribution to QMPlus, your file should contain just the one class `A1_/username/`.\n",
    "\n",
    "Sample framework classes are provided below, together with 3 dummy stubs so that you can test your contribution. The idea is for you edit **one** of the stubs, which you can then upload as your contribution. To test that your edited stub works, you will have to fix the the class A1 here so that is calls your class `A1_/username/` instead of the place-holder class `A1_ac1234`, but you do not upload the modified A1 class. You use it here to test your code, but is not part of your contribution.\n",
    "\n",
    "The Candidate class does not need to be modified to test your code.\n",
    "\n",
    "Likewise, the OfficialCandidate class will work as is.\n",
    "\n",
    "Both these classes are identical to the framework classes on GitHub, where they cannot be modified, and to the classes that will be used to compile your code this weekend.\n",
    "\n",
    "A main class A1, which will run the election, is provided below as an example. You will need to modify it here to test your code, but you cannot modify the version on GitHub (which already has the call to your contribution built-in).\n",
    "\n",
    "Your vote() procedure will be used together with everyone else's \n",
    "to cast votes in an election for the Mayor of Tower Hamlets, QM Edition. Vote wisely! \n",
    "\n",
    "The winner will be the most frequent object among the votes cast. \n",
    "In case of a tie, it will be chosen at random among one of the most frequent objects.\n",
    "\n",
    "Your procedure `winner(Candidat[])` will not be used in the main election, \n",
    "but will be used in some 'higher order' elections: instead of counting votes cast using a simple most-frequent-wins algorithm, your `winner(Candidat[])` procedures will each be called on the array of votes cast. This will produce an array of winners, one for each of your counting procedures. The winner of this higher order election is then the most frequent winner among these. This process can be compounded to produce an even higher order winner-of-winners-of-winners result. We will see if the process converges.\n",
    " "
   ]
  },
  {
   "cell_type": "code",
   "execution_count": 1,
   "id": "f522edac-1fa1-41f7-b7c1-ab318ec72b7d",
   "metadata": {},
   "outputs": [],
   "source": [
    "class Candidate { }"
   ]
  },
  {
   "cell_type": "code",
   "execution_count": 2,
   "id": "84378df2-9c0e-482f-aafa-df4e79f421d8",
   "metadata": {},
   "outputs": [],
   "source": [
    "class OfficialCandidate {\n",
    "    // We have no intention of using OfficialCandidate as a class, to type things.\n",
    "    // No OfficialCandidate objects will ever be created.\n",
    "    // We are only using OfficialCandidate as a namespace for\n",
    "    // some static variables, which function much like global variables.\n",
    "    // In JHub, we could put them 'outside' and they would be just like globals.\n",
    "    // To access these variable from other classes, prefix them with 'OfficialCandidate'\n",
    "    // and a dot, for example 'OfficialCandidate.RabinaKhan'. \n",
    "\n",
    "    // Candidate names are taken from \n",
    "    // https://democracy.towerhamlets.gov.uk/mgElectionAreaResults.aspx?ID=176&RPID=54660905\n",
    "    // Note that our variables break convention by beginning with capital letters.\n",
    "    public static final Candidate UtfurRahman   = new Candidate();\n",
    "    public static final Candidate JohnBiggs     = new Candidate();\n",
    "    public static final Candidate RabinaKhan    = new Candidate();\n",
    "    public static final Candidate ElliottWeaver = new Candidate();\n",
    "    public static final Candidate AndrewWood    = new Candidate();\n",
    "    public static final Candidate HugoPierre    = new Candidate();\n",
    "    public static final Candidate PamelaHolmes  = new Candidate();\n",
    "    \n",
    "    // We include a procedure for translating from the objects representing the official candidates\n",
    "    // to strings we can print when announcing a winner.\n",
    "    // See Lab exercises L1.10, L1.12 and L1.13.\n",
    "    public static String officialCandidateToString (Candidate c) {\n",
    "        if (c == UtfurRahman)   return \"Utfur\";\n",
    "        if (c == JohnBiggs)     return \"Biggs\";\n",
    "        if (c == RabinaKhan)    return \"Ms Khan\";\n",
    "        if (c == ElliottWeaver) return \"Mr Weaver\";\n",
    "        if (c == AndrewWood)    return \"Andrew Wood\";\n",
    "        if (c == HugoPierre)    return \"Monsieur Pierre\";\n",
    "        if (c == PamelaHolmes)  return \"Pam Holmes\";\n",
    "        return \"NaC\";\n",
    "    }\n",
    "}"
   ]
  },
  {
   "cell_type": "markdown",
   "id": "653c0a69-99c5-44c6-bbe4-182cb4548f45",
   "metadata": {},
   "source": [
    "## Stubs\n",
    "\n",
    "On GitHub, in the A1 repository, you will all be provided with stubs. These contain code of the following form.\n",
    "```\n",
    "// File A1_/username/.java\n",
    "\n",
    "class A1_/username/ {\n",
    "    // We have no intention of using this class as a class.\n",
    "    // We are only using it as a namespace for two procedures.\n",
    "    \n",
    "    public static Candidate vote() {\n",
    "        return OfficialCandidate.UtfurRahman; // Vote for person who won in RL.\n",
    "    }\n",
    "    \n",
    "    public static Candidate winner (Candidate[] votes) {\n",
    "        return new Candidate(); // Return a new Candidate object no-one voted for.\n",
    "    }\n",
    "}\n",
    "```\n",
    "You should edit the code in your stub to match the file you upload to Assignment 1 Upload,\n",
    "commit your edits and then create a pull request to have your commit merged in with everyone else's over the weekend.\n",
    "\n",
    "Below are three sample stubs used in the A1 example (further below). You should edit the first one and test that it works here in JHub."
   ]
  },
  {
   "cell_type": "code",
   "execution_count": 3,
   "id": "0327d22a-15ee-4b51-910d-56f0968e71b0",
   "metadata": {},
   "outputs": [],
   "source": [
    "// Replace ac1234 with your username \n",
    "// and then edit the vote and winner in this stub to test with the A1 below.\n",
    "\n",
    "// File A1_ac1234.java\n",
    "\n",
    "class A1_ac1234 {\n",
    "    // We have no intention of using this class as a class.\n",
    "    // We are only using it as a namespace for two procedures.\n",
    "    \n",
    "    public static Candidate vote() {\n",
    "        return OfficialCandidate.UtfurRahman; // Vote for person who won in RL.\n",
    "    }\n",
    "    \n",
    "    public static Candidate winner (Candidate[] votes) {\n",
    "        return new Candidate(); // Return a new Candidate object no-one voted for.\n",
    "    }\n",
    "}"
   ]
  },
  {
   "cell_type": "code",
   "execution_count": 4,
   "id": "11f21dd6-f053-4f9c-bcc5-0866464a8c1e",
   "metadata": {},
   "outputs": [],
   "source": [
    "// File A1_ac1235.java\n",
    "\n",
    "class A1_ac1235 {\n",
    "    // We have no intention of using this class as a class.\n",
    "    // We are only using it as a namespace for two procedures.\n",
    "    \n",
    "    public static Candidate vote() {\n",
    "        return OfficialCandidate.UtfurRahman; // Vote for person who won in RL.\n",
    "    }\n",
    "    \n",
    "    public static Candidate winner (Candidate[] votes) {\n",
    "        return new Candidate(); // Return a new Candidate object no-one voted for.\n",
    "    }\n",
    "}"
   ]
  },
  {
   "cell_type": "code",
   "execution_count": 5,
   "id": "0cfdafce-c623-4960-a08e-71aa59d35fd5",
   "metadata": {},
   "outputs": [],
   "source": [
    "// File A1_ac1236.java\n",
    "\n",
    "class A1_ac1236 {\n",
    "    // We have no intention of using this class as a class.\n",
    "    // We are only using it as a namespace for two procedures.\n",
    "    \n",
    "    public static Candidate vote() {\n",
    "        return OfficialCandidate.UtfurRahman; // Vote for person who won in RL.\n",
    "    }\n",
    "    \n",
    "    public static Candidate winner (Candidate[] votes) {\n",
    "        return new Candidate(); // Return a new Candidate object no-one voted for.\n",
    "    }\n",
    "}"
   ]
  },
  {
   "cell_type": "markdown",
   "id": "6a14096a-0f2b-4baf-b439-d17ea9367688",
   "metadata": {},
   "source": [
    "## The Main Program\n",
    "\n",
    "A class A1 will be provided with a 'main' procedure that calls everyone's vote(), counts the objects returned and prints out the winner.\n",
    "\n",
    "Below is an example A1 you can use to test your contribution. \n",
    "You will have to edit one line in so that it works with your edited stub above called A1_/username/."
   ]
  },
  {
   "cell_type": "code",
   "execution_count": 6,
   "id": "94986fe6-d4ac-4984-82dc-48dd37b8573d",
   "metadata": {},
   "outputs": [],
   "source": [
    "class A1 {\n",
    "    public static void main(String[] args) {\n",
    "        \n",
    "        // Declare variable for holding winner.\n",
    "        Candidate winningCandidate = new Candidate();\n",
    "        \n",
    "        // Create arrray for holds votes cast.\n",
    "        Candidate[] votesCast = new Candidate[3];\n",
    "        \n",
    "        // Fill the array by calling everyone's vote().\n",
    "        votesCast[0] = A1_ac1234.vote(); // Replace ac1234 with your usename to match your stub above.\n",
    "        votesCast[1] = A1_ac1235.vote();\n",
    "        votesCast[2] = A1_ac1236.vote();\n",
    "        \n",
    "        // Count votes. (The real A1 will use a for-loop and count properly.)\n",
    "        if (votesCast[0] == votesCast[1])\n",
    "            winningCandidate = votesCast[0];\n",
    "        else if (votesCast[1] == votesCast[2])\n",
    "            winningCandidate = votesCast[1];\n",
    "        else if (votesCast[0] == votesCast[2])\n",
    "            winningCandidate = votesCast[2];\n",
    "        \n",
    "        // Print out the winner.\n",
    "        if (OfficialCandidate.officialCandidateToString(winningCandidate).equals(\"NaC\")) {\n",
    "            System.out.println(\"The winner is a write-in!\");\n",
    "            System.out.println(\"Candidate object: +\"+winningCandidate.toString());\n",
    "        }\n",
    "        else {\n",
    "            System.out.println(\"The winner is \" + \n",
    "                               OfficialCandidate.officialCandidateToString(winningCandidate) \n",
    "                               + \"!\");\n",
    "        }        \n",
    "    }\n",
    "}"
   ]
  },
  {
   "cell_type": "code",
   "execution_count": 7,
   "id": "99bd7d5e-a4b6-4925-958d-1b5b76d717b0",
   "metadata": {},
   "outputs": [
    {
     "name": "stdout",
     "output_type": "stream",
     "text": [
      "The winner is Utfur!\n"
     ]
    }
   ],
   "source": [
    "A1.main(new String[0]);"
   ]
  },
  {
   "cell_type": "markdown",
   "id": "150d9999-2453-408f-8eaa-85ac2d9f2ae5",
   "metadata": {},
   "source": [
    "## Hacker Point\n",
    "\n",
    "If the winner is a write-in, you all receive 1 hacker point (1% towards your final mark).\n",
    "\n",
    "It is up to everyone (or enough of you) to work out how to do this and to coordinate your contributions accordingly.\n",
    "\n",
    "Remember that each contribution is a single, correctly named file containing a single, correctly named class and you are not permitted to modify any other files on the repo. It is not difficult to get this Point, but you do have to coordinate."
   ]
  },
  {
   "cell_type": "code",
   "execution_count": null,
   "id": "281d825a-f421-424f-b9a9-a7f12cfdc7d0",
   "metadata": {},
   "outputs": [],
   "source": []
  }
 ],
 "metadata": {
  "kernelspec": {
   "display_name": "Java",
   "language": "java",
   "name": "java"
  },
  "language_info": {
   "codemirror_mode": "java",
   "file_extension": ".jshell",
   "mimetype": "text/x-java-source",
   "name": "Java",
   "pygments_lexer": "java",
   "version": "11.0.8+10-LTS"
  }
 },
 "nbformat": 4,
 "nbformat_minor": 5
}
