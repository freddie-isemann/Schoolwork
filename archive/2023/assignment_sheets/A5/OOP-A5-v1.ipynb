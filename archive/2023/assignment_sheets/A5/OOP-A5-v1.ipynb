{
 "cells": [
  {
   "cell_type": "markdown",
   "id": "508824ab-2d27-4676-ae92-3eb420819d18",
   "metadata": {},
   "source": [
    "# Assignment 5 - Curate a House\n",
    "\n",
    "Write a class House_/username/.java that assembles a collection of Room objects, instances of various Room_/other-username/ classes, and extends House, which implements the Visitable interface.\n",
    "\n",
    "A4 will be reopened with un-reviewed merging of all pull requests that pass Jenkins. This gives you a chance to finish/polish your contribution and/or respond to requests for small changes from people who might like to use your room in their house (and the Final Project Assessment will assess your contribution to this A4).\n",
    "\n",
    "Following the Big Merge of A5 on Friday, \n",
    "the updated versions of Room_/username/.java files \n",
    "from the reopened A4 will be added back into A5.\n",
    "\n",
    "See the [How to work on Assignment 5](OOP-A5-How-to-v1.ipynb) for tips on how to manage development of your House_/username/."
   ]
  },
  {
   "cell_type": "markdown",
   "id": "bb52fa1b-dd06-427d-a604-017673662c6f",
   "metadata": {},
   "source": [
    "## Your House\n",
    "\n",
    "Your House class will need instance variables for holding its rooms.\n",
    "\n",
    "The constructor for the your class will create instances of various Room_/other-username/ classes and assign them to these room variables.\n",
    "\n",
    "Your House's visit method will pass the Visitor it receives to the visit method of one of its Room objects. When the that room returns a Direction, your visit method uses this to determine which room to pass the visitor to next. And so on.\n",
    "\n",
    "You can decide what causes the visit to your house to end. For Example, leaving a particular room in a particular direction could count as leaving the house and result in your House's visit method returning. Or leaving a Room with a paticular item or, if you include a hallway, that could provide a 'leave house' option. It is not too important what direction your house's visit method returns.\n",
    "\n",
    "Using a one or two dimensional array of Room objects may be simplest for larger houses. Or for a two or three room house, individual variables may be simpler. It is up to you.\n",
    "\n",
    "**Your house must contain at least two rooms you did not write yourself.**"
   ]
  },
  {
   "cell_type": "markdown",
   "id": "72dd41d4-a9d2-401a-acce-137feb56afe2",
   "metadata": {},
   "source": [
    "## Layout\n",
    "\n",
    "Your house should have a fixed layout: \n",
    "leaving a particular room in a particular direction should always lead to the same place.\n",
    "\n",
    "It may help to draw a picture with arrows showing which direction out of one room leads to which direction entering another.\n",
    "    \n",
    "The layout does not have to be geometrically realistic, just fixed.\n",
    "\n",
    "If you use a one or two dimensional array,\n",
    "you may opt for a 'wrap-around' topology \n",
    "in which leaving an East-most room to the East takes the visitor back round to entering a West-most room from the West.  "
   ]
  },
  {
   "cell_type": "markdown",
   "id": "18034705-e7fa-45d0-9513-95f1eae94a32",
   "metadata": {},
   "source": [
    "## Between Rooms\n",
    "\n",
    "You may include 'hallways' or other interstitial places that allow visitors to do things as they pass from one room to another in your house,\n",
    "```\n",
    "...\n",
    "Do you a) stoke the fire b) take the poker c) look around?\n",
    "> c\n",
    "You notice a door behind a curtain.\n",
    "Do you a) go through the door or b) go back the way you came?\n",
    "> a\n",
    "You emerge into a hall.\n",
    "You you have 34 gold pieces.\n",
    "Would you like to a) continue to the next room or b) leave the house?\n",
    "> b\n",
    "Goodbye!\n",
    "```\n",
    "or you may pass visitors on directly from one room to the next. \n",
    "Likewise, you may include a 'garden' surrounding the house.\n",
    "```\n",
    "...\n",
    "Do you a) try to break the door down b) climb out the window.\n",
    "> b\n",
    "You are out in the garden.\n",
    "Would like to a) re-enter the front of the house from the South or b) leave the house?\n",
    "> a\n",
    "You are in a brightly lit parlour. There is a fire burning in the fire place.\n",
    "Do you a) stoke the fire b) take the poker c) look around?\n",
    "> b\n",
    "You are being offered: Iron Poker\n",
    "Do you accept (y/n)?\n",
    "> y\n",
    "You are in a brightly lit parlour. There is a fire burning in the fire place.\n",
    "Do you a) stoke the fire b) take the poker c) look around?\n",
    "...\n",
    "```\n"
   ]
  },
  {
   "cell_type": "code",
   "execution_count": null,
   "id": "6bc127e6-7ba8-4552-9169-068fdb4333dd",
   "metadata": {},
   "outputs": [],
   "source": []
  }
 ],
 "metadata": {
  "kernelspec": {
   "display_name": "Java",
   "language": "java",
   "name": "java"
  },
  "language_info": {
   "codemirror_mode": "java",
   "file_extension": ".jshell",
   "mimetype": "text/x-java-source",
   "name": "Java",
   "pygments_lexer": "java",
   "version": "11.0.8+10-LTS"
  }
 },
 "nbformat": 4,
 "nbformat_minor": 5
}
