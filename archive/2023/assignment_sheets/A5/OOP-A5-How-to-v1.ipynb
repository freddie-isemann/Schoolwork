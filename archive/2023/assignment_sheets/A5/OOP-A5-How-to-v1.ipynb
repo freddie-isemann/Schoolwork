{
 "cells": [
  {
   "cell_type": "markdown",
   "id": "e8b8e5ef-ca1f-4266-bad8-b84b0de7c494",
   "metadata": {},
   "source": [
    "# How to work on A5\n",
    "\n",
    "This is about how to work on your House class. If you want to add/change your Room class on A5 you **must** do so on a separate branch. See Updating your Room below."
   ]
  },
  {
   "cell_type": "markdown",
   "id": "4d19e888-4b2a-4946-ab76-6e8cee844c61",
   "metadata": {},
   "source": [
    "## Clone the repo and create a new branch\n",
    "\n",
    "Create a new directory, cd into it and clone A5.\n",
    "\n",
    "Create a new branch (see git lab) called something like `/username/-house-work`.\n",
    "\n",
    "Then cd into contributions/ and compile everything by doing\n",
    "```\n",
    "> javac *.java\n",
    "```\n",
    "The .class files will be ignored by git. Check that things work by running the Room testing program.\n",
    "```\n",
    "> java HouseThatTestsOneRoom\n",
    "```\n",
    "Play-test some rooms and check yours is working correctly."
   ]
  },
  {
   "cell_type": "markdown",
   "id": "475d9dc9-66a5-4cfd-8909-1ead8ebb7642",
   "metadata": {},
   "source": [
    "## Write a stub \n",
    "\n",
    "Double check you are on your House branch with `git status`.\n",
    "\n",
    "Write a House stub (with a visit that just returns the Direction it is given) \n",
    "that compiles and create a pull request for your House branch.\n",
    "\n",
    "Check Jenkins is happy.\n",
    "If at any point your branch shows as out of date, **do not click Update!**\n",
    "First read about rebasing in the A4 README, \n",
    "then rebase your branch. \n",
    "This will trigger another Jenkins check."
   ]
  },
  {
   "cell_type": "markdown",
   "id": "aca6c7c1-f0e4-4604-b688-1b8afffa19fb",
   "metadata": {},
   "source": [
    "## Write all your code in your House class\n",
    "\n",
    "Jenkins limits you to one file and so you should put all your House code in your house class.\n",
    "\n",
    "So put test code in you House class as well as any helper classes."
   ]
  },
  {
   "cell_type": "markdown",
   "id": "a91492c9-4422-482c-9741-775afd5482d5",
   "metadata": {},
   "source": [
    "### Write a main in your House class for testing\n",
    "\n",
    "To test your House class, write a simple main that creates an instance of your class and an instance of `IOVisitor` and calls you house's visit method. THen you can test your House_/username/ by doing\n",
    "```\n",
    "java House_/username/\n",
    "```\n",
    "and there is no need for a separate TestHouse class."
   ]
  },
  {
   "cell_type": "markdown",
   "id": "2e6e3ec7-c2c3-4cf8-933e-75178c4af5be",
   "metadata": {},
   "source": [
    "### Local classes in your House class\n",
    "\n",
    "If you would like to write house code that uses your own helper classes, you can declare static classes within your House class like so.\n",
    "```\n",
    "class House_/username/ extends House {\n",
    "\n",
    "  static class MyOwnUsefulClass {\n",
    "   ...\n",
    "  }\n",
    "  \n",
    "  static class AnotherHelpfulClass {\n",
    "   ...\n",
    "  }\n",
    "  \n",
    "  Direction visit (...) {\n",
    "   ...\n",
    "    MyOwnUsefulClass thingy = new MyOwnUsefulClass(...);\n",
    "   ...\n",
    "  }  \n",
    "}\n",
    "```"
   ]
  },
  {
   "cell_type": "markdown",
   "id": "ac4cd9ee-0f75-4e1a-99dc-db41c5391c37",
   "metadata": {},
   "source": [
    "## Decide on an architecture for your house\n",
    "\n",
    "Your House will need instance variables for holding its room objects. These can be separate Room variables or an array (1D or 2D) of Room objects.\n",
    "\n",
    "Draw a picture and think about which room will be visited next if a particular room's visit method returns a particular direction."
   ]
  },
  {
   "cell_type": "markdown",
   "id": "cbab0d51-8b95-443e-a97c-c6234158baf0",
   "metadata": {},
   "source": [
    "## Write a main loop\n",
    "\n",
    "Unlike your Room class, which should not keep a visitor too long and should have a DAG shaped control flow using if-else and/or switch statements, you House class should allow a visitor to wander indefinitely.\n",
    "\n",
    "The standard way to write a game/simulation like this is to have a so-called 'main loop'. \n",
    "Your visit method has a local variable to keep track of the location of its visitor.\n",
    "When the visit method is called this is set up and a while loop is entered. \n",
    "In the loop we\n",
    "\n",
    "- call the appropriate room's visit method depending on the current location of the visitor.\n",
    "- when the call to the room's visit methods returns a direction, this is used to change the current location for when the loop repeats.\n",
    "\n",
    "You have to decide what breaks the loop. Maybe leaving a particular room in a particular direction sets a flag that stops the while. Or for some special locations, instead of passing the visitor to a room's visit method, your code can interact directly with the visitor object, telling it it is 'in the hallway', for example, and asking if it wants to leave the house or carry on in some direction or into some particular room/location.\n",
    "\n",
    "**Do not loop using recursion, calling your House's visit from within its visit.** This is not what recursion is for (recursion is for traversing well-founded data structures while storing intermediate values on the stack)."
   ]
  },
  {
   "cell_type": "markdown",
   "id": "4f50d86f-3731-47e7-9e9d-a6bbad28fbee",
   "metadata": {},
   "source": [
    "## Work incrementally\n",
    "\n",
    "Each time you get your House compiling and running (using its main), commit the changes.\n",
    "\n",
    "Frequently push your branch to GitHub and confirm that Jenkins also likes the commits.\n",
    "\n",
    "By always having something that both compiles locally and passes Jenkins and by making small changes, when there is a problem with a change, you know where to look."
   ]
  },
  {
   "cell_type": "markdown",
   "id": "50d4af20-b8fd-4110-85aa-c7393196d961",
   "metadata": {},
   "source": [
    "# How to update your Room class on A5\n",
    "\n",
    "You can add/change your Room class on A5, but you must do so on a separate branch because Jenkins only accepts pull requests that affect a single file (all commits on branch-to-be-merged add/change the same file)."
   ]
  },
  {
   "cell_type": "markdown",
   "id": "eba6cd3b-8521-4d0b-bcac-c8aeb93627ae",
   "metadata": {},
   "source": [
    "## Create a new branch for working on your Room\n",
    "\n",
    "Switch to branch main (`git checkout main`) and create a new branch named something like `/username/-room-work`. **Do not create a new banch based on on your House branch!** Be sure to first switch to main before creating your branch.\n",
    "\n",
    "When you are on this new branch be careful not to change you House class! You can see what branch you are on by doing `git status`, which also shows what files have been changed. Only one file should show as changed."
   ]
  },
  {
   "cell_type": "markdown",
   "id": "d504f100-e370-4b9c-a9ff-f2b3d0d66cfd",
   "metadata": {},
   "source": [
    "## Create your Room if necessary\n",
    "\n",
    "```\n",
    "> touch Room_/username/.java\n",
    "> git add Room_/username/.java\n",
    "```"
   ]
  },
  {
   "cell_type": "markdown",
   "id": "7c73bff3-1873-42c1-8a8d-e5a4afd660bd",
   "metadata": {},
   "source": [
    "## Or change your Room \n",
    "\n",
    "Edit, compile, test, etc.\n",
    "\n",
    "Put any code for testing your Room class in a main in your Room class. So you can test by doing \n",
    "```\n",
    "> java Room_/username/\n",
    "```\n",
    "and Jenkins will be happy with just one file changed."
   ]
  },
  {
   "cell_type": "markdown",
   "id": "e03d3ed7-6f41-4e0e-88d8-cfc7aac3d1fb",
   "metadata": {},
   "source": [
    "## Push your Room branch back to GitHub\n",
    "\n"
   ]
  },
  {
   "cell_type": "markdown",
   "id": "956fd309-dde9-40cb-a376-fb24f959012b",
   "metadata": {},
   "source": [
    "## Merge the commits on your Room branch"
   ]
  },
  {
   "cell_type": "markdown",
   "id": "444f41ca-e9f5-4401-b6d5-0b45b92d2c4d",
   "metadata": {},
   "source": [
    "## Switch back to your House branch"
   ]
  },
  {
   "cell_type": "markdown",
   "id": "67b1c84d-d6eb-4d92-bc18-80b39c155389",
   "metadata": {},
   "source": [
    "## Pull the latest version of branch main\n",
    "\n",
    "This will include your changes to your Room.\n",
    "\n",
    "When git says you need to use config to say how to merge the commits from main, configure for rebasing so that your House branch still shows as changing just one file (normal merging will show more than one file changed and Jenkins will block any merge back to main)."
   ]
  },
  {
   "cell_type": "markdown",
   "id": "8ea427a2-7311-41ae-a36a-b29b54a9c564",
   "metadata": {},
   "source": [
    "## Go back to working on your House\n",
    "\n"
   ]
  },
  {
   "cell_type": "code",
   "execution_count": null,
   "id": "d20f8f76-a3bb-4f5b-90ce-c8217b044d2b",
   "metadata": {},
   "outputs": [],
   "source": []
  }
 ],
 "metadata": {
  "kernelspec": {
   "display_name": "Java",
   "language": "java",
   "name": "java"
  },
  "language_info": {
   "codemirror_mode": "java",
   "file_extension": ".jshell",
   "mimetype": "text/x-java-source",
   "name": "Java",
   "pygments_lexer": "java",
   "version": "11.0.8+10-LTS"
  }
 },
 "nbformat": 4,
 "nbformat_minor": 5
}
