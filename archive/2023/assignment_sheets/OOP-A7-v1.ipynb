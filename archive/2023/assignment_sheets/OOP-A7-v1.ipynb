{
 "cells": [
  {
   "cell_type": "markdown",
   "id": "af75ab60-fe96-4f59-b8f2-d8a102cca58c",
   "metadata": {},
   "source": [
    "# Assignment 7 - Add a GUI to Assignment 3\n",
    "\n",
    "For your Mini-project (including Assignments 6 - 8) \n",
    "you will be writing a simple Java application using Java collection classes, Swing and code from the Class Projects.\n",
    "[See the Mini-project section on QMPlus](https://qmplus.qmul.ac.uk/course/view.php?id=15546#section-44).\n",
    "\n",
    "Your second assignment is to create a repository on your QM GitHub account named (exactly) \n",
    "```\n",
    "A7-/username/\n",
    "```\n",
    "with code for a very basic Swing front-end to the main you wrote for Assignment 3.\n",
    "\n",
    "Your repo should have visibility 'Public'.\n",
    "\n",
    "Your code should be part of an IntelliJ project that can be cloned, built and run on Ubuntu in the ITL using the IntelliJ option 'Get from VCS'.\n",
    "For this, it seems you will need to **use JDK 17.**\n",
    "\n",
    "Your project should include all the Candidate classes in A3 (you can obtain a zip archive of the entire A3 repo form the A3 Code menu) \n",
    "and your app should run elections like the main you contributed to A3.\n",
    "\n",
    "Your code should be in a package called \n",
    "`OOP.<username>.A7`\n",
    "\n",
    "Your app should have an interface that allows the user to choose an election type and/or candidates and to run an election, displaying the result(s).\n",
    "\n",
    "Your code should catch any exceptions thrown by calls to ill-behaved Candidate methods so that they do not spoil the election.\n",
    "\n",
    "For A7 you do not need to use collection classes, \n",
    "but for the final Mini-project you do, \n",
    "so it may help to start using them on A7.\n",
    "\n",
    "You may choose to use IntelliJ on your own machine, but you will have to support yourself \n",
    "(and each other via the [IntelliJ Forum](https://qmplus.qmul.ac.uk/mod/forum/view.php?id=2214001)) in case of problems. \n",
    "Evaluation of your mini-project will be done via IntelliJ on Ubuntu in the ITL."
   ]
  },
  {
   "cell_type": "code",
   "execution_count": null,
   "id": "c63fd9b8-21e6-445a-ace2-cb011c727c7a",
   "metadata": {},
   "outputs": [],
   "source": []
  }
 ],
 "metadata": {
  "kernelspec": {
   "display_name": "Java",
   "language": "java",
   "name": "java"
  },
  "language_info": {
   "codemirror_mode": "java",
   "file_extension": ".jshell",
   "mimetype": "text/x-java-source",
   "name": "Java",
   "pygments_lexer": "java",
   "version": "11.0.8+10-LTS"
  }
 },
 "nbformat": 4,
 "nbformat_minor": 5
}
