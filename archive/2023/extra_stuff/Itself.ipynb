{
 "cells": [
  {
   "cell_type": "code",
   "execution_count": 2,
   "id": "bd3a7a84-a3b7-4506-aa88-cc8a6c86ecd5",
   "metadata": {},
   "outputs": [
    {
     "name": "stdout",
     "output_type": "stream",
     "text": [
      "public static void itself1(){String code = \" public static void itself1(){String code = %c %s %c ; char dq = 34; code = String.format(code, dq, code, dq); System.out.println(code); } itself(); \" ; char dq = 34; code = String.format(code, dq, code, dq); System.out.println(code); } itself();\n"
     ]
    }
   ],
   "source": [
    "public static void itself(){\n",
    "    \n",
    "    String code = \"public static void itself1(){String code = %c %s %c ; char dq = 34; code = String.format(code, dq, code, dq); System.out.println(code); } itself();\";\n",
    "    \n",
    "    char dq = 34;\n",
    "    code = String.format(code, dq, code, dq);\n",
    "    \n",
    "    System.out.println(code);\n",
    "} itself();"
   ]
  },
  {
   "cell_type": "code",
   "execution_count": 3,
   "id": "3a595db5-a036-4ab3-97e2-73553745fbb7",
   "metadata": {},
   "outputs": [
    {
     "name": "stdout",
     "output_type": "stream",
     "text": [
      "public static void itself1(){String code = \" public static void itself1(){String code = %c %s %c ; char dq = 34; code = String.format(code, dq, code, dq); System.out.println(code); } itself(); \" ; char dq = 34; code = String.format(code, dq, code, dq); System.out.println(code); } itself();\n"
     ]
    }
   ],
   "source": [
    "public static void itself1(){String code = \" public static void itself1(){String code = %c %s %c ; char dq = 34; code = String.format(code, dq, code, dq); System.out.println(code); } itself(); \" ; char dq = 34; code = String.format(code, dq, code, dq); System.out.println(code); } itself();\n"
   ]
  },
  {
   "cell_type": "code",
   "execution_count": null,
   "id": "07460496-5689-4dc8-96a8-276ce5e07010",
   "metadata": {},
   "outputs": [],
   "source": []
  }
 ],
 "metadata": {
  "kernelspec": {
   "display_name": "Java",
   "language": "java",
   "name": "java"
  },
  "language_info": {
   "codemirror_mode": "java",
   "file_extension": ".jshell",
   "mimetype": "text/x-java-source",
   "name": "Java",
   "pygments_lexer": "java",
   "version": "11.0.8+10-LTS"
  }
 },
 "nbformat": 4,
 "nbformat_minor": 5
}
