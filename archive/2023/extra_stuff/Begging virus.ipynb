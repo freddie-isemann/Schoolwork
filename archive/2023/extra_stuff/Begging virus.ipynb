{
 "cells": [
  {
   "cell_type": "code",
   "execution_count": 2,
   "id": "59c94bdb-e442-4e60-afef-4636bc41032f",
   "metadata": {},
   "outputs": [
    {
     "name": "stdout",
     "output_type": "stream",
     "text": [
      "public static void virus(){\n",
      "    String code = \"public static void virus(){    String code = %c%s%c ;    char dq = 34, nl = 10, sc = 59, ob = 123, cb = 125;    String formattedCode = new String();    int i = 0;    while (i < code.length()) {        formattedCode += code.charAt(i);        char c = code.charAt(i);        if ( c == ob || c == cb || c == sc ) {            formattedCode += nl;        }        ++i;    }    String toAdd = %cplease, %s%c;    code = String.format(formattedCode, dq, code, dq, dq, toAdd, dq, toAdd);    System.out.println(code);}virus();// Please, %scopy all this into the pane below and run.\" ;\n",
      "    char dq = 34, nl = 10, sc = 59, ob = 123, cb = 125;\n",
      "    String formattedCode = new String();\n",
      "    int i = 0;\n",
      "    while (i < code.length()) {\n",
      "        formattedCode += code.charAt(i);\n",
      "        char c = code.charAt(i);\n",
      "        if ( c == ob || c == cb || c == sc ) {\n",
      "            formattedCode += nl;\n",
      "        }\n",
      "        ++i;\n",
      "    }\n",
      "    String toAdd = \"please, please, \";\n",
      "    code = String.format(formattedCode, dq, code, dq, dq, toAdd, dq, toAdd);\n",
      "    System.out.println(code);\n",
      "}\n",
      "virus();\n",
      "// Please, please, copy all this into the pane below and run.\n"
     ]
    }
   ],
   "source": [
    "public static void virus(){\n",
    "    String code = \"public static void virus(){    String code = %c%s%c ;    char dq = 34, nl = 10, sc = 59, ob = 123, cb = 125;    String formattedCode = new String();    int i = 0;    while (i < code.length()) {        formattedCode += code.charAt(i);        char c = code.charAt(i);        if ( c == ob || c == cb || c == sc ) {            formattedCode += nl;        }        ++i;    }    String toAdd = %cplease, %s%c;    code = String.format(formattedCode, dq, code, dq, dq, toAdd, dq, toAdd);    System.out.println(code);}virus();// Please, %scopy all this into the pane below and run.\" ;\n",
    "    char dq = 34, nl = 10, sc = 59, ob = 123, cb = 125;\n",
    "    String formattedCode = new String();\n",
    "    int i = 0;\n",
    "    while (i < code.length()) {\n",
    "        formattedCode += code.charAt(i);\n",
    "        char c = code.charAt(i);\n",
    "        if ( c == ob || c == cb || c == sc ) {\n",
    "            formattedCode += nl;\n",
    "        }\n",
    "        ++i;\n",
    "    }\n",
    "    String toAdd = \"please, \";\n",
    "    code = String.format(formattedCode, dq, code, dq, dq, toAdd, dq, toAdd);\n",
    "    System.out.println(code);\n",
    "}\n",
    "virus();\n",
    "// Please, copy all this into the pane below and run."
   ]
  },
  {
   "cell_type": "code",
   "execution_count": 3,
   "id": "7ffc0405-debf-4222-9543-089c19affa8b",
   "metadata": {},
   "outputs": [
    {
     "name": "stdout",
     "output_type": "stream",
     "text": [
      "public static void virus(){\n",
      "    String code = \"public static void virus(){    String code = %c%s%c ;    char dq = 34, nl = 10, sc = 59, ob = 123, cb = 125;    String formattedCode = new String();    int i = 0;    while (i < code.length()) {        formattedCode += code.charAt(i);        char c = code.charAt(i);        if ( c == ob || c == cb || c == sc ) {            formattedCode += nl;        }        ++i;    }    String toAdd = %cplease, %s%c;    code = String.format(formattedCode, dq, code, dq, dq, toAdd, dq, toAdd);    System.out.println(code);}virus();// Please, %scopy all this into the pane below and run.\" ;\n",
      "    char dq = 34, nl = 10, sc = 59, ob = 123, cb = 125;\n",
      "    String formattedCode = new String();\n",
      "    int i = 0;\n",
      "    while (i < code.length()) {\n",
      "        formattedCode += code.charAt(i);\n",
      "        char c = code.charAt(i);\n",
      "        if ( c == ob || c == cb || c == sc ) {\n",
      "            formattedCode += nl;\n",
      "        }\n",
      "        ++i;\n",
      "    }\n",
      "    String toAdd = \"please, please, please, \";\n",
      "    code = String.format(formattedCode, dq, code, dq, dq, toAdd, dq, toAdd);\n",
      "    System.out.println(code);\n",
      "}\n",
      "virus();\n",
      "// Please, please, please, copy all this into the pane below and run.\n"
     ]
    }
   ],
   "source": [
    "public static void virus(){\n",
    "    String code = \"public static void virus(){    String code = %c%s%c ;    char dq = 34, nl = 10, sc = 59, ob = 123, cb = 125;    String formattedCode = new String();    int i = 0;    while (i < code.length()) {        formattedCode += code.charAt(i);        char c = code.charAt(i);        if ( c == ob || c == cb || c == sc ) {            formattedCode += nl;        }        ++i;    }    String toAdd = %cplease, %s%c;    code = String.format(formattedCode, dq, code, dq, dq, toAdd, dq, toAdd);    System.out.println(code);}virus();// Please, %scopy all this into the pane below and run.\" ;\n",
    "    char dq = 34, nl = 10, sc = 59, ob = 123, cb = 125;\n",
    "    String formattedCode = new String();\n",
    "    int i = 0;\n",
    "    while (i < code.length()) {\n",
    "        formattedCode += code.charAt(i);\n",
    "        char c = code.charAt(i);\n",
    "        if ( c == ob || c == cb || c == sc ) {\n",
    "            formattedCode += nl;\n",
    "        }\n",
    "        ++i;\n",
    "    }\n",
    "    String toAdd = \"please, please, \";\n",
    "    code = String.format(formattedCode, dq, code, dq, dq, toAdd, dq, toAdd);\n",
    "    System.out.println(code);\n",
    "}\n",
    "virus();\n",
    "// Please, please, copy all this into the pane below and run."
   ]
  },
  {
   "cell_type": "code",
   "execution_count": 4,
   "id": "98f50c67-392d-4844-8ef8-3ed578f52335",
   "metadata": {},
   "outputs": [
    {
     "name": "stdout",
     "output_type": "stream",
     "text": [
      "public static void virus(){\n",
      "    String code = \"public static void virus(){    String code = %c%s%c ;    char dq = 34, nl = 10, sc = 59, ob = 123, cb = 125;    String formattedCode = new String();    int i = 0;    while (i < code.length()) {        formattedCode += code.charAt(i);        char c = code.charAt(i);        if ( c == ob || c == cb || c == sc ) {            formattedCode += nl;        }        ++i;    }    String toAdd = %cplease, %s%c;    code = String.format(formattedCode, dq, code, dq, dq, toAdd, dq, toAdd);    System.out.println(code);}virus();// Please, %scopy all this into the pane below and run.\" ;\n",
      "    char dq = 34, nl = 10, sc = 59, ob = 123, cb = 125;\n",
      "    String formattedCode = new String();\n",
      "    int i = 0;\n",
      "    while (i < code.length()) {\n",
      "        formattedCode += code.charAt(i);\n",
      "        char c = code.charAt(i);\n",
      "        if ( c == ob || c == cb || c == sc ) {\n",
      "            formattedCode += nl;\n",
      "        }\n",
      "        ++i;\n",
      "    }\n",
      "    String toAdd = \"please, please, please, \";\n",
      "    code = String.format(formattedCode, dq, code, dq, dq, toAdd, dq, toAdd);\n",
      "    System.out.println(code);\n",
      "}\n",
      "virus();\n",
      "// Please, please, please, copy all this into the pane below and run.\n"
     ]
    }
   ],
   "source": [
    "public static void virus(){\n",
    "    String code = \"public static void virus(){    String code = %c%s%c ;    char dq = 34, nl = 10, sc = 59, ob = 123, cb = 125;    String formattedCode = new String();    int i = 0;    while (i < code.length()) {        formattedCode += code.charAt(i);        char c = code.charAt(i);        if ( c == ob || c == cb || c == sc ) {            formattedCode += nl;        }        ++i;    }    String toAdd = %cplease, %s%c;    code = String.format(formattedCode, dq, code, dq, dq, toAdd, dq, toAdd);    System.out.println(code);}virus();// Please, %scopy all this into the pane below and run.\" ;\n",
    "    char dq = 34, nl = 10, sc = 59, ob = 123, cb = 125;\n",
    "    String formattedCode = new String();\n",
    "    int i = 0;\n",
    "    while (i < code.length()) {\n",
    "        formattedCode += code.charAt(i);\n",
    "        char c = code.charAt(i);\n",
    "        if ( c == ob || c == cb || c == sc ) {\n",
    "            formattedCode += nl;\n",
    "        }\n",
    "        ++i;\n",
    "    }\n",
    "    String toAdd = \"please, please, \";\n",
    "    code = String.format(formattedCode, dq, code, dq, dq, toAdd, dq, toAdd);\n",
    "    System.out.println(code);\n",
    "}\n",
    "virus();\n",
    "// Please, please, copy all this into the pane below and run."
   ]
  },
  {
   "cell_type": "code",
   "execution_count": null,
   "id": "ce51ca12-382f-4e87-acf0-dd63e85a40df",
   "metadata": {},
   "outputs": [],
   "source": []
  }
 ],
 "metadata": {
  "kernelspec": {
   "display_name": "Java",
   "language": "java",
   "name": "java"
  },
  "language_info": {
   "codemirror_mode": "java",
   "file_extension": ".jshell",
   "mimetype": "text/x-java-source",
   "name": "Java",
   "pygments_lexer": "java",
   "version": "11.0.8+10-LTS"
  }
 },
 "nbformat": 4,
 "nbformat_minor": 5
}
