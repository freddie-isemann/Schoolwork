{
 "cells": [
  {
   "cell_type": "markdown",
   "id": "0c761af2-f82c-4e7c-b02e-df2bd6a50ae4",
   "metadata": {},
   "source": [
    "# Exercise Sheet 5"
   ]
  },
  {
   "cell_type": "markdown",
   "id": "f3e9f37f-1930-47ce-b0e1-1e1dc731c98d",
   "metadata": {},
   "source": [
    "We will write some simple classes with getter, setter and other accessor methods. "
   ]
  },
  {
   "cell_type": "markdown",
   "id": "d274497b-9ab9-458a-99d8-b5b9ad654c4a",
   "metadata": {},
   "source": [
    "## Exercise 1"
   ]
  },
  {
   "cell_type": "markdown",
   "id": "87dcebe8-c961-48db-b843-88327c2dda4a",
   "metadata": {},
   "source": [
    "In classical physics \"work\" is defined to be *the application of force along a displacement*. It has many units; The SI unit is joule (J) or newton * meter. There are other units, such as foot * pound, Calorie (=kcal), etc. \n",
    "\n",
    "Write a class named Work, that has a private field \"quantity\" of type double, that keeps the quantity of work in newton * meter. Write getter and setter methods for this field. Also write getter and setter methods for foot * pound, and calorie (but do not store these values as fields). Consult their wikipedia pages to see how you can convert from one unit to another. "
   ]
  },
  {
   "cell_type": "code",
   "execution_count": 1,
   "id": "06b7e7b6-cfad-4eaa-8b9f-9e839107135a",
   "metadata": {},
   "outputs": [],
   "source": [
    "class Work {\n",
    "    // this is the quantity stored in the joule (newton * meter) units.\n",
    "    private double quantity = 0;\n",
    "    \n",
    "    public void set_joule(double x) {\n",
    "        // ...\n",
    "    }\n",
    "    public double get_joule() {\n",
    "        // ...\n",
    "        return 0;\n",
    "    }\n",
    "    // the same for the two other units. \n",
    "}"
   ]
  },
  {
   "cell_type": "code",
   "execution_count": 2,
   "id": "976e4f6a-2a97-43de-bf38-f2f88a343744",
   "metadata": {
    "tags": []
   },
   "outputs": [
    {
     "ename": "CompilationException",
     "evalue": "",
     "output_type": "error",
     "traceback": [
      "\u001b[1m\u001b[30m|   \u001b[1m\u001b[30m\u001b[0m\u001b[1m\u001b[30m\u001b[41mw.set_foot_pound\u001b[0m\u001b[1m\u001b[30m(100*100);\u001b[0m",
      "\u001b[1m\u001b[31mcannot find symbol\u001b[0m",
      "\u001b[1m\u001b[31m  symbol:   method set_foot_pound(int)\u001b[0m",
      ""
     ]
    }
   ],
   "source": [
    "// Write some tests here to make sure that your class is working correctly. \n",
    "Work w = new Work(); \n",
    "w.set_foot_pound(100*100); \n",
    "System.out.println(\"You need to eat at least \" + w.get_Calorie() + \n",
    "                   \" calories to be able to lift an object of 100 pounds up 100 feet\");"
   ]
  },
  {
   "cell_type": "markdown",
   "id": "76961db6-d084-42da-b700-fe00bdff0c56",
   "metadata": {},
   "source": [
    "## Exercise 2"
   ]
  },
  {
   "cell_type": "markdown",
   "id": "7e6e4d73-b2e9-4d1b-bdc7-c15f3095801f",
   "metadata": {},
   "source": [
    "Similar to the first exercise, we will write a simple class with getter and setter methods. This time, we will implement two classes, for a *circle*. A circle on the plane can be uniquely identified by any of the following properties: its radius, diameter, circumference, or surface area. \n",
    "\n",
    "First write the class CircleA, that stores just the radius, as a private field. This class should provide getter and setter methods for all the properties above. I.e. for the radius, diameter, circumference and surface area."
   ]
  },
  {
   "cell_type": "code",
   "execution_count": 3,
   "id": "61601790-a473-4bc0-965b-4ada38b3cfbf",
   "metadata": {},
   "outputs": [],
   "source": [
    "class CircleA {\n",
    "    // ...\n",
    "}"
   ]
  },
  {
   "cell_type": "code",
   "execution_count": 8,
   "id": "4bf56bc9-44f9-415f-b136-0d8e980019db",
   "metadata": {},
   "outputs": [],
   "source": [
    "// Test your class here. E.g.\n",
    "CircleA c = new CircleA();\n",
    "c.set_radius(5);\n",
    "System.out.println(\"A circle of radius 5 has a surface area of approximately \" + c.get_area()); \n",
    "\n",
    "c.set_area(5);\n",
    "System.out.println(\"But if you want a circle of area 5, it will have to be of approximate radius \" + c.get_radius());"
   ]
  },
  {
   "cell_type": "markdown",
   "id": "940ebd26-2d7e-4a0c-9261-1c38a1914df6",
   "metadata": {},
   "source": [
    "Write also another implementation of circle, called CircleB. It is the same as the one you wrote above, but instead of storing only the radius, store only the circumference. "
   ]
  },
  {
   "cell_type": "code",
   "execution_count": 9,
   "id": "a4dfec19-e964-42ea-b8b8-cf37ab4290c0",
   "metadata": {},
   "outputs": [],
   "source": [
    "class CircleB {\n",
    "    // ...\n",
    "}"
   ]
  },
  {
   "cell_type": "code",
   "execution_count": 10,
   "id": "bc041956-b99e-4e0d-bfa6-12eb5902fe18",
   "metadata": {},
   "outputs": [],
   "source": [
    "// Tests for CircleB"
   ]
  },
  {
   "cell_type": "markdown",
   "id": "40a5457c-61cf-4ec6-bde3-5177f2c6e8be",
   "metadata": {},
   "source": [
    "## Exercise 3"
   ]
  },
  {
   "cell_type": "markdown",
   "id": "29426daf-2922-480d-bac4-d713438d58d8",
   "metadata": {},
   "source": [
    "In this class we will implement a **Stack** of Strings class. A stack is a FILO (First In Last Out) data structure, that has two methods: *push* and *pop*. It works as follows. \n",
    "\n",
    "In essence a stack of strings is a list of strings. For example [\"string1\", \"string2\", \"string3\"]. The push method adds to the list, and the pop method removes from it, in a way that is made clear from the following example.\n",
    "\n",
    "At first the stack is empty: \n",
    "\n",
    "[]\n",
    "\n",
    "If we do a push(\"a\"), it becomes\n",
    "\n",
    "[\"a\"]\n",
    "\n",
    "If we do again push(\"b\"), it becomes\n",
    "\n",
    "[\"a\", \"b\"]\n",
    "\n",
    "If we do x = pop(); it becomes\n",
    "\n",
    "[\"a\"], \n",
    "\n",
    "and the variable x takes the value \"b\"."
   ]
  },
  {
   "cell_type": "markdown",
   "id": "089c6132-6608-4e62-a504-13a64859c3f8",
   "metadata": {},
   "source": [
    "Implement a class named Stack, that has: \n",
    "1. As a private variable holding an array of strings\n",
    "1. A private variable that points to the next free place in the array (the top of the stack)\n",
    "2. A constructor Stack(int n) that initializes the array to one of size 'n'. \n",
    "3. A method public boolean push(String s) that pushes 's' to the array if the latter is not full, and returns true. Or returns false if the array is full. \n",
    "4. A method public String pop(), that pops the top string if the array is not empty, and returns null if it is empty."
   ]
  },
  {
   "cell_type": "code",
   "execution_count": 11,
   "id": "89703483-eeca-4254-83c1-fc04c6bf0332",
   "metadata": {},
   "outputs": [],
   "source": [
    "class Stack {\n",
    "    //...\n",
    "}"
   ]
  },
  {
   "cell_type": "code",
   "execution_count": null,
   "id": "fed1ef68-bebf-4b4b-83ed-fca171cd0d38",
   "metadata": {},
   "outputs": [],
   "source": [
    "// Write some code here to test your stack. \n",
    "Stack s = new Stack(5);\n",
    "s.push(\"a\"); s.push(\"b\"); s.push(\"c\");\n",
    "for(int i = 0; i < 3 ; i++) System.out.println(s.pop());"
   ]
  },
  {
   "cell_type": "markdown",
   "id": "e3f2f1eb-dffd-460d-943e-34e3f17e0f7e",
   "metadata": {},
   "source": [
    "## Exercise 4 (🌶️)"
   ]
  },
  {
   "cell_type": "markdown",
   "id": "f71ec8ef-3296-4ee9-8a4b-f085bbe78685",
   "metadata": {},
   "source": [
    "Write another version of the `Stack` class, where you implement the method push in another way: When push(s) is called and there is no space in the array, you make space, i.e. you create a new, larger, array. You copy the values, and push 's' to it. Push should now always return true."
   ]
  },
  {
   "cell_type": "code",
   "execution_count": 16,
   "id": "0d3db149-0f75-4272-8f76-162a654fea79",
   "metadata": {},
   "outputs": [],
   "source": [
    "class Stack {\n",
    "    // ...\n",
    "}"
   ]
  },
  {
   "cell_type": "code",
   "execution_count": null,
   "id": "98449793-a2cd-46bb-8774-5da60ae1a2ce",
   "metadata": {},
   "outputs": [],
   "source": [
    "// Try it out. \n",
    "Stack s = new Stack(1); \n",
    "\n",
    "System.out.println(\"Numbers in reverse\");\n",
    "for(int i = 0; i < 10; i++)\n",
    "    s.push(i);\n",
    "for(int i = 0; i < 10; i++)\n",
    "    System.out.println(s.pop());\n"
   ]
  },
  {
   "cell_type": "markdown",
   "id": "b5e0a1c1-f3a6-47b1-b2fe-57869efa39c8",
   "metadata": {},
   "source": [
    "## Exercise 5 (Extra 🌶️)\n",
    "    \n",
    "Add a zero-argument constructor to your Stack class that creates a stack whose initial array is the size of an 'average stack', where the average is based on previous stack object use. \n",
    "\n",
    "Use \n",
    "a private instance variable to keep the high-tide (largest number of items held) of each stack\n",
    "and use private static variables to keep statistics of stack high-tides (number of stacks collected, sum of hide-tides of collected Stacks). \n",
    "Override `finalize()` to update the statistics each time a Stack is collected."
   ]
  },
  {
   "cell_type": "code",
   "execution_count": 12,
   "id": "1da10bfd-99cd-4b7a-8e04-69de466aae35",
   "metadata": {},
   "outputs": [],
   "source": [
    "//  Call System.gc() to prompt the garbage collector when testing"
   ]
  },
  {
   "cell_type": "code",
   "execution_count": null,
   "id": "153554b7-7a8a-4a90-a2f4-30079b57fad3",
   "metadata": {},
   "outputs": [],
   "source": []
  }
 ],
 "metadata": {
  "kernelspec": {
   "display_name": "Java",
   "language": "java",
   "name": "java"
  },
  "language_info": {
   "codemirror_mode": "java",
   "file_extension": ".jshell",
   "mimetype": "text/x-java-source",
   "name": "Java",
   "pygments_lexer": "java",
   "version": "11.0.8+10-LTS"
  }
 },
 "nbformat": 4,
 "nbformat_minor": 5
}
