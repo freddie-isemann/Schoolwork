{
 "cells": [
  {
   "cell_type": "markdown",
   "id": "71f1fb63-26fa-42be-b74c-091437a0c327",
   "metadata": {
    "tags": []
   },
   "source": [
    "# Exercise Sheet 1"
   ]
  },
  {
   "cell_type": "markdown",
   "id": "afc6f0c9-dfa3-44c1-873f-64371b3d169b",
   "metadata": {},
   "source": [
    "For every exercise, write down your answer on a sheet of paper, and only then test whether it was correct. "
   ]
  },
  {
   "cell_type": "markdown",
   "id": "b264dcb0-46bb-4e4b-8125-fec462a38738",
   "metadata": {},
   "source": [
    "## Identity"
   ]
  },
  {
   "cell_type": "markdown",
   "id": "35f15ed2-e9e8-49ce-9f96-736d8a019d8d",
   "metadata": {
    "tags": []
   },
   "source": [
    "### Exercise 1.  "
   ]
  },
  {
   "cell_type": "code",
   "execution_count": 3,
   "id": "c1f8a309-f3d8-4e52-aede-46acaf9cc929",
   "metadata": {},
   "outputs": [],
   "source": [
    "class A {}\n",
    "\n",
    "A a1 = new A(); \n",
    "A a2;\n",
    "A a3 = new A();\n",
    "A a4 = a2;"
   ]
  },
  {
   "cell_type": "markdown",
   "id": "54c2f187-8cda-48be-9a78-57a12974c910",
   "metadata": {},
   "source": [
    "After this code is run, which among the variables a1, ... ,a4 are equal to one another? (For example, clearly a4 and a2 will be equal to one another). "
   ]
  },
  {
   "cell_type": "code",
   "execution_count": 4,
   "id": "fcba0655-92c9-499a-8c49-3b344ffa9c3a",
   "metadata": {},
   "outputs": [
    {
     "data": {
      "text/plain": [
       "false"
      ]
     },
     "execution_count": 4,
     "metadata": {},
     "output_type": "execute_result"
    }
   ],
   "source": [
    "// Write here some code to test whether your answer was correct.\n",
    "a1 == a2;"
   ]
  },
  {
   "cell_type": "markdown",
   "id": "c471550d-8e9a-4f7f-8e67-ca8deb267e12",
   "metadata": {
    "tags": []
   },
   "source": [
    "### Exercise 2."
   ]
  },
  {
   "cell_type": "code",
   "execution_count": 9,
   "id": "97e3a614-d53d-4241-af7a-a933edc84cb3",
   "metadata": {},
   "outputs": [],
   "source": [
    "A b1;\n",
    "A b2;"
   ]
  },
  {
   "cell_type": "markdown",
   "id": "2a334173-ccac-4e9f-abf7-c027322262cb",
   "metadata": {},
   "source": [
    "Is b1 equal to b2? Why or why not? "
   ]
  },
  {
   "cell_type": "code",
   "execution_count": 11,
   "id": "d4d8c860-1512-4eed-add0-21d2ea779397",
   "metadata": {},
   "outputs": [],
   "source": [
    "// Write here some code to test whether your answer was correct. "
   ]
  },
  {
   "cell_type": "code",
   "execution_count": 12,
   "id": "c73358f9-3e46-460e-866f-b23095d104d0",
   "metadata": {},
   "outputs": [],
   "source": [
    "b1 = new A();"
   ]
  },
  {
   "cell_type": "markdown",
   "id": "92910c42-5aee-4958-b76b-9d76f85878c2",
   "metadata": {},
   "source": [
    "What is the value of (b1 == b2) now? Why?"
   ]
  },
  {
   "cell_type": "code",
   "execution_count": 13,
   "id": "50eed4ee-15ab-41f9-8d19-a18fcc4c2cd1",
   "metadata": {},
   "outputs": [],
   "source": [
    "b2 = new A();"
   ]
  },
  {
   "cell_type": "markdown",
   "id": "d5bc76b6-3deb-4ff1-a37e-194a9f66e66b",
   "metadata": {},
   "source": [
    "What is the value of (b1 == b2) now? Why?"
   ]
  },
  {
   "cell_type": "code",
   "execution_count": 14,
   "id": "65c717e9-ed9c-4a2c-b816-ac2ca7eade54",
   "metadata": {
    "tags": []
   },
   "outputs": [],
   "source": [
    "// Write here some code to test whether your answers were correct. "
   ]
  },
  {
   "cell_type": "markdown",
   "id": "6fbcba95-d239-4401-8345-34198534dc3d",
   "metadata": {
    "tags": []
   },
   "source": [
    "## Inheritance and Types"
   ]
  },
  {
   "cell_type": "markdown",
   "id": "b53c7d63-8e9a-4309-a7b5-0a635aa59000",
   "metadata": {
    "tags": []
   },
   "source": [
    "### Exercise 3."
   ]
  },
  {
   "cell_type": "markdown",
   "id": "abfb5dd2-4cb3-4c74-88f6-a36f25df3656",
   "metadata": {},
   "source": [
    "Will the following snippet compile? Why?"
   ]
  },
  {
   "cell_type": "code",
   "execution_count": null,
   "id": "06a0acb1-04c6-4f7d-8f00-5bb737cdc194",
   "metadata": {
    "tags": []
   },
   "outputs": [],
   "source": [
    "class B {}\n",
    "A c = new B();"
   ]
  },
  {
   "cell_type": "markdown",
   "id": "6da94c8b-9984-45d7-9cca-ea7c7a3caba1",
   "metadata": {},
   "source": [
    "What about the snippet below? Why?"
   ]
  },
  {
   "cell_type": "code",
   "execution_count": 16,
   "id": "470b3121-e0b0-4b97-8b83-f29bc211d686",
   "metadata": {},
   "outputs": [],
   "source": [
    "Object c = new B();"
   ]
  },
  {
   "cell_type": "markdown",
   "id": "0e9c7e6a-a6c6-4638-8e0b-4fc4e3051368",
   "metadata": {
    "tags": []
   },
   "source": [
    "### Exercise 4. "
   ]
  },
  {
   "cell_type": "markdown",
   "id": "9000e64a-f577-4f04-bfba-e95b9dd8a18f",
   "metadata": {},
   "source": [
    "The following diagram:"
   ]
  },
  {
   "cell_type": "markdown",
   "id": "c88bbb70-42b6-4f1c-a5d3-2e2206838484",
   "metadata": {},
   "source": [
    "![diagram](https://i.ibb.co/s67yG9S/Class.png)"
   ]
  },
  {
   "cell_type": "markdown",
   "id": "43a284d7-5ad2-435e-b291-48f5bbaed40f",
   "metadata": {},
   "source": [
    "means that class B extends class A. The corresponding java code is:"
   ]
  },
  {
   "cell_type": "code",
   "execution_count": 20,
   "id": "e4e120eb-bbd0-444f-9718-74a150debf71",
   "metadata": {},
   "outputs": [],
   "source": [
    "class A {}\n",
    "class B extends A {}"
   ]
  },
  {
   "cell_type": "markdown",
   "id": "b9d0ab1b-da84-4184-939e-4b8d3f09f9e4",
   "metadata": {},
   "source": [
    "Write the code for the following diagram:"
   ]
  },
  {
   "cell_type": "markdown",
   "id": "7322779a-1a47-4958-a909-1912db94bc87",
   "metadata": {},
   "source": [
    "![diagram](https://i.ibb.co/DgMQ369/Class2.png)"
   ]
  },
  {
   "cell_type": "code",
   "execution_count": 21,
   "id": "b12afd67-ea95-4452-aa7d-0695d056ef93",
   "metadata": {},
   "outputs": [],
   "source": [
    "// Write code here"
   ]
  },
  {
   "cell_type": "markdown",
   "id": "408c74e2-8e49-489c-b5ee-fa512f113f07",
   "metadata": {},
   "source": [
    "Write the corresponding code also for the following diagram:"
   ]
  },
  {
   "cell_type": "markdown",
   "id": "a02c4ca7-ae0a-4635-844e-cdf9b765215f",
   "metadata": {},
   "source": [
    "![diagram](https://i.ibb.co/VwqJZQS/Class3.png)"
   ]
  },
  {
   "cell_type": "code",
   "execution_count": 23,
   "id": "c2540536-7930-4d16-a56a-25501b653cda",
   "metadata": {},
   "outputs": [],
   "source": [
    "// Write code here"
   ]
  },
  {
   "cell_type": "markdown",
   "id": "37178628-7e2d-45c9-a55c-3c918f26986b",
   "metadata": {},
   "source": [
    "What is wrong with the following diagram:"
   ]
  },
  {
   "cell_type": "markdown",
   "id": "07029598-86df-4ce6-87c0-03fdfd2d338d",
   "metadata": {},
   "source": [
    "![diagram](https://i.ibb.co/3FYd4Kv/Class4.png)"
   ]
  },
  {
   "cell_type": "markdown",
   "id": "743f40d0-56b0-445b-9560-df8634193f65",
   "metadata": {},
   "source": [
    "Write its corresponding code and see what the compiler says."
   ]
  },
  {
   "cell_type": "code",
   "execution_count": 32,
   "id": "ea3a2c23-68fb-4e73-b6ed-0d15693d32de",
   "metadata": {},
   "outputs": [],
   "source": [
    "// Write code here"
   ]
  },
  {
   "cell_type": "markdown",
   "id": "a0439ed2-dd3c-4808-9cca-0d44d7f543d9",
   "metadata": {},
   "source": [
    "What is wrong with the following diagram (take note of the arrows) : "
   ]
  },
  {
   "cell_type": "markdown",
   "id": "cf00b83d-824e-470d-b564-cc352910b25c",
   "metadata": {},
   "source": [
    "![diagram](https://i.ibb.co/nQCvYbP/Class5.png)"
   ]
  },
  {
   "cell_type": "markdown",
   "id": "93d9a9d6-e5b3-4ef0-ada5-06e7fe3a3113",
   "metadata": {},
   "source": [
    "What would the corresponding code be?"
   ]
  },
  {
   "cell_type": "code",
   "execution_count": 33,
   "id": "6ab9384e-b686-4c41-b050-dedc12572dd9",
   "metadata": {},
   "outputs": [],
   "source": [
    "// Write code here"
   ]
  },
  {
   "cell_type": "markdown",
   "id": "1655c34c-d1ff-47ed-8d2f-3063e258ead4",
   "metadata": {
    "tags": []
   },
   "source": [
    "### Exercise 5."
   ]
  },
  {
   "cell_type": "markdown",
   "id": "3e4ff69a-bc8e-401b-85e0-aa12805f0bcf",
   "metadata": {},
   "source": [
    "In a Jupyter Notebook, a Java class can only extend a class that's already defined. Because loops are not allowed in the class diagram, this is always possible.\n",
    "\n",
    "Draw a diagram starting from the class Particle and proceeding to its sub-classes.\n",
    "\n",
    "Then reorder the lines below so that they compile in JHub.\n",
    "\n",
    "Is it quicker to draw the diagram or reorder the lines?"
   ]
  },
  {
   "cell_type": "code",
   "execution_count": 5,
   "id": "bab2b0a1-3aa3-40d4-9431-3b512b25b4e3",
   "metadata": {},
   "outputs": [
    {
     "ename": "CompilationException",
     "evalue": "",
     "output_type": "error",
     "traceback": [
      "\u001b[1m\u001b[30m|   \u001b[1m\u001b[30mclass Electron extends Fermion { }\u001b[0m",
      "\u001b[1m\u001b[31mUnresolved dependencies:\u001b[0m",
      "\u001b[1m\u001b[31m   - class Fermion\u001b[0m"
     ]
    }
   ],
   "source": [
    "class Electron extends Fermion { }\n",
    "class Photon extends Boson { }\n",
    "class Particle { }\n",
    "class Neutrino extends Fermion { }\n",
    "class Quark extends Fermion { }\n",
    "class Higgs extends Boson { }\n",
    "class UpQuark extends Quark { }\n",
    "class DownQuark extends Quark { }\n",
    "class Fermion extends Particle { }\n",
    "class Boson extends Particle { }\n",
    "class Gluon extends Boson { }\n",
    "class W extends Boson { }\n",
    "class Z extends Boson { }"
   ]
  },
  {
   "cell_type": "markdown",
   "id": "a2c1d514-8d1c-4bca-9b24-018e5f6cf940",
   "metadata": {},
   "source": [
    "Here are some variable declarations. They should compile once you have reordered the class definitions above."
   ]
  },
  {
   "cell_type": "code",
   "execution_count": 1,
   "id": "616d0259-7c79-49f4-8fff-71c41b81f7e1",
   "metadata": {},
   "outputs": [
    {
     "ename": "CompilationException",
     "evalue": "",
     "output_type": "error",
     "traceback": [
      "\u001b[1m\u001b[30m|   \u001b[1m\u001b[30mElectron e1, e2;\u001b[0m",
      "\u001b[1m\u001b[31mUnresolved dependencies:\u001b[0m",
      "\u001b[1m\u001b[31m   - class Electron\u001b[0m"
     ]
    }
   ],
   "source": [
    "Electron e1, e2;\n",
    "Photon g1, g2, g3;\n",
    "Fermion f1, f2, f3, f4, f5;\n",
    "Boson b1, b2, b3, b4, b5;"
   ]
  },
  {
   "cell_type": "markdown",
   "id": "64cdb87f-cb63-4f20-b31d-aa70f590dabd",
   "metadata": {},
   "source": [
    "Draw a diagram for the class Particle and its sub-classes."
   ]
  },
  {
   "cell_type": "markdown",
   "id": "67aca026-1a0b-4795-aec5-aa6b693cd366",
   "metadata": {
    "tags": []
   },
   "source": [
    "### Exercise 6."
   ]
  },
  {
   "cell_type": "code",
   "execution_count": 7,
   "id": "9557e7eb-6131-4c69-8430-3681c99cd427",
   "metadata": {},
   "outputs": [],
   "source": [
    "class Foo {}\n",
    "class Bar extends Foo {}\n",
    "class Baz extends Bar {}\n",
    "\n",
    "Foo a = new Foo();\n",
    "Bar b = new Bar();\n",
    "Baz c = new Baz();"
   ]
  },
  {
   "cell_type": "markdown",
   "id": "ccaad7b3-5ff1-4e72-ac32-6f1852a034c3",
   "metadata": {},
   "source": [
    "Which of the possible assignments will compile: a = b, a = c, b = a, b = c, c = a, c = b?"
   ]
  },
  {
   "cell_type": "code",
   "execution_count": 31,
   "id": "1a51e071-9b13-4d5b-a237-8dd7c93e2fa5",
   "metadata": {},
   "outputs": [],
   "source": [
    "// Write some code to test your answer."
   ]
  },
  {
   "cell_type": "code",
   "execution_count": 8,
   "id": "c7c43c71-9ea4-4824-99b4-d854e3b236b0",
   "metadata": {},
   "outputs": [],
   "source": [
    "static void f(Bar b) { }"
   ]
  },
  {
   "cell_type": "markdown",
   "id": "95b29a1e-e8ef-4fca-a6af-f3e909d80c48",
   "metadata": {},
   "source": [
    "Which one of the possible calls will compile: f(a), f(b), f(c) ?"
   ]
  },
  {
   "cell_type": "code",
   "execution_count": 36,
   "id": "8ded07cb-525b-42a9-9b83-76c3549f2c9a",
   "metadata": {},
   "outputs": [],
   "source": [
    "// Write some code to test your answer."
   ]
  },
  {
   "cell_type": "code",
   "execution_count": 10,
   "id": "0f456220-6578-4d3d-b2c9-17c8c5e0fb35",
   "metadata": {},
   "outputs": [],
   "source": [
    "static Bar anotherFunction()\n",
    "{\n",
    "    return (new Bar());\n",
    "}"
   ]
  },
  {
   "cell_type": "markdown",
   "id": "02288c4b-a905-4d87-b8f5-49cb6be43f39",
   "metadata": {},
   "source": [
    "Which one of the following assignments compiles: a = anotherFunction(), b = anotherFunction(), c = anotherFunction() ? "
   ]
  },
  {
   "cell_type": "code",
   "execution_count": 15,
   "id": "322212bf-3747-4dfd-b6c2-971eb6f70a86",
   "metadata": {},
   "outputs": [],
   "source": [
    "// Write some code to test your answer."
   ]
  }
 ],
 "metadata": {
  "kernelspec": {
   "display_name": "Java",
   "language": "java",
   "name": "java"
  },
  "language_info": {
   "codemirror_mode": "java",
   "file_extension": ".jshell",
   "mimetype": "text/x-java-source",
   "name": "Java",
   "pygments_lexer": "java",
   "version": "11.0.8+10-LTS"
  }
 },
 "nbformat": 4,
 "nbformat_minor": 5
}
