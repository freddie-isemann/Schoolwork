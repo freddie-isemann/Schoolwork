{
 "cells": [
  {
   "cell_type": "markdown",
   "id": "b431829e-f97d-4b23-be65-0674ba4676cb",
   "metadata": {},
   "source": [
    "# Exercise Sheet 3"
   ]
  },
  {
   "cell_type": "markdown",
   "id": "252cb4f1-1ded-44c2-b91c-f92092f6bba9",
   "metadata": {},
   "source": [
    "## Chaining method calls (from Week 2)"
   ]
  },
  {
   "cell_type": "markdown",
   "id": "784e1631-3513-438b-b0e5-262328645c82",
   "metadata": {},
   "source": [
    "A method can return anything, including an object. Here is an example."
   ]
  },
  {
   "cell_type": "code",
   "execution_count": 1,
   "id": "92891230-6bac-4955-abf5-07658abf17b1",
   "metadata": {},
   "outputs": [],
   "source": [
    "// Suppose that we have two classes, each having only a single method.\n",
    "class A {\n",
    "    void methodInA() {\n",
    "        System.out.println(\"We are in the method in an object of the class A\");\n",
    "    }\n",
    "}\n",
    "class B {\n",
    "    // Note that the return type of the method of this class is 'A'. \n",
    "    A methodInB() {\n",
    "        A a = new A();\n",
    "        System.out.println(\"We are in the method in an object of the class B\");\n",
    "        return a;\n",
    "    }\n",
    "}"
   ]
  },
  {
   "cell_type": "markdown",
   "id": "91f4289d-1bf4-4f15-bd19-c469cf8cc959",
   "metadata": {},
   "source": [
    "Consider now the code below. "
   ]
  },
  {
   "cell_type": "code",
   "execution_count": 2,
   "id": "3b1448c6-5de0-4ebe-afcf-5c436a752022",
   "metadata": {},
   "outputs": [
    {
     "name": "stdout",
     "output_type": "stream",
     "text": [
      "We are in the method in an object of the class B\n",
      "We are in the method in an object of the class A\n"
     ]
    }
   ],
   "source": [
    "// Create an object of class 'B'. \n",
    "B objectB = new B();\n",
    "// Call 'methodInB'. It returns an object of class A, assign it to the variable\n",
    "// 'objectA'.\n",
    "A objectA = objectB.methodInB();\n",
    "// Call 'methodInA' of this object that was returned from the previous method call.\n",
    "objectA.methodInA(); "
   ]
  },
  {
   "cell_type": "markdown",
   "id": "78d599f9-9e54-4834-b636-583be89a9ae9",
   "metadata": {},
   "source": [
    "### Exercise 1"
   ]
  },
  {
   "cell_type": "markdown",
   "id": "8307bd87-d5e8-47d6-a2a9-4af2be0fe426",
   "metadata": {},
   "source": [
    "If our purpose was to only call these two methods, did we really need to define a new variable 'objectA'? How would you achieve the same without defining 'objectA'?"
   ]
  },
  {
   "cell_type": "code",
   "execution_count": 3,
   "id": "a30b04a8-15e4-4075-9f43-18049bfec3d8",
   "metadata": {},
   "outputs": [],
   "source": [
    "B objectB = new B();\n",
    "// Write a single line, chaining the method calls, that gives the same output as the code above."
   ]
  },
  {
   "cell_type": "markdown",
   "id": "1d097670-3091-4785-b75c-127e34a3d69b",
   "metadata": {},
   "source": [
    "Here is an even shorter way of writing the code above:"
   ]
  },
  {
   "cell_type": "code",
   "execution_count": 4,
   "id": "153a2c40-3319-4d5e-9449-2067b459c7cc",
   "metadata": {},
   "outputs": [
    {
     "name": "stdout",
     "output_type": "stream",
     "text": [
      "We are in the method in an object of the class B\n",
      "We are in the method in an object of the class A\n"
     ]
    }
   ],
   "source": [
    "(new B()).methodInB().methodInA()"
   ]
  },
  {
   "cell_type": "markdown",
   "id": "7519b548-8c20-4f9f-a861-61c16f3759db",
   "metadata": {},
   "source": [
    "Understand why this works. What happens to the newly created objects? "
   ]
  },
  {
   "cell_type": "markdown",
   "id": "ca4e57b0-5fc2-4e6b-93d0-b8a706b65d8a",
   "metadata": {},
   "source": [
    "### Exercise 2"
   ]
  },
  {
   "cell_type": "markdown",
   "id": "a50bb058-a828-4c29-9a3a-14be42e6ea38",
   "metadata": {},
   "source": [
    "Define a class C here:"
   ]
  },
  {
   "cell_type": "code",
   "execution_count": 6,
   "id": "8746e254-bbd6-49ce-8dc9-b8bd4dd5f899",
   "metadata": {},
   "outputs": [],
   "source": [
    "class C {\n",
    "    // add code here\n",
    "}"
   ]
  },
  {
   "cell_type": "markdown",
   "id": "5e77a300-2d14-417e-a9dd-c12a9b11a885",
   "metadata": {},
   "source": [
    "That has a single method 'm', such that if we write:"
   ]
  },
  {
   "cell_type": "code",
   "execution_count": null,
   "id": "f70f2ba7-5a7d-4677-b1ea-8372fe494e31",
   "metadata": {},
   "outputs": [],
   "source": [
    "C c = new C(); \n",
    "c.m().m().m();"
   ]
  },
  {
   "cell_type": "markdown",
   "id": "96660278-9af1-4d50-9724-7c1ab154a730",
   "metadata": {},
   "source": [
    "it prints \"We are in m()\" three times. And in general calling 'c.m() .   ...   .m();'.   with N method calls m(), prints \"We are in m()\", N times.  "
   ]
  },
  {
   "cell_type": "markdown",
   "id": "27260f43-e6e6-4d02-8697-686ac1582550",
   "metadata": {},
   "source": [
    "## Linked Data Structures and Classes. "
   ]
  },
  {
   "cell_type": "markdown",
   "id": "12547029-0f78-4a0d-ac9c-dccd3884c0df",
   "metadata": {},
   "source": [
    "Consider the code below."
   ]
  },
  {
   "cell_type": "code",
   "execution_count": null,
   "id": "cfb9582e-6b48-46ad-8007-39a1dab8b061",
   "metadata": {
    "tags": []
   },
   "outputs": [],
   "source": [
    "class Node {\n",
    "    Node next; \n",
    "}\n",
    "Node a = new Node();\n",
    "Node b = new Node();\n",
    "Node c = new Node();\n",
    "\n",
    "a.next = b;\n",
    "b.next = c;"
   ]
  },
  {
   "cell_type": "markdown",
   "id": "eeee0090-6da1-4b1e-98d7-6393e11640b5",
   "metadata": {},
   "source": [
    "I would depict this graphically as follows."
   ]
  },
  {
   "cell_type": "markdown",
   "id": "3cdad7d7-4cc6-4563-8842-6221e34575c3",
   "metadata": {},
   "source": [
    "![obj](https://i.ibb.co/5h1fSMs/Objects.png)"
   ]
  },
  {
   "cell_type": "markdown",
   "id": "470b1252-1009-4920-9f26-f244d7e750cf",
   "metadata": {},
   "source": [
    "Suppose that now I do the following changes. "
   ]
  },
  {
   "cell_type": "code",
   "execution_count": null,
   "id": "a4352f9e-bd3f-401f-a7ed-9434851a3930",
   "metadata": {
    "tags": []
   },
   "outputs": [],
   "source": [
    "a.next = a;\n",
    "c.next = b;"
   ]
  },
  {
   "cell_type": "markdown",
   "id": "be73cc71-e100-41c7-a5dc-0255a638ccb9",
   "metadata": {},
   "source": [
    "### Exercise 3"
   ]
  },
  {
   "cell_type": "markdown",
   "id": "08e5d9f9-8829-48b2-926c-fed06d0084f5",
   "metadata": {},
   "source": [
    "Depict graphically the links between the objects a,b,c after the two lines above. "
   ]
  },
  {
   "cell_type": "markdown",
   "id": "1f4333e3-4a2c-41c4-a7e4-aadc3bacbd6a",
   "metadata": {},
   "source": [
    "### Exercise 4"
   ]
  },
  {
   "cell_type": "markdown",
   "id": "c5853c26-2f14-43df-9f94-ef3e7140cfb1",
   "metadata": {},
   "source": [
    "Write the code that turns the relationship as follows. "
   ]
  },
  {
   "cell_type": "markdown",
   "id": "960b41bf-b4e4-46b0-9406-937b1359e979",
   "metadata": {},
   "source": [
    "![obj](https://i.ibb.co/RNWt0y7/Objects.png)"
   ]
  },
  {
   "cell_type": "code",
   "execution_count": 7,
   "id": "579ca6ac-a5c3-4a80-b603-e29de0c3fcb0",
   "metadata": {},
   "outputs": [],
   "source": [
    "// Write code here"
   ]
  },
  {
   "cell_type": "markdown",
   "id": "6f58e95b-2ab7-4712-b108-28602e4c562b",
   "metadata": {},
   "source": [
    "### Exercise 5"
   ]
  },
  {
   "cell_type": "markdown",
   "id": "c92bd7f4-8061-4b5e-b419-1dde31e62860",
   "metadata": {},
   "source": [
    "Consider the following code."
   ]
  },
  {
   "cell_type": "code",
   "execution_count": null,
   "id": "4ac464da-488c-40f5-985c-c81fd3370535",
   "metadata": {},
   "outputs": [],
   "source": [
    "class Tree {\n",
    "    Tree left;\n",
    "    Tree right;\n",
    "}\n",
    "\n",
    "Tree root = new Tree();\n",
    "root.left = new Tree();\n",
    "root.right = new Tree();\n",
    "root.right.left = new Tree();\n",
    "root.right.right = new Tree();"
   ]
  },
  {
   "cell_type": "markdown",
   "id": "0f528534-1d4d-4608-97d6-d65dd9591736",
   "metadata": {},
   "source": [
    "Depict it graphically. "
   ]
  },
  {
   "cell_type": "markdown",
   "id": "ae51290b-fcad-4efc-80a6-7f4f93a2bbb1",
   "metadata": {},
   "source": [
    "If I were to write:"
   ]
  },
  {
   "cell_type": "code",
   "execution_count": 9,
   "id": "a42cdfaa-02c7-4eaf-bd85-3e811782f7c4",
   "metadata": {},
   "outputs": [
    {
     "ename": "EvalException",
     "evalue": "null",
     "output_type": "error",
     "traceback": [
      "\u001b[1m\u001b[31m---------------------------------------------------------------------------\u001b[0m",
      "\u001b[1m\u001b[31mjava.lang.NullPointerException: null\u001b[0m",
      "\u001b[1m\u001b[31m\tat .(#31:1)\u001b[0m"
     ]
    }
   ],
   "source": [
    "root.left.left.right = new Tree();"
   ]
  },
  {
   "cell_type": "markdown",
   "id": "c22c166b-a7a7-4ea4-a772-1269572067c1",
   "metadata": {},
   "source": [
    "It doesn't work. Why?"
   ]
  },
  {
   "cell_type": "markdown",
   "id": "bfa4cece-558a-4bda-8019-bee8bd9efb9a",
   "metadata": {},
   "source": [
    "### Exercise 6"
   ]
  },
  {
   "cell_type": "markdown",
   "id": "8b310da9-593c-4ee3-ae3e-ce6ac58b94f4",
   "metadata": {},
   "source": [
    "The left-most branch of a binary tree is the following: "
   ]
  },
  {
   "cell_type": "markdown",
   "id": "866bc178-43e0-4b0c-9ef1-c5f28d4bac01",
   "metadata": {},
   "source": [
    "![tree](https://i.ibb.co/VJhwrKV/Tree.png)"
   ]
  },
  {
   "cell_type": "markdown",
   "id": "71e3b651-fbc9-4e34-9c82-271aa7d4ee83",
   "metadata": {},
   "source": [
    "The **length** of a branch is the number of its nodes. E.g., above, the length is 4. Write a method that takes a tree and returns the length of the left-most branch. "
   ]
  },
  {
   "cell_type": "code",
   "execution_count": null,
   "id": "cc1016aa-6b82-4804-baf7-8d1bf7b06279",
   "metadata": {},
   "outputs": [],
   "source": [
    "int length(Tree t) {\n",
    "    // Add code here.\n",
    "}"
   ]
  },
  {
   "cell_type": "code",
   "execution_count": 14,
   "id": "7df288e9-d70b-42db-a52b-8ffcfe3559af",
   "metadata": {},
   "outputs": [
    {
     "data": {
      "text/plain": [
       "2"
      ]
     },
     "execution_count": 14,
     "metadata": {},
     "output_type": "execute_result"
    }
   ],
   "source": [
    "length(root)"
   ]
  },
  {
   "cell_type": "markdown",
   "id": "f7ec9d6a-b3ce-4903-8194-219797d3e897",
   "metadata": {},
   "source": [
    "### Exercise 7 (🌶️)"
   ]
  },
  {
   "cell_type": "markdown",
   "id": "0b3fdae3-73fe-458d-977a-eca4becb0afe",
   "metadata": {},
   "source": [
    "<span style=\"color:gray\">You do not have to do this exercise, since it does not have much to do with OOP. However it is an entertaining puzzle, if you have not seen it before.</span>"
   ]
  },
  {
   "cell_type": "markdown",
   "id": "f47a56d3-303c-4adf-a745-54f7a74d6f56",
   "metadata": {},
   "source": [
    "The **height** of a binary tree is the length of its longest branch. Write a method that takes a tree and returns its height."
   ]
  },
  {
   "cell_type": "code",
   "execution_count": null,
   "id": "f33133fb-529f-4bba-932c-c7b9eb11e3e6",
   "metadata": {},
   "outputs": [],
   "source": [
    "int height(Tree t) {\n",
    "    // Add code here.\n",
    "}"
   ]
  },
  {
   "cell_type": "code",
   "execution_count": null,
   "id": "4503ae20-3055-4a96-8495-679ba816887f",
   "metadata": {},
   "outputs": [],
   "source": [
    "height(root) // should output 3. "
   ]
  }
 ],
 "metadata": {
  "kernelspec": {
   "display_name": "Java",
   "language": "java",
   "name": "java"
  },
  "language_info": {
   "codemirror_mode": "java",
   "file_extension": ".jshell",
   "mimetype": "text/x-java-source",
   "name": "Java",
   "pygments_lexer": "java",
   "version": "11.0.8+10-LTS"
  }
 },
 "nbformat": 4,
 "nbformat_minor": 5
}
