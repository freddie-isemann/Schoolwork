{
 "cells": [
  {
   "cell_type": "markdown",
   "id": "71f1fb63-26fa-42be-b74c-091437a0c327",
   "metadata": {
    "tags": []
   },
   "source": [
    "# Exercise Sheet 1 - <span style=\"color:blue\"> Solutions </span>"
   ]
  },
  {
   "cell_type": "markdown",
   "id": "afc6f0c9-dfa3-44c1-873f-64371b3d169b",
   "metadata": {},
   "source": [
    "For every exercise, write down your answer on a sheet of paper, and only then test whether it was correct. "
   ]
  },
  {
   "cell_type": "markdown",
   "id": "b264dcb0-46bb-4e4b-8125-fec462a38738",
   "metadata": {},
   "source": [
    "## Identity"
   ]
  },
  {
   "cell_type": "markdown",
   "id": "9fc22929-92e3-4cdc-b259-a3c80c69b286",
   "metadata": {},
   "source": [
    "<span style=\"color:blue\"> The purpose of this exercise is to understand that when you declare 'A a;' the variable 'a' has value null. When you assign to it a 'new A()', its value is equal to the object reference that was just created. </span>"
   ]
  },
  {
   "cell_type": "markdown",
   "id": "35f15ed2-e9e8-49ce-9f96-736d8a019d8d",
   "metadata": {
    "tags": []
   },
   "source": [
    "### Exercise 1.  "
   ]
  },
  {
   "cell_type": "code",
   "execution_count": 2,
   "id": "c1f8a309-f3d8-4e52-aede-46acaf9cc929",
   "metadata": {},
   "outputs": [],
   "source": [
    "class A {}\n",
    "\n",
    "A a1 = new A(); \n",
    "A a2;\n",
    "A a3 = new A();\n",
    "A a4 = a2;"
   ]
  },
  {
   "cell_type": "markdown",
   "id": "54c2f187-8cda-48be-9a78-57a12974c910",
   "metadata": {},
   "source": [
    "After this code is run, which among the variables a1, ... ,a4 are equal to one another? (For example, clearly a4 and a2 will be equal to one another). "
   ]
  },
  {
   "cell_type": "markdown",
   "id": "42a103ec-a08f-41de-86da-500ebf022a1a",
   "metadata": {},
   "source": [
    "<span style=\"color:blue\"> 'a1' is assigned some object reference. 'a2' is null, and 'a3' is assigned *another* object reference. the last line assigns 'a4' to 'a2'. It follows that 'a4' is equal to 'a2' is equal to null. And 'a1' and 'a3' are different. </span>"
   ]
  },
  {
   "cell_type": "code",
   "execution_count": 4,
   "id": "fcba0655-92c9-499a-8c49-3b344ffa9c3a",
   "metadata": {},
   "outputs": [
    {
     "name": "stdout",
     "output_type": "stream",
     "text": [
      "false\n",
      "true\n",
      "true\n"
     ]
    }
   ],
   "source": [
    "// Write here some code to test whether your answer was correct.\n",
    "System.out.println(a1 == a2);\n",
    "System.out.println(a3 != a1);\n",
    "System.out.println(a2 == a4);"
   ]
  },
  {
   "cell_type": "markdown",
   "id": "c471550d-8e9a-4f7f-8e67-ca8deb267e12",
   "metadata": {
    "tags": []
   },
   "source": [
    "### Exercise 2."
   ]
  },
  {
   "cell_type": "code",
   "execution_count": 6,
   "id": "97e3a614-d53d-4241-af7a-a933edc84cb3",
   "metadata": {},
   "outputs": [],
   "source": [
    "A b1;\n",
    "A b2;"
   ]
  },
  {
   "cell_type": "markdown",
   "id": "2a334173-ccac-4e9f-abf7-c027322262cb",
   "metadata": {},
   "source": [
    "Is b1 equal to b2? Why or why not? "
   ]
  },
  {
   "cell_type": "markdown",
   "id": "d23175fe-b3a8-4fa1-9fb6-8ee4f95c8a74",
   "metadata": {},
   "source": [
    "<span style=\"color:blue\"> They are equal, equal to null </span>"
   ]
  },
  {
   "cell_type": "code",
   "execution_count": 9,
   "id": "d4d8c860-1512-4eed-add0-21d2ea779397",
   "metadata": {},
   "outputs": [
    {
     "name": "stdout",
     "output_type": "stream",
     "text": [
      "true\n",
      "true\n"
     ]
    }
   ],
   "source": [
    "// Write here some code to test whether your answer was correct. \n",
    "System.out.println(b1 == b2);\n",
    "System.out.println(b1 == null);"
   ]
  },
  {
   "cell_type": "code",
   "execution_count": 10,
   "id": "c73358f9-3e46-460e-866f-b23095d104d0",
   "metadata": {},
   "outputs": [],
   "source": [
    "b1 = new A();"
   ]
  },
  {
   "cell_type": "markdown",
   "id": "92910c42-5aee-4958-b76b-9d76f85878c2",
   "metadata": {},
   "source": [
    "What is the value of (b1 == b2) now? Why?"
   ]
  },
  {
   "cell_type": "markdown",
   "id": "94d460d4-118a-4f58-a8bd-e8a6112de009",
   "metadata": {},
   "source": [
    "<span style=\"color:blue\"> Now the value is false, because 'b1' is assigned to some object reference, while 'b2' remains null.</span>"
   ]
  },
  {
   "cell_type": "code",
   "execution_count": 12,
   "id": "50eed4ee-15ab-41f9-8d19-a18fcc4c2cd1",
   "metadata": {},
   "outputs": [],
   "source": [
    "b2 = new A();"
   ]
  },
  {
   "cell_type": "markdown",
   "id": "d5bc76b6-3deb-4ff1-a37e-194a9f66e66b",
   "metadata": {},
   "source": [
    "What is the value of (b1 == b2) now? Why?"
   ]
  },
  {
   "cell_type": "markdown",
   "id": "79e1b545-081c-4e45-a024-8da2fe5d592c",
   "metadata": {},
   "source": [
    "<span style=\"color:blue\"> The value should be false, because 'b2' is assgined to a *new*, different object. </span>"
   ]
  },
  {
   "cell_type": "code",
   "execution_count": 13,
   "id": "65c717e9-ed9c-4a2c-b816-ac2ca7eade54",
   "metadata": {
    "tags": []
   },
   "outputs": [
    {
     "data": {
      "text/plain": [
       "true"
      ]
     },
     "execution_count": 13,
     "metadata": {},
     "output_type": "execute_result"
    }
   ],
   "source": [
    "// Write here some code to test whether your answers were correct. \n",
    "b1!=b2;"
   ]
  },
  {
   "cell_type": "markdown",
   "id": "6fbcba95-d239-4401-8345-34198534dc3d",
   "metadata": {
    "tags": []
   },
   "source": [
    "## Inheritance and Types"
   ]
  },
  {
   "cell_type": "markdown",
   "id": "b53c7d63-8e9a-4309-a7b5-0a635aa59000",
   "metadata": {
    "tags": []
   },
   "source": [
    "### Exercise 3."
   ]
  },
  {
   "cell_type": "markdown",
   "id": "abfb5dd2-4cb3-4c74-88f6-a36f25df3656",
   "metadata": {},
   "source": [
    "Will the following snippet compile? Why?"
   ]
  },
  {
   "cell_type": "markdown",
   "id": "5de2df5a-1e63-4ccd-859d-a424c3688360",
   "metadata": {},
   "source": [
    "<span style=\"color:blue\"> It won't compile. Because we are trying to assign to a variable of type 'A', an object reference of type 'B'. There is no relation among the classes 'A' and 'B' </span>"
   ]
  },
  {
   "cell_type": "code",
   "execution_count": 14,
   "id": "06a0acb1-04c6-4f7d-8f00-5bb737cdc194",
   "metadata": {
    "tags": []
   },
   "outputs": [
    {
     "ename": "CompilationException",
     "evalue": "",
     "output_type": "error",
     "traceback": [
      "\u001b[1m\u001b[30m|   \u001b[1m\u001b[30mA c = \u001b[0m\u001b[1m\u001b[30m\u001b[41mnew B()\u001b[0m\u001b[1m\u001b[30m;\u001b[0m",
      "\u001b[1m\u001b[31mincompatible types: B cannot be converted to A\u001b[0m",
      ""
     ]
    }
   ],
   "source": [
    "class B {}\n",
    "A c = new B();"
   ]
  },
  {
   "cell_type": "markdown",
   "id": "6da94c8b-9984-45d7-9cca-ea7c7a3caba1",
   "metadata": {},
   "source": [
    "What about the snippet below? Why?"
   ]
  },
  {
   "cell_type": "markdown",
   "id": "586e7053-dc91-4b67-ab9b-2807f5614c5a",
   "metadata": {},
   "source": [
    "<span style=\"color:blue\"> This one will compile. The reason is that every class in java is by default a subclass of Object. So 'B' is a subclass of Object, and hence the types are compatible. Indeed, any such assignment where the type on the left hand side, is a super class of the type on the right hand side will compile. </span>"
   ]
  },
  {
   "cell_type": "code",
   "execution_count": 15,
   "id": "470b3121-e0b0-4b97-8b83-f29bc211d686",
   "metadata": {},
   "outputs": [],
   "source": [
    "Object c = new B();"
   ]
  },
  {
   "cell_type": "markdown",
   "id": "0e9c7e6a-a6c6-4638-8e0b-4fc4e3051368",
   "metadata": {
    "tags": []
   },
   "source": [
    "### Exercise 4. "
   ]
  },
  {
   "cell_type": "markdown",
   "id": "520e8be5-840d-4070-a375-1aa5d8a885f8",
   "metadata": {},
   "source": [
    "<span style=\"color:blue\"> The purpose of this exercise is to train you to visualize the class inheritance tree </span>"
   ]
  },
  {
   "cell_type": "markdown",
   "id": "9000e64a-f577-4f04-bfba-e95b9dd8a18f",
   "metadata": {},
   "source": [
    "The following diagram:"
   ]
  },
  {
   "cell_type": "markdown",
   "id": "c88bbb70-42b6-4f1c-a5d3-2e2206838484",
   "metadata": {},
   "source": [
    "![diagram](https://i.ibb.co/s67yG9S/Class.png)"
   ]
  },
  {
   "cell_type": "markdown",
   "id": "43a284d7-5ad2-435e-b291-48f5bbaed40f",
   "metadata": {},
   "source": [
    "means that class B extends class A. The corresponding java code is:"
   ]
  },
  {
   "cell_type": "code",
   "execution_count": 20,
   "id": "e4e120eb-bbd0-444f-9718-74a150debf71",
   "metadata": {},
   "outputs": [],
   "source": [
    "class A {}\n",
    "class B extends A {}"
   ]
  },
  {
   "cell_type": "markdown",
   "id": "b9d0ab1b-da84-4184-939e-4b8d3f09f9e4",
   "metadata": {},
   "source": [
    "Write the code for the following diagram:"
   ]
  },
  {
   "cell_type": "markdown",
   "id": "7322779a-1a47-4958-a909-1912db94bc87",
   "metadata": {},
   "source": [
    "![diagram](https://i.ibb.co/DgMQ369/Class2.png)"
   ]
  },
  {
   "cell_type": "code",
   "execution_count": 16,
   "id": "b12afd67-ea95-4452-aa7d-0695d056ef93",
   "metadata": {},
   "outputs": [],
   "source": [
    "// Write code here\n",
    "class A {}\n",
    "class B extends A {}\n",
    "class C extends A {}"
   ]
  },
  {
   "cell_type": "markdown",
   "id": "408c74e2-8e49-489c-b5ee-fa512f113f07",
   "metadata": {},
   "source": [
    "Write the corresponding code also for the following diagram:"
   ]
  },
  {
   "cell_type": "markdown",
   "id": "a02c4ca7-ae0a-4635-844e-cdf9b765215f",
   "metadata": {},
   "source": [
    "![diagram](https://i.ibb.co/VwqJZQS/Class3.png)"
   ]
  },
  {
   "cell_type": "code",
   "execution_count": 17,
   "id": "c2540536-7930-4d16-a56a-25501b653cda",
   "metadata": {},
   "outputs": [],
   "source": [
    "// Write code here\n",
    "class A {}\n",
    "class B extends A {}\n",
    "class C extends B {}"
   ]
  },
  {
   "cell_type": "markdown",
   "id": "37178628-7e2d-45c9-a55c-3c918f26986b",
   "metadata": {},
   "source": [
    "What is wrong with the following diagram:"
   ]
  },
  {
   "cell_type": "markdown",
   "id": "07029598-86df-4ce6-87c0-03fdfd2d338d",
   "metadata": {},
   "source": [
    "![diagram](https://i.ibb.co/3FYd4Kv/Class4.png)"
   ]
  },
  {
   "cell_type": "markdown",
   "id": "743f40d0-56b0-445b-9560-df8634193f65",
   "metadata": {},
   "source": [
    "Write its corresponding code and see what the compiler says."
   ]
  },
  {
   "cell_type": "markdown",
   "id": "11406cd8-fae2-4f4e-a27c-cc1d6cebf287",
   "metadata": {},
   "source": [
    "<span style=\"color:blue\"> There is a cycle, so the meaning becomes nonsensical. The java compiler disallows this of course. </span> "
   ]
  },
  {
   "cell_type": "code",
   "execution_count": 18,
   "id": "ea3a2c23-68fb-4e73-b6ed-0d15693d32de",
   "metadata": {},
   "outputs": [
    {
     "ename": "CompilationException",
     "evalue": "",
     "output_type": "error",
     "traceback": [
      "\u001b[1m\u001b[30m|   \u001b[1m\u001b[30m\u001b[0m\u001b[1m\u001b[30m\u001b[41m// Write code here\u001b[0m",
      "\u001b[1m\u001b[30m|   \u001b[1m\u001b[30m\u001b[41mclass A extends C {}\u001b[0m",
      "\u001b[1m\u001b[31mcyclic inheritance involving A\u001b[0m",
      ""
     ]
    }
   ],
   "source": [
    "// Write code here\n",
    "class A extends C {}\n",
    "class B extends A {}\n",
    "class C extends B {} "
   ]
  },
  {
   "cell_type": "markdown",
   "id": "a0439ed2-dd3c-4808-9cca-0d44d7f543d9",
   "metadata": {},
   "source": [
    "What is wrong with the following diagram (take note of the arrows) : "
   ]
  },
  {
   "cell_type": "markdown",
   "id": "cf00b83d-824e-470d-b564-cc352910b25c",
   "metadata": {},
   "source": [
    "![diagram](https://i.ibb.co/nQCvYbP/Class5.png)"
   ]
  },
  {
   "cell_type": "markdown",
   "id": "758ea929-6936-43ab-bc4a-d488411e9176",
   "metadata": {},
   "source": [
    "<span style=\"color:blue\"> The diagram is saying that the class 'A' is both a subclass of 'B' and of 'C'. Java does not allow *multiple inheritance*. So the diagram is representing an invalid java inheritance relationship </span> "
   ]
  },
  {
   "cell_type": "markdown",
   "id": "93d9a9d6-e5b3-4ef0-ada5-06e7fe3a3113",
   "metadata": {},
   "source": [
    "What would the corresponding code be?"
   ]
  },
  {
   "cell_type": "code",
   "execution_count": 19,
   "id": "6ab9384e-b686-4c41-b050-dedc12572dd9",
   "metadata": {},
   "outputs": [
    {
     "ename": "CompilationException",
     "evalue": "",
     "output_type": "error",
     "traceback": [
      "\u001b[1m\u001b[30m|   \u001b[1m\u001b[30mclass A extends B\u001b[0m\u001b[1m\u001b[30m\u001b[41m\u001b[0m\u001b[1m\u001b[30m, C {}\u001b[0m",
      "\u001b[1m\u001b[31m'{' expected\u001b[0m",
      ""
     ]
    }
   ],
   "source": [
    "// Write code here\n",
    "class B {}\n",
    "class C {}\n",
    "class A extends B, C {}"
   ]
  },
  {
   "cell_type": "markdown",
   "id": "e5ff57c4-c0f8-45b5-b733-8ef1920a7cfe",
   "metadata": {},
   "source": [
    "<span style=\"color:blue\"> As you can see, the syntax of the language already forbids multiple inheritance </span>"
   ]
  },
  {
   "cell_type": "markdown",
   "id": "1655c34c-d1ff-47ed-8d2f-3063e258ead4",
   "metadata": {
    "tags": []
   },
   "source": [
    "### Exercise 5."
   ]
  },
  {
   "cell_type": "markdown",
   "id": "44b65b97-d3a3-4084-9a45-c33f2c47515c",
   "metadata": {},
   "source": [
    "<span style=\"color:blue\"> Same as the preceding exercise, the purpose is to train you to quickly visualize the inheritance tree </span>"
   ]
  },
  {
   "cell_type": "markdown",
   "id": "3e4ff69a-bc8e-401b-85e0-aa12805f0bcf",
   "metadata": {},
   "source": [
    "In a Jupyter Notebook, a Java class can only extend a class that's already defined. Because loops are not allowed in the class diagram, this is always possible.\n",
    "\n",
    "Draw a diagram starting from the class Particle and proceeding to its sub-classes.\n",
    "\n",
    "Then reorder the lines below so that they compile in JHub.\n",
    "\n",
    "\n",
    "Is it quicker to draw the diagram or reorder the lines?"
   ]
  },
  {
   "cell_type": "code",
   "execution_count": 20,
   "id": "bab2b0a1-3aa3-40d4-9431-3b512b25b4e3",
   "metadata": {},
   "outputs": [],
   "source": [
    "class Particle { }\n",
    "\n",
    "class Fermion extends Particle { }\n",
    "class Boson extends Particle { }\n",
    "\n",
    "class Electron extends Fermion { }\n",
    "class Neutrino extends Fermion { }\n",
    "class Quark extends Fermion { }\n",
    "\n",
    "\n",
    "class Photon extends Boson { }\n",
    "class Higgs extends Boson { }\n",
    "class Gluon extends Boson { }\n",
    "class W extends Boson { }\n",
    "class Z extends Boson { }\n",
    "\n",
    "class UpQuark extends Quark { }\n",
    "class DownQuark extends Quark { }\n",
    "\n"
   ]
  },
  {
   "cell_type": "markdown",
   "id": "a2c1d514-8d1c-4bca-9b24-018e5f6cf940",
   "metadata": {},
   "source": [
    "Here are some variable declarations. They should compile once you have reordered the class definitions above."
   ]
  },
  {
   "cell_type": "code",
   "execution_count": 21,
   "id": "616d0259-7c79-49f4-8fff-71c41b81f7e1",
   "metadata": {},
   "outputs": [],
   "source": [
    "Electron e1, e2;\n",
    "Photon g1, g2, g3;\n",
    "Fermion f1, f2, f3, f4, f5;\n",
    "Boson b1, b2, b3, b4, b5;"
   ]
  },
  {
   "cell_type": "markdown",
   "id": "64cdb87f-cb63-4f20-b31d-aa70f590dabd",
   "metadata": {},
   "source": [
    "Draw a diagram for the class Particle and its sub-classes."
   ]
  },
  {
   "cell_type": "markdown",
   "id": "67aca026-1a0b-4795-aec5-aa6b693cd366",
   "metadata": {
    "tags": []
   },
   "source": [
    "### Exercise 6."
   ]
  },
  {
   "cell_type": "markdown",
   "id": "b09c2260-c0a3-489f-9d88-49bc4b9f6d63",
   "metadata": {},
   "source": [
    "<span style=\"color:blue\"> The purpose of this exercise is to learn the following fact. When one does an assignment 'a=b' in java, then what is checked by the compiler is whether the type of 'a' is a super class of the type of 'b'. The same happens when one calls a method. </span>"
   ]
  },
  {
   "cell_type": "code",
   "execution_count": 23,
   "id": "9557e7eb-6131-4c69-8430-3681c99cd427",
   "metadata": {},
   "outputs": [],
   "source": [
    "class Foo {}\n",
    "class Bar extends Foo {}\n",
    "class Baz extends Bar {}\n",
    "\n",
    "Foo a = new Foo();\n",
    "Bar b = new Bar();\n",
    "Baz c = new Baz();"
   ]
  },
  {
   "cell_type": "markdown",
   "id": "ccaad7b3-5ff1-4e72-ac32-6f1852a034c3",
   "metadata": {},
   "source": [
    "Which of the possible assignments will compile: a = b, a = c, b = a, b = c, c = a, c = b?"
   ]
  },
  {
   "cell_type": "markdown",
   "id": "fa402482-9db6-44c4-bc23-1ab2f2e1700d",
   "metadata": {},
   "source": [
    "<span style=\"color:blue\"> We have three levels of inheritance and the variables 'a', 'b', 'c', correspond to these three levels respectively. It follows that 'a=b' and 'a=c' are going to compile, since Foo is the super class, as well as the assignment 'b=c', because Bar is a super class of Baz. The remaining assignments will not compile. </span>"
   ]
  },
  {
   "cell_type": "code",
   "execution_count": 24,
   "id": "1a51e071-9b13-4d5b-a237-8dd7c93e2fa5",
   "metadata": {},
   "outputs": [],
   "source": [
    "// Write some code to test your answer.\n",
    "a=c"
   ]
  },
  {
   "cell_type": "code",
   "execution_count": 25,
   "id": "c3da5b7b-e115-4f5e-b247-7dc1f00f15cb",
   "metadata": {},
   "outputs": [],
   "source": [
    "b=c"
   ]
  },
  {
   "cell_type": "code",
   "execution_count": 26,
   "id": "72b68a95-cac8-42b7-9033-6e728cb493c3",
   "metadata": {},
   "outputs": [
    {
     "ename": "CompilationException",
     "evalue": "",
     "output_type": "error",
     "traceback": [
      "\u001b[1m\u001b[30m|   \u001b[1m\u001b[30mc=\u001b[0m\u001b[1m\u001b[30m\u001b[41mb\u001b[0m\u001b[1m\u001b[30m\u001b[0m",
      "\u001b[1m\u001b[31mincompatible types: Bar cannot be converted to Baz\u001b[0m",
      ""
     ]
    }
   ],
   "source": [
    "c=b"
   ]
  },
  {
   "cell_type": "code",
   "execution_count": 27,
   "id": "c7c43c71-9ea4-4824-99b4-d854e3b236b0",
   "metadata": {},
   "outputs": [],
   "source": [
    "static void f(Bar b) { }"
   ]
  },
  {
   "cell_type": "markdown",
   "id": "95b29a1e-e8ef-4fca-a6af-f3e909d80c48",
   "metadata": {},
   "source": [
    "Which one of the possible calls will compile: f(a), f(b), f(c) ?"
   ]
  },
  {
   "cell_type": "markdown",
   "id": "63ac68d6-95db-4df8-9428-5c89442bc28d",
   "metadata": {},
   "source": [
    "<span style=\"color:blue\"> Since the parameter of the method 'f' is of type Bar, the only variables we can call the method with is 'b' and 'c' (keep in mind that during the call an assignment is being performed). </span>"
   ]
  },
  {
   "cell_type": "code",
   "execution_count": 28,
   "id": "8ded07cb-525b-42a9-9b83-76c3549f2c9a",
   "metadata": {},
   "outputs": [],
   "source": [
    "// Write some code to test your answer.\n",
    "f(c)"
   ]
  },
  {
   "cell_type": "code",
   "execution_count": 29,
   "id": "74ab3c86-ab81-43f5-b4c2-95a66ef2cd1f",
   "metadata": {},
   "outputs": [
    {
     "ename": "CompilationException",
     "evalue": "",
     "output_type": "error",
     "traceback": [
      "\u001b[1m\u001b[30m|   \u001b[1m\u001b[30mf(\u001b[0m\u001b[1m\u001b[30m\u001b[41ma\u001b[0m\u001b[1m\u001b[30m)\u001b[0m",
      "\u001b[1m\u001b[31mincompatible types: Foo cannot be converted to Bar\u001b[0m",
      ""
     ]
    }
   ],
   "source": [
    "f(a)"
   ]
  },
  {
   "cell_type": "code",
   "execution_count": 31,
   "id": "0f456220-6578-4d3d-b2c9-17c8c5e0fb35",
   "metadata": {},
   "outputs": [],
   "source": [
    "static Bar anotherFunction()\n",
    "{\n",
    "    return (new Bar());\n",
    "}"
   ]
  },
  {
   "cell_type": "markdown",
   "id": "02288c4b-a905-4d87-b8f5-49cb6be43f39",
   "metadata": {},
   "source": [
    "Which one of the following assignments compiles: a = anotherFunction(), b = anotherFunction(), c = anotherFunction() ? "
   ]
  },
  {
   "cell_type": "markdown",
   "id": "a75381e5-4315-46a3-80f5-7c53a775ba90",
   "metadata": {},
   "source": [
    "<span style=\"color:blue\"> Similarly here an assignment is being performed (the only difference is that the right hand side is a method call). Since 'anotherFunction' returns an object of type Bar, it follows that we can assign it only to a variable of type Bar or a superclass. Hence 'a=...' and 'b=...' are the only valid assignments.  </span>"
   ]
  },
  {
   "cell_type": "code",
   "execution_count": 15,
   "id": "322212bf-3747-4dfd-b6c2-971eb6f70a86",
   "metadata": {},
   "outputs": [],
   "source": [
    "// Write some code to test your answer."
   ]
  },
  {
   "cell_type": "code",
   "execution_count": 32,
   "id": "fe409d01-85ac-4d87-a295-3581ed4255e7",
   "metadata": {},
   "outputs": [],
   "source": [
    "a = anotherFunction();"
   ]
  },
  {
   "cell_type": "code",
   "execution_count": 35,
   "id": "a054ed30-1fdb-4863-84c2-8ab080eb8f7c",
   "metadata": {},
   "outputs": [],
   "source": [
    "b = anotherFunction();"
   ]
  },
  {
   "cell_type": "code",
   "execution_count": 36,
   "id": "9a3aacb0-cf14-414e-af81-34018b6570f7",
   "metadata": {},
   "outputs": [
    {
     "ename": "CompilationException",
     "evalue": "",
     "output_type": "error",
     "traceback": [
      "\u001b[1m\u001b[30m|   \u001b[1m\u001b[30mc = \u001b[0m\u001b[1m\u001b[30m\u001b[41manotherFunction()\u001b[0m\u001b[1m\u001b[30m;\u001b[0m",
      "\u001b[1m\u001b[31mincompatible types: Bar cannot be converted to Baz\u001b[0m",
      ""
     ]
    }
   ],
   "source": [
    "c = anotherFunction();"
   ]
  },
  {
   "cell_type": "code",
   "execution_count": null,
   "id": "4dfe19a6-5ea2-4a31-92e1-5050f5a4fbc5",
   "metadata": {},
   "outputs": [],
   "source": []
  }
 ],
 "metadata": {
  "kernelspec": {
   "display_name": "Java",
   "language": "java",
   "name": "java"
  },
  "language_info": {
   "codemirror_mode": "java",
   "file_extension": ".jshell",
   "mimetype": "text/x-java-source",
   "name": "Java",
   "pygments_lexer": "java",
   "version": "11.0.8+10-LTS"
  }
 },
 "nbformat": 4,
 "nbformat_minor": 5
}
