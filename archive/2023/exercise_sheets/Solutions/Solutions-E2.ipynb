{
 "cells": [
  {
   "cell_type": "markdown",
   "id": "87594628-3865-4f18-9719-709d304cdf52",
   "metadata": {},
   "source": [
    "# Exercise Sheet 2 - <span style=\"color:blue\"> Solutions </span>"
   ]
  },
  {
   "cell_type": "markdown",
   "id": "ca3d4f94-1e59-4c7e-97ac-1e2cdd4d8712",
   "metadata": {
    "tags": []
   },
   "source": [
    "## Diagrams"
   ]
  },
  {
   "cell_type": "markdown",
   "id": "dcdeafef-bdc2-4b61-bd9c-9c450c174894",
   "metadata": {},
   "source": [
    "Recall that we have depicted pictorially inheritance between classes as follows. "
   ]
  },
  {
   "cell_type": "code",
   "execution_count": 4,
   "id": "6f42ae59-61a2-4f87-807d-cfc5931da34a",
   "metadata": {},
   "outputs": [],
   "source": [
    "class A {\n",
    "    public void method() {\n",
    "        return;\n",
    "    }\n",
    "}\n",
    "\n",
    "class B extends A {}"
   ]
  },
  {
   "cell_type": "markdown",
   "id": "a92dcb21-e555-4011-b679-8e193fa092be",
   "metadata": {},
   "source": [
    "![diagram](https://i.ibb.co/1vN3c1H/Class.png)"
   ]
  },
  {
   "cell_type": "markdown",
   "id": "06f86e1f-cdb6-4540-a749-28b39b6ad18e",
   "metadata": {},
   "source": [
    "The \"+method() : void\" bit means that class A has a public method named \"method\" that returns void, takes no parameters. \n",
    "\n",
    "When a class implements an interface we depict it with dashed lines. Here is an example. "
   ]
  },
  {
   "cell_type": "code",
   "execution_count": 6,
   "id": "85ed9f5a-5170-4f8e-a9fd-eb7ea495e900",
   "metadata": {},
   "outputs": [],
   "source": [
    "interface I {\n",
    "    public int toImplement(int x);\n",
    "}\n",
    "\n",
    "class A implements I {\n",
    "    public int toImplement(int x) {\n",
    "        return x+1;\n",
    "    }\n",
    "}"
   ]
  },
  {
   "cell_type": "markdown",
   "id": "52504814-a375-4fa9-81c4-014fff45dc2e",
   "metadata": {},
   "source": [
    "![di](https://i.ibb.co/mRFvwLR/Class.png)"
   ]
  },
  {
   "cell_type": "markdown",
   "id": "55f974ff-642c-4418-909b-bc1eaff25aa5",
   "metadata": {},
   "source": [
    "### Exercise 1"
   ]
  },
  {
   "cell_type": "markdown",
   "id": "309c026e-6ccb-47d3-9c75-e7a16096435b",
   "metadata": {},
   "source": [
    "<span style=\"color:blue\"> The purpose of this exercise is to see that once we add interfaces to the inheritance tree things change a little bit. It is supposed to contrast the preceding exercise sheet. </span>"
   ]
  },
  {
   "cell_type": "markdown",
   "id": "d4b3c218-d4f0-40c2-b9fc-55dbbadab6a6",
   "metadata": {},
   "source": [
    "Write the code for the following diagram of empty interfaces.\n",
    "\n",
    "![dig](https://i.ibb.co/W5MFySs/Class.png)"
   ]
  },
  {
   "cell_type": "code",
   "execution_count": 1,
   "id": "717e72fb-e613-44f1-95cc-99b18c1578eb",
   "metadata": {},
   "outputs": [],
   "source": [
    "interface X {}\n",
    "interface Z {}\n",
    "interface Y extends X, Z {}"
   ]
  },
  {
   "cell_type": "markdown",
   "id": "5de90bbf-408f-4641-9fe5-093f476db098",
   "metadata": {},
   "source": [
    "Draw the diagram for the following code."
   ]
  },
  {
   "cell_type": "code",
   "execution_count": 2,
   "id": "bc77981f-535f-40cc-86ab-c012c807df1f",
   "metadata": {},
   "outputs": [],
   "source": [
    "interface B {\n",
    "\n",
    "}\n",
    "interface Y extends B {\n",
    "\n",
    "}\n",
    "interface X extends Y {\n",
    "\n",
    "}\n",
    "interface A extends X,B {\n",
    "\n",
    "}"
   ]
  },
  {
   "cell_type": "markdown",
   "id": "3ee6d121-cf59-459f-a9c0-b0e47c77d374",
   "metadata": {},
   "source": [
    "<span style=\"color:blue\"> The diagram looks something like this: </span>"
   ]
  },
  {
   "cell_type": "markdown",
   "id": "afe12f88-5d06-4243-bc12-e3ee7d465a2c",
   "metadata": {},
   "source": [
    "![img](https://i.ibb.co/rpJ0FNd/image.png)"
   ]
  },
  {
   "cell_type": "markdown",
   "id": "1128027f-050c-4155-a7cf-d9e792eac260",
   "metadata": {},
   "source": [
    "Is the \"B\" in \"extends X,B\" superfluous? Explain why. "
   ]
  },
  {
   "cell_type": "markdown",
   "id": "0b83af27-726f-4236-9e27-99b703448016",
   "metadata": {},
   "source": [
    "<span style=\"color:blue\"> It is. Because 'A' is already a subtype of 'B', since 'X' is a subtype of 'Y' and 'Y' is a subtype of 'B' </span> "
   ]
  },
  {
   "cell_type": "markdown",
   "id": "6b61c6cc-c4e1-44a6-971e-5f8bc72e52f9",
   "metadata": {},
   "source": [
    "### Exercise 2"
   ]
  },
  {
   "cell_type": "markdown",
   "id": "33709563-ff01-4d4c-8763-59f3710cb757",
   "metadata": {},
   "source": [
    "Write the code for the following diagram.\n",
    "![d](https://i.ibb.co/552wwxz/Class.png)"
   ]
  },
  {
   "cell_type": "code",
   "execution_count": 4,
   "id": "4137ce23-8183-4b21-b7fb-f27fc15c9a37",
   "metadata": {},
   "outputs": [],
   "source": [
    "interface X {} \n",
    "interface SplitA extends X {\n",
    "    public void methodA();\n",
    "}\n",
    "interface SplitB extends X {\n",
    "    public void methodB();\n",
    "}\n",
    "class Implementation implements SplitA, SplitB {\n",
    "    public void methodA() {}\n",
    "    public void methodB() {}\n",
    "}"
   ]
  },
  {
   "cell_type": "markdown",
   "id": "70555982-d3ab-44db-9cd9-e67797487bbb",
   "metadata": {},
   "source": [
    "Answer the following questions by experimenting with the code:\n",
    "* Is any arrow superfluous? \n",
    "* Which arrow's direction can you reverse and have the code still compile? \n",
    "* Instead of the \"Implementation\" class, suppose that we have \"interface Z extends SplitA, SplitB {} \". Answer the two questions above for this new diagram. "
   ]
  },
  {
   "cell_type": "markdown",
   "id": "20aba3f2-5fa3-4251-945e-f6aff55a6df6",
   "metadata": {},
   "source": [
    "<span style=\"color:blue\"> Reversing the 'implements' dashed arrows does not make any sense because an interface cannot implement a class. However the two other arrows can be reversed. Let us test it.  </span> "
   ]
  },
  {
   "cell_type": "code",
   "execution_count": 5,
   "id": "a5751b7f-4787-48e2-92f0-9e1234115abc",
   "metadata": {},
   "outputs": [],
   "source": [
    "interface SplitA {\n",
    "    public void methodA();\n",
    "}\n",
    "interface X extends SplitA {}\n",
    "interface SplitB extends X {\n",
    "    public void methodB();\n",
    "}\n",
    "class Implementation implements SplitA, SplitB {\n",
    "    public void methodA() {}\n",
    "    public void methodB() {}\n",
    "}"
   ]
  },
  {
   "cell_type": "markdown",
   "id": "d36235ea-48c0-4eec-933d-814ee639ac7d",
   "metadata": {},
   "source": [
    "<span style=\"color:blue\"> If instead of having a class that implements the interfaces we had another interface, then any arrow can be reversed as long as the resulting graph does not have any cycles. For example: </span>"
   ]
  },
  {
   "cell_type": "code",
   "execution_count": 6,
   "id": "4dca3ec0-4fa4-4bc4-9248-9e8923c2bd0b",
   "metadata": {},
   "outputs": [],
   "source": [
    "interface X {}\n",
    "interface I {}\n",
    "interface SplitA extends X, I {\n",
    "    public void methodA();\n",
    "}\n",
    "interface SplitB extends X, I {\n",
    "    public void methodB();\n",
    "}"
   ]
  },
  {
   "cell_type": "markdown",
   "id": "9f1af7c3-da27-491c-93fe-f9aa8fc60c6f",
   "metadata": {},
   "source": [
    "### Exercise 3"
   ]
  },
  {
   "cell_type": "markdown",
   "id": "1059db8f-1f7b-4be8-9171-552457ac14ca",
   "metadata": {},
   "source": [
    "Draw a diagram for the following code."
   ]
  },
  {
   "cell_type": "code",
   "execution_count": 10,
   "id": "12c0da30-cd21-4b3c-aebd-172eecf02623",
   "metadata": {},
   "outputs": [],
   "source": [
    "interface I {\n",
    "    int successor(int x);\n",
    "}\n",
    "interface J extends I {\n",
    "    int square(int x);\n",
    "}\n",
    "class Implementation implements I {\n",
    "    public int successor(int x) { return x+1; }\n",
    "}\n",
    "class FurtherImplementation extends Implementation implements J {\n",
    "    public int square(int x) { return x*x; }\n",
    "}"
   ]
  },
  {
   "cell_type": "markdown",
   "id": "58470da7-8fba-42a7-965e-250ce8b150e4",
   "metadata": {},
   "source": [
    "![diag](https://i.ibb.co/MsXhr85/image.png)"
   ]
  },
  {
   "cell_type": "markdown",
   "id": "5ad664e9-269e-4aef-b5f0-5285cdad6cb0",
   "metadata": {
    "tags": []
   },
   "source": [
    "## Polymorphism"
   ]
  },
  {
   "cell_type": "markdown",
   "id": "248e0d5e-7941-43ee-90f5-8049330224fb",
   "metadata": {},
   "source": [
    "### Exercise 4"
   ]
  },
  {
   "cell_type": "code",
   "execution_count": 8,
   "id": "f9007383-c355-4b4a-b15e-5fedb2ead17f",
   "metadata": {},
   "outputs": [],
   "source": [
    "class X {\n",
    "    public void simpleMethod() {\n",
    "        System.out.println(\"Original method\");\n",
    "    }\n",
    "}\n",
    "class Y extends X {\n",
    "    public void simpleMethod() {\n",
    "        System.out.println(\"New method in Y\");\n",
    "    }\n",
    "}"
   ]
  },
  {
   "cell_type": "markdown",
   "id": "5b934c15-567f-456a-8eb1-9e4be5f51b81",
   "metadata": {},
   "source": [
    "What will the following call output? Answer before running it.  "
   ]
  },
  {
   "cell_type": "markdown",
   "id": "bd95755f-3e99-4858-b145-7e1aa9f0d2c8",
   "metadata": {},
   "source": [
    "<span style=\"color:blue\"> Even though 'x' is of type 'X', it is assigned an object reference of type 'Y'. Therefore when 'x.simpleMethod()' is called the actual body of the method should be the one in class 'Y'. So the output should be \"new method in y\". </span>"
   ]
  },
  {
   "cell_type": "code",
   "execution_count": 9,
   "id": "90a307af-7d0d-4877-a8f1-efab2ad508b6",
   "metadata": {},
   "outputs": [
    {
     "name": "stdout",
     "output_type": "stream",
     "text": [
      "New method in Y\n"
     ]
    }
   ],
   "source": [
    "X x = new Y(); \n",
    "x.simpleMethod();"
   ]
  },
  {
   "cell_type": "markdown",
   "id": "f40c7447-0945-44da-b2ea-1575e3328595",
   "metadata": {},
   "source": [
    "What about the results of the two following calls?"
   ]
  },
  {
   "cell_type": "markdown",
   "id": "2013ce3c-ba38-48af-a23a-6678247e5652",
   "metadata": {},
   "source": [
    "<span style=\"color:blue\"> These two variables are simply of respective types 'X' and 'Y' and they are assigned objects of the same type so the resulting outputs should be \"original method\" followed by \"new method in y\". </span>"
   ]
  },
  {
   "cell_type": "code",
   "execution_count": 10,
   "id": "32da92ca-2cfd-4f93-a47d-6ecea2128e92",
   "metadata": {},
   "outputs": [
    {
     "name": "stdout",
     "output_type": "stream",
     "text": [
      "Original method\n",
      "New method in Y\n"
     ]
    }
   ],
   "source": [
    "X x = new X(); \n",
    "x.simpleMethod();\n",
    "\n",
    "Y y = new Y();\n",
    "y.simpleMethod();"
   ]
  },
  {
   "cell_type": "markdown",
   "id": "74985dbf-1a25-4922-958e-ebfbe07cc4d8",
   "metadata": {},
   "source": [
    "Why does the following code not compile?"
   ]
  },
  {
   "cell_type": "code",
   "execution_count": 15,
   "id": "1bc70d9d-0f17-490d-8db7-40fea8559fb5",
   "metadata": {},
   "outputs": [
    {
     "ename": "CompilationException",
     "evalue": "",
     "output_type": "error",
     "traceback": [
      "\u001b[1m\u001b[30m|   \u001b[1m\u001b[30mY y = \u001b[0m\u001b[1m\u001b[30m\u001b[41mnew X()\u001b[0m\u001b[1m\u001b[30m;\u001b[0m",
      "\u001b[1m\u001b[31mincompatible types: X cannot be converted to Y\u001b[0m",
      ""
     ]
    }
   ],
   "source": [
    "Y y = new X();"
   ]
  },
  {
   "cell_type": "markdown",
   "id": "af73a221-fd3d-42d6-a372-be08e99a2772",
   "metadata": {},
   "source": [
    "<span style=\"color:blue\"> We are trying to assign an object of type 'X' to a variable of type 'Y'. Since 'Y' is not a superclass of 'X' (indeed it is a *subclass*), the compiler does complains. </span>"
   ]
  },
  {
   "cell_type": "markdown",
   "id": "a8ec80e1-3ec8-441c-b780-7633a51dec17",
   "metadata": {},
   "source": [
    "### Exercise 5"
   ]
  },
  {
   "cell_type": "markdown",
   "id": "1bebd6f7-1a79-41cc-9333-9d98fc68e360",
   "metadata": {},
   "source": [
    "<span style=\"color:blue\"> The purpose of this exercise is to see what happens when some of the methods are overriden but others are not. </span> "
   ]
  },
  {
   "cell_type": "code",
   "execution_count": 12,
   "id": "290b53d7-56e0-4172-a0c4-e53eb6c88dd7",
   "metadata": {},
   "outputs": [],
   "source": [
    "// Z -> Y -> X\n",
    "\n",
    "class X {\n",
    "    public void m1() {\n",
    "        System.out.println(\"Original method m1\");\n",
    "    }\n",
    "    public void m2() {\n",
    "        System.out.println(\"Original method m2\");\n",
    "    }\n",
    "}\n",
    "class Y extends X {\n",
    "    public void m2() {\n",
    "        System.out.println(\"Overwritten in Y\");\n",
    "    }\n",
    "}\n",
    "class Z extends Y {\n",
    "    public void m1() {\n",
    "        System.out.println(\"Overwritten in Z\");\n",
    "    }\n",
    "}"
   ]
  },
  {
   "cell_type": "markdown",
   "id": "f8acec5a-4a9b-4936-9707-39187ec95ff4",
   "metadata": {},
   "source": [
    "What is the result of the following call?"
   ]
  },
  {
   "cell_type": "markdown",
   "id": "b0908de0-c8d6-403f-bc7a-0bf7a4c21596",
   "metadata": {},
   "source": [
    "<span style=\"color:blue\"> 'var' is of type 'X' holding an object reference of type 'Z'. When the method 'm2()' is called it will see that the class 'Z' has not overwritten the method, so it will revert to the method in the super class of 'Z', which happens to be  'Y'. This class has a method named 'm2', and this one will be called, outputting \"overwritten in y\". The method 'm1()' has been overwritten however so the second line will output \"overwritten in Z\". </span>"
   ]
  },
  {
   "cell_type": "code",
   "execution_count": 13,
   "id": "03f504e0-56b8-471f-9ae1-0d1505d90613",
   "metadata": {},
   "outputs": [
    {
     "name": "stdout",
     "output_type": "stream",
     "text": [
      "Overwritten in Y\n",
      "Overwritten in Z\n"
     ]
    }
   ],
   "source": [
    "X var = new Z();\n",
    "var.m2();\n",
    "var.m1();"
   ]
  },
  {
   "cell_type": "markdown",
   "id": "eebc5e3b-6337-4818-90a8-dd20a5c18057",
   "metadata": {},
   "source": [
    "What about the following?"
   ]
  },
  {
   "cell_type": "markdown",
   "id": "ec6e63a5-1840-4146-b042-dea30012738b",
   "metadata": {},
   "source": [
    "<span style=\"color:blue\"> The only difference in this example is that the type is 'Z' now. But for polymorphism / dynamic dispatch/ dynamic binding, this does not play a role, so the outputs should be identical to the example above. </span>"
   ]
  },
  {
   "cell_type": "code",
   "execution_count": 14,
   "id": "791be5d3-e290-4c56-9f67-437d5ea0d60c",
   "metadata": {},
   "outputs": [
    {
     "name": "stdout",
     "output_type": "stream",
     "text": [
      "Overwritten in Y\n",
      "Overwritten in Z\n"
     ]
    }
   ],
   "source": [
    "Z anotherVar = new Z();\n",
    "anotherVar.m2();\n",
    "anotherVar.m1();"
   ]
  },
  {
   "cell_type": "markdown",
   "id": "6df1a217-5f22-482f-9341-a05a82cd4b97",
   "metadata": {},
   "source": [
    "Which object do you have to construct and call m1 for, so that it outputs \"Original method m1\" ? "
   ]
  },
  {
   "cell_type": "markdown",
   "id": "50c7325f-bbc3-4a72-bf31-4503541e4735",
   "metadata": {},
   "source": [
    "<span style=\"color:blue\"> The implementation of the method m1() that outputs \"original method m1\" is called only for objects of type 'Y' or those of type 'X'. </span>"
   ]
  },
  {
   "cell_type": "code",
   "execution_count": 15,
   "id": "44ce9bae-f239-47c8-a6cb-25d0201c7c6b",
   "metadata": {},
   "outputs": [
    {
     "name": "stdout",
     "output_type": "stream",
     "text": [
      "Original method m1\n",
      "Original method m1\n"
     ]
    }
   ],
   "source": [
    "X a = new X();\n",
    "Y b = new Y();\n",
    "a.m1();\n",
    "b.m1();"
   ]
  },
  {
   "cell_type": "markdown",
   "id": "70bc1ca0-12e6-43dc-a91d-24847fc378fa",
   "metadata": {},
   "source": [
    "### Exercise 6"
   ]
  },
  {
   "cell_type": "markdown",
   "id": "395e9d7e-9408-4032-bfd1-51b5016a2de2",
   "metadata": {},
   "source": [
    "Why does the following code not compile? How do you fix it? "
   ]
  },
  {
   "cell_type": "code",
   "execution_count": 16,
   "id": "64f7ebf9-60d0-4973-901b-4697652b39a9",
   "metadata": {},
   "outputs": [
    {
     "ename": "CompilationException",
     "evalue": "",
     "output_type": "error",
     "traceback": [
      "\u001b[1m\u001b[30m|   \u001b[1m\u001b[30m\u001b[0m\u001b[1m\u001b[30m\u001b[41m\u001b[0m",
      "\u001b[1m\u001b[30m|   \u001b[1m\u001b[30m\u001b[41mclass SomeImplementation implements J {\u001b[0m",
      "\u001b[1m\u001b[30m|   \u001b[1m\u001b[30m\u001b[41m    public int add(int x, int y) { return x+y; }\u001b[0m",
      "\u001b[1m\u001b[30m|   \u001b[1m\u001b[30m\u001b[41m}\u001b[0m",
      "\u001b[1m\u001b[31mSomeImplementation is not abstract and does not override abstract method square(int) in I\u001b[0m",
      ""
     ]
    }
   ],
   "source": [
    "interface I {\n",
    "    int square(int x);\n",
    "}\n",
    "interface J extends I {\n",
    "    int add(int x, int y);\n",
    "}\n",
    "class SomeImplementation implements J {\n",
    "    public int add(int x, int y) { return x+y; }\n",
    "}"
   ]
  },
  {
   "cell_type": "markdown",
   "id": "a2877d27-f473-4bec-9649-8502973ccd5d",
   "metadata": {},
   "source": [
    "<span style=\"color:blue\"> Interface 'J' extends interface 'I', so any class that implements 'J' needs also to implement the methods in 'I', the compiler is saying as much. To fix it we need to implement also the method 'square'. </span>"
   ]
  },
  {
   "cell_type": "code",
   "execution_count": 17,
   "id": "5bed63cb-3c63-42f4-88ed-f40241263375",
   "metadata": {},
   "outputs": [],
   "source": [
    "class SomeImplementation implements J {\n",
    "    public int add(int x, int y) { return x+y; }\n",
    "    public int square(int x) {return x*x; }\n",
    "}"
   ]
  }
 ],
 "metadata": {
  "kernelspec": {
   "display_name": "Java",
   "language": "java",
   "name": "java"
  },
  "language_info": {
   "codemirror_mode": "java",
   "file_extension": ".jshell",
   "mimetype": "text/x-java-source",
   "name": "Java",
   "pygments_lexer": "java",
   "version": "11.0.8+10-LTS"
  }
 },
 "nbformat": 4,
 "nbformat_minor": 5
}
