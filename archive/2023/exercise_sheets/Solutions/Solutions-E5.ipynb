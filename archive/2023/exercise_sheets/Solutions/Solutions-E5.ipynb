{
 "cells": [
  {
   "cell_type": "markdown",
   "id": "0c761af2-f82c-4e7c-b02e-df2bd6a50ae4",
   "metadata": {},
   "source": [
    "# Exercise Sheet 5 - <span style=\"color:blue\"> Solutions </span>"
   ]
  },
  {
   "cell_type": "markdown",
   "id": "f3e9f37f-1930-47ce-b0e1-1e1dc731c98d",
   "metadata": {},
   "source": [
    "We will write some simple classes with getter, setter and other accessor methods. "
   ]
  },
  {
   "cell_type": "markdown",
   "id": "d274497b-9ab9-458a-99d8-b5b9ad654c4a",
   "metadata": {},
   "source": [
    "## Exercise 1"
   ]
  },
  {
   "cell_type": "markdown",
   "id": "87dcebe8-c961-48db-b843-88327c2dda4a",
   "metadata": {},
   "source": [
    "In classical physics \"work\" is defined to be *the application of force along a displacement*. It has many units; The SI unit is joule (J) or newton * meter. There are other units, such as foot * pound, Calorie (=kcal), etc. \n",
    "\n",
    "Write a class named Work, that has a private field \"quantity\" of type double, that keeps the quantity of work in newton * meter. Write getter and setter methods for this field. Also write getter and setter methods for foot * pound, and calorie (but do not store these values as fields). Consult their wikipedia pages to see how you can convert from one unit to another. "
   ]
  },
  {
   "cell_type": "code",
   "execution_count": 3,
   "id": "06b7e7b6-cfad-4eaa-8b9f-9e839107135a",
   "metadata": {},
   "outputs": [],
   "source": [
    "class Work {\n",
    "    // this is the quantity stored in the joule (newton * meter) units.\n",
    "    private double quantity = 0;\n",
    "    \n",
    "    public void set_joule(double x) {\n",
    "        quantity = x;\n",
    "    }\n",
    "    public double get_joule() {\n",
    "        return quantity;\n",
    "    }\n",
    "    \n",
    "    public void set_foot_pound(double x) {\n",
    "        quantity = x / 0.7376; \n",
    "    }\n",
    "    public double get_foot_pound() {\n",
    "        return quantity * 0.7376; \n",
    "    }\n",
    "    public void set_Calorie(double x) {\n",
    "        quantity = x * 10000 / 2.390;\n",
    "    }\n",
    "    public double get_Calorie() {\n",
    "        return quantity * 2.390 / 10000;\n",
    "    }\n",
    "}"
   ]
  },
  {
   "cell_type": "code",
   "execution_count": 4,
   "id": "976e4f6a-2a97-43de-bf38-f2f88a343744",
   "metadata": {
    "tags": []
   },
   "outputs": [
    {
     "name": "stdout",
     "output_type": "stream",
     "text": [
      "You need to eat at least 3.2402386117136657 calories to be able to lift an object of 100 pounds up 100 feet\n"
     ]
    }
   ],
   "source": [
    "// Write some tests here to make sure that your class is working correctly. \n",
    "Work w = new Work(); \n",
    "w.set_foot_pound(100*100); \n",
    "System.out.println(\"You need to eat at least \" + w.get_Calorie() + \n",
    "                   \" calories to be able to lift an object of 100 pounds up 100 feet\");"
   ]
  },
  {
   "cell_type": "markdown",
   "id": "76961db6-d084-42da-b700-fe00bdff0c56",
   "metadata": {},
   "source": [
    "## Exercise 2"
   ]
  },
  {
   "cell_type": "markdown",
   "id": "7e6e4d73-b2e9-4d1b-bdc7-c15f3095801f",
   "metadata": {},
   "source": [
    "Similar to the first exercise, we will write a simple class with getter and setter methods. This time, we will implement two classes, for a *circle*. A circle on the plane can be uniquely identified by any of the following properties: its radius, diameter, circumference, or surface area. \n",
    "\n",
    "First write the class CircleA, that stores just the radius, as a private field. This class should provide getter and setter methods for all the properties above. I.e. for the radius, diameter, circumference and surface area."
   ]
  },
  {
   "cell_type": "code",
   "execution_count": 15,
   "id": "61601790-a473-4bc0-965b-4ada38b3cfbf",
   "metadata": {},
   "outputs": [],
   "source": [
    "class CircleA {\n",
    "    private double radius = 0;\n",
    "    \n",
    "    public double get_diameter() {\n",
    "        return radius * 2; \n",
    "    }\n",
    "    public void set_diameter(double x) {\n",
    "        radius = x/2;\n",
    "    }\n",
    "    public double get_circumference() {\n",
    "        return 2 * Math.PI * radius;\n",
    "    }\n",
    "    public void set_circumference(double x) {\n",
    "        radius = x / (2 * Math.PI);\n",
    "    }\n",
    "    public double get_area() {\n",
    "        return Math.PI * radius * radius; \n",
    "    }\n",
    "    public void set_area(double x) {\n",
    "        radius = Math.sqrt(x/Math.PI);\n",
    "    }\n",
    "    public void set_radius(double x) {\n",
    "        radius = x;\n",
    "    }\n",
    "    public double get_radius() {\n",
    "        return radius;\n",
    "    }\n",
    "}"
   ]
  },
  {
   "cell_type": "code",
   "execution_count": 16,
   "id": "4bf56bc9-44f9-415f-b136-0d8e980019db",
   "metadata": {},
   "outputs": [
    {
     "name": "stdout",
     "output_type": "stream",
     "text": [
      "A circle of radius 5 has a surface area of approximately 78.53981633974483\n",
      "But if you want a circle of area 5, it will have to be of approximate radius 1.2615662610100802\n"
     ]
    }
   ],
   "source": [
    "// Test your class here. E.g.\n",
    "CircleA c = new CircleA();\n",
    "c.set_radius(5);\n",
    "System.out.println(\"A circle of radius 5 has a surface area of approximately \" + c.get_area()); \n",
    "\n",
    "c.set_area(5);\n",
    "System.out.println(\"But if you want a circle of area 5, it will have to be of approximate radius \" + c.get_radius());"
   ]
  },
  {
   "cell_type": "markdown",
   "id": "940ebd26-2d7e-4a0c-9261-1c38a1914df6",
   "metadata": {},
   "source": [
    "Write also another implementation of circle, called CircleB. It is the same as the one you wrote above, but instead of storing only the radius, store only the circumference. "
   ]
  },
  {
   "cell_type": "code",
   "execution_count": 9,
   "id": "a4dfec19-e964-42ea-b8b8-cf37ab4290c0",
   "metadata": {},
   "outputs": [],
   "source": [
    "class CircleB {\n",
    "    // ...\n",
    "}"
   ]
  },
  {
   "cell_type": "markdown",
   "id": "40a5457c-61cf-4ec6-bde3-5177f2c6e8be",
   "metadata": {},
   "source": [
    "## Exercise 3"
   ]
  },
  {
   "cell_type": "markdown",
   "id": "29426daf-2922-480d-bac4-d713438d58d8",
   "metadata": {},
   "source": [
    "In this class we will implement a **Stack** of Strings class. A stack is a FILO (First In Last Out) data structure, that has two methods: *push* and *pop*. It works as follows. \n",
    "\n",
    "In essence a stack of strings is a list of strings. For example [\"string1\", \"string2\", \"string3\"]. The push method adds to the list, and the pop method removes from it, in a way that is made clear from the following example.\n",
    "\n",
    "At first the stack is empty: \n",
    "\n",
    "[]\n",
    "\n",
    "If we do a push(\"a\"), it becomes\n",
    "\n",
    "[\"a\"]\n",
    "\n",
    "If we do again push(\"b\"), it becomes\n",
    "\n",
    "[\"a\", \"b\"]\n",
    "\n",
    "If we do x = pop(); it becomes\n",
    "\n",
    "[\"a\"], \n",
    "\n",
    "and the variable x takes the value \"b\"."
   ]
  },
  {
   "cell_type": "markdown",
   "id": "089c6132-6608-4e62-a504-13a64859c3f8",
   "metadata": {},
   "source": [
    "Implement a class named Stack, that has: \n",
    "1. As a private variable holding an array of strings\n",
    "1. A private variable that points to the next free place in the array (the top of the stack)\n",
    "2. A constructor Stack(int n) that initializes the array to one of size 'n'. \n",
    "3. A method public boolean push(String s) that pushes 's' to the array if the latter is not full, and returns true. Or returns false if the array is full. \n",
    "4. A method public String pop(), that pops the top string if the array is not empty, and returns null if it is empty."
   ]
  },
  {
   "cell_type": "markdown",
   "id": "79f37a3b-2a2e-43db-b395-f90beaec4f56",
   "metadata": {},
   "source": [
    "<span style=\"color:blue\"> The specification does most of the work for us. </span>"
   ]
  },
  {
   "cell_type": "code",
   "execution_count": 61,
   "id": "89703483-eeca-4254-83c1-fc04c6bf0332",
   "metadata": {},
   "outputs": [],
   "source": [
    "class Stack {\n",
    "    private String[] xs;\n",
    "    private int nextFree; // or top of the stack\n",
    "    \n",
    "    Stack(int n) {\n",
    "        xs = new String[n];\n",
    "        nextFree = 0; // the first place we can push is the index 0\n",
    "    }\n",
    "    public boolean push(String s) {\n",
    "        if (nextFree == xs.length) return false; // if the stack is full\n",
    "        \n",
    "        xs[nextFree] = s;\n",
    "        nextFree++;\n",
    "        return true;\n",
    "    }\n",
    "    \n",
    "    public String pop() {\n",
    "        if (nextFree == 0) return null; // if the stack is empty\n",
    "        \n",
    "        nextFree--;\n",
    "        return xs[nextFree];\n",
    "    }\n",
    "}"
   ]
  },
  {
   "cell_type": "code",
   "execution_count": 62,
   "id": "fed1ef68-bebf-4b4b-83ed-fca171cd0d38",
   "metadata": {},
   "outputs": [
    {
     "name": "stdout",
     "output_type": "stream",
     "text": [
      "c\n",
      "b\n",
      "a\n"
     ]
    }
   ],
   "source": [
    "// Write some code here to test your stack. \n",
    "Stack s = new Stack(5);\n",
    "s.push(\"a\"); s.push(\"b\"); s.push(\"c\");\n",
    "for(int i = 0; i < 3 ; i++) System.out.println(s.pop());"
   ]
  },
  {
   "cell_type": "markdown",
   "id": "e3f2f1eb-dffd-460d-943e-34e3f17e0f7e",
   "metadata": {},
   "source": [
    "## Exercise 4 (🌶️)"
   ]
  },
  {
   "cell_type": "markdown",
   "id": "f71ec8ef-3296-4ee9-8a4b-f085bbe78685",
   "metadata": {},
   "source": [
    "Write another version of the `Stack` class, where you implement the method push in another way: When push(s) is called and there is no space in the array, you make space, i.e. you create a new, larger, array. You copy the values, and push 's' to it. Push should now always return true."
   ]
  },
  {
   "cell_type": "code",
   "execution_count": 63,
   "id": "0d3db149-0f75-4272-8f76-162a654fea79",
   "metadata": {},
   "outputs": [],
   "source": [
    "class Stack {\n",
    "    private String[] xs;\n",
    "    private int nextFree;\n",
    "    \n",
    "    Stack(int n) {\n",
    "        xs = new String[n];\n",
    "        nextFree = 0;\n",
    "    }\n",
    "    public boolean push(String s) {\n",
    "        if (nextFree == xs.length) { \n",
    "            // if the stack is full\n",
    "            // create a new array with one more space\n",
    "            String[] t = new String[nextFree+1];\n",
    "            // copy the current array xs to the new array t\n",
    "            for(int i = 0; i < xs.length; i++)\n",
    "                t[i] = xs[i];\n",
    "            xs = t; // finally t is the new array\n",
    "        }\n",
    "        xs[nextFree] = s;\n",
    "        nextFree++;\n",
    "        return true;\n",
    "    }\n",
    "    \n",
    "    public String pop() {\n",
    "        if (nextFree == 0) return null;\n",
    "        \n",
    "        nextFree--;\n",
    "        return xs[nextFree];\n",
    "    }\n",
    "}"
   ]
  },
  {
   "cell_type": "code",
   "execution_count": 64,
   "id": "98449793-a2cd-46bb-8774-5da60ae1a2ce",
   "metadata": {},
   "outputs": [
    {
     "name": "stdout",
     "output_type": "stream",
     "text": [
      "Numbers in reverse\n",
      "9\n",
      "8\n",
      "7\n",
      "6\n",
      "5\n",
      "4\n",
      "3\n",
      "2\n",
      "1\n",
      "0\n"
     ]
    }
   ],
   "source": [
    "// Try it out. \n",
    "Stack s = new Stack(1); \n",
    "\n",
    "System.out.println(\"Numbers in reverse\");\n",
    "for(int i = 0; i < 10; i++)\n",
    "    s.push(Integer.toString(i));\n",
    "for(int i = 0; i < 10; i++)\n",
    "    System.out.println(s.pop());\n"
   ]
  },
  {
   "cell_type": "markdown",
   "id": "b5e0a1c1-f3a6-47b1-b2fe-57869efa39c8",
   "metadata": {},
   "source": [
    "## Exercise 5 (Extra 🌶️)\n",
    "    \n",
    "Add a zero-argument constructor to your Stack class that creates a stack whose initial array is the size of an 'average stack', where the average is based on previous stack object use. \n",
    "\n",
    "Use \n",
    "a private instance variable to keep the high-tide (largest number of items held) of each stack\n",
    "and use private static variables to keep statistics of stack high-tides (number of stacks collected, sum of hide-tides of collected Stacks). \n",
    "Override `finalize()` to update the statistics each time a Stack is collected."
   ]
  },
  {
   "cell_type": "code",
   "execution_count": 12,
   "id": "1da10bfd-99cd-4b7a-8e04-69de466aae35",
   "metadata": {},
   "outputs": [],
   "source": [
    "//  Call System.gc() to prompt the garbage collector when testing"
   ]
  },
  {
   "cell_type": "code",
   "execution_count": 73,
   "id": "153554b7-7a8a-4a90-a2f4-30079b57fad3",
   "metadata": {},
   "outputs": [],
   "source": [
    "class Stack {\n",
    "    private String[] xs;\n",
    "    private int nextFree;\n",
    "    \n",
    "    // What is the average stack that we have constructed\n",
    "    static int averageSize = 0;\n",
    "    // What is the number of stacks that we have constructed\n",
    "    static int sumOfStacks = 0;\n",
    "    // What is the sum of the maximal sizes of the stacks that we have constructed\n",
    "    static int sumOfTides  = 0;\n",
    "    \n",
    "    Stack(int n) {\n",
    "        System.out.println(\"Creating a stack of size: \" + n);\n",
    "        xs = new String[n];\n",
    "        nextFree = 0;\n",
    "    }\n",
    "    \n",
    "    Stack() {\n",
    "        this(averageSize);\n",
    "    }\n",
    "    \n",
    "    protected void finalize() {\n",
    "        // We update the static fields before the object is collected. \n",
    "        sumOfTides += nextFree; \n",
    "        sumOfStacks++;\n",
    "        averageSize = sumOfTides / sumOfStacks;\n",
    "    }\n",
    "    \n",
    "    public boolean push(String s) {\n",
    "        if (nextFree == xs.length) {\n",
    "            String[] t = new String[nextFree+1];\n",
    "            for(int i = 0; i < xs.length; i++)\n",
    "                t[i] = xs[i];\n",
    "            xs = t;\n",
    "        }\n",
    "        xs[nextFree] = s;\n",
    "        nextFree++;\n",
    "        return true;\n",
    "    }\n",
    "    \n",
    "    public String pop() {\n",
    "        if (nextFree == 0) return null;\n",
    "        \n",
    "        nextFree--;\n",
    "        return xs[nextFree];\n",
    "    }\n",
    "}"
   ]
  },
  {
   "cell_type": "code",
   "execution_count": 76,
   "id": "3c368814-ade3-4de5-bd1a-2c7db62dfb74",
   "metadata": {},
   "outputs": [
    {
     "name": "stdout",
     "output_type": "stream",
     "text": [
      "Creating a stack of size: 15\n",
      "Creating a stack of size: 14\n"
     ]
    }
   ],
   "source": [
    "Stack s = new Stack();\n",
    "for(int i = 0; i < 10; i++)\n",
    "    s.push(\"a\");\n",
    "s = null;\n",
    "System.gc();\n",
    "s = new Stack();\n",
    "for(int i = 0; i < 20; i++)\n",
    "    s.push(\"a\");\n",
    "s = null;\n",
    "System.gc();\n"
   ]
  },
  {
   "cell_type": "code",
   "execution_count": null,
   "id": "534fa0ed-eac3-4894-8bba-5b9afee272c8",
   "metadata": {},
   "outputs": [],
   "source": []
  }
 ],
 "metadata": {
  "kernelspec": {
   "display_name": "Java",
   "language": "java",
   "name": "java"
  },
  "language_info": {
   "codemirror_mode": "java",
   "file_extension": ".jshell",
   "mimetype": "text/x-java-source",
   "name": "Java",
   "pygments_lexer": "java",
   "version": "11.0.8+10-LTS"
  }
 },
 "nbformat": 4,
 "nbformat_minor": 5
}
