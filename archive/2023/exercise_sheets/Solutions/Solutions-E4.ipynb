{
 "cells": [
  {
   "cell_type": "markdown",
   "id": "23f85899-7c54-4af6-a8a6-1ba659df79d5",
   "metadata": {},
   "source": [
    "# Exercise Sheet 4 - <span style=\"color:blue\"> Solutions </span>"
   ]
  },
  {
   "cell_type": "markdown",
   "id": "d7a76fa6-180c-4e6d-8ffb-06f7449b4959",
   "metadata": {
    "tags": []
   },
   "source": [
    "# Fields and method calls \n",
    "\n",
    "Consider the two classes below."
   ]
  },
  {
   "cell_type": "code",
   "execution_count": 2,
   "id": "6ff6c73d-84b3-4c1b-84bc-b10c0352241c",
   "metadata": {},
   "outputs": [],
   "source": [
    "class Num {\n",
    "    int x=0;\n",
    "    void increase() {\n",
    "        x++;\n",
    "    }\n",
    "}\n",
    "\n",
    "class Coordinates {\n",
    "    Num n,m; \n",
    "    \n",
    "    Coordinates() {\n",
    "        n = new Num();\n",
    "        m = new Num();\n",
    "    }\n",
    "    \n",
    "    public String toString() {\n",
    "        return \"n is \" + n.x + \"\\n\" + \"m is \" + m.x;\n",
    "    }\n",
    "}"
   ]
  },
  {
   "cell_type": "markdown",
   "id": "c5aa67c8-693f-47b3-8f6e-d4afedf89bbb",
   "metadata": {},
   "source": [
    "Suppose that given an object of Coordinates, I want to create a new one that switches n and m. "
   ]
  },
  {
   "cell_type": "code",
   "execution_count": 3,
   "id": "3d9828d0-b8e7-4865-b6af-75d8cc352211",
   "metadata": {},
   "outputs": [
    {
     "name": "stdout",
     "output_type": "stream",
     "text": [
      "n is 2\n",
      "m is 3\n",
      "n is 3\n",
      "m is 2\n"
     ]
    }
   ],
   "source": [
    "Coordinates c = new Coordinates();\n",
    "c.n.x = 2;\n",
    "c.m.x = 3;\n",
    "System.out.println(c);\n",
    "\n",
    "Coordinates cPrime = new Coordinates(); \n",
    "cPrime.n.x = c.m.x;\n",
    "cPrime.m.x = c.n.x;\n",
    "System.out.println(cPrime);"
   ]
  },
  {
   "cell_type": "markdown",
   "id": "e8276cb2-d8b5-47ec-a773-0a91188a17f4",
   "metadata": {},
   "source": [
    "## Exercise 1"
   ]
  },
  {
   "cell_type": "markdown",
   "id": "68955612-1848-4f8d-9eb9-7d938ad583b3",
   "metadata": {},
   "source": [
    "<span style=\"color:blue\"> The purpose of this exercise is to make you get used to referencing fields and methods of an object. When to use parenthesis, when what types the objects return etc. </span>"
   ]
  },
  {
   "cell_type": "markdown",
   "id": "64f32eff-5fec-427f-bd30-c9e92072c188",
   "metadata": {},
   "source": [
    "Extend the Coordinates class by adding methods \"get_n\" , \"get_m\",  that that return the respective object of Num. "
   ]
  },
  {
   "cell_type": "code",
   "execution_count": 6,
   "id": "ddd35c55-10a7-4bba-a0f7-bf70f1466a7b",
   "metadata": {},
   "outputs": [],
   "source": [
    "class BetterCoordinates extends Coordinates {\n",
    "    // add definition for get_n\n",
    "    Num get_n() { return n; }\n",
    "    \n",
    "    // add definition for get_m\n",
    "    Num get_m() { return m; }\n",
    "}"
   ]
  },
  {
   "cell_type": "markdown",
   "id": "1aeced96-282d-47db-bf8a-b2eb61c81cc6",
   "metadata": {},
   "source": [
    "Write the code that imitates the one that I wrote above, but without directly referring to the fields n and m, but rather using the methods get_n / get_m that you have defined above."
   ]
  },
  {
   "cell_type": "code",
   "execution_count": 7,
   "id": "496c9765-eee1-45ad-883d-cf5cfe87369a",
   "metadata": {},
   "outputs": [
    {
     "name": "stdout",
     "output_type": "stream",
     "text": [
      "n is 2\n",
      "m is 3\n",
      "n is 3\n",
      "m is 2\n"
     ]
    }
   ],
   "source": [
    "BetterCoordinates c = new BetterCoordinates();\n",
    "// Initialise c to have n = 2 and m = 3, using the get_ methods. \n",
    "c.get_n().x = 2;\n",
    "c.get_m().x = 3;\n",
    "System.out.println(c);\n",
    "\n",
    "BetterCoordinates cPrime = new BetterCoordinates();\n",
    "// Switch the two fields around. \n",
    "cPrime.get_n().x = c.get_m().x;\n",
    "cPrime.get_m().x = c.get_n().x;\n",
    "\n",
    "System.out.println(cPrime);"
   ]
  },
  {
   "cell_type": "markdown",
   "id": "c75ac28e-6b73-41cf-a17e-1f3c4020b6eb",
   "metadata": {},
   "source": [
    "# The superclass methods and constructors"
   ]
  },
  {
   "cell_type": "markdown",
   "id": "95829944-78cb-4102-917a-8bbaea4b3382",
   "metadata": {},
   "source": [
    "Consider the following three levels of classes:"
   ]
  },
  {
   "cell_type": "code",
   "execution_count": 8,
   "id": "84445e8c-f0ba-404d-82ac-ef5bc04fbdbd",
   "metadata": {},
   "outputs": [],
   "source": [
    "class X {\n",
    "    X() {\n",
    "        System.out.println(\"x\");\n",
    "    }\n",
    "}\n",
    "class Y extends X {\n",
    "    Y() {\n",
    "        System.out.println(\"y\");\n",
    "    }\n",
    "}\n",
    "class Z extends Y {\n",
    "    Z() {\n",
    "        System.out.println(\"z\");\n",
    "    }\n",
    "}"
   ]
  },
  {
   "cell_type": "markdown",
   "id": "ce47ab98-7615-44a1-a5fe-34fd0a6891c1",
   "metadata": {},
   "source": [
    "## Exercise 2"
   ]
  },
  {
   "cell_type": "markdown",
   "id": "dabd0f5d-30fe-4428-9201-fc1f9eede43c",
   "metadata": {},
   "source": [
    "What will \"new Z()\" print? \n",
    "\n",
    "(a) yzx, (b) zyx,  (c) xyz"
   ]
  },
  {
   "cell_type": "markdown",
   "id": "02742f3b-633a-4915-859a-cce2408cfe1d",
   "metadata": {},
   "source": [
    "<span style=\"color:blue\"> When the constructor for the class Z is called, before we get to the place where println is called, first, the constructor of the superclass is called. I.e. there is an implicit super() in the first line. The same happens in the constructor of Y. As a consequence first 'x' will be printed, then 'y', and finally 'z'. </span>"
   ]
  },
  {
   "cell_type": "code",
   "execution_count": 9,
   "id": "8e62d089-90b7-4c69-ad63-339f9ebba537",
   "metadata": {},
   "outputs": [
    {
     "name": "stdout",
     "output_type": "stream",
     "text": [
      "x\n",
      "y\n",
      "z\n"
     ]
    },
    {
     "data": {
      "text/plain": [
       "REPL.$JShell$37$Z@7d8ea0b0"
      ]
     },
     "execution_count": 9,
     "metadata": {},
     "output_type": "execute_result"
    }
   ],
   "source": [
    "new Z()"
   ]
  },
  {
   "cell_type": "markdown",
   "id": "065dd26a-0b8b-4c59-af52-4483c5883e3d",
   "metadata": {},
   "source": [
    "## Exercise 3"
   ]
  },
  {
   "cell_type": "markdown",
   "id": "f3966708-810e-46b6-8c16-7b3fbee8bbd1",
   "metadata": {},
   "source": [
    "Why is the following code not working? Fix it."
   ]
  },
  {
   "cell_type": "markdown",
   "id": "cb6a5fbb-ed13-4cb6-b76f-2a694a526c1d",
   "metadata": {},
   "source": [
    "<span style=\"color:blue\"> The reason that this snippet is not compiling is because when the constructor of Y is called, as we mentioned before, there is an implicit call to X(). However, now we see that the base class X does have a constructor, but the signature of this constructor is different: X(int) as opposed to X(). So the compiler is asking you to explicitly call the constructor of the base class before you move on. There are two ways one can fix this. Either create a constructor in X without any parameters X(). Or, call the X(int) constructor that we already have implemented. </span>"
   ]
  },
  {
   "cell_type": "code",
   "execution_count": 11,
   "id": "50eecdbc-1fb4-4bc5-a9f3-4d8c497c0f1b",
   "metadata": {},
   "outputs": [],
   "source": [
    "class X {\n",
    "    int id;\n",
    "    X(int i) {\n",
    "        id = i;\n",
    "    }\n",
    "}\n",
    "class Y extends X {\n",
    "    Y() {\n",
    "        // call the constructor of the base class with some default parameter. \n",
    "        super(0); \n",
    "        System.out.println(\"in y\");\n",
    "    }\n",
    "}"
   ]
  },
  {
   "cell_type": "markdown",
   "id": "f2b49c89-5396-4eba-a0a3-ffa0759a6f94",
   "metadata": {},
   "source": [
    "## Exercise 4"
   ]
  },
  {
   "cell_type": "markdown",
   "id": "9704baa4-f9f8-423a-9c49-03cd2943d82f",
   "metadata": {},
   "source": [
    "<span style=\"color:blue\"> Then next three exercises are for learning the interaction between constructors and inheritance. </span>"
   ]
  },
  {
   "cell_type": "markdown",
   "id": "1e795568-1c7b-4906-a3c8-c4a09c8e2241",
   "metadata": {},
   "source": [
    "Here is a simple \"LoyaltyCard\" class. Write a default constructor for this class (one without arguments) that calls the already defined constructor with values \"n/a\", \"n/a\". "
   ]
  },
  {
   "cell_type": "code",
   "execution_count": 20,
   "id": "391ddc28-9b33-437a-a713-1f37f4330037",
   "metadata": {},
   "outputs": [],
   "source": [
    "class LoyaltyCard {\n",
    "    private String firstName;\n",
    "    private String lastName;\n",
    "    \n",
    "    LoyaltyCard(String first, String last) {\n",
    "        firstName = first;\n",
    "        lastName = last;\n",
    "    }\n",
    "    \n",
    "    // Add default constructor\n",
    "    LoyaltyCard() {\n",
    "        this(\"n/a\", \"n/a\");\n",
    "    }\n",
    "    \n",
    "    String getName() {\n",
    "        return firstName + \" \" + lastName;\n",
    "    }\n",
    "}"
   ]
  },
  {
   "cell_type": "markdown",
   "id": "df37f825-d2f7-490b-899b-da9e17934b6b",
   "metadata": {},
   "source": [
    "## Exercise 5"
   ]
  },
  {
   "cell_type": "markdown",
   "id": "fda96ece-e52d-4b67-b46b-d0f4551be5ea",
   "metadata": {},
   "source": [
    "I extend this class."
   ]
  },
  {
   "cell_type": "code",
   "execution_count": 21,
   "id": "3cfb8b8a-ff20-4800-a50c-565afeb4970e",
   "metadata": {},
   "outputs": [],
   "source": [
    "class GoldLoyaltyCard extends LoyaltyCard {\n",
    "    int spendings;\n",
    "    public void addSpending(int x) {\n",
    "        spendings += x; \n",
    "    }\n",
    "    GoldLoyaltyCard(String first, String last) {\n",
    "        // we call the super class's constructor, to initialise the fields\n",
    "        super(first, last);\n",
    "    }\n",
    "    String getName() {\n",
    "        // we simply append \"(gold member)\", but since the fields firstName and lastName are private, \n",
    "        // we call the implementation of getName from the super class to get the name first. \n",
    "           return super.getName() + \" (gold member)\";\n",
    "    }\n",
    "}"
   ]
  },
  {
   "cell_type": "markdown",
   "id": "9d33846f-4260-4d2b-b066-e519287a0398",
   "metadata": {},
   "source": [
    "Add code above such that the following prints \"John Doe (gold member)\", without modifying the class LoyaltyCard"
   ]
  },
  {
   "cell_type": "code",
   "execution_count": 22,
   "id": "e3cedd43-5e10-43b8-94eb-ba7bc6ea6c79",
   "metadata": {},
   "outputs": [
    {
     "name": "stdout",
     "output_type": "stream",
     "text": [
      "John Doe (gold member)\n"
     ]
    }
   ],
   "source": [
    "GoldLoyaltyCard ac = new GoldLoyaltyCard(\"John\", \"Doe\");\n",
    "System.out.println(ac.getName());"
   ]
  },
  {
   "cell_type": "markdown",
   "id": "9b716e29-00c7-4289-8694-d558113120b8",
   "metadata": {},
   "source": [
    "## Exercise 6"
   ]
  },
  {
   "cell_type": "markdown",
   "id": "987ecc7e-d4d0-45ec-ae33-a52c8b61215b",
   "metadata": {},
   "source": [
    "I extend the class above again. In this exercise you have to implement the toString() so that the requirement below is met. "
   ]
  },
  {
   "cell_type": "code",
   "execution_count": 25,
   "id": "7cdd6d5e-3ee5-4da2-9a16-9dff0f445976",
   "metadata": {},
   "outputs": [],
   "source": [
    "class CardWithSpending extends GoldLoyaltyCard {\n",
    "    CardWithSpending(String first, String last) {\n",
    "        super(first,last);\n",
    "    }\n",
    "    String getName() {\n",
    "        return super.getName() + \" - spent: £ \" + spendings;\n",
    "    }\n",
    "    public String toString() {\n",
    "        // basically the difference is whether to call the method getName() that is\n",
    "        // implemented in the current class, or the one that is implemented in the\n",
    "        // super class\n",
    "        if (spendings >= 100) \n",
    "            return getName();\n",
    "        else\n",
    "            return super.getName(); \n",
    "    }\n",
    "}"
   ]
  },
  {
   "cell_type": "markdown",
   "id": "46ac8f82-fe4e-47f9-af68-55bd65bc6019",
   "metadata": {},
   "source": [
    "We want the following code to print \"John Doe (gold member) - spent: £ 123\" , and then \"Thrifty Jane (gold member)\" (condition which one to print on whether spendings is >= 100. **Only use the method getName() in your implementation of toString**. "
   ]
  },
  {
   "cell_type": "code",
   "execution_count": 26,
   "id": "ac118909-4ad4-468e-a825-7a1e9a3b9e22",
   "metadata": {},
   "outputs": [
    {
     "name": "stdout",
     "output_type": "stream",
     "text": [
      "John Doe (gold member) - spent: £ 123\n",
      "Thrifty Jane (gold member)\n"
     ]
    }
   ],
   "source": [
    "CardWithSpending ac1 = new CardWithSpending(\"John\", \"Doe\");\n",
    "ac1.addSpending(123);\n",
    "\n",
    "CardWithSpending ac2 = new CardWithSpending(\"Thrifty\", \"Jane\");\n",
    "ac2.addSpending((int) 3.5);\n",
    "\n",
    "System.out.println(ac1);\n",
    "System.out.println(ac2);"
   ]
  },
  {
   "cell_type": "markdown",
   "id": "60315a44-f058-4c13-ad82-aab4601f8152",
   "metadata": {},
   "source": [
    "# Some more exercises"
   ]
  },
  {
   "cell_type": "markdown",
   "id": "a5ca9363-98f7-4569-b92a-d9a387d5773f",
   "metadata": {},
   "source": [
    "Here are some more exercises that do not have to do a lot with OOP but are interesting puzzles."
   ]
  },
  {
   "cell_type": "markdown",
   "id": "5388d707-83d0-4d93-8ae5-2341c5d5c675",
   "metadata": {},
   "source": [
    "## Exercise 7"
   ]
  },
  {
   "cell_type": "markdown",
   "id": "408e31d4-72bd-4799-8f5e-97fd9d8d74d2",
   "metadata": {},
   "source": [
    "Here is a list class, that has a method that gives me the tail of the list (that is the last element)."
   ]
  },
  {
   "cell_type": "code",
   "execution_count": 27,
   "id": "c7a49c09-f381-4e53-a346-d6e225e4cc76",
   "metadata": {},
   "outputs": [],
   "source": [
    "class List {\n",
    "    List next;\n",
    "    \n",
    "    public List tail() {\n",
    "        if (next == null)\n",
    "            return this;\n",
    "        else \n",
    "            return next.tail();\n",
    "    }\n",
    "}"
   ]
  },
  {
   "cell_type": "markdown",
   "id": "afab381b-d7bb-45a2-b018-ebc74e237583",
   "metadata": {},
   "source": [
    "Here is a quick sanity check test."
   ]
  },
  {
   "cell_type": "code",
   "execution_count": 28,
   "id": "78351a73-f27f-4485-ac8d-29fa83be4254",
   "metadata": {},
   "outputs": [
    {
     "data": {
      "text/plain": [
       "true"
      ]
     },
     "execution_count": 28,
     "metadata": {},
     "output_type": "execute_result"
    }
   ],
   "source": [
    "List a = new List();\n",
    "List b = new List();\n",
    "List c = new List();\n",
    "\n",
    "a.next = b;\n",
    "b.next = c;\n",
    "\n",
    "a.tail() == c;\n"
   ]
  },
  {
   "cell_type": "markdown",
   "id": "7688f2e1-2afc-4d07-bf56-fedf41d5cb10",
   "metadata": {},
   "source": [
    "Now I realize that there is a problem with this method. Someone might give me a circular list. In that case the method will run forever. So your job is to modify the class in the following way."
   ]
  },
  {
   "cell_type": "code",
   "execution_count": 35,
   "id": "90774c3c-e463-42aa-837c-79cc1c5188da",
   "metadata": {},
   "outputs": [],
   "source": [
    "class List {\n",
    "    List next;\n",
    "    \n",
    "    // Returns the last element of the list if it exists,\n",
    "    // otherwise it returns null.\n",
    "    public List tail() {\n",
    "        if (isCircular())\n",
    "            return null;\n",
    "        if (next == null)\n",
    "            return this;\n",
    "        else \n",
    "            return next.tail();\n",
    "    }\n",
    "    // For every element 'c' in the list we have to check whether the subsequent elements\n",
    "    // (i.e. those that we can access with .next.next... is equal to 'c'. If it is then\n",
    "    // we have a loop.\n",
    "    private boolean isCircular() {\n",
    "        List c = this; \n",
    "        while (c != null) {\n",
    "            List subsequent = c.next;\n",
    "            while (subsequent != null) {\n",
    "                if (c == subsequent) return true; \n",
    "                subsequent = subsequent.next; \n",
    "            }\n",
    "            c = c.next; \n",
    "        }\n",
    "        return false;\n",
    "    }\n",
    "}"
   ]
  },
  {
   "cell_type": "markdown",
   "id": "e496d6d0-372b-4f33-afca-38e42efe2cc1",
   "metadata": {},
   "source": [
    "Let us make some small tests. "
   ]
  },
  {
   "cell_type": "code",
   "execution_count": 36,
   "id": "50819a0b-5da9-4526-ac76-2a5f90e07475",
   "metadata": {},
   "outputs": [
    {
     "data": {
      "text/plain": [
       "true"
      ]
     },
     "execution_count": 36,
     "metadata": {},
     "output_type": "execute_result"
    }
   ],
   "source": [
    "List a = new List();\n",
    "List b = new List();\n",
    "List c = new List();\n",
    "\n",
    "a.next = b;\n",
    "b.next = c;\n",
    "\n",
    "a.tail() == c; // should print true again"
   ]
  },
  {
   "cell_type": "code",
   "execution_count": 37,
   "id": "ebea4fb0-5e32-4ff8-b581-fd5a561061a9",
   "metadata": {},
   "outputs": [
    {
     "data": {
      "text/plain": [
       "true"
      ]
     },
     "execution_count": 37,
     "metadata": {},
     "output_type": "execute_result"
    }
   ],
   "source": [
    "b.next = a; // we made it circular\n",
    "a.tail() == null; // should print true"
   ]
  },
  {
   "cell_type": "markdown",
   "id": "1cf971c6-26b6-4b9e-bf52-55b26901275e",
   "metadata": {},
   "source": [
    "## Exercise 8 (🌶️)"
   ]
  },
  {
   "cell_type": "markdown",
   "id": "46dcdd34-bd99-46f5-be99-4c17510aca61",
   "metadata": {},
   "source": [
    "<span style=\"color:blue\"> For this exercise, we first observe that the only way that we can make an invalid tree is if the same object appears twice in the tree.  </span> "
   ]
  },
  {
   "cell_type": "markdown",
   "id": "8bb5ef1a-39f5-43b2-b322-24d16da59848",
   "metadata": {},
   "source": [
    "Equipped with that knowledge implement a method that checks whether we have a valid tree (there are no loops, every node must appear only once)."
   ]
  },
  {
   "cell_type": "code",
   "execution_count": 63,
   "id": "9bc9af47-3622-4192-ab36-75a2a97d48e4",
   "metadata": {},
   "outputs": [],
   "source": [
    "class Tree {\n",
    "    Tree left;\n",
    "    Tree right;\n",
    "    \n",
    "    public boolean validTree() {\n",
    "        return !duplicates(this, this);\n",
    "    }\n",
    "    \n",
    "    // This method checks whether the given tree 'root' has duplicates. The second\n",
    "    // parameter remains constant, while the first parameter is used to go through\n",
    "    // every node in the tree. \n",
    "    private boolean duplicates(Tree element, Tree root) {\n",
    "        if (element == null || root == null) return false;\n",
    "        // if the current element appears in the tree at least twice, we have found\n",
    "        // a duplicate\n",
    "        if (occurs(element, root) >= 2) return true; \n",
    "        \n",
    "        // otherwise ask whether the left node, or the right node is a duplicate\n",
    "        return (duplicates(element.left, root) || duplicates(element.right, root));\n",
    "    }\n",
    "    \n",
    "    // This method counts how many times 'element' appears in the tree 't'\n",
    "    // It recursively searches for 'element'. \n",
    "    private int occurs(Tree element, Tree t) {\n",
    "        int r = 0;\n",
    "        \n",
    "        if (element == null || t == null) return 0; \n",
    "        \n",
    "        // If element is actually t, then add 1 occurrence and search in subtrees\n",
    "        if (element == t) r = 1;\n",
    "        \n",
    "        return (r + occurs(element, t.left) + occurs(element, t.right)); \n",
    "    }\n",
    "}"
   ]
  },
  {
   "cell_type": "markdown",
   "id": "07685065-6ec8-4989-ad31-0e16068dedf8",
   "metadata": {},
   "source": [
    "Make invalid trees and valid ones to test your code."
   ]
  },
  {
   "cell_type": "markdown",
   "id": "0476a02c-8b2c-465b-9ccf-720a55e46772",
   "metadata": {},
   "source": [
    "<span style=\"color:blue\"> We write some tests to see whether the code is working correctly. </span>"
   ]
  },
  {
   "cell_type": "code",
   "execution_count": 64,
   "id": "72ac635b-a24b-493d-9a64-3a280984755a",
   "metadata": {},
   "outputs": [
    {
     "data": {
      "text/plain": [
       "true"
      ]
     },
     "execution_count": 64,
     "metadata": {},
     "output_type": "execute_result"
    }
   ],
   "source": [
    "Tree x = new Tree(); \n",
    "x.left = new Tree();\n",
    "x.right = new Tree();\n",
    "x.validTree()"
   ]
  },
  {
   "cell_type": "code",
   "execution_count": 65,
   "id": "ca07535d-d987-4b1e-9df2-731cad4ad900",
   "metadata": {},
   "outputs": [
    {
     "data": {
      "text/plain": [
       "false"
      ]
     },
     "execution_count": 65,
     "metadata": {},
     "output_type": "execute_result"
    }
   ],
   "source": [
    "x.left = x.right;\n",
    "x.validTree();"
   ]
  },
  {
   "cell_type": "code",
   "execution_count": 66,
   "id": "76e23b1f-3dd2-4a22-937b-2731b95a6b8b",
   "metadata": {},
   "outputs": [
    {
     "data": {
      "text/plain": [
       "true"
      ]
     },
     "execution_count": 66,
     "metadata": {},
     "output_type": "execute_result"
    }
   ],
   "source": [
    "x.left = null;\n",
    "x.validTree();"
   ]
  },
  {
   "cell_type": "code",
   "execution_count": 67,
   "id": "4bb6c830-8287-4f23-854a-12ea7cf126bd",
   "metadata": {},
   "outputs": [
    {
     "data": {
      "text/plain": [
       "true"
      ]
     },
     "execution_count": 67,
     "metadata": {},
     "output_type": "execute_result"
    }
   ],
   "source": [
    "x.left = new Tree();\n",
    "x.left.right = new Tree();\n",
    "x.validTree();"
   ]
  },
  {
   "cell_type": "code",
   "execution_count": 68,
   "id": "c2adfe39-58c1-4cce-a4a4-374f62fa4d54",
   "metadata": {},
   "outputs": [
    {
     "data": {
      "text/plain": [
       "false"
      ]
     },
     "execution_count": 68,
     "metadata": {},
     "output_type": "execute_result"
    }
   ],
   "source": [
    "x.left.right.left = x.right;\n",
    "x.validTree();"
   ]
  },
  {
   "cell_type": "code",
   "execution_count": null,
   "id": "e0e8c152-c132-4b19-9751-d42057031861",
   "metadata": {},
   "outputs": [],
   "source": []
  }
 ],
 "metadata": {
  "kernelspec": {
   "display_name": "Java",
   "language": "java",
   "name": "java"
  },
  "language_info": {
   "codemirror_mode": "java",
   "file_extension": ".jshell",
   "mimetype": "text/x-java-source",
   "name": "Java",
   "pygments_lexer": "java",
   "version": "11.0.8+10-LTS"
  }
 },
 "nbformat": 4,
 "nbformat_minor": 5
}
