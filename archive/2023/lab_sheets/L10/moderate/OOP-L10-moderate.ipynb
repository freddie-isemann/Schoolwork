{
 "cells": [
  {
   "attachments": {},
   "cell_type": "markdown",
   "id": "b5437322-7f6b-43cd-bf1d-80ddbc60576b",
   "metadata": {},
   "source": [
    "# Lab Sheet 10 - Moderate"
   ]
  },
  {
   "attachments": {},
   "cell_type": "markdown",
   "id": "0c387a59",
   "metadata": {},
   "source": [
    "## Exercise 1"
   ]
  },
  {
   "attachments": {},
   "cell_type": "markdown",
   "id": "448a01a3",
   "metadata": {},
   "source": [
    "In the file [SubsetSum.java](SubsetSum.java), in the class `SubsetSum` create a static method called `sum` that returns an `Integer` and takes to arguments: (1) a list of integers `xs`, and (2) a set of integers `is`. \n",
    "\n",
    "The method should return the sum of entries in `xs` that are on indices provided by `is`. (The `List` interface provides a method named `get` that gets the element at the given index). \n",
    "\n",
    "If you have implemented the method well, the output of [SumTest.java](SumTest.java) should be the following:"
   ]
  },
  {
   "cell_type": "raw",
   "id": "2fdb49e0",
   "metadata": {},
   "source": [
    "The sum of elements of :\n",
    "[2, 3, 15, 0, -1, 4]\n",
    "at indices:\n",
    "[0, 2, 3]\n",
    "is: 17\n",
    "-------\n",
    "While the sum at indices:\n",
    "[1, 3, 4, 5]\n",
    "is: 6"
   ]
  },
  {
   "attachments": {},
   "cell_type": "markdown",
   "metadata": {},
   "source": [
    "## Exercise 2"
   ]
  },
  {
   "attachments": {},
   "cell_type": "markdown",
   "metadata": {},
   "source": [
    "In [SubsetSum.java](SubsetSum.java), add a class named `Instance`, which has two public fields: (1) `k` of type `int`, and `c` of type `List<Integer>`. Add also a constructor that initialises these two fields. \n",
    "\n",
    "In the class `SubsetSum` add a private field named `instances` of type `List<Instance>`, and a getter method named `getInstances()`. \n",
    "\n",
    "In this exercise we will write a public method of `SubsetSum` named `readInstances()`. Its signature is `void readInstances()`. \n",
    "\n",
    "An instance is just a list of positive integers `c` of length `k`. The purpose of this method is to populate the private field `instances` with instances taken from the standard input. To get a number from the standard input you do the following. First you create a `Scanner` object. "
   ]
  },
  {
   "cell_type": "code",
   "execution_count": null,
   "metadata": {
    "vscode": {
     "languageId": "java"
    }
   },
   "outputs": [],
   "source": [
    "Scanner scanner = new Scanner(System.in);"
   ]
  },
  {
   "attachments": {},
   "cell_type": "markdown",
   "metadata": {},
   "source": [
    "Then the method `scanner.nextInt()` returns the integers that are input one by one. \n",
    "\n",
    "`readInstances()` should do the following. First it reads an integer, call it `numberOfInstances`, then it initialises `instances` to an `ArrayList` of size `numberOfInstances`. Then for all `i`, `0 <= i < numberOfInstances`, it does the following. It reads an integer `k` from the input, then proceeds to read `k` integers, which are put in some new arraylist called `c`. Finally, it adds `new Instance(k,c)` in `instances` at the appropriate place. \n",
    "\n",
    "Here is an example:"
   ]
  },
  {
   "cell_type": "raw",
   "metadata": {},
   "source": [
    "3\n",
    "2\n",
    "1 1\n",
    "1\n",
    "0\n",
    "4\n",
    "2 4 6 8"
   ]
  },
  {
   "attachments": {},
   "cell_type": "markdown",
   "metadata": {},
   "source": [
    "In this case, `instances` should be a list of length `3`, its first entry should be an `Instance(2, [1,1])`, the second one `Instance(1, [0])` and third one `Instance(4,[2,4,6,8])`. If you have implemented the method correctly, after compiling, by running `java InputTest < input.txt` you should get the following output. "
   ]
  },
  {
   "cell_type": "raw",
   "metadata": {},
   "source": [
    "We have the following instances: \n",
    "Of size 1: \n",
    "[1]\n",
    "--------\n",
    "Of size 1: \n",
    "[2]\n",
    "--------\n",
    "Of size 5: \n",
    "[5, 1, 3, 2, 1]\n",
    "--------\n",
    "Of size 5: \n",
    "[7, 1, 5, 2, 1]\n",
    "--------\n",
    "Of size 3: \n",
    "[1, 1, 1]\n",
    "--------\n",
    "Of size 5: \n",
    "[1, 1, 4, 2, 1]\n",
    "--------"
   ]
  },
  {
   "attachments": {},
   "cell_type": "markdown",
   "metadata": {},
   "source": [
    "## Exercise 3"
   ]
  },
  {
   "attachments": {},
   "cell_type": "markdown",
   "metadata": {},
   "source": [
    "In this exercise you have to implement the method `static Set<Set<Integer>> indexSubsets(int l, int k)`. This method should return the set of all subsets of size `l` of \n",
    "\n",
    "`[0,1,2,...,k-1]`\n",
    "\n",
    "For example: \n",
    "\n",
    "`indexSubsets(1, 3)` should output `[[0], [1], [2]]` and `indexSubsets(2,5)` should output: "
   ]
  },
  {
   "cell_type": "raw",
   "metadata": {},
   "source": [
    "[[0, 1], [0, 2], [0, 3], [1, 2], [0, 4], [1, 3], [1, 4], [2, 3], [2, 4], [3, 4]]"
   ]
  },
  {
   "attachments": {},
   "cell_type": "markdown",
   "metadata": {},
   "source": [
    "The elements of the sets do not have to be arranged in that particular way. If `k` or `l` are `0` return `null`. "
   ]
  },
  {
   "attachments": {},
   "cell_type": "markdown",
   "metadata": {},
   "source": [
    "*Hint:* Use recursion. In order to build the sets for `indexSubsets(l,k)` use the result of `indexSubsets(l-1,k)`. "
   ]
  }
 ],
 "metadata": {
  "language_info": {
   "name": "python"
  },
  "orig_nbformat": 4
 },
 "nbformat": 4,
 "nbformat_minor": 2
}
