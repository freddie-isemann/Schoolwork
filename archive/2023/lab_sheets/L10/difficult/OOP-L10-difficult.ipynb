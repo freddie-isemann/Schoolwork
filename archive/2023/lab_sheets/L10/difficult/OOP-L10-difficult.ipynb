{
 "cells": [
  {
   "attachments": {},
   "cell_type": "markdown",
   "id": "b5437322-7f6b-43cd-bf1d-80ddbc60576b",
   "metadata": {},
   "source": [
    "# Lab Sheet 10 - Difficult"
   ]
  },
  {
   "attachments": {},
   "cell_type": "markdown",
   "id": "cd5138a1-f2fe-4dbe-a099-06015a56b90d",
   "metadata": {},
   "source": [
    "[Here](../ProblemSpec.ipynb) is the problem specification. Write a Java program, using the collections library, that solves it. "
   ]
  },
  {
   "attachments": {},
   "cell_type": "markdown",
   "id": "946910ef",
   "metadata": {},
   "source": [
    "## Hint"
   ]
  },
  {
   "attachments": {},
   "cell_type": "markdown",
   "id": "4f6803eb",
   "metadata": {},
   "source": [
    "The order of entries in the array `c` does not matter. You may as well sort it in an ascending order. "
   ]
  },
  {
   "cell_type": "markdown",
   "id": "cc4516f7",
   "metadata": {},
   "source": []
  }
 ],
 "metadata": {
  "kernelspec": {
   "display_name": "Java",
   "language": "java",
   "name": "java"
  },
  "language_info": {
   "codemirror_mode": "java",
   "file_extension": ".jshell",
   "mimetype": "text/x-java-source",
   "name": "Java",
   "pygments_lexer": "java",
   "version": "11.0.8+10-LTS"
  }
 },
 "nbformat": 4,
 "nbformat_minor": 5
}
