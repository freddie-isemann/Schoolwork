{
 "cells": [
  {
   "attachments": {},
   "cell_type": "markdown",
   "id": "b5437322-7f6b-43cd-bf1d-80ddbc60576b",
   "metadata": {},
   "source": [
    "# Lab Sheet 10 - Easy"
   ]
  },
  {
   "attachments": {},
   "cell_type": "markdown",
   "id": "0c387a59",
   "metadata": {},
   "source": [
    "## Exercise 1"
   ]
  },
  {
   "attachments": {},
   "cell_type": "markdown",
   "id": "448a01a3",
   "metadata": {},
   "source": [
    "In the file [SubsetSum.java](SubsetSum.java), in the class `SubsetSum` create a static method called `sum` that returns an `Integer` and takes to arguments: (1) a list of integers `xs`, and (2) a set of integers `is`. \n",
    "\n",
    "The method should return the sum of entries in `xs` that are on indices provided by `is`. (The `List` interface provides a method named `get` that gets the element at the given index). \n",
    "\n",
    "If you have implemented the method well, the output of [SumTest.java](SumTest.java) should be the following:"
   ]
  },
  {
   "cell_type": "raw",
   "id": "2fdb49e0",
   "metadata": {},
   "source": [
    "The sum of elements of :\n",
    "[2, 3, 15, 0, -1, 4]\n",
    "at indices:\n",
    "[0, 2, 3]\n",
    "is: 17\n",
    "-------\n",
    "While the sum at indices:\n",
    "[1, 3, 4, 5]\n",
    "is: 6"
   ]
  },
  {
   "attachments": {},
   "cell_type": "markdown",
   "metadata": {},
   "source": [
    "## Exercise 2"
   ]
  },
  {
   "attachments": {},
   "cell_type": "markdown",
   "metadata": {},
   "source": [
    "In [SubsetSum.java](SubsetSum.java), add a class named `Instance`, which has two public fields: (1) `k` of type `int`, and `c` of type `List<Integer>`. Add also a constructor that initialises these two fields. \n",
    "\n",
    "In the class `SubsetSum` add a private field named `instances` of type `List<Instance>`, and a getter method named `getInstances()`. \n",
    "\n",
    "In this exercise we will write a public method of `SubsetSum` named `readInstances()`. Its signature is `void readInstances()`. \n",
    "\n",
    "An instance is just a list of positive integers `c` of length `k`. The purpose of this method is to populate the private field `instances` with instances taken from the standard input. To get a number from the standard input you do the following. First you create a `Scanner` object. "
   ]
  },
  {
   "cell_type": "code",
   "execution_count": null,
   "metadata": {
    "vscode": {
     "languageId": "java"
    }
   },
   "outputs": [],
   "source": [
    "Scanner scanner = new Scanner(System.in);"
   ]
  },
  {
   "attachments": {},
   "cell_type": "markdown",
   "metadata": {},
   "source": [
    "Then the method `scanner.nextInt()` returns the integers that are input one by one. \n",
    "\n",
    "`readInstances()` should do the following. First it reads an integer, call it `numberOfInstances`, then it initialises `instances` to an `ArrayList` of size `numberOfInstances`. Then for all `i`, `0 <= i < numberOfInstances`, it does the following. It reads an integer `k` from the input, then proceeds to read `k` integers, which are put in some new arraylist called `c`. Finally, it adds `new Instance(k,c)` in `instances` at the appropriate place. \n",
    "\n",
    "Here is an example:"
   ]
  },
  {
   "cell_type": "raw",
   "metadata": {},
   "source": [
    "3\n",
    "2\n",
    "1 1\n",
    "1\n",
    "0\n",
    "4\n",
    "2 4 6 8"
   ]
  },
  {
   "attachments": {},
   "cell_type": "markdown",
   "metadata": {},
   "source": [
    "In this case, `instances` should be a list of length `3`, its first entry should be an `Instance(2, [1,1])`, the second one `Instance(1, [0])` and third one `Instance(4,[2,4,6,8])`. If you have implemented the method correctly, after compiling, by running `java InputTest < input.txt` you should get the following output. "
   ]
  },
  {
   "cell_type": "raw",
   "metadata": {},
   "source": [
    "We have the following instances: \n",
    "Of size 1: \n",
    "[1]\n",
    "--------\n",
    "Of size 1: \n",
    "[2]\n",
    "--------\n",
    "Of size 5: \n",
    "[5, 1, 3, 2, 1]\n",
    "--------\n",
    "Of size 5: \n",
    "[7, 1, 5, 2, 1]\n",
    "--------\n",
    "Of size 3: \n",
    "[1, 1, 1]\n",
    "--------\n",
    "Of size 5: \n",
    "[1, 1, 4, 2, 1]\n",
    "--------"
   ]
  },
  {
   "attachments": {},
   "cell_type": "markdown",
   "metadata": {},
   "source": [
    "## Exercise 3"
   ]
  },
  {
   "attachments": {},
   "cell_type": "markdown",
   "metadata": {},
   "source": [
    "In this exercise you have to write the following method of the class `SubsetSum`:\n",
    "\n",
    "`static boolean ssSum(Integer x, List<Integer> xs)`\n",
    "\n",
    "This method is supposed to return `true` if and only if one can obtain `x` by taking the sum of a subset of entries in `xs`. Here are some examples: \n",
    "\n",
    "if `xs = {1,2,3}` and `x=5` the method should return true, because you can take the subset `{2,3}` and add them to obtain `5`. \n",
    "\n",
    "if `xs = {1,2,3}` and `x=1` the method should return true, because you can take the subset `{1}` and automatically obtain `1`. \n",
    "\n",
    "if `xs = {1,2,3}` and `x=6` the method should return true, because you can take the subset `{1,2,3}` (it is not a strict subset) and when you add those numbers you obtain `6`. \n",
    "\n",
    "if `xs = {2,3}` and `x=4` the method should return false, because for all subsets that you can make, their sums are never going to be equal to 4. Indeed you can only get 2,3 or 5. \n",
    "\n",
    "Your method should use the following method below (which you should copy&paste in the class `SubsetSum`)"
   ]
  },
  {
   "cell_type": "code",
   "execution_count": null,
   "metadata": {
    "vscode": {
     "languageId": "java"
    }
   },
   "outputs": [],
   "source": [
    "static Set<Set<Integer>> indexSubsets(int l, int k) {\n",
    "    if(k <= 0 || l <= 0) return null;\n",
    "    if(l == 1) {\n",
    "        Set<Set<Integer>> ret = new HashSet<Set<Integer>>();\n",
    "        for(int i = 0; i < k; i++) {\n",
    "            Set<Integer> s = new HashSet<Integer>();\n",
    "            s.add(i);\n",
    "            ret.add(s);\n",
    "        }\n",
    "        return ret; \n",
    "    }\n",
    "    Set<Set<Integer>> recCall = indexSubsets(l-1, k);\n",
    "    Set<Set<Integer>> ret = new HashSet<Set<Integer>>();\n",
    "\n",
    "    for(int i = 0; i < k; i++) {\n",
    "        for(Set<Integer> s : recCall) {\n",
    "            if(!s.contains(i)) {\n",
    "                Set<Integer> newSet = new HashSet<Integer>(s);\n",
    "                newSet.add(i);\n",
    "                ret.add(newSet);\n",
    "            }\n",
    "        }\n",
    "    }\n",
    "    return ret;\n",
    "}"
   ]
  },
  {
   "attachments": {},
   "cell_type": "markdown",
   "metadata": {},
   "source": [
    "This method returns the set of all subsets of\n",
    "\n",
    "`[0,1,2,...,k-1]`\n",
    "\n",
    "of length `l`. \n",
    "\n",
    "For example, `indexSubsets(1, 3)` outputs `[[0], [1], [2]]` and `indexSubsets(2,5)` outputs: \n",
    "\n",
    "`[[0, 1], [0, 2], [0, 3], [1, 2], [0, 4], [1, 3], [1, 4], [2, 3], [2, 4], [3, 4]]`\n",
    "\n",
    "If you have implemented it correctly, the `SubsetSumTest` should output true, true, true, false. "
   ]
  },
  {
   "cell_type": "markdown",
   "metadata": {},
   "source": []
  }
 ],
 "metadata": {
  "language_info": {
   "name": "python"
  },
  "orig_nbformat": 4
 },
 "nbformat": 4,
 "nbformat_minor": 2
}
