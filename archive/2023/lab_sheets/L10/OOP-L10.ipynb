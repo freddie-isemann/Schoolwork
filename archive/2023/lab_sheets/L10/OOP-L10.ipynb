{
 "cells": [
  {
   "cell_type": "markdown",
   "id": "b5437322-7f6b-43cd-bf1d-80ddbc60576b",
   "metadata": {},
   "source": [
    "# Lab Sheet 10"
   ]
  },
  {
   "attachments": {},
   "cell_type": "markdown",
   "id": "b35f3205-e934-4747-bc2c-364c0bde3aa5",
   "metadata": {
    "vscode": {
     "languageId": "java"
    }
   },
   "source": [
    "The purpose of this lab is to get you to start using the collections library `java.util.Collection`. To this end, we will solve a programming-contest-type question taken from [codeforces](https://codeforces.com/), and crucially modified. (A further benefit is that the task cannot immediately be solved by a certain large language model)\n",
    "\n",
    "\n",
    "Different from other lab sheets, this one will have three levels, depending how many hints you want. You choose yourself the difficulty that you want: \n",
    "1. [Difficult](difficult/OOP-L10-difficult.ipynb)\n",
    "2. [Moderate](moderate/OOP-L10-moderate.ipynb)\n",
    "3. [Easy](easy/OOP-L10-easy.ipynb)"
   ]
  },
  {
   "attachments": {},
   "cell_type": "markdown",
   "id": "5435af03-f7e6-4b4a-87f8-fc6bb27e630a",
   "metadata": {},
   "source": [
    "Each is a lab sheet in itself, asking for parts of the solution of the same [problem](ProblemSpec.ipynb). \n",
    "\n",
    "- In difficult mode, you get no hints, just the specification of the problem, and you are supposed to write a java program to solve it. \n",
    "- In moderate mode, you are guided with exercises towards a partial solution. \n",
    "- In easy mode, the first two exercises are the same as in moderate mode, the third exercise is easier. \n",
    "\n",
    "My recommendations are as follows. (a) If you feel rather comfortable with everything that has been taught until now in the module, and you are willing to spend some time applying it towards an interview-type question go to difficult mode. \n",
    "\n",
    "(b) If you feel somewhat comfortable, but you are still looking for a challenge go to moderate mode. \n",
    "\n",
    "(c) And finally, if you want to leave the programming aspect for some other day, and today you only want to learn about how to use `java.util.Collection` go to easy mode. \n",
    "\n",
    "Afterwards, you are encouraged to try to do the other modes. "
   ]
  },
  {
   "attachments": {},
   "cell_type": "markdown",
   "id": "77254612-ecd1-4195-a0f3-3c7f66f4dd6c",
   "metadata": {},
   "source": [
    "## [Lab Check](https://qmplus.qmul.ac.uk/mod/quiz/view.php?id=2206662)"
   ]
  },
  {
   "cell_type": "code",
   "execution_count": null,
   "id": "cd5138a1-f2fe-4dbe-a099-06015a56b90d",
   "metadata": {
    "vscode": {
     "languageId": "java"
    }
   },
   "outputs": [],
   "source": []
  }
 ],
 "metadata": {
  "kernelspec": {
   "display_name": "Java",
   "language": "java",
   "name": "java"
  },
  "language_info": {
   "codemirror_mode": "java",
   "file_extension": ".jshell",
   "mimetype": "text/x-java-source",
   "name": "Java",
   "pygments_lexer": "java",
   "version": "11.0.8+10-LTS"
  }
 },
 "nbformat": 4,
 "nbformat_minor": 5
}
