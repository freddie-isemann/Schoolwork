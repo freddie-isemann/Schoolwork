{
 "cells": [
  {
   "attachments": {},
   "cell_type": "markdown",
   "id": "b5437322-7f6b-43cd-bf1d-80ddbc60576b",
   "metadata": {},
   "source": [
    "# Problem Specification"
   ]
  },
  {
   "cell_type": "markdown",
   "id": "714a0671-8b7a-48f9-b19d-7200f9b99798",
   "metadata": {},
   "source": [
    "Initially, array `a` contains just the number `1`. You can perform several operations in order to change the array. In an operation, you can select some subsequence of `a` and add into `a` an element equal to the sum of all elements of the subsequence.\n",
    "\n",
    "You are given a final array `c`. You have to check if `c` can be obtained from the initial array `a` by performing some number (possibly 0) of operations on the initial array.\n",
    "\n",
    "A sequence `b` is a *subsequence* of a sequence `a` if `b` can be obtained from `a` by the deletion of several (possibly zero, but not all) elements. In other words, select `k` (`1 <= k <= a.length`) distinct indices `i1, i2, ..., ik`\n",
    "and insert anywhere into `a`, a new element with the value equal to `a[i1] + a[i2] + ... + a[ik]`."
   ]
  },
  {
   "cell_type": "markdown",
   "id": "2044b38e-1997-4a3f-a77c-a6eb6dcbdc13",
   "metadata": {},
   "source": [
    "## Input"
   ]
  },
  {
   "cell_type": "markdown",
   "id": "c1a13a1b-7ab9-41cf-b0d2-0e0e4b5794bf",
   "metadata": {},
   "source": [
    "The first line of the input contains an integer `t` - the number of test cases. The description of the test cases follows.\n",
    "\n",
    "The first line of each test case contains a single integer `n` — the number of elements the final array `c` should have.\n",
    "\n",
    "The second line of each test case contains `n` space-separated integers `c[i]` — the elements of the final array `c` that should be obtained from the initial array `a`."
   ]
  },
  {
   "cell_type": "markdown",
   "id": "84b6d892-7763-4fce-9057-6acadc067a83",
   "metadata": {},
   "source": [
    "## Output"
   ]
  },
  {
   "cell_type": "markdown",
   "id": "2c7a514e-2b62-4f5f-a544-52369b945a36",
   "metadata": {},
   "source": [
    "For each test case, output \"YES\" (without quotes) if such a sequence of operations exists, and \"NO\" (without quotes) otherwise."
   ]
  },
  {
   "cell_type": "markdown",
   "id": "534cfad9-ea23-4a1d-8e86-320a967c8694",
   "metadata": {},
   "source": [
    "## Example"
   ]
  },
  {
   "cell_type": "markdown",
   "id": "2edf9e48-448a-4b54-8ff9-b41b4f7d736c",
   "metadata": {},
   "source": [
    "### Input"
   ]
  },
  {
   "cell_type": "raw",
   "id": "fcbbd17f-4f33-4a49-9c11-a09efa879901",
   "metadata": {},
   "source": [
    "6\n",
    "1\n",
    "1\n",
    "1\n",
    "2\n",
    "5\n",
    "5 1 3 2 1\n",
    "5\n",
    "7 1 5 2 1\n",
    "3\n",
    "1 1 1\n",
    "5\n",
    "1 1 4 2 1"
   ]
  },
  {
   "cell_type": "markdown",
   "id": "00f6b4c1-171f-4e48-8e26-0eca4f6394ba",
   "metadata": {},
   "source": [
    "### Output"
   ]
  },
  {
   "cell_type": "raw",
   "id": "e01c62cd-76e3-4f2e-99f5-dc06d99081e0",
   "metadata": {},
   "source": [
    "YES\n",
    "NO\n",
    "YES\n",
    "NO\n",
    "YES\n",
    "YES"
   ]
  },
  {
   "cell_type": "markdown",
   "id": "12a6d63b-466d-42bb-a961-3b7c9354feac",
   "metadata": {},
   "source": [
    "## Note"
   ]
  },
  {
   "cell_type": "markdown",
   "id": "a0b93701-5ed6-47cc-b986-a71c049e1c8b",
   "metadata": {},
   "source": [
    "For the first test case, the initial array `a` is already equal to `[1]`, so the answer is \"YES\".\n",
    "\n",
    "For the second test case, performing any amount of operations will change `a` to an array of size at least two which doesn't only have the element `2`, thus obtaining the array `[2]` is impossible and the answer is \"NO\".\n",
    "\n",
    "For the third test case, we can perform the following operations in order to obtain the final given array `c`:\n",
    "\n",
    "Initially, `a=[1]`. By choosing the subsequence `[1]`, and inserting `1` in the array, `a` changes to `[1,1]`. By choosing the subsequence `[1,1]`, and inserting `1+1=2` in the middle of the array, `a` to `[1,2,1]`.\n",
    "By choosing the subsequence `[1,2]`, and inserting `1+2=3` after the first `1` of the array, `a` changes to `[1,3,2,1]`. By choosing the subsequence `[1,3,1]` and inserting `1+3+1=5` at the beginning of the array, `a` changes to `[5,1,3,2,1]` (which is the array we needed to obtain)."
   ]
  }
 ],
 "metadata": {
  "kernelspec": {
   "display_name": "Java",
   "language": "java",
   "name": "java"
  },
  "language_info": {
   "codemirror_mode": "java",
   "file_extension": ".jshell",
   "mimetype": "text/x-java-source",
   "name": "Java",
   "pygments_lexer": "java",
   "version": "11.0.8+10-LTS"
  }
 },
 "nbformat": 4,
 "nbformat_minor": 5
}
