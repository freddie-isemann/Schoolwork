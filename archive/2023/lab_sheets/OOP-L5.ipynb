{
 "cells": [
  {
   "cell_type": "markdown",
   "id": "3181b140-721a-464b-96ad-285dcfeff6d3",
   "metadata": {},
   "source": [
    "# Lab 5 - Object-oriented Programming"
   ]
  },
  {
   "cell_type": "markdown",
   "id": "bb85a959-0fa0-4b8b-9063-9bbaa42dc455",
   "metadata": {},
   "source": [
    "In this Lab we will work at the Terminal. \n",
    "This can be a Terminal here in JHub \n",
    "(click the blue '+' button and choose to launch a Terminal),\n",
    "or it can be at a Terminal on Ubuntu in the ITL \n",
    "(or on your own machine if you have 'javac' and 'java' installed).\n",
    "\n",
    "To create a directory in which to work, do `mkdir /directory_name/`.\n",
    "Do `cd /directory_name/` to go down into it,\n",
    "and `pwd` to check where you are (usually visible in the terminal prompt).\n",
    "To go up a level, do `cd ..`.\n",
    "\n",
    "To create a file with a particular name but nothing in it (useful on JHub), \n",
    "do `touch /filename/`.\n",
    "To see what files are there, do `ls` or `ls -l` for more detail.\n",
    "To remove (delete) a file you no longer need,\n",
    "do `rm /filename/`.\n",
    "\n",
    "When you are done, if you would like to remove the directory and everything it contains, \n",
    "you can do `cd ..` to go up a level, `ls` to check what is there \n",
    "and - careful! - `rm -R /directory_name/` \n",
    "to permanently remove the directory and everything it contains, \n",
    "including all sub-directories and everything they contain.\n",
    "\n",
    "If you delete a centrally distributed file/directory on JHub (such as this one), \n",
    "it will 'respawn' the next time you start your server \n",
    "(you can turn-off-and-on your server from File -> Hub Control Panel).\n",
    "\n",
    "**Write one class per file.**\n",
    "Name the file after the class is contains.\n",
    "To compile class `ClassName` in file `ClassName.java`, do `javac ClassName.java`. \n",
    "This will produce a file `ClassName.class` that can be run (if it has a main) \n",
    "by doing `java ClassName` (note the lack of a file extension).\n",
    "Compiling one file will cause classes used in that file to be compiled as well, so compiling one .java file my produce several .class files."
   ]
  },
  {
   "cell_type": "markdown",
   "id": "ad5d5833-0c1d-41cb-a2a6-d14209fdf439",
   "metadata": {},
   "source": [
    "## L5.1 - Hello JHub\n",
    "\n",
    "Launch a Terminal in JHub and do `touch HelloJHub.java`. \n",
    "Presently, you should see the file appear in JHub's file pane \n",
    "(you can click the directory in the path display to hurry things along).\n",
    "Double click on the file in the file pane to open it in a JHub tab.\n",
    "Edit the file to contain\n",
    "```\n",
    "class HelloJHub {\n",
    "   public void main(String[] args) {\n",
    "      System.out.println(\"This is the main in HelloJHub printing to you.\");\n",
    "      System.out.println(\"I was run with command line argument \"+args[0]+.\");\n",
    "   }\n",
    "}\n",
    "```\n",
    "Save and do `javac HelloJHub.java` in the Terminal (use tab to auto-complete as you type).\n",
    "Fix the typo, save and recompile (use up-arrow to get to previous commands).\n",
    "Do `java HelloJHub adklahsd`.\n",
    "Make main static, save, recompile and run again.\n",
    "\n",
    "You should see\n",
    "```\n",
    "This is the main in HelloJHub printing to you.\n",
    "I was run with command line argument adklahsd.\n",
    "```\n"
   ]
  },
  {
   "cell_type": "markdown",
   "id": "aa575f35-6310-4820-822a-90e719a37385",
   "metadata": {},
   "source": [
    "## L5.2 - Nodes and Edges\n",
    "\n",
    "Write an empty class named Node (in a file called Node.java).\n",
    "\n",
    "Write a class called Edge (in a separate file Edge.java) with two instance variables, 'from' and 'to' of type Node.\n",
    "\n",
    "Compile Edge. You should see two .class files appear, one for Edge and one for Node.\n",
    "\n",
    "Write, compile and run a class EdgeTest (as usual, in its own file) with a main that creates three Edge objects, held in three variables."
   ]
  },
  {
   "cell_type": "markdown",
   "id": "e6d159c6-0260-4aa3-a040-ab7893491693",
   "metadata": {},
   "source": [
    "## L5.3 - Zero-argument constructors\n",
    "\n",
    "Add a zero-argument constructor to Edge \n",
    "that assigns a new Node object to 'from' and to 'to' \n",
    "and then prints \"Created Edge with hash ... from Node with hash ... to Node with hash ...\",\n",
    "where the numbers `...` are produced by calling `this.hashCode()`, `from.hashCode()` and `to.hashCode()`.\n",
    "\n",
    "Recompile and rerun EdgeTest. You should see information about your three Edge objects.\n",
    "\n",
    "Add a zero-argument constructor to Node \n",
    "that prints \"Created Node with hash ...\",\n",
    "where the `...` is produced by `this.hashCode()`.\n",
    "\n",
    "**Recompile Node.** Recompile and run EdgeTest. You should see information about three Edge objects and six Node objects."
   ]
  },
  {
   "cell_type": "markdown",
   "id": "3eb4d0d2-abf5-4770-a889-df5e03e03e00",
   "metadata": {},
   "source": [
    "## L5.4 - A two-argument constructor\n",
    "\n",
    "Add a two-argument constructor to Edge that takes two Node arguments, \n",
    "assigning them to the 'from' and 'to' variables of the new object, \n",
    "and prints \"Created Edge with hash ... from Node with hash ... to Node with hash ...\".\n",
    "\n",
    "Change EdgeTest to create three node objects, \n",
    "held in three variables,\n",
    "and to then create three Edge objects between these Node objects,\n",
    "forming a triangular DAG.\n",
    "\n",
    "Recompile and run EdgeTest. \n",
    "You should see information about your three nodes and three edges. \n",
    "Draw a picture of the triangular DAG represented, \n",
    "labelling the nodes and edges by their hash numbers modulo 100 (last two digits)."
   ]
  },
  {
   "cell_type": "markdown",
   "id": "3ee94d70-cafb-4ffa-b0e2-f933edc60899",
   "metadata": {},
   "source": [
    "## L5.5 - Transition as a sub-class of Edge\n",
    "\n",
    "Write a class Transition, in a file Transition.java, that extends Edge with an instance variable 'label' of type String.\n",
    "\n",
    "Write, compile and run a class TransitionTest that creates three Transition objects. You should see information printed about three 'Edge' objects.\n",
    "\n",
    "Add a one-argument constructor named Transition(String) that sets the label of the new Transition object and then prints \"Created Transition with hash ... from Node with hash ... to Node with hash ... and labelled ...\".\n",
    "\n",
    "Change TransitionTest to create Transition objects \n",
    "labelled '_turn-off', '_turn-on>' and '_turn-off-and-on'.\n",
    "    \n",
    "Recompile and run.\n",
    "You should see information about both 'Edge' objects and Transition objects. \n",
    "Check that the hash codes match up, \n",
    "showing that the apparent Edge objects are, in fact, subsumed by the Transition objects. \n",
    "    \n"
   ]
  },
  {
   "cell_type": "markdown",
   "id": "0120453f-4b7d-46e1-ac6f-a727d056fa60",
   "metadata": {},
   "source": [
    "## L5.6 - Build a transition system.\n",
    "    \n",
    "Add a three-argument constructor to called Transition(Node,String,Node) \n",
    "that first calls the super-class constructor to set 'from' and 'to' \n",
    "and then sets 'label'.\n",
    "    \n",
    "Change TransitionTest so that it creates two nodes, held in variables 'on' and 'off', \n",
    "prints \"The Node object in 'on' has hash ... and the one in 'off', ....\", \n",
    "and then creates an array of three Transition objects, \n",
    "labelled '_turn-off', '_turn-on>' and '_turn-off-and-on',\n",
    "between the objects in the appropriate Node variables.\n",
    "\n",
    "Recompile, run and draw a picture based on the hash info, \n",
    "labelling the nodes with their hashes (mod 100) \n",
    "and the transitions with their labels.\n",
    "The transition labelled '_turn-off' \n",
    "should go from the node in 'off' to the node in 'on',\n",
    "'_turn-on' from 'off' to 'on',\n",
    "and 'turn-off-and-on' from 'on' to 'on'."
   ]
  },
  {
   "cell_type": "markdown",
   "id": "eb128be3-bae8-4ddf-9543-66a471a8b6f4",
   "metadata": {
    "jp-MarkdownHeadingCollapsed": true,
    "tags": []
   },
   "source": [
    "## L5.7 - Implement Vistor\n",
    "\n",
    "In JHub, go to the directory assignment_sheets/A4/. \n",
    "Read the A4 Spec and look at the interface Visitor.java. \n",
    "\n",
    "Write a class `TestVisitor` that implements the Visitor interface\n",
    "- tell: print the string to System.out.\n",
    "- giveItem: Ask the user if they accept the item (print name of item) and add to an array of items if they do.\n",
    "- hasIdenticalItem: Return true iff an identical item is stored in the item array.\n",
    "- hasEqualItem: Return true iff an equal (call equal() on item) item is stored in the item array.\n",
    "- giveGold: Add amount to purse variable and tell user how much they received.\n",
    "- takeGold: Return amount, limited by current purse, and tell user.\n",
    "\n",
    "Cheat Mode: Tell user when they are being scanned by hasItem and name the item the room is asking about."
   ]
  },
  {
   "cell_type": "code",
   "execution_count": null,
   "id": "7e2ee1a1-d383-48f3-a3d3-ba021fb642f7",
   "metadata": {},
   "outputs": [],
   "source": []
  }
 ],
 "metadata": {
  "kernelspec": {
   "display_name": "Java",
   "language": "java",
   "name": "java"
  },
  "language_info": {
   "codemirror_mode": "java",
   "file_extension": ".jshell",
   "mimetype": "text/x-java-source",
   "name": "Java",
   "pygments_lexer": "java",
   "version": "11.0.8+10-LTS"
  }
 },
 "nbformat": 4,
 "nbformat_minor": 5
}
