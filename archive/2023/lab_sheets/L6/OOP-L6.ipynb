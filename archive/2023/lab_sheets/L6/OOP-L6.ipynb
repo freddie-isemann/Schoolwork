{
 "cells": [
  {
   "cell_type": "markdown",
   "id": "996e74a6-b023-4525-bf30-d0d0101dd838",
   "metadata": {},
   "source": [
    "# Lab 6"
   ]
  },
  {
   "cell_type": "markdown",
   "id": "b2c16aeb-0d0a-4253-a6fb-f616f016a6e5",
   "metadata": {},
   "source": [
    "## Part 1 - Hashcodes and Equality"
   ]
  },
  {
   "cell_type": "markdown",
   "id": "dfeda166-20fe-486b-bbff-733af5294b06",
   "metadata": {},
   "source": [
    "### L6.1 - Frankestiein's strings\n",
    "\n",
    "When are String objects identical? Can you figure it out?"
   ]
  },
  {
   "cell_type": "code",
   "execution_count": 33,
   "id": "36a97462-215b-4f5a-b970-790fa2d0928c",
   "metadata": {},
   "outputs": [
    {
     "data": {
      "text/plain": [
       "true"
      ]
     },
     "execution_count": 33,
     "metadata": {},
     "output_type": "execute_result"
    }
   ],
   "source": [
    "\"Monster\" == \"Monster\""
   ]
  },
  {
   "cell_type": "code",
   "execution_count": 34,
   "id": "1b499f0a-456a-408b-be22-82b62b737a0d",
   "metadata": {},
   "outputs": [
    {
     "data": {
      "text/plain": [
       "false"
      ]
     },
     "execution_count": 34,
     "metadata": {},
     "output_type": "execute_result"
    }
   ],
   "source": [
    "new String(\"Monster\") == new String(\"Monster\")"
   ]
  },
  {
   "cell_type": "code",
   "execution_count": 35,
   "id": "b631be51-38a3-49c6-bc94-a12da56eeaec",
   "metadata": {},
   "outputs": [
    {
     "data": {
      "text/plain": [
       "true"
      ]
     },
     "execution_count": 35,
     "metadata": {},
     "output_type": "execute_result"
    }
   ],
   "source": [
    "\"Monster\" == \"Mon\" + \"ster\""
   ]
  },
  {
   "cell_type": "code",
   "execution_count": 36,
   "id": "b44e3b7f-3aca-4fe3-877c-d5bab2460846",
   "metadata": {},
   "outputs": [
    {
     "data": {
      "text/plain": [
       "Monster"
      ]
     },
     "execution_count": 36,
     "metadata": {},
     "output_type": "execute_result"
    }
   ],
   "source": [
    "String mon = \"Mon\";\n",
    "String ster = \"ster\";\n",
    "mon + ster"
   ]
  },
  {
   "cell_type": "code",
   "execution_count": 37,
   "id": "9325a869-0223-4635-9b3a-cdec51f740d0",
   "metadata": {},
   "outputs": [
    {
     "data": {
      "text/plain": [
       "false"
      ]
     },
     "execution_count": 37,
     "metadata": {},
     "output_type": "execute_result"
    }
   ],
   "source": [
    "mon + ster == \"Monster\""
   ]
  },
  {
   "cell_type": "code",
   "execution_count": 38,
   "id": "aae2ac8e-425e-4365-a76c-72f79792a003",
   "metadata": {},
   "outputs": [
    {
     "data": {
      "text/plain": [
       "false"
      ]
     },
     "execution_count": 38,
     "metadata": {},
     "output_type": "execute_result"
    }
   ],
   "source": [
    "mon + ster == mon + ster"
   ]
  },
  {
   "cell_type": "markdown",
   "id": "32430d73-726f-45c1-9463-c2d85c3011b7",
   "metadata": {},
   "source": [
    "Hence, we use equals() for String objects to get the behaviour we expect. Check that all of the non-identical monster strings above are equal.\n",
    "\n",
    "Identicality implies equality, but not vise versa."
   ]
  },
  {
   "cell_type": "markdown",
   "id": "0bbb106b-432f-4211-9d7f-629b5180eb7d",
   "metadata": {},
   "source": [
    "### L6.2 - The Hash-equals Contract.\n",
    "\n",
    "The Hash-equals Contract says, 'Equal objects must have the same hash.' \n",
    "\n",
    "Write a class A with an instance variable n. "
   ]
  },
  {
   "cell_type": "code",
   "execution_count": 14,
   "id": "d4187229-6d6e-43ca-a3ec-96bf522f47a4",
   "metadata": {},
   "outputs": [],
   "source": [
    "class A {\n",
    "    \n",
    "}"
   ]
  },
  {
   "cell_type": "code",
   "execution_count": 18,
   "id": "117d3b55-87dc-479f-b43f-67eab9159da5",
   "metadata": {},
   "outputs": [
    {
     "data": {
      "text/plain": [
       "false"
      ]
     },
     "execution_count": 18,
     "metadata": {},
     "output_type": "execute_result"
    }
   ],
   "source": [
    "A x = new A(); x.n = 42;\n",
    "A y = new A(); y.n = 42;\n",
    "x.equals(y)"
   ]
  },
  {
   "cell_type": "code",
   "execution_count": 19,
   "id": "259b9e56-e016-4dfb-8e92-b9a9765a3e5e",
   "metadata": {},
   "outputs": [
    {
     "data": {
      "text/plain": [
       "false"
      ]
     },
     "execution_count": 19,
     "metadata": {},
     "output_type": "execute_result"
    }
   ],
   "source": [
    "x.hashCode() == y.hashCode()"
   ]
  },
  {
   "cell_type": "markdown",
   "id": "0b8cf370-46c7-49e6-971d-459599ab3923",
   "metadata": {},
   "source": [
    "Over-ride the equals method in A so that it returns true iff the variable n has the same value."
   ]
  },
  {
   "cell_type": "code",
   "execution_count": 21,
   "id": "845b55d8-dece-416d-8531-04e1841128e8",
   "metadata": {},
   "outputs": [],
   "source": [
    "class A {\n",
    "    \n",
    "}"
   ]
  },
  {
   "cell_type": "markdown",
   "id": "d27b6889-1491-463d-9b50-001e501447f0",
   "metadata": {},
   "source": [
    "Now the Hash-equals contract is broken."
   ]
  },
  {
   "cell_type": "code",
   "execution_count": 22,
   "id": "85d7b9a5-fcd3-4560-bbc7-cdebd90abf6e",
   "metadata": {},
   "outputs": [
    {
     "data": {
      "text/plain": [
       "true"
      ]
     },
     "execution_count": 22,
     "metadata": {},
     "output_type": "execute_result"
    }
   ],
   "source": [
    "A x = new A(); x.n = 42;\n",
    "A y = new A(); y.n = 42;\n",
    "x.equals(y) // Should be true"
   ]
  },
  {
   "cell_type": "code",
   "execution_count": 23,
   "id": "c2733e51-4456-46ae-a026-3907ad8c277a",
   "metadata": {},
   "outputs": [
    {
     "data": {
      "text/plain": [
       "false"
      ]
     },
     "execution_count": 23,
     "metadata": {},
     "output_type": "execute_result"
    }
   ],
   "source": [
    "x.hashCode() == y.hashCode()"
   ]
  },
  {
   "cell_type": "markdown",
   "id": "3b6928ac-38ae-4598-b379-4a8efe70ee30",
   "metadata": {},
   "source": [
    "Over-ride the hashCode() method in A so that the Hash-equals Contract is restored. "
   ]
  },
  {
   "cell_type": "code",
   "execution_count": 26,
   "id": "dd58f3f0-d568-4986-9f14-870ee02bca70",
   "metadata": {},
   "outputs": [],
   "source": [
    "class A {\n",
    "    \n",
    "}"
   ]
  },
  {
   "cell_type": "code",
   "execution_count": 27,
   "id": "f236e2b2-c6f4-4732-a458-e621d404486f",
   "metadata": {},
   "outputs": [
    {
     "data": {
      "text/plain": [
       "true"
      ]
     },
     "execution_count": 27,
     "metadata": {},
     "output_type": "execute_result"
    }
   ],
   "source": [
    "A x = new A(); x.n = 42;\n",
    "A y = new A(); y.n = 42;\n",
    "x.equals(y)"
   ]
  },
  {
   "cell_type": "code",
   "execution_count": 28,
   "id": "77d77398-aa9a-41de-93d4-aca7b93b984f",
   "metadata": {},
   "outputs": [
    {
     "data": {
      "text/plain": [
       "true"
      ]
     },
     "execution_count": 28,
     "metadata": {},
     "output_type": "execute_result"
    }
   ],
   "source": [
    "x.hashCode() == y.hashCode() // Should be true."
   ]
  },
  {
   "cell_type": "code",
   "execution_count": 29,
   "id": "3d105c7b-a157-4433-94a2-d6b8070b76b2",
   "metadata": {},
   "outputs": [
    {
     "data": {
      "text/plain": [
       "false"
      ]
     },
     "execution_count": 29,
     "metadata": {},
     "output_type": "execute_result"
    }
   ],
   "source": [
    "A x = new A(); x.n = 42;\n",
    "A y = new A(); y.n = 1729;\n",
    "x.equals(y)"
   ]
  },
  {
   "cell_type": "code",
   "execution_count": 30,
   "id": "f8331c1b-1545-4ce4-8c0c-91f7650790b6",
   "metadata": {},
   "outputs": [
    {
     "data": {
      "text/plain": [
       "false"
      ]
     },
     "execution_count": 30,
     "metadata": {},
     "output_type": "execute_result"
    }
   ],
   "source": [
    "x.hashCode() == y.hashCode() // Should, ideally, be false."
   ]
  },
  {
   "cell_type": "markdown",
   "id": "14d9dc89-2702-42d5-9714-e0938d23d57b",
   "metadata": {},
   "source": [
    "### L6.3 Hash collisions\n",
    "\n",
    "The converse, 'Un-equal objects must have different hash,' would be helpful, \n",
    "but is doomed by the small number of ints available (less than 5 billion).\n",
    "\n",
    "Inevitably, there will be some un-equal objects with the same hash."
   ]
  },
  {
   "cell_type": "markdown",
   "id": "7a71fe37-d244-4d86-8cd5-b8b7cee74973",
   "metadata": {},
   "source": [
    "Extend A with two more integer variables, b and t, \n",
    "and re-write equals() to return true iff all three variables are equal.\n",
    "Re-write hashCode() to return different hash when just one variable is different. "
   ]
  },
  {
   "cell_type": "code",
   "execution_count": 39,
   "id": "96b3e919-ca14-4bf8-ac34-62038741cc3f",
   "metadata": {},
   "outputs": [],
   "source": [
    "class A {\n",
    "    \n",
    "}"
   ]
  },
  {
   "cell_type": "code",
   "execution_count": 40,
   "id": "a8f5683c-b934-4fe6-a6af-de3b120951f6",
   "metadata": {},
   "outputs": [
    {
     "data": {
      "text/plain": [
       "true"
      ]
     },
     "execution_count": 40,
     "metadata": {},
     "output_type": "execute_result"
    }
   ],
   "source": [
    "A x = new A(); x.n = 41; x.b = 1729; x.t = 1729 + 42; \n",
    "A y = new A(); y.n = 41; y.b = 1729; y.t = 1729 + 42;\n",
    "x.equals(y) // Should be true;"
   ]
  },
  {
   "cell_type": "code",
   "execution_count": 41,
   "id": "d215a5c3-b225-4e6e-9d90-e82b3ea75b1b",
   "metadata": {},
   "outputs": [
    {
     "data": {
      "text/plain": [
       "true"
      ]
     },
     "execution_count": 41,
     "metadata": {},
     "output_type": "execute_result"
    }
   ],
   "source": [
    "x.hashCode() == y.hashCode() // Should be true."
   ]
  },
  {
   "cell_type": "code",
   "execution_count": 43,
   "id": "dbbadfc2-7883-46ce-9f8a-b0aefc3f47b8",
   "metadata": {},
   "outputs": [
    {
     "data": {
      "text/plain": [
       "false"
      ]
     },
     "execution_count": 43,
     "metadata": {},
     "output_type": "execute_result"
    }
   ],
   "source": [
    "A x = new A(); x.n = 41; x.b = 1729; x.t = 1729 + 42; \n",
    "A y = new A(); y.n = 41; y.b = 1728; y.t = 1729 + 42;\n",
    "x.equals(y)"
   ]
  },
  {
   "cell_type": "code",
   "execution_count": 44,
   "id": "699fe1c0-f21c-448d-ad16-ab7c50e688aa",
   "metadata": {},
   "outputs": [
    {
     "data": {
      "text/plain": [
       "false"
      ]
     },
     "execution_count": 44,
     "metadata": {},
     "output_type": "execute_result"
    }
   ],
   "source": [
    "x.hashCode() == y.hashCode() // Should be false."
   ]
  },
  {
   "cell_type": "markdown",
   "id": "331a0903-0a22-48e5-bbaa-5ffea36fb311",
   "metadata": {},
   "source": [
    "There will, however, be un-equal A objects with the same hash."
   ]
  },
  {
   "cell_type": "code",
   "execution_count": 47,
   "id": "8e972bf7-50b5-4be7-bcd4-7166d0f511f2",
   "metadata": {},
   "outputs": [],
   "source": [
    "A x = new A(); x.n = 41; x.b = 1729; x.t = 1729 + 42; \n",
    "A y = new A(); y.n = 41; y.b = 1728; y.t = 1729 + 42;\n",
    "do {x.n++;} while (x.hashCode() != y.hashCode());"
   ]
  },
  {
   "cell_type": "code",
   "execution_count": 49,
   "id": "ec504df7-eef3-4173-8db6-61cebb385753",
   "metadata": {},
   "outputs": [
    {
     "data": {
      "text/plain": [
       "true"
      ]
     },
     "execution_count": 49,
     "metadata": {},
     "output_type": "execute_result"
    }
   ],
   "source": [
    "x.hashCode() == y.hashCode() // Hash is the same."
   ]
  },
  {
   "cell_type": "code",
   "execution_count": 51,
   "id": "9e81013e-53a2-4e67-933b-3cd22ebad356",
   "metadata": {},
   "outputs": [
    {
     "data": {
      "text/plain": [
       "false"
      ]
     },
     "execution_count": 51,
     "metadata": {},
     "output_type": "execute_result"
    }
   ],
   "source": [
    "x.equals(y) // But objects are not equal."
   ]
  },
  {
   "cell_type": "markdown",
   "id": "515f9ed6-a7dc-45dd-b4df-e3a3f60dc63b",
   "metadata": {},
   "source": [
    "### L6.4 - String hash collisions\n",
    "\n",
    "Look at the hash codes for various one an two character strings."
   ]
  },
  {
   "cell_type": "code",
   "execution_count": 5,
   "id": "cc8c507b-2cab-4c78-be50-be4284569eaa",
   "metadata": {},
   "outputs": [
    {
     "data": {
      "text/plain": [
       "65"
      ]
     },
     "execution_count": 5,
     "metadata": {},
     "output_type": "execute_result"
    }
   ],
   "source": [
    "\"A\".hashCode()"
   ]
  },
  {
   "cell_type": "code",
   "execution_count": 6,
   "id": "85ac5db7-9aed-4315-ab82-db310db99b2e",
   "metadata": {},
   "outputs": [
    {
     "data": {
      "text/plain": [
       "66"
      ]
     },
     "execution_count": 6,
     "metadata": {},
     "output_type": "execute_result"
    }
   ],
   "source": [
    "\"B\".hashCode()"
   ]
  },
  {
   "cell_type": "code",
   "execution_count": 7,
   "id": "a4e21ce2-1a3e-4074-bda3-efbcbed496c1",
   "metadata": {},
   "outputs": [
    {
     "data": {
      "text/plain": [
       "97"
      ]
     },
     "execution_count": 7,
     "metadata": {},
     "output_type": "execute_result"
    }
   ],
   "source": [
    "\"a\".hashCode()"
   ]
  },
  {
   "cell_type": "code",
   "execution_count": 8,
   "id": "8e8ef082-46be-4fee-b1f5-5dcef0f2704f",
   "metadata": {},
   "outputs": [
    {
     "data": {
      "text/plain": [
       "98"
      ]
     },
     "execution_count": 8,
     "metadata": {},
     "output_type": "execute_result"
    }
   ],
   "source": [
    "\"b\".hashCode()"
   ]
  },
  {
   "cell_type": "code",
   "execution_count": 9,
   "id": "7ab1a995-ac02-4732-86b4-5383152474e8",
   "metadata": {},
   "outputs": [
    {
     "data": {
      "text/plain": [
       "2080"
      ]
     },
     "execution_count": 9,
     "metadata": {},
     "output_type": "execute_result"
    }
   ],
   "source": [
    "\"AA\".hashCode()"
   ]
  },
  {
   "cell_type": "code",
   "execution_count": 10,
   "id": "f0179047-6c6f-4ca6-844a-1aea8d40caa2",
   "metadata": {},
   "outputs": [
    {
     "data": {
      "text/plain": [
       "2081"
      ]
     },
     "execution_count": 10,
     "metadata": {},
     "output_type": "execute_result"
    }
   ],
   "source": [
    "\"AB\".hashCode()"
   ]
  },
  {
   "cell_type": "code",
   "execution_count": 11,
   "id": "7a3c915e-f8b6-46e5-bac5-88863b3d8c89",
   "metadata": {},
   "outputs": [
    {
     "data": {
      "text/plain": [
       "2111"
      ]
     },
     "execution_count": 11,
     "metadata": {},
     "output_type": "execute_result"
    }
   ],
   "source": [
    "\"BA\".hashCode()"
   ]
  },
  {
   "cell_type": "code",
   "execution_count": 13,
   "id": "0a682379-834b-4d2e-9686-c44855609a13",
   "metadata": {},
   "outputs": [
    {
     "data": {
      "text/plain": [
       "2142"
      ]
     },
     "execution_count": 13,
     "metadata": {},
     "output_type": "execute_result"
    }
   ],
   "source": [
    "\"CA\".hashCode()"
   ]
  },
  {
   "cell_type": "markdown",
   "id": "b1442cdd-8b2f-4602-8a14-4d01a5a5a67f",
   "metadata": {},
   "source": [
    "Got how it works? \n",
    "\n",
    "Now find two **different** two-character strings with the same hash!"
   ]
  },
  {
   "cell_type": "code",
   "execution_count": 16,
   "id": "dfa4cf88-6140-4c6d-a454-d208350f7533",
   "metadata": {},
   "outputs": [
    {
     "data": {
      "text/plain": [
       "true"
      ]
     },
     "execution_count": 16,
     "metadata": {},
     "output_type": "execute_result"
    }
   ],
   "source": [
    "\"AA\".hashCode() == \"AA\".hashCode() // Make true with _different strings."
   ]
  },
  {
   "cell_type": "markdown",
   "id": "f7bf4667-eeed-4839-bc08-be67750f3c91",
   "metadata": {},
   "source": [
    "## Part 2 - Implementing multiple interfaces"
   ]
  },
  {
   "cell_type": "markdown",
   "id": "38ad9e5e-6723-4eac-8266-614a0ac2b42c",
   "metadata": {},
   "source": [
    "### L6.5 - FIFO\n",
    "\n",
    "See the files [Queue.java](Queue.java) and [Visitor.java](Visitor.java).\n",
    "\n",
    "Write a class [VisitorQueue](VisitorQueue.java) that implements Queue at the type Visitor.\n",
    "\n",
    "Write a program (class with main) QueueTest that tests your class."
   ]
  },
  {
   "cell_type": "markdown",
   "id": "d9eee5cf-fc2b-445f-9675-8e630ff7b8ca",
   "metadata": {},
   "source": [
    "### L6.6 - FILO\n",
    "\n",
    "See the files [Stack.java](Queue.java) and [Visitor.java](Visitor.java).\n",
    "\n",
    "Write a class VisitorStack that implements Stack at the type Visitor.\n",
    "\n",
    "Write a program StackTest that tests your class."
   ]
  },
  {
   "cell_type": "markdown",
   "id": "751cf5a7-6dac-42f1-9f74-aff1063f9658",
   "metadata": {},
   "source": [
    "### L6.7 - 'FILOFO'\n",
    "\n",
    "Write a class VisitorQueueStack that implements both Queue and Stack at the type Visitor. \n",
    "\n",
    "The queue and the stack should be the same list of objects, \n",
    "with push adding objects to what is the front of the queue \n",
    "and joinBack adding to what if the bottom of the stack.\n",
    "\n",
    "The implementation of pop should call atFront and leaveFront.\n",
    "\n",
    "Write a program QueueStackTest that tests your class."
   ]
  },
  {
   "cell_type": "markdown",
   "id": "04a25f6f-7967-48fe-b5a0-4299b4cec26d",
   "metadata": {},
   "source": [
    "## Part 3 - Agregation\n",
    "\n",
    "The objects of one class may be an assembly objects of another class."
   ]
  },
  {
   "cell_type": "markdown",
   "id": "e8017579-d90a-464b-a9d8-a8b2c122c55d",
   "metadata": {},
   "source": [
    "### L6.8 - Diretionalify\n",
    "\n",
    "Write an interface DirectionalQueue that is just like Queue but adds a parameter of type Direction to each method."
   ]
  },
  {
   "cell_type": "markdown",
   "id": "ef1f1633-712d-433f-af73-aeeee6318145",
   "metadata": {},
   "source": [
    "### L6.9 - A crossroads\n",
    "\n",
    "Write a class DirectionalVistorQueue that implements DirectionalQueue.\n",
    "    \n",
    "Your class should have an array of VisitorQueue objects, one for each direction. The number of directions is available as Direction.NUMBER_OF_DIRECTIONS and the directions themselves, as Direction.LIST_OF_DIRECTIONS.\n"
   ]
  },
  {
   "cell_type": "markdown",
   "id": "b5492b87-c4ea-4215-8c58-412c34204f83",
   "metadata": {},
   "source": [
    "### L6.10 - Directed visitors at a crossroads\n",
    "\n",
    "Write class DirectionalVistor that extends Visitor with an implementation of [Directed](Directed.java).\n",
    "    \n",
    "Add a join method to your DirectionalVistorQueue class that takes a DirectionalVistor and has it join the apropriate queue.\n",
    "\n",
    "Add a pop method that pops a DirectionalVistor from the front of next non-emtpy queue in the array (following the last pop).\n"
   ]
  },
  {
   "cell_type": "markdown",
   "id": "88c477b0-403c-4bf5-8df6-8ebed69b93a4",
   "metadata": {},
   "source": []
  }
 ],
 "metadata": {
  "kernelspec": {
   "display_name": "Java",
   "language": "java",
   "name": "java"
  },
  "language_info": {
   "codemirror_mode": "java",
   "file_extension": ".jshell",
   "mimetype": "text/x-java-source",
   "name": "Java",
   "pygments_lexer": "java",
   "version": "11.0.8+10-LTS"
  }
 },
 "nbformat": 4,
 "nbformat_minor": 5
}
