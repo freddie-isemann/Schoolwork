{
 "cells": [
  {
   "cell_type": "markdown",
   "id": "f59d85a7-d158-49bd-aa9f-86d66481a5f5",
   "metadata": {
    "tags": []
   },
   "source": [
    "# Lab 3 - Programming with Behaviours\n",
    "\n",
    "We program with classes that have instance methods but no instance variables."
   ]
  },
  {
   "cell_type": "markdown",
   "id": "6433bafc-e7d0-4677-9cd7-f300fd780af8",
   "metadata": {
    "tags": []
   },
   "source": [
    "## Preparatory Work\n",
    "\n"
   ]
  },
  {
   "cell_type": "markdown",
   "id": "8fd39bc2-82da-45a9-ae5c-b94ed7885419",
   "metadata": {},
   "source": [
    "### L3.1 \n",
    "\n",
    "Write a class C with a method 'f' that takes two ints and returns their sum and a method 'g' that takes two ints and returns their product. "
   ]
  },
  {
   "cell_type": "code",
   "execution_count": 2,
   "id": "88a89efa-f1b4-4071-bad1-1f54a044bc6a",
   "metadata": {},
   "outputs": [],
   "source": [
    "class C {\n",
    "        \n",
    "    int f(int a, int b) {\n",
    "        return a + b;\n",
    "    }\n",
    "    \n",
    "    int g(int a, int b) {\n",
    "        return a * b;\n",
    "    }\n",
    "}"
   ]
  },
  {
   "cell_type": "markdown",
   "id": "e98a5b51-ab19-40d3-bcc0-ecc1239995b3",
   "metadata": {},
   "source": [
    "To call C methods, a C object is required."
   ]
  },
  {
   "cell_type": "code",
   "execution_count": 3,
   "id": "0698be98-3c2d-4ad3-9db2-ee6a8f129e4b",
   "metadata": {},
   "outputs": [
    {
     "data": {
      "text/plain": [
       "15"
      ]
     },
     "execution_count": 3,
     "metadata": {},
     "output_type": "execute_result"
    }
   ],
   "source": [
    "C x = new C();\n",
    "x.f(7,8) // Evaluates to 15"
   ]
  },
  {
   "cell_type": "code",
   "execution_count": 4,
   "id": "12573936-fee1-4e81-acee-40f972fa2e1d",
   "metadata": {},
   "outputs": [
    {
     "data": {
      "text/plain": [
       "56"
      ]
     },
     "execution_count": 4,
     "metadata": {},
     "output_type": "execute_result"
    }
   ],
   "source": [
    "x.g(7,8) // Evaluates to 56"
   ]
  },
  {
   "cell_type": "code",
   "execution_count": 5,
   "id": "c01b620f-ded0-47d7-bf58-b64f7722c456",
   "metadata": {},
   "outputs": [
    {
     "data": {
      "text/plain": [
       "30"
      ]
     },
     "execution_count": 5,
     "metadata": {},
     "output_type": "execute_result"
    }
   ],
   "source": [
    "C x = new C(), y = new C(), z = new C();\n",
    "z.g(y.f(2,3),x.g(2,3)) // What number will this give?"
   ]
  },
  {
   "cell_type": "markdown",
   "id": "e86dca5b-75b8-4d14-9f31-4ccc782d6d84",
   "metadata": {},
   "source": [
    "### L3.2 \n",
    "Write a sub-class of C called D that over-rides the method f to return the difference instead of the sum, subtracting the second int from the first. "
   ]
  },
  {
   "cell_type": "code",
   "execution_count": 6,
   "id": "31ecf062-3dd0-4201-b94d-23b9351331d7",
   "metadata": {},
   "outputs": [],
   "source": [
    "class D extends C {\n",
    "    \n",
    "    int f(int a, int b) {\n",
    "        return a - b;\n",
    "    }\n",
    "}"
   ]
  },
  {
   "cell_type": "code",
   "execution_count": 7,
   "id": "825f7971-aa32-4b56-b904-de2449357709",
   "metadata": {},
   "outputs": [
    {
     "data": {
      "text/plain": [
       "-1"
      ]
     },
     "execution_count": 7,
     "metadata": {},
     "output_type": "execute_result"
    }
   ],
   "source": [
    "D r = new D();\n",
    "r.f(7,8) // Evaluates to -1"
   ]
  },
  {
   "cell_type": "code",
   "execution_count": 8,
   "id": "a829cdcf-8391-486a-9338-6e7bca7426dc",
   "metadata": {},
   "outputs": [
    {
     "data": {
      "text/plain": [
       "56"
      ]
     },
     "execution_count": 8,
     "metadata": {},
     "output_type": "execute_result"
    }
   ],
   "source": [
    "r.g(7,8) // g hasn't changed, still evaluates to 56"
   ]
  },
  {
   "cell_type": "code",
   "execution_count": 9,
   "id": "e31a0d52-9141-4262-a1b1-9c3d732155e0",
   "metadata": {},
   "outputs": [
    {
     "data": {
      "text/plain": [
       "-1"
      ]
     },
     "execution_count": 9,
     "metadata": {},
     "output_type": "execute_result"
    }
   ],
   "source": [
    "C r = new D(); // We put a D object in a variable for holding C objects.\n",
    "r.f(7,8) // What number will this give?"
   ]
  },
  {
   "cell_type": "markdown",
   "id": "573ea121-95c7-43f1-902a-81160d425704",
   "metadata": {},
   "source": [
    "### L3.3 \n",
    "Write a sub-class of C called E that over-rides the method g to return the (integer) quotient of the two ints, dividing the first by the second."
   ]
  },
  {
   "cell_type": "code",
   "execution_count": 10,
   "id": "96292ee4-eb9f-4541-a820-570f855bfc30",
   "metadata": {},
   "outputs": [],
   "source": [
    "class E extends C {\n",
    "    \n",
    "    int g(int a, int b) {\n",
    "        return a/b;\n",
    "    } \n",
    "}"
   ]
  },
  {
   "cell_type": "code",
   "execution_count": 11,
   "id": "4494c176-9a0a-485c-90fa-4c13a6d0c0d1",
   "metadata": {},
   "outputs": [
    {
     "data": {
      "text/plain": [
       "2"
      ]
     },
     "execution_count": 11,
     "metadata": {},
     "output_type": "execute_result"
    }
   ],
   "source": [
    "E s = new E();\n",
    "s.g(7,3) // Evaluates to 2"
   ]
  },
  {
   "cell_type": "code",
   "execution_count": 12,
   "id": "69de8009-d143-4e6c-bfe8-6b533b225393",
   "metadata": {},
   "outputs": [
    {
     "data": {
      "text/plain": [
       "15"
      ]
     },
     "execution_count": 12,
     "metadata": {},
     "output_type": "execute_result"
    }
   ],
   "source": [
    "s.f(7,8) // Evaluates to 15"
   ]
  },
  {
   "cell_type": "markdown",
   "id": "1f78945e-18ef-43a1-bd1d-ab0725717ba1",
   "metadata": {},
   "source": [
    "### L3.4 \n",
    "Write a procedure `detectClass` that takes one argument of type C. \n",
    "Because D and E are sub-classes of C, \n",
    "the Substitution Principle allows us to pass D and E objects to `detectClass\n",
    "` in place of C objects.\n",
    "\n",
    "When `detectClass` is passed a C object it should print \"Got a C!\", when passed a D object it should print \"Got a D!\", and likewise for an E object.\n",
    "\n",
    "It should do this by calling the g and f methods on the object it is passed to see how they behave. What does g return when applied to (7,8), for example?"
   ]
  },
  {
   "cell_type": "code",
   "execution_count": 13,
   "id": "4cb223f9-68aa-4d28-aadb-2aca2b6688e4",
   "metadata": {},
   "outputs": [],
   "source": [
    "void detectClass(C x)  {\n",
    "    \n",
    "    // Check behaviour of both g and f. Works in any order.\n",
    "    if (x.f(7,8) == 15 && x.g(7,8) == 56) System.out.println(\"Got a C!\");\n",
    "    if (x.f(7,8) == -1 && x.g(7,8) == 56) System.out.println(\"Got a D!\");\n",
    "    if (x.f(7,8) == 15 && x.g(7,3) == 2) System.out.println(\"Got an E!\");\n",
    "}"
   ]
  },
  {
   "cell_type": "code",
   "execution_count": 14,
   "id": "73b880dc-2bae-4da9-becb-3162a1b5a8b3",
   "metadata": {},
   "outputs": [],
   "source": [
    "void detectClass(C x)  {\n",
    "    \n",
    "    // Check for sub-class behaviour first, then assume C.\n",
    "    if (x.g(7,3) == 2) System.out.println(\"Got an E!\");\n",
    "    else if (x.f(7,8) == -1) System.out.println(\"Got a D!\");\n",
    "    else System.out.println(\"Got a C!\");\n",
    "    \n",
    "}"
   ]
  },
  {
   "cell_type": "code",
   "execution_count": 15,
   "id": "967b5bcd-cd58-481d-95c1-219bab232189",
   "metadata": {},
   "outputs": [
    {
     "name": "stdout",
     "output_type": "stream",
     "text": [
      "Got a C!\n"
     ]
    }
   ],
   "source": [
    "C c = new C();\n",
    "detectClass(c); // Should print \"Got a C!\""
   ]
  },
  {
   "cell_type": "code",
   "execution_count": 16,
   "id": "cf9ad8e6",
   "metadata": {},
   "outputs": [
    {
     "name": "stdout",
     "output_type": "stream",
     "text": [
      "Got a D!\n"
     ]
    }
   ],
   "source": [
    "D d = new D();\n",
    "detectClass(d); // Should print \"Got a D!\""
   ]
  },
  {
   "cell_type": "code",
   "execution_count": 17,
   "id": "38752a9e-9d46-4a2e-88ea-9d6df09d7b44",
   "metadata": {},
   "outputs": [
    {
     "name": "stdout",
     "output_type": "stream",
     "text": [
      "Got an E!\n"
     ]
    }
   ],
   "source": [
    "E e = new E();\n",
    "detectClass(e); // Should print \"Got an E!\""
   ]
  },
  {
   "cell_type": "markdown",
   "id": "79407b9f-9aa0-40e4-b647-9ea84dd8782f",
   "metadata": {
    "tags": []
   },
   "source": [
    "## Lab Check\n",
    "\n",
    "For the Lab Check you will be asked to write a class that has a 'detect' method for detecting whether objects belong to class itself or to a sub-class. \n",
    "\n",
    "To make objcts of the class and its sub-class easy to identity, you can over-ride the toString() method in the two classes. The 'detect' method can then identify the class of the object it is passed by calling toString() on that object and seeing what is returned.\n",
    "\n",
    "To prepare for the closed-book Tests, try your best to do the Lab Check entirely from your head, without talking to anyone or looking at anything else and certainly without cut-and-pasting from anywhere.\n",
    "\n",
    "[Lab Check 3](https://qmplus.qmul.ac.uk/mod/quiz/view.php?id=2183581) Note that the Lab Check is the **beginning** of the Lab, not the end.\n",
    "\n",
    "If you are unable to pass the Lab Check Quiz, see a demonstrator to pass a Lab Check Viva and have your name taken down for credit."
   ]
  },
  {
   "cell_type": "markdown",
   "id": "5d122f74-b49c-4c30-b610-0b6efb48a29a",
   "metadata": {
    "tags": []
   },
   "source": [
    "## Work Proper\n",
    "Now that you are warmed up, have a go with the following exercises. \n",
    "\n",
    "L3.5 is to help with Assignment 2.\n",
    "\n",
    "The Algorithm section is quite mathematical this week.\n",
    "\n",
    "The Abstraction section starts to make serious use of Java's type system and, as in Lab 1, runs against its limits.\n",
    "\n",
    "Don't forget to **do [Lab Survey 3](https://qmplus.qmul.ac.uk/mod/questionnaire/view.php?id=2184096) before leaving**."
   ]
  },
  {
   "cell_type": "markdown",
   "id": "f8690c1e-6420-4ebe-ac02-cbb6c3a9a509",
   "metadata": {},
   "source": [
    "### L3.5 - Choosing an object based on behaviour"
   ]
  },
  {
   "cell_type": "markdown",
   "id": "229b0523-3b11-4797-b18f-50784af2a6da",
   "metadata": {},
   "source": [
    "Write and test a class `Passenger` with a method `response` that takes a String and returns a String.\n",
    "\n",
    "It can respond to the strings it is passed in any way you like, but should, as a side effect of being called, print its input and output to Standard Out each time it is called."
   ]
  },
  {
   "cell_type": "code",
   "execution_count": 18,
   "id": "b016b091-6904-4174-bc47-cf8b46d332d4",
   "metadata": {},
   "outputs": [],
   "source": [
    "class Passenger {\n",
    "    \n",
    "    void log(String g, String p) {\n",
    "        System.out.println(\"    Guard: \"+g);\n",
    "        System.out.println(\"Passenger: \"+p);\n",
    "    }\n",
    "    \n",
    "    String response(String in) {\n",
    "        String out = \"Pardon?\";\n",
    "    \n",
    "        if (in.equals(\"May I see your ticket, please.\"))\n",
    "            if (Math.random() > 0.2)\n",
    "                out = \"Yes, let me find it.\";\n",
    "            else \n",
    "                out = \"Does this train stop anywhere near Fontainebleau?\";\n",
    "        \n",
    "        log(in,out);\n",
    "        return out;\n",
    "    }\n",
    "    \n",
    "}"
   ]
  },
  {
   "cell_type": "code",
   "execution_count": 19,
   "id": "47238a91-9874-4b75-a75a-62b566594f35",
   "metadata": {},
   "outputs": [
    {
     "name": "stdout",
     "output_type": "stream",
     "text": [
      "    Guard: May I see your ticket, please.\n",
      "Passenger: Yes, let me find it.\n",
      "    Guard: Once in a blue moon.\n",
      "Passenger: Pardon?\n"
     ]
    },
    {
     "data": {
      "text/plain": [
       "Pardon?"
      ]
     },
     "execution_count": 19,
     "metadata": {},
     "output_type": "execute_result"
    }
   ],
   "source": [
    "Passenger p1 = new Passenger();\n",
    "p1.response(\"May I see your ticket, please.\");\n",
    "p1.response(\"Once in a blue moon.\");"
   ]
  },
  {
   "cell_type": "markdown",
   "id": "988d50d1-ae76-4279-a521-7b1bd72f1fce",
   "metadata": {},
   "source": [
    "Write and test a class `Agent` with a method `response`, also of type String -> String.\n",
    "\n",
    "It should return the string \"Does this train stop anywhere near Fontainebleau?\" if passed the string \"May I see your ticket, please.\" and should return the string \"The carrots are in the soup.\" if passed the string \"Once in a blue moon.\" It should also call 'log'."
   ]
  },
  {
   "cell_type": "code",
   "execution_count": 20,
   "id": "1e3d9dd4-b22c-4659-873a-e725255f2642",
   "metadata": {},
   "outputs": [],
   "source": [
    "class Agent extends Passenger {\n",
    "       \n",
    "    String response(String in) {\n",
    "        String out = \"I'm sorry, what was that?\";\n",
    "    \n",
    "        if (in.equals(\"May I see your ticket, please.\"))\n",
    "            out = \"Does this train stop anywhere near Fontainebleau?\";\n",
    "        if (in.equals(\"Once in a blue moon.\"))\n",
    "            out = \"The carrots are in the soup.\";\n",
    "        \n",
    "        log(in,out);\n",
    "        return out;\n",
    "    }\n",
    "}"
   ]
  },
  {
   "cell_type": "code",
   "execution_count": 21,
   "id": "0c94b3db-1ab8-40a0-a1db-088535ed75a3",
   "metadata": {},
   "outputs": [
    {
     "name": "stdout",
     "output_type": "stream",
     "text": [
      "    Guard: May I see your ticket, please.\n",
      "Passenger: Yes, let me find it.\n",
      "    Guard: Once in a blue moon.\n",
      "Passenger: Pardon?\n",
      "    Guard: May I see your ticket, please.\n",
      "Passenger: Does this train stop anywhere near Fontainebleau?\n",
      "    Guard: Once in a blue moon.\n",
      "Passenger: The carrots are in the soup.\n"
     ]
    },
    {
     "data": {
      "text/plain": [
       "The carrots are in the soup."
      ]
     },
     "execution_count": 21,
     "metadata": {},
     "output_type": "execute_result"
    }
   ],
   "source": [
    "Passenger p1 = new Passenger();\n",
    "Passenger p2 = new Agent();\n",
    "p1.response(\"May I see your ticket, please.\");\n",
    "p1.response(\"Once in a blue moon.\");\n",
    "p2.response(\"May I see your ticket, please.\");\n",
    "p2.response(\"Once in a blue moon.\");"
   ]
  },
  {
   "cell_type": "markdown",
   "id": "a10815b9-ebec-48e2-bef3-18e43a63b6c8",
   "metadata": {},
   "source": [
    "Here is an interface `Challengable`. "
   ]
  },
  {
   "cell_type": "code",
   "execution_count": 22,
   "id": "639c7730-bfb8-40d4-8631-9e955e240c47",
   "metadata": {},
   "outputs": [],
   "source": [
    "interface Challengable { String response(String challangePhrase);} // response: String -> String"
   ]
  },
  {
   "cell_type": "markdown",
   "id": "5157fb60-4c20-4e11-88c5-e6d961144d07",
   "metadata": {},
   "source": [
    "Change the declarations of Passenger and Agent to indicate that they implement `Challengable`. \n",
    "\n",
    "You can do this by declaring both as implementations of `Challangable` \n",
    "or by declaring `Passenger` an implementation of `Challangable` and `Agent` a sub-class of `Passenger`, or vise versa.\n",
    "What makes most sense (and is hence more future-proof)?"
   ]
  },
  {
   "cell_type": "code",
   "execution_count": 23,
   "id": "f33b4d79-ebb9-44f8-819e-6d0f5f5d4c70",
   "metadata": {},
   "outputs": [],
   "source": [
    "class Passenger implements Challengable { // All Passengers can be spoken to.\n",
    "    \n",
    "    void log(String g, String p) {\n",
    "        System.out.println(\"    Guard: \"+g);\n",
    "        System.out.println(\"Passenger: \"+p);\n",
    "    }\n",
    "    \n",
    "    public String response(String in) {\n",
    "        String out = \"Pardon?\";\n",
    "    \n",
    "        if (in.equals(\"May I see your ticket, please.\"))\n",
    "            if (Math.random() > 0.2)\n",
    "                out = \"Yes, let me find it.\";\n",
    "            else \n",
    "                out = \"Does this train stop anywhere near Fontainebleau?\";\n",
    "        \n",
    "        log(in,out);\n",
    "        return out;\n",
    "    }\n",
    "}\n",
    "\n",
    "class Agent extends Passenger { // All agents can be passengers.\n",
    "       \n",
    "    public String response(String in) {\n",
    "        String out = \"I'm sorry, what was that?\";\n",
    "    \n",
    "        if (in.equals(\"May I see your ticket, please.\"))\n",
    "            out = \"Does this train stop anywhere near Fontainebleau?\";\n",
    "        if (in.equals(\"Once in a blue moon.\"))\n",
    "            out = \"The carrots are in the soup.\";\n",
    "        \n",
    "        log(in,out);\n",
    "        return out;\n",
    "    }\n",
    "}"
   ]
  },
  {
   "cell_type": "markdown",
   "id": "27059a95-1174-452a-ab7d-4d6118ec4007",
   "metadata": {},
   "source": [
    "Write and test a class `TrainGuardContact` with a method `identifyAgents` that takes an array of objects of type T, where T is `Challangable`,\n",
    "and returns an array of ints.\n",
    "\n",
    "The array of ints it returns should be the indices of objects in the input array that respond \n",
    "- to \"May I see your ticket, please.\" \n",
    "with \"Does this train stop anywhere near Fontainebleau?\" \n",
    "and \n",
    "- to \"Once in a blue moon.\" with \"The carrots are in the soup.\".\n",
    "\n",
    "and should return an empty array if no object in the input array responds in this way."
   ]
  },
  {
   "cell_type": "code",
   "execution_count": 24,
   "id": "acb3140d-99f1-470c-9054-6be087cc5a3a",
   "metadata": {},
   "outputs": [],
   "source": [
    "class TrainGuardContact {\n",
    "    <T extends Challengable> int[] identifyAgents(T[] a) {\n",
    "        \n",
    "        int[] temp = new int[a.length];\n",
    "        int count = 0;\n",
    "        \n",
    "        String c1 = \"May I see your ticket, please.\";\n",
    "        String r1 = (new Agent()).response(c1);\n",
    "        String c2 = \"Once in a blue moon.\";\n",
    "        String r2 = (new Agent()).response(c2);\n",
    "        System.out.println(\"----------------\");\n",
    "        \n",
    "        // Write a loop with ifs.\n",
    "        for (int i=0;i<a.length;i++)\n",
    "            if (a[i].response(c1).equals(r1))\n",
    "                if (a[i].response(c2).equals(r2))\n",
    "                    temp[count++] = i;\n",
    "        \n",
    "        int[] r = new int[count];\n",
    "        for (int i=0;i<r.length;i++) r[i] = temp[i];\n",
    "        \n",
    "        return r;\n",
    "    }\n",
    "}"
   ]
  },
  {
   "cell_type": "code",
   "execution_count": 25,
   "id": "345be630-c7b2-412e-bc56-dcb4d046397c",
   "metadata": {},
   "outputs": [
    {
     "name": "stdout",
     "output_type": "stream",
     "text": [
      "    Guard: May I see your ticket, please.\n",
      "Passenger: Does this train stop anywhere near Fontainebleau?\n",
      "    Guard: Once in a blue moon.\n",
      "Passenger: The carrots are in the soup.\n",
      "----------------\n",
      "    Guard: May I see your ticket, please.\n",
      "Passenger: Does this train stop anywhere near Fontainebleau?\n",
      "    Guard: Once in a blue moon.\n",
      "Passenger: The carrots are in the soup.\n",
      "    Guard: May I see your ticket, please.\n",
      "Passenger: Yes, let me find it.\n",
      "    Guard: May I see your ticket, please.\n",
      "Passenger: Yes, let me find it.\n",
      "    Guard: May I see your ticket, please.\n",
      "Passenger: Yes, let me find it.\n",
      "    Guard: May I see your ticket, please.\n",
      "Passenger: Yes, let me find it.\n",
      "    Guard: May I see your ticket, please.\n",
      "Passenger: Yes, let me find it.\n",
      "    Guard: May I see your ticket, please.\n",
      "Passenger: Yes, let me find it.\n",
      "    Guard: May I see your ticket, please.\n",
      "Passenger: Does this train stop anywhere near Fontainebleau?\n",
      "    Guard: Once in a blue moon.\n",
      "Passenger: The carrots are in the soup.\n",
      "    Guard: May I see your ticket, please.\n",
      "Passenger: Does this train stop anywhere near Fontainebleau?\n",
      "    Guard: Once in a blue moon.\n",
      "Passenger: Pardon?\n",
      "    Guard: May I see your ticket, please.\n",
      "Passenger: Yes, let me find it.\n",
      "    Guard: May I see your ticket, please.\n",
      "Passenger: Yes, let me find it.\n",
      "    Guard: May I see your ticket, please.\n",
      "Passenger: Yes, let me find it.\n"
     ]
    },
    {
     "data": {
      "text/plain": [
       "[0, 7]"
      ]
     },
     "execution_count": 25,
     "metadata": {},
     "output_type": "execute_result"
    }
   ],
   "source": [
    "Passenger[] trainCar = {new Passenger(), new Passenger(), new Passenger(), new Passenger(), \n",
    "                        new Passenger(), new Passenger(), new Passenger(), new Passenger(), \n",
    "                        new Passenger(), new Passenger(), new Passenger(), new Passenger()};\n",
    "trainCar[(new Random()).nextInt(trainCar.length)] = new Agent();\n",
    "trainCar[(new Random()).nextInt(trainCar.length)] = new Agent();\n",
    "TrainGuardContact guard = new TrainGuardContact();\n",
    "Arrays.toString(guard.identifyAgents(trainCar));"
   ]
  },
  {
   "cell_type": "markdown",
   "id": "5b69abe0-99e1-4756-99d1-cd17bcdb528e",
   "metadata": {},
   "source": [
    "### Algorithms"
   ]
  },
  {
   "cell_type": "markdown",
   "id": "30497120-c6d4-4f04-a110-def5b79d4add",
   "metadata": {},
   "source": [
    "#### L3.6 - Inspecting mathematical functions \n",
    "\n",
    "A function f: int -> int is linear (on all inputs) iff it is of the form f(x) = Kx, \n",
    "for some fixed number K.\n",
    "Or a function may be linear on inputs restricted to a specific range\n",
    "and non-linear on other inputs.\n",
    "Or it may be linear on various ranges with a different value of K for each range.\n",
    "If the range is a single, non-zero input, then it is always 'linear' on that range (on zero it must return 0 to be linear).\n",
    "\n",
    "Write a class `FunctionInspector` with a method `isLinearOnRange` that takes two ints, for the range, and an object of some type T and returns `true` iff the object's method `f` is linear over the given range of integers.\n",
    "\n",
    "Your procedure should work for any class T that implements the FunctionCarrier interface.\n",
    "```\n",
    "interface FunctionCarrier { int f(int input);} // f: int -> int\n",
    "```\n",
    "Java allows you to express this by 'bounding' the type parameter T, like so.\n",
    "```\n",
    "<T extends FunctionCarrier>\n",
    "```\n",
    "The type system will then allow you to call the method `f` on any variable of type T. \n",
    "\n",
    "\n",
    "Here's one way to write the code for `isLinearOnRange`.\n",
    "\n",
    "First you work out what K might be for one input in the given range. \n",
    "Take any number n in the range, apply f and divide by n. \n",
    "In other words, K = f(n)/n, where n is any number taken from the range of inputs\n",
    "(the beginning of the range, for example, given by the first int passed to `isLinearOnRange`).\n",
    "\n",
    "Once you have K, you can use a for-loop to run over the range and check if f gives K*i for every integer i in the range. If you find an input i that does not give K*i, then you return false.\n",
    "Otherwise, true."
   ]
  },
  {
   "cell_type": "code",
   "execution_count": 26,
   "id": "155c9805-aeec-4a86-ab94-4f2303c9fbeb",
   "metadata": {},
   "outputs": [],
   "source": [
    "interface FunctionCarrier { int f(int input);} // f: int -> int\n",
    "\n",
    "class FunctionInspector {\n",
    "    \n",
    "    <T extends FunctionCarrier> boolean isLinearOnRange (int b, int t, T c) {\n",
    "        boolean r = true;\n",
    "        \n",
    "        int k = 0;\n",
    "        if (b != 0) k = c.f(b)/b;\n",
    "        else if (t != 0) k = c.f(t)/t;\n",
    "        else return c.f(0) == 0;\n",
    "        \n",
    "        int d = 1;\n",
    "        if (b <= t) d = +1; else d = -1;\n",
    "        for (int x = b; x <= t; x = x + d)\n",
    "            if (c.f(x) != k*x)\n",
    "                r =false;\n",
    "        \n",
    "        return r;\n",
    "    }\n",
    "} \n"
   ]
  },
  {
   "cell_type": "markdown",
   "id": "4c21c945-9fa9-4a2f-9a61-d199cbd2976b",
   "metadata": {},
   "source": [
    "Here are some classes whose objects carry various functions."
   ]
  },
  {
   "cell_type": "code",
   "execution_count": 27,
   "id": "6ca748a2-1b63-4e22-b9a6-f9345f4080c0",
   "metadata": {},
   "outputs": [],
   "source": [
    "class A implements FunctionCarrier { \n",
    "    public int f(int x) { \n",
    "        return 5*x;} // f(x) = 5x - linear on all ranges\n",
    "}\n",
    "\n",
    "class B implements FunctionCarrier { \n",
    "    public int f(int x) { \n",
    "        return x*x*x; // f(x) = x^3 - 'linear' on [-1,1], but only because we are working over int.\n",
    "    }\n",
    "}\n",
    "\n",
    "class C implements FunctionCarrier { \n",
    "    public int f(int x) { \n",
    "        return Math.abs(x); // f(x) = |x| - linear on two ranges with separate k's.\n",
    "    }\n",
    "}"
   ]
  },
  {
   "cell_type": "markdown",
   "id": "458569e1-de68-4261-bab0-2ab31fbf49d0",
   "metadata": {},
   "source": [
    "Now let's create a FunctionInspector object and use it to examine these functions over various ranges of input. "
   ]
  },
  {
   "cell_type": "code",
   "execution_count": 28,
   "id": "563f1884-3a09-4a9a-9b57-a137657474ce",
   "metadata": {},
   "outputs": [],
   "source": [
    "FunctionInspector p = new FunctionInspector();"
   ]
  },
  {
   "cell_type": "code",
   "execution_count": 29,
   "id": "72b64400-d209-4af7-8f8e-bc9e583f089b",
   "metadata": {},
   "outputs": [
    {
     "data": {
      "text/plain": [
       "true"
      ]
     },
     "execution_count": 29,
     "metadata": {},
     "output_type": "execute_result"
    }
   ],
   "source": [
    "A a = new A();\n",
    "p.isLinearOnRange( -10, 10, a) // Should give true"
   ]
  },
  {
   "cell_type": "code",
   "execution_count": 30,
   "id": "34582c9d-ff38-4939-95ba-f162ac93673c",
   "metadata": {},
   "outputs": [
    {
     "data": {
      "text/plain": [
       "false"
      ]
     },
     "execution_count": 30,
     "metadata": {},
     "output_type": "execute_result"
    }
   ],
   "source": [
    "B b = new B();\n",
    "p.isLinearOnRange( -10, 10, b) // Should give false "
   ]
  },
  {
   "cell_type": "code",
   "execution_count": 31,
   "id": "fd047421-bdd6-4503-a525-68a208adb461",
   "metadata": {},
   "outputs": [
    {
     "data": {
      "text/plain": [
       "true"
      ]
     },
     "execution_count": 31,
     "metadata": {},
     "output_type": "execute_result"
    }
   ],
   "source": [
    "B b = new B();\n",
    "p.isLinearOnRange( -1, 1, b) // Should give true"
   ]
  },
  {
   "cell_type": "code",
   "execution_count": 32,
   "id": "4494633e-5ab9-405f-828c-5042c5de9915",
   "metadata": {},
   "outputs": [
    {
     "data": {
      "text/plain": [
       "false"
      ]
     },
     "execution_count": 32,
     "metadata": {},
     "output_type": "execute_result"
    }
   ],
   "source": [
    "C c = new C();\n",
    "p.isLinearOnRange( -1, 1, c) // Should give false "
   ]
  },
  {
   "cell_type": "code",
   "execution_count": 33,
   "id": "24934f00-ea15-4777-8846-7d9c39b075eb",
   "metadata": {},
   "outputs": [
    {
     "data": {
      "text/plain": [
       "true"
      ]
     },
     "execution_count": 33,
     "metadata": {},
     "output_type": "execute_result"
    }
   ],
   "source": [
    "C c = new C();\n",
    "p.isLinearOnRange( 5, 20, c) // Should give true"
   ]
  },
  {
   "cell_type": "code",
   "execution_count": 34,
   "id": "6a208e43-4cb1-432d-9360-52adc56bf6e9",
   "metadata": {},
   "outputs": [
    {
     "data": {
      "text/plain": [
       "true"
      ]
     },
     "execution_count": 34,
     "metadata": {},
     "output_type": "execute_result"
    }
   ],
   "source": [
    "C c = new C();\n",
    "p.isLinearOnRange( -20, -5, c) // Should give true"
   ]
  },
  {
   "cell_type": "markdown",
   "id": "e772e393-7221-419d-a0d8-4a4607e822d0",
   "metadata": {},
   "source": [
    "Every function is 'linear' on a range with just one number."
   ]
  },
  {
   "cell_type": "code",
   "execution_count": 35,
   "id": "cb2709e0-556b-4953-9967-1a8e37bf56c4",
   "metadata": {},
   "outputs": [
    {
     "data": {
      "text/plain": [
       "true"
      ]
     },
     "execution_count": 35,
     "metadata": {},
     "output_type": "execute_result"
    }
   ],
   "source": [
    "B c = new B();\n",
    "p.isLinearOnRange( 5, 5, c) // Should give true"
   ]
  },
  {
   "cell_type": "markdown",
   "id": "e4aefa06-c790-4b58-a979-194926023254",
   "metadata": {},
   "source": [
    "Does your method work for just the input 0?"
   ]
  },
  {
   "cell_type": "code",
   "execution_count": 36,
   "id": "136b2662-d0c9-4356-8e39-24d9e9aae0b4",
   "metadata": {},
   "outputs": [
    {
     "data": {
      "text/plain": [
       "true"
      ]
     },
     "execution_count": 36,
     "metadata": {},
     "output_type": "execute_result"
    }
   ],
   "source": [
    "C c = new C();\n",
    "p.isLinearOnRange( 0, 0, c) // Should give true"
   ]
  },
  {
   "cell_type": "markdown",
   "id": "c4b2aecb-5507-4811-ba28-f2ea448a7c15",
   "metadata": {},
   "source": [
    "How about with the range limits 'backwards'?"
   ]
  },
  {
   "cell_type": "code",
   "execution_count": 37,
   "id": "ca1c47ec-4ba5-4893-8f36-885e05749b37",
   "metadata": {},
   "outputs": [
    {
     "data": {
      "text/plain": [
       "true"
      ]
     },
     "execution_count": 37,
     "metadata": {},
     "output_type": "execute_result"
    }
   ],
   "source": [
    "A a = new A();\n",
    "p.isLinearOnRange( 10, -10, c) // Should give true"
   ]
  },
  {
   "cell_type": "markdown",
   "id": "dea66022-0e7b-4038-a416-4e7924c8b499",
   "metadata": {},
   "source": [
    "#### L3.7 - Refactor the design\n",
    "\n",
    "We decide we'd like our function carrying objects to be able to check themselves.\n",
    "\n",
    "Write an abstract class `CheckableFunctionCarrier` that `implements` both `FunctionCarrier` and an additional interface `LinearOnRangeCheckable` (see below).\n",
    "\n",
    "The `CheckableFunctionCarrier` should leave `f` abstract but should implement (have code for) `linearOnRange.`"
   ]
  },
  {
   "cell_type": "code",
   "execution_count": 38,
   "id": "05be4391-dd2c-4473-b5c2-251073096a49",
   "metadata": {},
   "outputs": [],
   "source": [
    "interface LinearOnRangeCheckable {boolean linearOnRange(int bottomOfRange, int topOfRange);}\n",
    "\n",
    "abstract class CheckableFunctionCarrier\n",
    "implements FunctionCarrier, LinearOnRangeCheckable {\n",
    "\n",
    "    public boolean linearOnRange(int b, int t) {\n",
    "        \n",
    "        CheckableFunctionCarrier c = this; // Set c to this so we can copy in code unchanged.\n",
    "                                           // Or replace 'c' with 'this' in your code.\n",
    "                                           // Or just remove the 'c.'s and Java will put in 'this.'. \n",
    "        \n",
    "        boolean r = true;\n",
    "        \n",
    "        int k = 0;\n",
    "        if (b != 0) k = c.f(b)/b;\n",
    "        else if (t != 0) k = c.f(t)/t;\n",
    "        else return c.f(0) == 0;\n",
    "        \n",
    "        int d = 1;\n",
    "        if (b <= t) d = +1; else d = -1;\n",
    "        for (int x = b; x <= t; x = x + d)\n",
    "            if (c.f(x) != k*x)\n",
    "                r =false;\n",
    "        \n",
    "        return r;\n",
    "    }\n",
    "}"
   ]
  },
  {
   "cell_type": "markdown",
   "id": "5f5e6948-0093-434a-b7da-1881fc8f893f",
   "metadata": {},
   "source": [
    "Now all we have to do is re-declare A, B and C to extend `CheckableFunctionCarrier`, and A, B and C objects can check themselves."
   ]
  },
  {
   "cell_type": "code",
   "execution_count": 39,
   "id": "df841c06-1990-4ac5-8368-03b4386046eb",
   "metadata": {},
   "outputs": [],
   "source": [
    "class A extends CheckableFunctionCarrier { \n",
    "    public int f(int x) { \n",
    "        return 5*x;} // f(x) = 5x\n",
    "}\n",
    "\n",
    "class B extends CheckableFunctionCarrier { \n",
    "    public int f(int x) { \n",
    "        return x*x*x; // f(x) = x^3\n",
    "    }\n",
    "}\n",
    "\n",
    "class C extends CheckableFunctionCarrier { \n",
    "    public int f(int x) { \n",
    "        return Math.abs(x); // f(x) = |x|\n",
    "    }\n",
    "}"
   ]
  },
  {
   "cell_type": "code",
   "execution_count": 40,
   "id": "4bec5165-06ee-4365-a704-cccb56a662f6",
   "metadata": {},
   "outputs": [
    {
     "data": {
      "text/plain": [
       "true"
      ]
     },
     "execution_count": 40,
     "metadata": {},
     "output_type": "execute_result"
    }
   ],
   "source": [
    "A a = new A();\n",
    "a.linearOnRange( 0, 8) // Should give true"
   ]
  },
  {
   "cell_type": "code",
   "execution_count": 41,
   "id": "b5c8cc1e-d39e-45c0-8781-ad8314b0c4bb",
   "metadata": {},
   "outputs": [
    {
     "data": {
      "text/plain": [
       "true"
      ]
     },
     "execution_count": 41,
     "metadata": {},
     "output_type": "execute_result"
    }
   ],
   "source": [
    "A a = new A();\n",
    "a.linearOnRange( -5, 0) // Should give true"
   ]
  },
  {
   "cell_type": "code",
   "execution_count": 42,
   "id": "4891c5e9-e077-44d6-b8e9-838c78a1f00d",
   "metadata": {},
   "outputs": [
    {
     "data": {
      "text/plain": [
       "false"
      ]
     },
     "execution_count": 42,
     "metadata": {},
     "output_type": "execute_result"
    }
   ],
   "source": [
    "B b = new B();\n",
    "b.linearOnRange( -3, 5) // Should give false"
   ]
  },
  {
   "cell_type": "code",
   "execution_count": 43,
   "id": "aa73420b-fd8a-4185-a92a-d2c9102070d1",
   "metadata": {},
   "outputs": [
    {
     "data": {
      "text/plain": [
       "true"
      ]
     },
     "execution_count": 43,
     "metadata": {},
     "output_type": "execute_result"
    }
   ],
   "source": [
    "B b = new B();\n",
    "b.linearOnRange( 0, 1) // Should give true"
   ]
  },
  {
   "cell_type": "code",
   "execution_count": 44,
   "id": "73b98e6c-c655-4320-b1e3-3c6b514e2f0a",
   "metadata": {},
   "outputs": [
    {
     "data": {
      "text/plain": [
       "false"
      ]
     },
     "execution_count": 44,
     "metadata": {},
     "output_type": "execute_result"
    }
   ],
   "source": [
    "C c = new C();\n",
    "c.linearOnRange( -6, 2) // Should give false"
   ]
  },
  {
   "cell_type": "code",
   "execution_count": 45,
   "id": "3bfa1cd9-5afd-4892-b83e-7bc5bde7eee3",
   "metadata": {},
   "outputs": [
    {
     "data": {
      "text/plain": [
       "true"
      ]
     },
     "execution_count": 45,
     "metadata": {},
     "output_type": "execute_result"
    }
   ],
   "source": [
    "C c = new C();\n",
    "c.linearOnRange( -9, 0) // Should give true"
   ]
  },
  {
   "cell_type": "code",
   "execution_count": 46,
   "id": "2fa85ced-b1c3-4a86-bebd-5781fff7ffab",
   "metadata": {},
   "outputs": [
    {
     "data": {
      "text/plain": [
       "true"
      ]
     },
     "execution_count": 46,
     "metadata": {},
     "output_type": "execute_result"
    }
   ],
   "source": [
    "C c = new C();\n",
    "c.linearOnRange( 0, 9) // Should give true"
   ]
  },
  {
   "cell_type": "code",
   "execution_count": 48,
   "id": "78603cfd-f6df-4b91-89c5-67dd12b1e07c",
   "metadata": {},
   "outputs": [
    {
     "data": {
      "text/plain": [
       "false"
      ]
     },
     "execution_count": 48,
     "metadata": {},
     "output_type": "execute_result"
    }
   ],
   "source": [
    "C c = new C();\n",
    "c.linearOnRange( -1, 9) // Should give true <- TYPO: Should be 'false'"
   ]
  },
  {
   "cell_type": "markdown",
   "id": "c85a37ca-27f2-4c22-a876-22c0f3987adf",
   "metadata": {},
   "source": [
    "#### L3.8 - Find the largest linear range\n",
    "\n",
    "Write a procedure `sizeOLargestLinearRange` that takes a CheckableFunctionCarrier and returns the size of its largest linear range within [-10, +10].\n"
   ]
  },
  {
   "cell_type": "code",
   "execution_count": 51,
   "id": "a28af68e-6195-4c68-9009-edb4b57c450a",
   "metadata": {},
   "outputs": [],
   "source": [
    "int sizeOLargestLinearRange(CheckableFunctionCarrier c) {\n",
    "    int SIZE = 1000;\n",
    "    int LEAST_BOTTOM = -SIZE;\n",
    "    int GREATEST_TOP = +SIZE;\n",
    "\n",
    "    int currentLargest = 0;\n",
    "    \n",
    "    for (int i = LEAST_BOTTOM; i <= GREATEST_TOP; i++)\n",
    "        for (int j = i; j <= GREATEST_TOP; j++)\n",
    "            if (c.linearOnRange(i,j)) {\n",
    "                int rangeSize = j - i + 1;\n",
    "                if (rangeSize > currentLargest)\n",
    "                    currentLargest = rangeSize;\n",
    "            }   \n",
    "    \n",
    "    return currentLargest;\n",
    "}"
   ]
  },
  {
   "cell_type": "code",
   "execution_count": 52,
   "id": "f86ae27a-72a5-4200-9658-1d7392017ef4",
   "metadata": {},
   "outputs": [
    {
     "data": {
      "text/plain": [
       "3"
      ]
     },
     "execution_count": 52,
     "metadata": {},
     "output_type": "execute_result"
    }
   ],
   "source": [
    "B b = new B();\n",
    "sizeOLargestLinearRange(b) // Should give 3\n",
    "// Starts to slow at SIZE = 1000. \n",
    "// Over 30 sec at SIZE = 2000."
   ]
  },
  {
   "cell_type": "markdown",
   "id": "27583be1-8804-40a2-82e6-97d783d53465",
   "metadata": {},
   "source": [
    "Try different values for SIZE. When does your code start to slow?\n",
    "\n",
    "How can you use the fact that \n",
    "- linear ranges that overlap on two inputs must have the same K\n",
    "\n",
    "to check fewer ranges?"
   ]
  },
  {
   "cell_type": "code",
   "execution_count": 53,
   "id": "61c9f410-bf2d-4e2e-b219-fa721d4a9c85",
   "metadata": {},
   "outputs": [],
   "source": [
    "// to do ..."
   ]
  },
  {
   "cell_type": "markdown",
   "id": "e801af6c-d938-4c7b-aaa0-ce784c1de261",
   "metadata": {
    "tags": []
   },
   "source": [
    "### Abstraction\n",
    "\n",
    "In Lab 1, we used ints to represent truth values and to represent some small numbers. In Lab 2, we used identity-only objects to represent truth vales and could also have used them to represent small numbers. We did this in exactly the same way we did in Lab 1.\n",
    "\n",
    "Here we do something different. \n",
    "We use classes with different implementations to represent small numbers. \n",
    "The idea is to represent the number by a behaviour. \n",
    "The behaviour takes a function f: int -> int and an input x and applies f a **number** of times.\n",
    "So it is the behaviour of applying a function N times that represents the number N."
   ]
  },
  {
   "cell_type": "markdown",
   "id": "99ea2986-d5a7-49d6-8057-360c5846f98d",
   "metadata": {
    "tags": []
   },
   "source": [
    "#### L3.9 - Representing numbers by implementions\n",
    "\n",
    "Here is an abstract class Number with a method `applyNTimes` that takes a `FunctionCarrier` and an int and returns an int."
   ]
  },
  {
   "cell_type": "code",
   "execution_count": 101,
   "id": "f2e8ff16-c409-402a-a751-5b53e8be75c6",
   "metadata": {
    "tags": []
   },
   "outputs": [],
   "source": [
    "abstract class Number { abstract int applyNTimes(FunctionCarrier c, int input);}"
   ]
  },
  {
   "cell_type": "markdown",
   "id": "10a48b8c-10fb-471b-ae02-892c4b6666bd",
   "metadata": {
    "tags": []
   },
   "source": [
    "Write a sub-class Zero that implements `applyNTimes` by just returning x without using the FunctionCarrier object at all.\n",
    "\n",
    "Write a sub-class One that implements `applyNTimes` by returning the result of applying the carried function f to x.\n",
    "\n",
    "Write a sub-class Two that implements `applyNTimes` \n",
    "by returning the result of applying the function f to x once, producing an int r, and then again to to r.\n",
    "\n",
    "Write a sub-class Three that implements `applyNTimes` \n",
    "by returning the result of applying the function f to x three times over."
   ]
  },
  {
   "cell_type": "code",
   "execution_count": 55,
   "id": "0910a6c1-3109-4781-b5e5-fbae71a11906",
   "metadata": {},
   "outputs": [],
   "source": [
    "class Zero extends Number {\n",
    "    int applyNTimes(FunctionCarrier c, int x) {\n",
    "        int r = x;\n",
    "        \n",
    "        // Add zero lines.\n",
    "        \n",
    "        return r;\n",
    "    }\n",
    "}"
   ]
  },
  {
   "cell_type": "code",
   "execution_count": 56,
   "id": "7d1dd7a3-2243-48e3-a69f-c6bbff55a614",
   "metadata": {},
   "outputs": [],
   "source": [
    "class One extends Number {\n",
    "    int applyNTimes(FunctionCarrier c, int x) {\n",
    "        int r = x;\n",
    "        \n",
    "        // Add one line.\n",
    "        r = c.f(r);\n",
    "        \n",
    "        return r;\n",
    "    }\n",
    "}"
   ]
  },
  {
   "cell_type": "code",
   "execution_count": 57,
   "id": "a73180e9-ff03-46ea-88d7-2144f7a10eee",
   "metadata": {},
   "outputs": [],
   "source": [
    "class Two extends Number {\n",
    "    int applyNTimes(FunctionCarrier c, int x) {\n",
    "        int r = x;\n",
    "        \n",
    "        // Add two lines.\n",
    "        r = c.f(r);\n",
    "        r = c.f(r);\n",
    "        \n",
    "        return r;\n",
    "    }\n",
    "}"
   ]
  },
  {
   "cell_type": "code",
   "execution_count": 58,
   "id": "0876aa1c-b7ae-46a0-aeee-525fc200e747",
   "metadata": {},
   "outputs": [],
   "source": [
    "class Three extends Number {\n",
    "    int applyNTimes(FunctionCarrier c, int x) {\n",
    "        int r = x;\n",
    "        \n",
    "        // Add three lines.\n",
    "        r = c.f(r);\n",
    "        r = c.f(r);\n",
    "        r = c.f(r);\n",
    "        \n",
    "        return r;\n",
    "    }\n",
    "}"
   ]
  },
  {
   "cell_type": "markdown",
   "id": "a238eea6-ba64-4ae7-9e25-a8f832f277b1",
   "metadata": {},
   "source": [
    "Here are some functions to feed to our numbers."
   ]
  },
  {
   "cell_type": "code",
   "execution_count": 70,
   "id": "2c4f92df-9a15-4829-81a5-a2574b648879",
   "metadata": {},
   "outputs": [],
   "source": [
    "class AddOne implements FunctionCarrier { public int f(int x) { return x + 1;} }\n",
    "FunctionCarrier plusOne = new AddOne();"
   ]
  },
  {
   "cell_type": "code",
   "execution_count": 71,
   "id": "a897ec39",
   "metadata": {},
   "outputs": [],
   "source": [
    "class MultplyByTwo implements FunctionCarrier { public int f(int x) { return 2*x;} }\n",
    "FunctionCarrier timesTwo = new MultplyByTwo();"
   ]
  },
  {
   "cell_type": "code",
   "execution_count": 72,
   "id": "9a4ca333-ec7e-4e9d-a3e7-79935aeebe96",
   "metadata": {},
   "outputs": [],
   "source": [
    "Three three = new Three();"
   ]
  },
  {
   "cell_type": "code",
   "execution_count": 73,
   "id": "ebed4117-389a-4614-b1f5-8bc64fae419f",
   "metadata": {},
   "outputs": [
    {
     "data": {
      "text/plain": [
       "10"
      ]
     },
     "execution_count": 73,
     "metadata": {},
     "output_type": "execute_result"
    }
   ],
   "source": [
    "three.applyNTimes(plusOne, 7) // Should give 10"
   ]
  },
  {
   "cell_type": "code",
   "execution_count": 74,
   "id": "13533f86",
   "metadata": {},
   "outputs": [
    {
     "data": {
      "text/plain": [
       "80"
      ]
     },
     "execution_count": 74,
     "metadata": {},
     "output_type": "execute_result"
    }
   ],
   "source": [
    "three.applyNTimes(timesTwo, 10) // Should give 80"
   ]
  },
  {
   "cell_type": "markdown",
   "id": "1e7b6bd1-17b2-4fcd-9c42-595d4516dcb4",
   "metadata": {},
   "source": [
    "#### L3.10 - Infinity\n",
    "\n",
    "Write a sub-class of Number called Infinity that implements `applyNTImes` by applying f infinitely many times."
   ]
  },
  {
   "cell_type": "code",
   "execution_count": 97,
   "id": "6b4c3574-44bb-48b8-842f-4a26c5bad9de",
   "metadata": {},
   "outputs": [],
   "source": [
    "class Infinity extends Number {\n",
    "    int applyNTimes(FunctionCarrier c, int x) {\n",
    "        int r = x;\n",
    "        \n",
    "        while (true) {\n",
    "            if (r == c.f(r))\n",
    "                return r;\n",
    "            else\n",
    "               r = c.f(r);\n",
    "        }\n",
    "    }\n",
    "}"
   ]
  },
  {
   "cell_type": "markdown",
   "id": "96af02ee-d190-4ba1-89cb-ddc8793a00f6",
   "metadata": {},
   "source": [
    "#### L3.11 Addition on objects\n",
    "\n",
    "Write a procedure `sumOf` that takes two Number objects and returns a Number object that represents their sum.\n",
    "\n",
    "It would be nice if our `sumOf` could create a new class with a new behaviour and return an object of that, like this.\n",
    "```\n",
    "Number sumOf (Number n, Number m) {\n",
    "\n",
    "new class Sum extends Number { // No such thing as 'new class' in Java!\n",
    "\n",
    "    int applyNTimes(FunctionCarrier c, int x) {\n",
    "        int r = x;\n",
    "        \n",
    "        r =  n.applyNtimes(c, r); // Apply (function f in c) n times.\n",
    "        r =  m.applyNtimes(c, r); // Apply m more times.\n",
    "        \n",
    "        return r; // Return the result after applying n + m times - so simple, lah!\n",
    "    } \n",
    "}\n",
    "\n",
    "Sum sumObject = new R();\n",
    "\n",
    "return sumObject;\n",
    "}\n",
    "```\n",
    "But nothing like this is possible without proper functional programming features.\n",
    "\n",
    "In plain old Java, `sumOf` has to detect what it has been passed and return an object of the appropriate, existing class. \n",
    "And without the ability to create new classes of object at run time, \n",
    "you will have to decide what to do about sums that don't have a representation. Try writing a sub-class Alot to handle this case."
   ]
  },
  {
   "cell_type": "code",
   "execution_count": 104,
   "id": "ad2e6701-2d2a-4118-b530-911fffcf611d",
   "metadata": {},
   "outputs": [],
   "source": [
    "Number sumOf (Number n, Number m) {\n",
    "    \n",
    "    Number r = new Infinity(); // Use infinity for alot?\n",
    "    \n",
    "    // Convert number functionals to ints by applying successor to 0. \n",
    "    FunctionCarrier S = new AddOne();\n",
    "    int N = n.applyNTimes(S, 0); // Adding 1 to 0 N times gives N.\n",
    "    int M = m.applyNTimes(S, 0);\n",
    "    \n",
    "    switch (N + M) { // Now use addition on ints (rather than big if-else).\n",
    "            \n",
    "        case 0: r = new Zero(); break;\n",
    "        case 1: r = new One(); break;\n",
    "        case 2: r = new Two(); break;\n",
    "        case 3: r = new Three(); break;\n",
    "        default:\n",
    "    }\n",
    "\n",
    "    return r;  \n",
    "}"
   ]
  },
  {
   "cell_type": "code",
   "execution_count": 105,
   "id": "107fa825-083e-417a-be60-937cb57ed1f9",
   "metadata": {},
   "outputs": [
    {
     "data": {
      "text/plain": [
       "80"
      ]
     },
     "execution_count": 105,
     "metadata": {},
     "output_type": "execute_result"
    }
   ],
   "source": [
    "One one = new One();\n",
    "Two two = new Two();\n",
    "sumOf(one,two).applyNTimes(timesTwo, 10) // Should give 80"
   ]
  },
  {
   "cell_type": "code",
   "execution_count": 107,
   "id": "ee9e8145-3868-4585-a1ec-60999b7c9dd3",
   "metadata": {},
   "outputs": [],
   "source": [
    "class DivByTwo implements FunctionCarrier {\n",
    "    public int f(int x) {return x/2;} // Integer divide!\n",
    "} "
   ]
  },
  {
   "cell_type": "code",
   "execution_count": 110,
   "id": "47e43dd2-48fe-46da-b50b-e6c41f799047",
   "metadata": {},
   "outputs": [
    {
     "data": {
      "text/plain": [
       "250000000"
      ]
     },
     "execution_count": 110,
     "metadata": {},
     "output_type": "execute_result"
    }
   ],
   "source": [
    "DivByTwo halve = new DivByTwo();\n",
    "sumOf(one,one).applyNTimes(halve, 1000000000) // Should give 250 000 000 = one billion halved two times."
   ]
  },
  {
   "cell_type": "code",
   "execution_count": 109,
   "id": "51f79157-633b-42d1-b544-2ece8fdcdf24",
   "metadata": {},
   "outputs": [
    {
     "data": {
      "text/plain": [
       "0"
      ]
     },
     "execution_count": 109,
     "metadata": {},
     "output_type": "execute_result"
    }
   ],
   "source": [
    "sumOf(three,one).applyNTimes(halve, 1000000000) // Should give 0 = one billion halved infinity times."
   ]
  },
  {
   "cell_type": "markdown",
   "id": "9e8e1337-26c6-4aaf-897e-84852715af72",
   "metadata": {},
   "source": [
    "#### L3.12 - Addition at compile time\n",
    "\n",
    "Again we reach the limits of Java's type system. If Java allowed generic constructors, we could write the following. "
   ]
  },
  {
   "cell_type": "code",
   "execution_count": 78,
   "id": "86266b90-af0e-4440-ae89-8498a6401758",
   "metadata": {},
   "outputs": [
    {
     "ename": "CompilationException",
     "evalue": "",
     "output_type": "error",
     "traceback": [
      "\u001b[1m\u001b[30m|   \u001b[1m\u001b[30m    Number n = new \u001b[0m\u001b[1m\u001b[30m\u001b[41mS\u001b[0m\u001b[1m\u001b[30m();\u001b[0m",
      "\u001b[1m\u001b[31munexpected type\u001b[0m",
      "\u001b[1m\u001b[31m  required: class\u001b[0m",
      "\u001b[1m\u001b[31m  found:    type parameter S\u001b[0m",
      "",
      "\u001b[1m\u001b[30m|   \u001b[1m\u001b[30m    Number m = new \u001b[0m\u001b[1m\u001b[30m\u001b[41mT\u001b[0m\u001b[1m\u001b[30m();\u001b[0m",
      "\u001b[1m\u001b[31munexpected type\u001b[0m",
      "\u001b[1m\u001b[31m  required: class\u001b[0m",
      "\u001b[1m\u001b[31m  found:    type parameter T\u001b[0m",
      "",
      "\u001b[1m\u001b[30m|   \u001b[1m\u001b[30m        r =  \u001b[0m\u001b[1m\u001b[30m\u001b[41mn.applyNtimes\u001b[0m\u001b[1m\u001b[30m(c, r); // Apply (function f in c) n times.\u001b[0m",
      "\u001b[1m\u001b[31mcannot find symbol\u001b[0m",
      "\u001b[1m\u001b[31m  symbol:   method applyNtimes(FunctionCarrier,int)\u001b[0m",
      "",
      "\u001b[1m\u001b[30m|   \u001b[1m\u001b[30m        r =  \u001b[0m\u001b[1m\u001b[30m\u001b[41mm.applyNtimes\u001b[0m\u001b[1m\u001b[30m(c, r); // Apply m more times.\u001b[0m",
      "\u001b[1m\u001b[31mcannot find symbol\u001b[0m",
      "\u001b[1m\u001b[31m  symbol:   method applyNtimes(FunctionCarrier,int)\u001b[0m",
      ""
     ]
    }
   ],
   "source": [
    "class Sum<S extends Number,T extends Number> extends Number {\n",
    "    Number n = new S();\n",
    "    Number m = new T();\n",
    "\n",
    "    int applyNTimes(FunctionCarrier c, int x) {\n",
    "        int r = x;\n",
    "        \n",
    "        r =  n.applyNtimes(c, r); // Apply (function f in c) n times.\n",
    "        r =  m.applyNtimes(c, r); // Apply m more times.\n",
    "        \n",
    "        return r; // Return the result after applying n + m times - so simple, lah!\n",
    "    } \n",
    "}\n",
    "\n",
    "//Sum<Two,Two> four = new Sum(); // This would give us an object with the correct behaviour for the number 4."
   ]
  },
  {
   "cell_type": "markdown",
   "id": "fbf5f535-48fe-42e0-8548-5cbd19e0eb51",
   "metadata": {},
   "source": [
    "Substituting Two for S and T ourselves, by hand, we can write a class Four in this style."
   ]
  },
  {
   "cell_type": "code",
   "execution_count": 79,
   "id": "71562e2c-57a6-4049-ae0d-a762ac29abe9",
   "metadata": {},
   "outputs": [],
   "source": [
    "class Four extends Number {\n",
    "    \n",
    "    Number n = new Two();\n",
    "    Number m = new Two();\n",
    "\n",
    "    int applyNTimes(FunctionCarrier c, int x) {\n",
    "        int r = x;\n",
    "        \n",
    "        r =  n.applyNTimes(c, r); // Apply (function f in c) n times.\n",
    "        r =  m.applyNTimes(c, r); // Apply m more times.\n",
    "        \n",
    "        return r; // Return the result after applying n + m times - so simple, lah!\n",
    "    } \n",
    "}"
   ]
  },
  {
   "cell_type": "code",
   "execution_count": 80,
   "id": "483251d0-8cb6-48ce-afd8-4f619453b981",
   "metadata": {},
   "outputs": [
    {
     "data": {
      "text/plain": [
       "16"
      ]
     },
     "execution_count": 80,
     "metadata": {},
     "output_type": "execute_result"
    }
   ],
   "source": [
    "Four four = new Four();\n",
    "four.applyNTimes(timesTwo, 1); // Should give 16"
   ]
  },
  {
   "cell_type": "markdown",
   "id": "42144a2a-dfb2-467d-983f-e40a1a703c80",
   "metadata": {},
   "source": [
    "Try writing a Seven in this way."
   ]
  },
  {
   "cell_type": "code",
   "execution_count": 81,
   "id": "23848dcd-1eb7-4a9c-90da-5b3d7fca557c",
   "metadata": {},
   "outputs": [],
   "source": [
    "class Seven extends Number {\n",
    "    \n",
    "    Number n = new Three();\n",
    "    Number m = new Four();\n",
    "\n",
    "    int applyNTimes(FunctionCarrier c, int x) {\n",
    "        int r = x;\n",
    "        \n",
    "        r =  n.applyNTimes(c, r); // Apply (function f in c) n times.\n",
    "        r =  m.applyNTimes(c, r); // Apply m more times.\n",
    "        \n",
    "        return r; // Return the result after applying n + m times - so simple, lah!\n",
    "    } \n",
    "}"
   ]
  },
  {
   "cell_type": "code",
   "execution_count": 82,
   "id": "6b7b7331-b4fb-46b4-b3f1-9431bd007731",
   "metadata": {},
   "outputs": [
    {
     "data": {
      "text/plain": [
       "128"
      ]
     },
     "execution_count": 82,
     "metadata": {},
     "output_type": "execute_result"
    }
   ],
   "source": [
    "Seven seven  = new Seven();\n",
    "seven.applyNTimes(timesTwo, 1);"
   ]
  },
  {
   "cell_type": "code",
   "execution_count": null,
   "id": "72938da2-98e9-44a6-a545-a86e0615acc6",
   "metadata": {},
   "outputs": [],
   "source": []
  }
 ],
 "metadata": {
  "kernelspec": {
   "display_name": "Java",
   "language": "java",
   "name": "java"
  },
  "language_info": {
   "codemirror_mode": "java",
   "file_extension": ".jshell",
   "mimetype": "text/x-java-source",
   "name": "Java",
   "pygments_lexer": "java",
   "version": "11.0.8+10-LTS"
  }
 },
 "nbformat": 4,
 "nbformat_minor": 5
}
