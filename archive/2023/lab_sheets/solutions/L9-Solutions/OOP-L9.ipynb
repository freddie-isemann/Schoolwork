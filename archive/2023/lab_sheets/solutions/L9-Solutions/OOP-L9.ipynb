{
 "cells": [
  {
   "cell_type": "markdown",
   "id": "b5437322-7f6b-43cd-bf1d-80ddbc60576b",
   "metadata": {},
   "source": [
    "# Lab Sheet 9"
   ]
  },
  {
   "cell_type": "markdown",
   "id": "5cfd57fe-e286-4b23-91d9-acd6efcdfa47",
   "metadata": {},
   "source": [
    "In this lab we will write a very simple static site generator (i.e. a program that generates HTML files). We will create two packages, the first one will have the basic functionality, and the other one will be an \"upgrade\" that adds the colours. "
   ]
  },
  {
   "cell_type": "markdown",
   "id": "cb99574f-eb12-4ee2-b647-e798de41239e",
   "metadata": {
    "tags": []
   },
   "source": [
    "## Exercise 1 (Creating a package)"
   ]
  },
  {
   "cell_type": "markdown",
   "id": "9e04339f",
   "metadata": {},
   "source": [
    "In Java it is convention to name packages in reverse internet domain. For example we have the package `com.google.common.math`, whose source code lies in the folder `com/google/common/path/*.java`. \n",
    "\n",
    "In this exercise we will create the package `org.qmul.pagegenerator`. "
   ]
  },
  {
   "cell_type": "markdown",
   "id": "bf2ca0ad-de93-4b44-9c40-759b80f90900",
   "metadata": {},
   "source": [
    "Open a terminal window and navigate to the folder `L9`. Inside this folder create the structure `org/qmul/pagegenerator/` and navigate to it. (Use the command `mkdir -p org/qmul/pagegenerator/` for this purpose.) \n",
    "\n",
    "In `pagegenerator` create the files \n",
    "- `Element.java`\n",
    "- `Heading.java`\n",
    "- `Paragraph.java`\n",
    "- `Page.java`\n",
    "\n",
    "Use the command `touch` to create a new file.\n",
    "\n",
    "The first non-comment line of each of these files should be: \n",
    "\n",
    "`package org.qmul.pagegenerator;`\n",
    "\n",
    "This statement declares the name of the package. \n",
    "\n",
    "Besides this first line, populate the files as follows:"
   ]
  },
  {
   "cell_type": "markdown",
   "id": "9a8a42ab-f7a8-46e4-9f4b-191fd6bd0db3",
   "metadata": {},
   "source": [
    "### Element.java"
   ]
  },
  {
   "cell_type": "markdown",
   "id": "c2ba3fa1-da84-4d2a-b91e-d395696b6d56",
   "metadata": {},
   "source": [
    "a public interface with a single method named `toHTML()` that returns a `String`."
   ]
  },
  {
   "cell_type": "markdown",
   "id": "0e320d4c-fd06-4008-9473-c1928aca202c",
   "metadata": {},
   "source": [
    "### Heading.java"
   ]
  },
  {
   "cell_type": "markdown",
   "id": "0c9dcb3c-4867-4e41-9db7-3e0341f1a659",
   "metadata": {},
   "source": [
    "a public class that implements `Element`. For now put a default implementation of `toHTML()` that simply returns the empty string."
   ]
  },
  {
   "cell_type": "markdown",
   "id": "96f392f5-58e5-4254-9bb3-b0aa663c256f",
   "metadata": {},
   "source": [
    "### Paragraph.java"
   ]
  },
  {
   "cell_type": "markdown",
   "id": "54764e6f-9274-44f5-9cde-705c47c31204",
   "metadata": {},
   "source": [
    "a public class that implements `Element`. For now put a default implementation of `toHTML()` that simply returns the empty string."
   ]
  },
  {
   "cell_type": "markdown",
   "id": "b19d4139-670e-4423-9d47-2f2bb125409c",
   "metadata": {},
   "source": [
    "### Page.java"
   ]
  },
  {
   "cell_type": "markdown",
   "id": "4b0d7f8f-fb3d-41d6-aebc-089280553098",
   "metadata": {},
   "source": [
    "a public class that implements `Element`. For now put a default implementation of `toHTML()` that simply returns the empty string. "
   ]
  },
  {
   "cell_type": "markdown",
   "id": "cd2a78e4-389c-4259-86e2-4edbe651b12a",
   "metadata": {},
   "source": [
    "If you have done this correctly, the file `L9/Ex1a.java` should compile without errors and output an empty line.\n",
    "\n",
    "**Note:** when you compile the file Ex1a.java, you should be in the folder `L9`. So that when you run `javac Ex1a.java`, the compiler will see in this file that we are importing `org.qmul.pagegenerator.*` and look for java files in `org/qmul/pagegenerator/*.java`"
   ]
  },
  {
   "cell_type": "markdown",
   "id": "46135a83-ba05-4af0-aafb-ea250d466180",
   "metadata": {},
   "source": [
    "## Exercise 2 (Making the package useful)"
   ]
  },
  {
   "cell_type": "markdown",
   "id": "1c67789f-8f0c-4277-aff7-3c7fd42f49be",
   "metadata": {},
   "source": [
    "Add the following functionality to the package `pagegenerator`. "
   ]
  },
  {
   "cell_type": "markdown",
   "id": "274fc997-bd74-4233-a286-22d00da3829a",
   "metadata": {},
   "source": [
    "### Paragraph.java"
   ]
  },
  {
   "cell_type": "markdown",
   "id": "5d7b6d79-4526-4596-a7bf-9d2d0e7f4d17",
   "metadata": {},
   "source": [
    "Add a constructor that takes a string. The function `toHTML()` should return the string:"
   ]
  },
  {
   "cell_type": "raw",
   "id": "c30ca143-9a15-4a20-95a8-c938aa23f63a",
   "metadata": {},
   "source": [
    "<p>\n",
    "/content/\n",
    "</p>"
   ]
  },
  {
   "cell_type": "markdown",
   "id": "023db472-4434-4767-8107-cfe4492c1123",
   "metadata": {},
   "source": [
    "where `/content/` is whatever you put in the constructor. For example the following code should print the string below:"
   ]
  },
  {
   "cell_type": "code",
   "execution_count": null,
   "id": "9e38fe5d-c214-4bfe-8ff4-918354a80f36",
   "metadata": {},
   "outputs": [],
   "source": [
    "Paragraph p = new Paragraph(\"This is a paragraph.\");\n",
    "System.out.println(p.toHTML());"
   ]
  },
  {
   "cell_type": "raw",
   "id": "fc68c0a0-3de6-41ec-b217-9c602226881b",
   "metadata": {},
   "source": [
    "<p>\n",
    "This is a paragraph.\n",
    "</p>"
   ]
  },
  {
   "cell_type": "markdown",
   "id": "b360b49b-c37a-47cd-8057-226d7744679c",
   "metadata": {},
   "source": [
    "**Note:** The code stub in the notebook cell above will not work, because this notebook does not know about these classes. It is only given as an illustration, to make the specification more precise.  "
   ]
  },
  {
   "cell_type": "markdown",
   "id": "4ca94294-4560-4ed4-a14e-874bbd6b22f6",
   "metadata": {},
   "source": [
    "### Heading.java"
   ]
  },
  {
   "cell_type": "markdown",
   "id": "060cb92e-c598-4ff8-a594-9940ec40f0ac",
   "metadata": {},
   "source": [
    "Add a constructor that takes an int and a string. Make it such that the following code prints the string below:"
   ]
  },
  {
   "cell_type": "code",
   "execution_count": null,
   "id": "8878b2e1-b813-4303-95e8-fa9d8dbe0dd1",
   "metadata": {},
   "outputs": [],
   "source": [
    "Heading h = new Heading(2, \"sub heading\");\n",
    "System.out.println(h.toHTML());"
   ]
  },
  {
   "cell_type": "raw",
   "id": "72048434-f2d0-461e-a464-d2fc84eb01cc",
   "metadata": {},
   "source": [
    "<h2>\n",
    "sub heading\n",
    "</h2>"
   ]
  },
  {
   "cell_type": "markdown",
   "id": "d79ff213-e4ba-4abf-bacb-bedb2b763e31",
   "metadata": {},
   "source": [
    "Also write a public method `int getLevel()` that returns the integer that was given in the constructor."
   ]
  },
  {
   "cell_type": "markdown",
   "id": "1d911d63-e90a-498b-8dea-e0378847cf0c",
   "metadata": {},
   "source": [
    "### Page.java"
   ]
  },
  {
   "cell_type": "markdown",
   "id": "78d4c344-b8e7-4371-b8cd-b7bf57091f10",
   "metadata": {},
   "source": [
    "This class should have a constructor that takes a `String`, and assigns it to the private field named `title`. It should also have a private field named `es` of type `Element[]` (you can initialise this field to an empty array in the constructor, i.e. `es = new Element[0];`) . "
   ]
  },
  {
   "cell_type": "markdown",
   "id": "f6901152-ea42-45dc-b6cf-8929b51d991e",
   "metadata": {},
   "source": [
    "Next add a public method with the signature `Page appendElement(Element e)`. This method should enlarge the array `es` and add to it `e`. Finally it should return the current object. "
   ]
  },
  {
   "cell_type": "markdown",
   "id": "a2d170fa-8a63-4ece-99ef-2426da484081",
   "metadata": {},
   "source": [
    "The `toHTML()` method of `Page` should first construct the following string: "
   ]
  },
  {
   "cell_type": "raw",
   "id": "7bec24a7-b7bf-45b4-9552-389404bf9dbb",
   "metadata": {},
   "source": [
    "<!DOCTYPE html>\n",
    "<html>\n",
    "<head>\n",
    "<title> /title/ </title>\n",
    "</head>"
   ]
  },
  {
   "cell_type": "markdown",
   "id": "179950ce-f489-4bfd-a52f-bbea753322ea",
   "metadata": {},
   "source": [
    "with the value of the variable `title` instead of `/title/`. Then append to it, the `toHTML()` values of all the objects in the array `es`. Finally it should append `</html>` and return this constructed string."
   ]
  },
  {
   "cell_type": "markdown",
   "id": "139753eb-d438-4a20-aa29-ca9deae76abe",
   "metadata": {},
   "source": [
    "If you have done these changes correctly, the file `L9/App.java` should compile and output the following:"
   ]
  },
  {
   "cell_type": "raw",
   "id": "e47a1691-622a-474d-a5cc-d444d0b95412",
   "metadata": {},
   "source": [
    "<!DOCTYPE html>\n",
    "<html>\n",
    "<head>\n",
    "<title>\n",
    "My Website\n",
    "</title>\n",
    "</head>\n",
    "<h1>\n",
    "subtitle\n",
    "</h1>\n",
    "<p>\n",
    "hello\n",
    "</p>\n",
    "</html>"
   ]
  },
  {
   "cell_type": "markdown",
   "id": "3288b285-df14-486f-81fc-6b77db727d0b",
   "metadata": {},
   "source": [
    "## Exercise 3 (Creating an improved package)"
   ]
  },
  {
   "cell_type": "markdown",
   "id": "622b5961-8e5b-4256-8d98-80aad569c2ff",
   "metadata": {},
   "source": [
    "In this exercise we *fork* the package `org.qmul.pagegenerator` and make a new one called `org.newcompany.anothergenerator`, that will add the colour feature (headings and paragraphs can have colours). "
   ]
  },
  {
   "cell_type": "markdown",
   "id": "2f3a60f3-3f03-47d3-86fb-b281eeb7e388",
   "metadata": {},
   "source": [
    "So create that package and put the following files in its folder:\n",
    "- `Colour.java`\n",
    "- `Style.java`\n",
    "- `Heading.java`\n",
    "- `Paragraph.java`"
   ]
  },
  {
   "cell_type": "markdown",
   "id": "49e501dc-a26c-442a-8c35-a8ff0122e697",
   "metadata": {},
   "source": [
    "Do not forget that the first non-comment line of each of these files should be `package org.newcompany.anotherpagegenerator;`"
   ]
  },
  {
   "cell_type": "markdown",
   "id": "1f731fc0-75bf-42df-8354-0dd5c242fdd0",
   "metadata": {},
   "source": [
    "Here is what you put in the files:"
   ]
  },
  {
   "cell_type": "markdown",
   "id": "360882fa-ee1c-45d7-8282-70695b926d8b",
   "metadata": {},
   "source": [
    "### Colour.java"
   ]
  },
  {
   "cell_type": "markdown",
   "id": "896f13ae-ea18-4bbc-973e-a699ca2ad9dd",
   "metadata": {},
   "source": [
    "A public `enum` that has three values: `BLUE`, `GREEN`, and `RED`. "
   ]
  },
  {
   "cell_type": "markdown",
   "id": "3573e26f-2129-4734-89c8-9da0c5fe9ba6",
   "metadata": {},
   "source": [
    "### Style.java"
   ]
  },
  {
   "cell_type": "markdown",
   "id": "5638b16b-0299-44fe-99ec-5be73dec9fcb",
   "metadata": {},
   "source": [
    "A public class whose constructor takes an argument of type `Colour`. You should also override the `toString` method to make it return:\n",
    "\n",
    "- empty string, if the colour in the constructor was null\n",
    "- the string `\"style=\\\"color:\" + /colour/ + \";\\\"\"` , otherwise \n",
    "\n",
    "where `/colour/` is replaced by a string representing the colour that was given in the constructor (i.e. if it was `Colour.BLUE` then this string should be `blue`, and so on). \n",
    "\n",
    "**Note:** that the quote character `\"` is *escaped* in Java by putting a backslash in front of it.  "
   ]
  },
  {
   "cell_type": "markdown",
   "id": "5ab3bb88-a43a-473a-a4fb-6a3d29c6f146",
   "metadata": {},
   "source": [
    "### Heading.java"
   ]
  },
  {
   "cell_type": "markdown",
   "id": "8e58d229-a73b-44f4-ac95-5a32e258caf6",
   "metadata": {},
   "source": [
    "This should contain a public class that extends the class with the same name in the other package. Since it is not possible to import the class from `org.qmul.pagegenerator` since the names will clash we do the following:\n",
    "\n",
    "`public class Heading extends org.qmul.pagegenerator.Heading { ... }`\n",
    "\n",
    "The constructor of this class should take an argument of type `Style`, int, and String; it should call the superclass's constructor with the last to arguments. You should also override the method `toHTML()` so that the following example prints the output below:"
   ]
  },
  {
   "cell_type": "code",
   "execution_count": null,
   "id": "404143c6-a3fb-4b12-a8fe-ee7c7ce93e18",
   "metadata": {},
   "outputs": [],
   "source": [
    "Heading h = new Heading(new Style(Colour.BLUE), 1, \"subtitle\");\n",
    "System.out.println(h.toHTML());"
   ]
  },
  {
   "cell_type": "raw",
   "id": "70cc39f1-89fe-42ff-a192-f2fb71145c23",
   "metadata": {},
   "source": [
    "<h1 style=\"color:blue;\">\n",
    "subtitle\n",
    "</h1>"
   ]
  },
  {
   "cell_type": "markdown",
   "id": "6aab29f6-8c30-4d29-bcfa-9a98bb9b7c26",
   "metadata": {},
   "source": [
    "**Note:** If you want to have access to the fields from the class that you are extending, you can go to the package `org.qmul.pagegenerator` and make them `protected`. "
   ]
  },
  {
   "cell_type": "markdown",
   "id": "be03be09-e797-4cc0-97e2-86e64a5f6f81",
   "metadata": {},
   "source": [
    "**Note:** If you try to test this class by making a new class in `anothergenerator/` and compiling it, it will not work. The reason is that when you are in the folder `anothergenerator/` and you use `javac` it will search for the package `org.qmul.pagegenerator` in the current folder, and it won't be able to find it. \n",
    "\n",
    "There are two solutions for this:\n",
    "1. Test the class by making test classes in the `L9/` folder. Import `org.newcompany.anotherpagegenerator` and compile them from there. \n",
    "2. Use the `-cp` option for `javac`. This stands for Class Path, and it tells the compiler where it can find the classes. "
   ]
  },
  {
   "cell_type": "markdown",
   "id": "d8375f53-6220-4b6c-9786-e4963cb4fd8c",
   "metadata": {},
   "source": [
    "### Paragraph.java"
   ]
  },
  {
   "cell_type": "markdown",
   "id": "3a2a670b-1aa2-49ae-bd12-04a907e58940",
   "metadata": {},
   "source": [
    "Completely analogous to `Heading.java`"
   ]
  },
  {
   "cell_type": "markdown",
   "id": "9b00b374-8739-4b90-92ec-d690d0370076",
   "metadata": {},
   "source": [
    "If you have written these classes correctly, the file `L9/App2.java` should compile and print:"
   ]
  },
  {
   "cell_type": "raw",
   "id": "d4bd7270-56a0-4593-b3a2-0360cefca1d6",
   "metadata": {},
   "source": [
    "<!DOCTYPE html>\n",
    "<html>\n",
    "<head>\n",
    "<title>\n",
    "My Website\n",
    "</title>\n",
    "</head>\n",
    "<h1 style=\"color:red;\">\n",
    "subtitle\n",
    "</h1>\n",
    "<p style=\"color:blue;\">\n",
    "hello\n",
    "</p>\n",
    "</html>"
   ]
  },
  {
   "cell_type": "code",
   "execution_count": null,
   "id": "46f6bc0e-c856-4dfe-9337-d4c027de7c43",
   "metadata": {},
   "outputs": [],
   "source": []
  }
 ],
 "metadata": {
  "kernelspec": {
   "display_name": "Java",
   "language": "java",
   "name": "java"
  },
  "language_info": {
   "codemirror_mode": "java",
   "file_extension": ".jshell",
   "mimetype": "text/x-java-source",
   "name": "Java",
   "pygments_lexer": "java",
   "version": "11.0.8+10-LTS"
  }
 },
 "nbformat": 4,
 "nbformat_minor": 5
}
