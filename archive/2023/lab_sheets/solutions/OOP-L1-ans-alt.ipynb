{
 "cells": [
  {
   "cell_type": "markdown",
   "id": "565851f3-8bf5-4a1c-9057-4e51038b7ef6",
   "metadata": {},
   "source": [
    "### <span style=\"color:blue\">Alternative Solution to L1.10 to L1.12</span>\n",
    "\n",
    "<span style=\"color:blue\">Edon's approach to this topic is to validate all inputs before processing.</span>"
   ]
  },
  {
   "cell_type": "markdown",
   "id": "29f1c43d-46ed-40b2-be65-5ffd179285fc",
   "metadata": {
    "tags": []
   },
   "source": [
    "#### L1.10 - Representing booleans\n",
    "We are going to represent booleans using integers, not the usual way with 0 for false and 1 for true, but with values we don't actually know.\n",
    "\n",
    "Then, when we write code for boolean operations, it _has_ to be abstract."
   ]
  },
  {
   "cell_type": "code",
   "execution_count": 130,
   "id": "0766af33-0226-4939-bf5a-b39362b65883",
   "metadata": {},
   "outputs": [],
   "source": [
    "int TRUE = (new Random()).nextInt(); // Use some integer to represent true.\n",
    "int FALSE = (new Random()).nextInt(); // Use some other integer (unless you won the lottery) to represent false.\n",
    "while (FALSE == TRUE) FALSE = (new Random()).nextInt(); // Make sure you didn't win the lottery."
   ]
  },
  {
   "cell_type": "markdown",
   "id": "1c9d6a01-8f08-43af-a808-76867036e88a",
   "metadata": {},
   "source": [
    "Now write a function that converts the integer in TRUE to the string \"true\" and converts the one in FALSE to \"false\". It should return \"NaTV\" on any other integer."
   ]
  },
  {
   "cell_type": "code",
   "execution_count": 165,
   "id": "1df61e37-b2da-4cf3-a6e0-9682365d5bd5",
   "metadata": {},
   "outputs": [],
   "source": [
    "String truthValueToString(int v) {\n",
    "    String r = \"NaTV\";\n",
    "    \n",
    "    // Add if-else code here. \n",
    "    if(v == TRUE) r = \"true\";\n",
    "    if(v == FALSE)r = \"false\";\n",
    "    \n",
    "    return r;\n",
    "}"
   ]
  },
  {
   "cell_type": "code",
   "execution_count": 166,
   "id": "c38ab48b-6543-4d8e-8b87-8100c6cf60c7",
   "metadata": {},
   "outputs": [
    {
     "data": {
      "text/plain": [
       "true"
      ]
     },
     "execution_count": 166,
     "metadata": {},
     "output_type": "execute_result"
    }
   ],
   "source": [
    "truthValueToString(TRUE) // Should evaluate to \"true\"."
   ]
  },
  {
   "cell_type": "code",
   "execution_count": 167,
   "id": "1d48e6d7-a507-4448-97cb-fb5fafc1dc04",
   "metadata": {},
   "outputs": [
    {
     "data": {
      "text/plain": [
       "false"
      ]
     },
     "execution_count": 167,
     "metadata": {},
     "output_type": "execute_result"
    }
   ],
   "source": [
    "truthValueToString(FALSE); // Should evaluate to \"false\"."
   ]
  },
  {
   "cell_type": "code",
   "execution_count": 168,
   "id": "ef9c5169-2541-47c7-9936-fe54a40c84bf",
   "metadata": {},
   "outputs": [
    {
     "data": {
      "text/plain": [
       "NaTV"
      ]
     },
     "execution_count": 168,
     "metadata": {},
     "output_type": "execute_result"
    }
   ],
   "source": [
    "truthValueToString(42); // Should print \"NaTV\" (unless you won the lottery)."
   ]
  },
  {
   "cell_type": "markdown",
   "id": "a3ba0145-f5ce-43f8-aa9c-365e708c383a",
   "metadata": {
    "tags": []
   },
   "source": [
    "#### L1.11 - Implementing logical operations using control flow.\n",
    "\n",
    "We can implement logical operations using control flow (branching). \n",
    "In these exercises, you are not allowed to use Java's built-in operators (&&, ||, +, etc) - \n",
    "the point is you can write 'and' yourself, without using &&."
   ]
  },
  {
   "cell_type": "markdown",
   "id": "af3722b8-e68b-41b1-90b7-58ae8d0f27b5",
   "metadata": {
    "jp-MarkdownHeadingCollapsed": true,
    "tags": []
   },
   "source": [
    "Write a logical 'and' function and use your `truthValueToString` to check it works."
   ]
  },
  {
   "cell_type": "code",
   "execution_count": 169,
   "id": "534511b1-ffd3-4d48-abd1-fecb6d05af0c",
   "metadata": {},
   "outputs": [],
   "source": [
    "boolean isATV(int a) {\n",
    "    return (a == TRUE || a == FALSE);\n",
    "}"
   ]
  },
  {
   "cell_type": "code",
   "execution_count": 170,
   "id": "0a6896a0-e42b-4207-ae04-aa080d2cf76c",
   "metadata": {},
   "outputs": [],
   "source": [
    "int booleanAnd(int a, int b) {\n",
    "    // Check if they are truth values. \n",
    "    if(!isATV(a)) return a;\n",
    "    if(!isATV(b)) return b; \n",
    "    \n",
    "    int r = FALSE; // Or should the default be TRUE?\n",
    "    \n",
    "    // Add if code here. Use '==' in the conditions and '=' in the bodies.\n",
    "    if(a == TRUE && b == TRUE) r = TRUE;\n",
    "    \n",
    "    return r;\n",
    "}"
   ]
  },
  {
   "cell_type": "code",
   "execution_count": 171,
   "id": "398acc39-2ba9-4f8d-b024-8a4729bd082c",
   "metadata": {},
   "outputs": [
    {
     "data": {
      "text/plain": [
       "true"
      ]
     },
     "execution_count": 171,
     "metadata": {},
     "output_type": "execute_result"
    }
   ],
   "source": [
    "truthValueToString(booleanAnd(TRUE, TRUE)) // Should give \"true\"."
   ]
  },
  {
   "cell_type": "code",
   "execution_count": 172,
   "id": "3b4742cf-dbe9-4e3d-82fd-eecce3a53dfe",
   "metadata": {},
   "outputs": [
    {
     "data": {
      "text/plain": [
       "false"
      ]
     },
     "execution_count": 172,
     "metadata": {},
     "output_type": "execute_result"
    }
   ],
   "source": [
    "truthValueToString(booleanAnd(TRUE, FALSE)) // Should give \"false\"."
   ]
  },
  {
   "cell_type": "code",
   "execution_count": 173,
   "id": "7a71ed76-470b-4019-a10e-9d43c5ae80cc",
   "metadata": {},
   "outputs": [
    {
     "data": {
      "text/plain": [
       "false"
      ]
     },
     "execution_count": 173,
     "metadata": {},
     "output_type": "execute_result"
    }
   ],
   "source": [
    "truthValueToString(booleanAnd(FALSE, TRUE)) // Should give \"false\"."
   ]
  },
  {
   "cell_type": "code",
   "execution_count": 174,
   "id": "dd704d64-655f-46c8-9364-443f527cd4e8",
   "metadata": {},
   "outputs": [
    {
     "data": {
      "text/plain": [
       "false"
      ]
     },
     "execution_count": 174,
     "metadata": {},
     "output_type": "execute_result"
    }
   ],
   "source": [
    "truthValueToString(booleanAnd(FALSE, FALSE)) // Should give \"false\"."
   ]
  },
  {
   "cell_type": "code",
   "execution_count": 175,
   "id": "a0d0c351-3a83-460d-a759-d33dce46c561",
   "metadata": {},
   "outputs": [
    {
     "data": {
      "text/plain": [
       "NaTV"
      ]
     },
     "execution_count": 175,
     "metadata": {},
     "output_type": "execute_result"
    }
   ],
   "source": [
    "truthValueToString(booleanAnd(42, FALSE)) // What should this give? What does it give?"
   ]
  },
  {
   "cell_type": "markdown",
   "id": "72d6a944-534c-4dcc-834a-7c204a83c20d",
   "metadata": {},
   "source": [
    "Now do boolean 'not'. Again, do not use the negation connective '!'. Just use 'if' with == and =."
   ]
  },
  {
   "cell_type": "code",
   "execution_count": 176,
   "id": "a8edbbe9-7c46-496a-a609-0b9dededa2de",
   "metadata": {},
   "outputs": [],
   "source": [
    "int booleanNot(int a) {\n",
    "    if(!isATV(a)) return a;\n",
    "\n",
    "    int r = FALSE; // Or should the default be TRUE?\n",
    "    \n",
    "    if(a == FALSE) r = TRUE;\n",
    "    \n",
    "    return r;\n",
    "}"
   ]
  },
  {
   "cell_type": "code",
   "execution_count": 177,
   "id": "3c3b01e0-f637-4c4a-81ee-32070a537a02",
   "metadata": {},
   "outputs": [
    {
     "data": {
      "text/plain": [
       "false"
      ]
     },
     "execution_count": 177,
     "metadata": {},
     "output_type": "execute_result"
    }
   ],
   "source": [
    "truthValueToString(booleanNot(TRUE)) // Should give \"false\"."
   ]
  },
  {
   "cell_type": "code",
   "execution_count": 178,
   "id": "506e49dd-7b5c-448d-87e3-1b297d85c98c",
   "metadata": {},
   "outputs": [
    {
     "data": {
      "text/plain": [
       "true"
      ]
     },
     "execution_count": 178,
     "metadata": {},
     "output_type": "execute_result"
    }
   ],
   "source": [
    "truthValueToString(booleanNot(FALSE)) // Should give \"true\"."
   ]
  },
  {
   "cell_type": "code",
   "execution_count": 179,
   "id": "58100b34-ca54-44de-8fcf-02f3a7cde6e8",
   "metadata": {},
   "outputs": [
    {
     "data": {
      "text/plain": [
       "NaTV"
      ]
     },
     "execution_count": 179,
     "metadata": {},
     "output_type": "execute_result"
    }
   ],
   "source": [
    "truthValueToString(booleanNot(42)) // What should this give? What does it give?"
   ]
  },
  {
   "cell_type": "markdown",
   "id": "00114db6-e988-4c6a-82c9-26d59c5164b3",
   "metadata": {},
   "source": [
    "Now that we have 'and' and 'not' we can use these to build other connectives. What is the formula for 'or' in terms of 'and' and 'not'?"
   ]
  },
  {
   "cell_type": "code",
   "execution_count": 180,
   "id": "d3ae68ea-2a3e-4759-9d4e-1c48585774a7",
   "metadata": {},
   "outputs": [],
   "source": [
    "int booleanOr(int a, int b) {\n",
    "    // or = it is not true that both a and b are false. \n",
    "    return booleanNot(booleanAnd(booleanNot(a), booleanNot(b)));\n",
    "}"
   ]
  },
  {
   "cell_type": "code",
   "execution_count": 181,
   "id": "120b273e-484e-4b35-a010-ef63379ab603",
   "metadata": {},
   "outputs": [
    {
     "data": {
      "text/plain": [
       "true"
      ]
     },
     "execution_count": 181,
     "metadata": {},
     "output_type": "execute_result"
    }
   ],
   "source": [
    "truthValueToString(booleanOr(TRUE,TRUE)) // Should give \"true\"."
   ]
  },
  {
   "cell_type": "code",
   "execution_count": 182,
   "id": "a06daade-f90c-44b7-808f-12d132eb3abc",
   "metadata": {},
   "outputs": [
    {
     "data": {
      "text/plain": [
       "true"
      ]
     },
     "execution_count": 182,
     "metadata": {},
     "output_type": "execute_result"
    }
   ],
   "source": [
    "truthValueToString(booleanOr(TRUE,FALSE)) // Should give \"false\"."
   ]
  },
  {
   "cell_type": "code",
   "execution_count": 183,
   "id": "aaa4322e-8179-46b3-99e4-7b0aebd698cb",
   "metadata": {},
   "outputs": [
    {
     "data": {
      "text/plain": [
       "true"
      ]
     },
     "execution_count": 183,
     "metadata": {},
     "output_type": "execute_result"
    }
   ],
   "source": [
    "truthValueToString(booleanOr(FALSE,TRUE)) // Should give \"false\"."
   ]
  },
  {
   "cell_type": "markdown",
   "id": "1c1280df-90e2-4168-8991-6a620fb44bd8",
   "metadata": {},
   "source": [
    "<span style=\"color:blue\">The comments are wrong here. Obviously it should give true.</span>"
   ]
  },
  {
   "cell_type": "code",
   "execution_count": 184,
   "id": "fd869228-78eb-4f2b-a0fa-30920f705853",
   "metadata": {},
   "outputs": [
    {
     "data": {
      "text/plain": [
       "false"
      ]
     },
     "execution_count": 184,
     "metadata": {},
     "output_type": "execute_result"
    }
   ],
   "source": [
    "truthValueToString(booleanOr(FALSE,FALSE)) // Should give \"false\"."
   ]
  },
  {
   "cell_type": "code",
   "execution_count": 185,
   "id": "3add2ab2-7959-4b50-86e8-9afe86f3171a",
   "metadata": {},
   "outputs": [
    {
     "data": {
      "text/plain": [
       "NaTV"
      ]
     },
     "execution_count": 185,
     "metadata": {},
     "output_type": "execute_result"
    }
   ],
   "source": [
    "truthValueToString(booleanOr(42, TRUE)) // What should this give? What does it give?"
   ]
  },
  {
   "cell_type": "markdown",
   "id": "f101e9a4-f7b6-43a6-9222-9c0183ccfa46",
   "metadata": {
    "tags": []
   },
   "source": [
    "#### L1.12 - Introducing a new truth value\n",
    "\n",
    "Let's provide a representation for a new truth value, MAYBE."
   ]
  },
  {
   "cell_type": "code",
   "execution_count": 188,
   "id": "19683c04-9805-4585-9737-d030184ad9cc",
   "metadata": {},
   "outputs": [],
   "source": [
    "int MAYBE = (new Random()).nextInt();\n",
    "while (MAYBE == TRUE || MAYBE == FALSE) MAYBE = (new Random()).nextInt();"
   ]
  },
  {
   "cell_type": "markdown",
   "id": "0caaf27f-9169-4329-ae89-3ed53c87def6",
   "metadata": {},
   "source": [
    "We will need to extend - note the word extend! - our translation to String."
   ]
  },
  {
   "cell_type": "code",
   "execution_count": 189,
   "id": "d58f8c7d-51a6-420d-a463-ba4bc1796011",
   "metadata": {},
   "outputs": [],
   "source": [
    "String truthValueToString(int v) {\n",
    "    String r = \"NaTV\";\n",
    "\n",
    "    if(v == TRUE)  r = \"true\";\n",
    "    if(v == FALSE) r = \"false\";\n",
    "    if(v == MAYBE) r = \"maybe\";\n",
    "\n",
    "    return r;\n",
    "}"
   ]
  },
  {
   "cell_type": "markdown",
   "id": "c355bfd5-936b-40cd-b846-088a149a0630",
   "metadata": {},
   "source": [
    "How do the operations you've written for TRUE and FALSE work when you simply start passing them MAYBE's along with TRUE's and FALSE's? "
   ]
  },
  {
   "cell_type": "code",
   "execution_count": 190,
   "id": "f02f9bec-d6fe-4008-af8b-c53a9836bc00",
   "metadata": {},
   "outputs": [
    {
     "data": {
      "text/plain": [
       "maybe"
      ]
     },
     "execution_count": 190,
     "metadata": {},
     "output_type": "execute_result"
    }
   ],
   "source": [
    "truthValueToString(booleanAnd(MAYBE, TRUE)) // What does this give? What should it give?"
   ]
  },
  {
   "cell_type": "code",
   "execution_count": 191,
   "id": "80204e2c-6eee-4b6d-89a4-35580207aa26",
   "metadata": {},
   "outputs": [
    {
     "data": {
      "text/plain": [
       "maybe"
      ]
     },
     "execution_count": 191,
     "metadata": {},
     "output_type": "execute_result"
    }
   ],
   "source": [
    "truthValueToString(booleanOr(MAYBE,FALSE)) // What does this give? What should it give?"
   ]
  },
  {
   "cell_type": "markdown",
   "id": "793f9d2e-0bee-477a-b6b4-d5dba1369ce2",
   "metadata": {},
   "source": [
    "<span style=\"color:blue\">Because of the way that the methods were coded, the response to the two examples above happens to be correct. But that is not the principled way write them. </span>"
   ]
  },
  {
   "cell_type": "markdown",
   "id": "909ed431-d3eb-4070-84de-95ea1e216aaf",
   "metadata": {},
   "source": [
    "Is there a 'principled' way of writing `booleanAnd`, `booleanNot` and `booleanOr` that would have produced the right results for MAYBE even though you had yet to add it as a truth value?\n",
    "\n",
    "See if you can go back and ret-con your code for `boooleanAnd` in L1.11 in a way that makes the tests below behave as you would expect for MAYBE **without mentioning MAYBE in your code**! The idea is to capture 'and' so deeply that it works for MAYBE even before you added MAYBE. Is this even **possible**? "
   ]
  },
  {
   "cell_type": "code",
   "execution_count": 192,
   "id": "9195ffb0-2435-4a99-9dec-23923b8c4dbc",
   "metadata": {},
   "outputs": [],
   "source": [
    "boolean isATV(int a) {\n",
    "    return (a == TRUE || a == FALSE || a == MAYBE);\n",
    "}"
   ]
  },
  {
   "cell_type": "code",
   "execution_count": 193,
   "id": "d27dcbdd-d263-477a-b75c-8caf98c4a73b",
   "metadata": {},
   "outputs": [],
   "source": [
    "int booleanAnd(int a, int b) {\n",
    "    // Check if they are truth values. \n",
    "    if(!isATV(a)) return a;\n",
    "    if(!isATV(b)) return b; \n",
    "    \n",
    "    int r = a;     \n",
    "    // Add if code here. Use '==' in the conditions and '=' in the bodies.\n",
    "    if(a == TRUE) r = b;\n",
    "    if(a == FALSE) r = a;\n",
    "    // If we are here, it means that a is MAYBE\n",
    "    if(b == TRUE) r = a; \n",
    "    if(b == FALSE) r = b; \n",
    "    \n",
    "    return r;\n",
    "}"
   ]
  },
  {
   "cell_type": "code",
   "execution_count": 203,
   "id": "b47a2af7-bfdf-4b45-9199-c7c42a1f2066",
   "metadata": {},
   "outputs": [],
   "source": [
    "int booleanNot(int a) {\n",
    "    if(!isATV(a)) return a;\n",
    "\n",
    "    int r = a; // Or should the default be TRUE?\n",
    "    \n",
    "    if(a == FALSE) r = TRUE;\n",
    "    if(a == TRUE)  r = FALSE;\n",
    "    // if neither of the if conditions were true, we just return a maybe. \n",
    "    return r;\n",
    "}"
   ]
  },
  {
   "cell_type": "code",
   "execution_count": 204,
   "id": "ade2046b-1475-432c-9389-4b2a950730fa",
   "metadata": {},
   "outputs": [
    {
     "data": {
      "text/plain": [
       "maybe"
      ]
     },
     "execution_count": 204,
     "metadata": {},
     "output_type": "execute_result"
    }
   ],
   "source": [
    "truthValueToString(booleanAnd(MAYBE, TRUE)) // What does this give? What should it give?"
   ]
  },
  {
   "cell_type": "code",
   "execution_count": 205,
   "id": "899bcf78-0ed4-4185-a3fd-623f56c1d25d",
   "metadata": {},
   "outputs": [
    {
     "data": {
      "text/plain": [
       "maybe"
      ]
     },
     "execution_count": 205,
     "metadata": {},
     "output_type": "execute_result"
    }
   ],
   "source": [
    "truthValueToString(booleanAnd(TRUE, MAYBE)) // What does this give? What should it give?"
   ]
  },
  {
   "cell_type": "markdown",
   "id": "11dd633d-3c0d-4f9d-89df-c16889041977",
   "metadata": {},
   "source": [
    "Did you find a way? Wow, welcome to the outer reaches of abstraction!\n",
    "\n",
    "Does it work for the derived `booleanOr`?"
   ]
  },
  {
   "cell_type": "markdown",
   "id": "761a272e-c352-4d7a-a224-03ccc27b0456",
   "metadata": {},
   "source": [
    "<span style=\"color:blue\">The booleanOr automatically works because it was defined in terms of booleanAnd and booleanNot.</span>"
   ]
  },
  {
   "cell_type": "code",
   "execution_count": 206,
   "id": "f6bac9df-1700-4038-b248-4405fa2fcab2",
   "metadata": {},
   "outputs": [
    {
     "data": {
      "text/plain": [
       "maybe"
      ]
     },
     "execution_count": 206,
     "metadata": {},
     "output_type": "execute_result"
    }
   ],
   "source": [
    "truthValueToString(booleanOr(MAYBE,FALSE)) // What does this give? What should it give?"
   ]
  },
  {
   "cell_type": "code",
   "execution_count": 207,
   "id": "39f1af6a-07a7-4901-8cf9-dbcd1de6fd5b",
   "metadata": {
    "tags": []
   },
   "outputs": [
    {
     "data": {
      "text/plain": [
       "maybe"
      ]
     },
     "execution_count": 207,
     "metadata": {},
     "output_type": "execute_result"
    }
   ],
   "source": [
    "truthValueToString(booleanOr(FALSE, MAYBE)) // What does this give? What should it give?"
   ]
  }
 ],
 "metadata": {
  "kernelspec": {
   "display_name": "Java",
   "language": "java",
   "name": "java"
  },
  "language_info": {
   "codemirror_mode": "java",
   "file_extension": ".jshell",
   "mimetype": "text/x-java-source",
   "name": "Java",
   "pygments_lexer": "java",
   "version": "11.0.8+10-LTS"
  }
 },
 "nbformat": 4,
 "nbformat_minor": 5
}
