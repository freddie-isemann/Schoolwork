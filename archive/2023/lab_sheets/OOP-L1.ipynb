{
 "cells": [
  {
   "cell_type": "markdown",
   "id": "f59d85a7-d158-49bd-aa9f-86d66481a5f5",
   "metadata": {
    "jp-MarkdownHeadingCollapsed": true,
    "tags": []
   },
   "source": [
    "# Lab 1 - Writing code that works for all types\n",
    "This lab takes place before the first lecture. The aim is to prepare you for writing code that works on empty classes, whose objects only have plain assignment = and identicality ==. \n",
    "\n",
    "All types have plain assignment and identicality, so code that relies on just these two operations will work for all types. "
   ]
  },
  {
   "cell_type": "markdown",
   "id": "6433bafc-e7d0-4677-9cd7-f300fd780af8",
   "metadata": {
    "jp-MarkdownHeadingCollapsed": true,
    "tags": []
   },
   "source": [
    "## Preparatory Work\n",
    "Do exercise L1.1 - L1.4 first to warm up for the Lab Check."
   ]
  },
  {
   "cell_type": "markdown",
   "id": "ce14c77d-98d4-4fde-915f-a8d6d95226a7",
   "metadata": {
    "jp-MarkdownHeadingCollapsed": true,
    "tags": []
   },
   "source": [
    "### L1.1 - A starting point\n",
    "We start with a simple spec which we will then develop in three separate directions \n",
    "(in exercises L1.2, L1.3 and L1.4)."
   ]
  },
  {
   "cell_type": "markdown",
   "id": "ec9dfbc4-dcb5-4aee-b6e1-46917fdc2d47",
   "metadata": {},
   "source": [
    "Write a procedure called `isAmong(int, int, int, int)` \n",
    "that takes an integer, the 'subject', and three more integers \n",
    "and returns true if the subject is among the latter three integers."
   ]
  },
  {
   "cell_type": "markdown",
   "id": "d00cdb1c-f7b5-4ca6-a28f-944195c9da80",
   "metadata": {},
   "source": []
  },
  {
   "cell_type": "code",
   "execution_count": 1,
   "id": "2d662adc-d054-4bd9-abf3-cf70a65ce440",
   "metadata": {
    "tags": []
   },
   "outputs": [],
   "source": [
    "boolean isAmong(int x, int a0, int a1, int a2) {\n",
    "    \n",
    "    // Set a default return value.\n",
    "    boolean r = false;\n",
    "    \n",
    "    // Three ifs using ==.\n",
    "    \n",
    "    // Return the (possibly) modified return value.\n",
    "    return r; \n",
    "}"
   ]
  },
  {
   "cell_type": "markdown",
   "id": "f3c33a37-ab69-493e-b5ff-958399b7666d",
   "metadata": {},
   "source": [
    "Here is some code to test your `isAmong`."
   ]
  },
  {
   "cell_type": "code",
   "execution_count": 2,
   "id": "d6696c82-e082-4cad-ab01-da6a7d50e1fc",
   "metadata": {},
   "outputs": [
    {
     "data": {
      "text/plain": [
       "false"
      ]
     },
     "execution_count": 2,
     "metadata": {},
     "output_type": "execute_result"
    }
   ],
   "source": [
    "int testItem0 = 2, testItem1 = 3, testItem2 = 2;\n",
    "\n",
    "int testSubject = testItem0;\n",
    "\n",
    "isAmong(testSubject, testItem0, testItem1, testItem2) // Should evaluate to true."
   ]
  },
  {
   "cell_type": "code",
   "execution_count": 3,
   "id": "5eca1ca8-5490-4046-b463-886b1a9e1646",
   "metadata": {},
   "outputs": [
    {
     "data": {
      "text/plain": [
       "false"
      ]
     },
     "execution_count": 3,
     "metadata": {},
     "output_type": "execute_result"
    }
   ],
   "source": [
    "int testSubject = (new Random()).nextInt(); // One of about 4 billion integers.\n",
    "\n",
    "isAmong(testSubject, testItem0, testItem1, testItem2) // Should evaluate to false (unless you won a lottery)."
   ]
  },
  {
   "cell_type": "markdown",
   "id": "fe301ac9-9b9a-4248-831a-f4328fbecb39",
   "metadata": {
    "jp-MarkdownHeadingCollapsed": true,
    "tags": []
   },
   "source": [
    "### L1.2 - Arrayify\n",
    "Let's handle more data. Write a procedure `isAmong(int, int[])` that takes an integer, the 'subject', and an array of integers and returns the boolean `true` iff the subject is among the elements of the array. "
   ]
  },
  {
   "cell_type": "code",
   "execution_count": 4,
   "id": "19131d70-cd2f-470a-bea0-5206075aad0c",
   "metadata": {},
   "outputs": [],
   "source": [
    "boolean isAmong(int x, int[] a) {\n",
    "    boolean r = false;\n",
    "    \n",
    "    // Loop containing one if using ==.\n",
    "    \n",
    "    return r;\n",
    "}"
   ]
  },
  {
   "cell_type": "markdown",
   "id": "dec5fd64-59fb-41d5-bf68-fd1afdf32099",
   "metadata": {},
   "source": [
    "First we check that `isAmong(int, int[])` works just like `isAmong(int, int, int, int)`."
   ]
  },
  {
   "cell_type": "code",
   "execution_count": 5,
   "id": "b6904955-976b-40fd-bd30-6bd9ec8111b9",
   "metadata": {},
   "outputs": [
    {
     "data": {
      "text/plain": [
       "false"
      ]
     },
     "execution_count": 5,
     "metadata": {},
     "output_type": "execute_result"
    }
   ],
   "source": [
    "int[] testArray = { 2, 3, 2};\n",
    "\n",
    "int testSubject = testArray[0];\n",
    "\n",
    "isAmong(testSubject, testArray) // Should evaluate to true."
   ]
  },
  {
   "cell_type": "code",
   "execution_count": 6,
   "id": "068d2c50-d101-4398-9f15-706673877115",
   "metadata": {},
   "outputs": [
    {
     "data": {
      "text/plain": [
       "false"
      ]
     },
     "execution_count": 6,
     "metadata": {},
     "output_type": "execute_result"
    }
   ],
   "source": [
    "int testSubject = (new Random()).nextInt(); // One of about 4 billion integers.\n",
    "\n",
    "isAmong(testSubject, testArray) // Should evaluate to false (unless you won a lottery)."
   ]
  },
  {
   "cell_type": "markdown",
   "id": "95f44c3c-1168-4b80-98c0-f0163614682d",
   "metadata": {},
   "source": [
    "Then we try it out on a largeish amount of data."
   ]
  },
  {
   "cell_type": "code",
   "execution_count": 7,
   "id": "a896c191-1e29-4738-803b-39e8086a4e17",
   "metadata": {},
   "outputs": [
    {
     "data": {
      "text/plain": [
       "false"
      ]
     },
     "execution_count": 7,
     "metadata": {},
     "output_type": "execute_result"
    }
   ],
   "source": [
    "Random rs = new Random();\n",
    "\n",
    "int[] testArray = new int[10000000];     // 10 million integers\n",
    "for (int i=0;i<testArray.length;i++)     // chosen at random\n",
    "    testArray[i] = rs.nextInt(10000000); // from 10 million integers.\n",
    "\n",
    "int testSubject = rs.nextInt(10000000); // One of 10 million integers.\n",
    "\n",
    "isAmong(testSubject, testArray) // How likely is this to be true?"
   ]
  },
  {
   "cell_type": "markdown",
   "id": "2d2d00f1-14e1-4f7d-a3aa-5b5321a76c8a",
   "metadata": {},
   "source": [
    "And finally on something less arbitrary."
   ]
  },
  {
   "cell_type": "code",
   "execution_count": 8,
   "id": "57f44f42-0ff4-4556-a2ec-b072778b1daa",
   "metadata": {},
   "outputs": [
    {
     "data": {
      "text/plain": [
       "false"
      ]
     },
     "execution_count": 8,
     "metadata": {},
     "output_type": "execute_result"
    }
   ],
   "source": [
    "Random rs = new Random();\n",
    "\n",
    "int testSubject = rs.nextInt(365);   // Your birthday.\n",
    "\n",
    "int[] testArray = new int[22];       // 22 other people\n",
    "\n",
    "for (int i=0;i<testArray.length;i++) // with birthdays chosen \n",
    "    testArray[i] = rs.nextInt(365);  // at random from 365 days.\n",
    "\n",
    "isAmong(testSubject, testArray) // How likely is this to be true?"
   ]
  },
  {
   "cell_type": "markdown",
   "id": "fe192e0a-ffbd-4111-92e3-13386bd7b43f",
   "metadata": {},
   "source": [
    "Let's answer the probability question empirically, by putting the above in a loop and counting."
   ]
  },
  {
   "cell_type": "code",
   "execution_count": 9,
   "id": "a06e7218-55e1-47b2-a38a-15bd6fbe3595",
   "metadata": {
    "tags": []
   },
   "outputs": [
    {
     "name": "stdout",
     "output_type": "stream",
     "text": [
      "It was true 0.0 percent of the time.\n"
     ]
    }
   ],
   "source": [
    "Random rs = new Random();\n",
    "\n",
    "int testSubject = rs.nextInt(365);   // Your birthday.\n",
    "\n",
    "int[] testArray = new int[22];           // 22 other people\n",
    "\n",
    "// Loop for counting frequency of 'true's.\n",
    "int n = 0; // Counter.\n",
    "for (int t=0;t<100000;t++) {\n",
    "    \n",
    "    for (int i=0;i<testArray.length;i++) // Choose birthdays \n",
    "        testArray[i] = rs.nextInt(365);  // at random from 365 days.\n",
    "   \n",
    "    if (isAmong(testSubject, testArray)) n++; // Count each time it's true.\n",
    "}\n",
    "\n",
    "System.out.println(\"It was true \"+n/1000.0+\" percent of the time.\");"
   ]
  },
  {
   "cell_type": "markdown",
   "id": "82c01a62-d205-4d93-9aa1-266917d4c899",
   "metadata": {
    "jp-MarkdownHeadingCollapsed": true,
    "tags": []
   },
   "source": [
    "### L1.3 - Specificify\n",
    "Go look at L1.1 again. Let's be more specific about where we find the subject. Write a procedure `whereAmong(int, int, int, int)` that returns the subject's index (0 for first, 1 for second, 2 for third) or, if the subject does not occur, returns -1."
   ]
  },
  {
   "cell_type": "code",
   "execution_count": 10,
   "id": "1535522f-655b-4107-be5b-1163cc4c5521",
   "metadata": {},
   "outputs": [],
   "source": [
    "int whereAmong(int x, int a0, int a1, int a2) {\n",
    "    int index = -1;\n",
    "    \n",
    "    // Almost the same as isAmong(int, int, int, int).\n",
    "    \n",
    "    return index;\n",
    "}"
   ]
  },
  {
   "cell_type": "markdown",
   "id": "d43425f9-9f19-42e6-818e-1520111a16c6",
   "metadata": {},
   "source": [
    "Check that your `whereAmong` works with various subjects."
   ]
  },
  {
   "cell_type": "code",
   "execution_count": 11,
   "id": "fdc7ed3e-2825-4a1b-8894-3b8f20968ba5",
   "metadata": {},
   "outputs": [
    {
     "data": {
      "text/plain": [
       "-1"
      ]
     },
     "execution_count": 11,
     "metadata": {},
     "output_type": "execute_result"
    }
   ],
   "source": [
    "int testItem0 = 2, testItem1 = 3, testItem2 = 2;\n",
    "\n",
    "int testSubject = testItem1; \n",
    "\n",
    "whereAmong(testSubject, testItem0, testItem1, testItem2) // Should evaluate to 1."
   ]
  },
  {
   "cell_type": "code",
   "execution_count": 12,
   "id": "4685f040-29fe-45b7-9415-22fd32da51d9",
   "metadata": {},
   "outputs": [
    {
     "data": {
      "text/plain": [
       "-1"
      ]
     },
     "execution_count": 12,
     "metadata": {},
     "output_type": "execute_result"
    }
   ],
   "source": [
    "int testSubject = testItem0;\n",
    "\n",
    "whereAmong(testSubject, testItem0, testItem1, testItem2) // Should evaluate to 0 or 2."
   ]
  },
  {
   "cell_type": "code",
   "execution_count": 13,
   "id": "a4ed18a6-faf9-4a8c-a409-f15660d69493",
   "metadata": {},
   "outputs": [
    {
     "data": {
      "text/plain": [
       "-1"
      ]
     },
     "execution_count": 13,
     "metadata": {},
     "output_type": "execute_result"
    }
   ],
   "source": [
    "int testSubject = (new Random()).nextInt(); // One of about 4 billion integers.\n",
    "\n",
    "whereAmong(testSubject, testItem0, testItem1, testItem2) // Should evaluate to -1 (unless you won a lottery)."
   ]
  },
  {
   "cell_type": "markdown",
   "id": "f6adc6bc-b8a3-4dbd-8b12-78477f24c6d2",
   "metadata": {
    "jp-MarkdownHeadingCollapsed": true,
    "tags": []
   },
   "source": [
    "### L1.4 - Genericify\n",
    "Go look at L1.1 again. Let's tell the compiler your code works for all types. Write a procedure `<T> isAmong(T, T, T, T)` that takes a T, the 'subject', and three more T's and returns `true` iff the subject is among the three following T's. \n",
    "\n",
    "Your code for ints from L1.1 should work here - just cut-and-paste!"
   ]
  },
  {
   "cell_type": "code",
   "execution_count": 14,
   "id": "80b4c4b0-1278-4658-b3d4-7a9b9dbc2be9",
   "metadata": {},
   "outputs": [],
   "source": [
    "<T> boolean isAmong(T x, T a0, T a1, T a2) { // In Java, <T> means T is 'some class'.\n",
    "    boolean r = false;\n",
    "    \n",
    "    // Paste code from isAmong(int, int, int, int).\n",
    "    \n",
    "    return r;\n",
    "}"
   ]
  },
  {
   "cell_type": "markdown",
   "id": "62a117b3-ad12-4e56-a38e-88a2cc8560b0",
   "metadata": {},
   "source": [
    "We test the code with three types, Integer, String and ThingyMaBob. Note how the code you wrote for ints works for ThingyMaBobs even though you had never heard of such a type when you got up this morning."
   ]
  },
  {
   "cell_type": "code",
   "execution_count": 15,
   "id": "e4ac4da6-c303-4683-83d6-f95e240495dd",
   "metadata": {},
   "outputs": [
    {
     "data": {
      "text/plain": [
       "false"
      ]
     },
     "execution_count": 15,
     "metadata": {},
     "output_type": "execute_result"
    }
   ],
   "source": [
    "Integer testItem0 = 2, testItem1 = 3, testItem2 = 2;\n",
    "\n",
    "Integer testSubject = testItem0;\n",
    "\n",
    "isAmong(testSubject, testItem0, testItem1, testItem2) // Should evaluate to true."
   ]
  },
  {
   "cell_type": "code",
   "execution_count": 16,
   "id": "43f19f54-65c1-4e6e-8a4d-4480b9c9a96e",
   "metadata": {},
   "outputs": [
    {
     "data": {
      "text/plain": [
       "false"
      ]
     },
     "execution_count": 16,
     "metadata": {},
     "output_type": "execute_result"
    }
   ],
   "source": [
    "String testItem0 = \"два\", testItem1 = \"три\", testItem2 = \"два\";\n",
    "\n",
    "String testSubject = testItem0;\n",
    "\n",
    "isAmong(testSubject, testItem0, testItem1, testItem2) // Should evaluate to true."
   ]
  },
  {
   "cell_type": "code",
   "execution_count": 17,
   "id": "94cbeb22-5081-412c-b49f-4d62ed78f297",
   "metadata": {},
   "outputs": [
    {
     "data": {
      "text/plain": [
       "false"
      ]
     },
     "execution_count": 17,
     "metadata": {},
     "output_type": "execute_result"
    }
   ],
   "source": [
    "class ThingyMaBob { }\n",
    "\n",
    "ThingyMaBob testItem0 = new ThingyMaBob(), testItem1 = new ThingyMaBob(), testItem2 = new ThingyMaBob();\n",
    "\n",
    "ThingyMaBob testSubject = testItem0;\n",
    "\n",
    "isAmong(testSubject, testItem0, testItem1, testItem2) // Should evaluate to true."
   ]
  },
  {
   "cell_type": "code",
   "execution_count": 18,
   "id": "633c6d02-ff8b-4fee-a1df-538b141817e1",
   "metadata": {},
   "outputs": [
    {
     "data": {
      "text/plain": [
       "false"
      ]
     },
     "execution_count": 18,
     "metadata": {},
     "output_type": "execute_result"
    }
   ],
   "source": [
    "ThingyMaBob testItem0 = new ThingyMaBob(), testItem1 = new ThingyMaBob(), testItem2 = new ThingyMaBob();\n",
    "\n",
    "ThingyMaBob testSubject = new ThingyMaBob();\n",
    "\n",
    "isAmong(testSubject, testItem0, testItem1, testItem2) // Should evaluate to false."
   ]
  },
  {
   "cell_type": "markdown",
   "id": "79407b9f-9aa0-40e4-b647-9ea84dd8782f",
   "metadata": {
    "jp-MarkdownHeadingCollapsed": true,
    "tags": []
   },
   "source": [
    "## Lab Check\n",
    "\n",
    "For the Lab Check you will be asked to combine what you have done in L1.2, L1.3 and L1.4. \n",
    "\n",
    "The idea is to specificify `isAmong(int, int[])` or, equivalently, arrayify `whereAmong(int, int, int, int)` to produce `whereAmong(int, int[])`, and the same code will work for `<T> whereAmong(T, T[])`.\n",
    "\n",
    "To prepare for the closed-book Tests, try your best to do the Lab Check entirely from your head, without talking to anyone or looking at anything else and certainly without cut-and-pasting from anywhere.\n",
    "\n",
    "[Lab Check 1](https://qmplus.qmul.ac.uk/mod/quiz/view.php?id=2161052)\n",
    "\n",
    "If you are unable to pass the Lab Check Quiz, see a demonstrator to pass a Lab Check Viva."
   ]
  },
  {
   "cell_type": "markdown",
   "id": "5d122f74-b49c-4c30-b610-0b6efb48a29a",
   "metadata": {
    "jp-MarkdownHeadingCollapsed": true,
    "tags": []
   },
   "source": [
    "## Work Proper\n",
    "Now that you are warmed up, have a go with the following exercises. \n",
    "\n",
    "L1.8 and L1.11, in particular, are relevant to Assignment 1.\n",
    "\n",
    "If you prefer Abstraction to Algorithms, jump to [Abstration](#Abstraction).\n",
    "\n",
    "Do as much as you can and then **do the \n",
    "[Lab Survey](https://qmplus.qmul.ac.uk/mod/questionnaire/view.php?id=2169372) \n",
    "before leaving**."
   ]
  },
  {
   "cell_type": "markdown",
   "id": "c3d3f1e6-14fb-4737-affc-84beadf77ab1",
   "metadata": {
    "jp-MarkdownHeadingCollapsed": true,
    "tags": []
   },
   "source": [
    "### Algorithms\n",
    "Let's use = and == to do enough work that scaling becomes an issue.\n",
    "\n",
    "L1.5 is an easy variation of L1.2 and makes L1.6 almost trivial.\n",
    "\n",
    "L1.7 observes that decomposing L1.6 into a loop that calls L1.5 makes the code more obviously correct, but sacrifices efficiency.\n",
    "\n",
    "L1.8 is not much harder than L1.6 and can be used, if you are fair-minded, for the second part of Assignment 1.\n",
    "\n",
    "L1.9 takes you to the edge of Java's ability to type code that works at all types."
   ]
  },
  {
   "cell_type": "markdown",
   "id": "fe9f5fbf-c8d4-4953-90eb-23b72a25abc4",
   "metadata": {
    "jp-MarkdownHeadingCollapsed": true,
    "tags": []
   },
   "source": [
    "#### L1.5 - Count occurrences\n",
    "Write a procedure `<T> numberOfTimes(T,T[])` that takes a 'subject' of type T and an array of T's and returns the number of times the subject occurs in the array. For example, given the array\n",
    "```\n",
    "array = { 2, 3, 2, 2, 2, 5}\n",
    "``` \n",
    "`numberOfTimes(2, array)` should return 4, because there are four 2's in the array.\n",
    "\n",
    "Produce versions that work for T = int, T = double, T = String and for any class T (using a type parameter `<T>`). The code for ints should work for all the other types."
   ]
  },
  {
   "cell_type": "code",
   "execution_count": 20,
   "id": "6e8c63d7-98f8-4a01-bbe8-cf519c72373c",
   "metadata": {},
   "outputs": [],
   "source": [
    "int numberOfTimes(int x, int[] a) {\n",
    "    \n",
    "    // Default to 0 times.\n",
    "    int r = 0;\n",
    "    \n",
    "    // A lot like isAmong(int, int[]).\n",
    "\n",
    "    return r;\n",
    "}"
   ]
  },
  {
   "cell_type": "code",
   "execution_count": 21,
   "id": "5042d59d-9ad9-4920-aeba-e742e57e6aab",
   "metadata": {},
   "outputs": [
    {
     "data": {
      "text/plain": [
       "0"
      ]
     },
     "execution_count": 21,
     "metadata": {},
     "output_type": "execute_result"
    }
   ],
   "source": [
    "int[] testArray = { 2, 3, 2, 2, 2, 5};\n",
    "int testSubject = testArray[0];\n",
    "numberOfTimes(testSubject, testArray) // Should evaluate to 4."
   ]
  },
  {
   "cell_type": "code",
   "execution_count": 22,
   "id": "2f44b5a8-d090-4cd6-a4ea-a31d0c442c37",
   "metadata": {},
   "outputs": [],
   "source": [
    "int numberOfTimes(double x, double[] a) {\n",
    "    int r = 0;\n",
    "    \n",
    "    // Paste code here from numberOfTimes(int, int[]).\n",
    "    \n",
    "    return r;\n",
    "}"
   ]
  },
  {
   "cell_type": "code",
   "execution_count": 23,
   "id": "5566bcfe-c564-4df3-ba12-c68929e9af96",
   "metadata": {},
   "outputs": [
    {
     "data": {
      "text/plain": [
       "0"
      ]
     },
     "execution_count": 23,
     "metadata": {},
     "output_type": "execute_result"
    }
   ],
   "source": [
    "double[] testArray = { 2.0, 3.0, 2.0, 2.0, 2.0, 5.0};\n",
    "double testSubject = testArray[0];\n",
    "numberOfTimes(testSubject, testArray) // Should evaluate to 4."
   ]
  },
  {
   "cell_type": "code",
   "execution_count": 24,
   "id": "f2155008-38fe-4bb7-8193-6dbb202bd867",
   "metadata": {},
   "outputs": [],
   "source": [
    "int numberOfTimes(String x, String[] a) {\n",
    "    int r = 0;\n",
    "    \n",
    "    // Paste code here.\n",
    "    \n",
    "    return r;\n",
    "}"
   ]
  },
  {
   "cell_type": "code",
   "execution_count": 25,
   "id": "e75e58c0-d891-4fa6-97ab-4cbce376fc09",
   "metadata": {},
   "outputs": [
    {
     "data": {
      "text/plain": [
       "0"
      ]
     },
     "execution_count": 25,
     "metadata": {},
     "output_type": "execute_result"
    }
   ],
   "source": [
    "String[] testArray = { \"dua\", \"tiga\", \"dua\", \"dua\", \"dua\", \"lima\"};\n",
    "String testSubject = testArray[0];\n",
    "numberOfTimes(testSubject, testArray) // Should evaluate to 4."
   ]
  },
  {
   "cell_type": "code",
   "execution_count": 26,
   "id": "a753bd69-ef60-4d80-a1a9-ce2a8f597b83",
   "metadata": {},
   "outputs": [],
   "source": [
    "<T> int numberOfTimes(T x, T[] a) {\n",
    "    int r = 0;\n",
    "    \n",
    "    // Paste here.\n",
    "    \n",
    "    return r;\n",
    "}"
   ]
  },
  {
   "cell_type": "code",
   "execution_count": 27,
   "id": "f93ae3e1-41fe-4226-81c0-aecd2212650a",
   "metadata": {},
   "outputs": [
    {
     "data": {
      "text/plain": [
       "0"
      ]
     },
     "execution_count": 27,
     "metadata": {},
     "output_type": "execute_result"
    }
   ],
   "source": [
    "Integer[] testArray = { 2, 3, 2, 2, 2, 5};\n",
    "\n",
    "Integer testSubject= testArray[0];\n",
    "\n",
    "numberOfTimes(testSubject, testArray) // Should evaluate to 4. Actually it shouldn't! (See Appendix W)."
   ]
  },
  {
   "cell_type": "code",
   "execution_count": 28,
   "id": "8e255d19",
   "metadata": {},
   "outputs": [
    {
     "data": {
      "text/plain": [
       "0"
      ]
     },
     "execution_count": 28,
     "metadata": {},
     "output_type": "execute_result"
    }
   ],
   "source": [
    "Double[] testArray = { 2.0, 3.0, 2.0, 2.0, 2.0, 5.0};\n",
    "\n",
    "Double testSubject = testArray[0];\n",
    "\n",
    "numberOfTimes(testSubject, testArray) // Should evaluate to 4, but doesn't - Welcome to Java wrapper classes! (See Appendix W.)"
   ]
  },
  {
   "cell_type": "code",
   "execution_count": 29,
   "id": "95b13006-d966-44a2-a83c-9f0f5f75e477",
   "metadata": {},
   "outputs": [
    {
     "data": {
      "text/plain": [
       "0"
      ]
     },
     "execution_count": 29,
     "metadata": {},
     "output_type": "execute_result"
    }
   ],
   "source": [
    "String[] testArray = { \"dua\", \"tiga\", \"dua\", \"dua\", \"dua\", \"lima\"};\n",
    "\n",
    "String testSubject = testArray[0];\n",
    "\n",
    "numberOfTimes(testSubject, testArray) // Should evaluate to 4. Actually it shouldn't! (See Appendix W)."
   ]
  },
  {
   "cell_type": "markdown",
   "id": "2ed317a9-3a8d-47e7-859e-62f72e3313cc",
   "metadata": {
    "jp-MarkdownHeadingCollapsed": true,
    "tags": []
   },
   "source": [
    "#### L1.6 - Take subjects from the array itself and return all the counts\n",
    "Write a procedure `<T> eachNumberOfTimes(T[])` that takes an array of T's \n",
    "and returns an array of ints of the same length. The output array should contain the number of times each corresponding item occurs in the input array.\n",
    "For example, given \n",
    "```\n",
    "{ \"dua\", \"tiga\", \"dua\", \"dua\", \"dua\", \"lima\"}\n",
    "``` \n",
    "it should return \n",
    "```\n",
    "{ 4, 1, 4, 4, 4, 1}\n",
    "```\n",
    "because there are 4 'dua's, 1 'tiga' and 1 'lima'."
   ]
  },
  {
   "cell_type": "code",
   "execution_count": 30,
   "id": "acb2e307-3fbc-4720-8175-bb63f2648a90",
   "metadata": {},
   "outputs": [],
   "source": [
    "<T> int[] eachNumberOfTimes(T[] a) {\n",
    "    int[] r = new int[a.length];\n",
    "    \n",
    "    // Loop that calls numberOfTimes.\n",
    "    \n",
    "    return r;\n",
    "}"
   ]
  },
  {
   "cell_type": "code",
   "execution_count": 31,
   "id": "d0b020f4-6186-4d93-97c1-9a0865513bc7",
   "metadata": {},
   "outputs": [],
   "source": [
    "void prIntArray(int[] a) {\n",
    "    System.out.print(\"{ \");\n",
    "    for (int i=0;i<a.length;i++) \n",
    "        System.out.print(a[i]+\", \");\n",
    "    System.out.print(\"}\");\n",
    "}"
   ]
  },
  {
   "cell_type": "code",
   "execution_count": 32,
   "id": "c3f0b1db-0d8b-4a13-8770-d0a0b5d66c88",
   "metadata": {},
   "outputs": [
    {
     "name": "stdout",
     "output_type": "stream",
     "text": [
      "{ 0, 0, 0, 0, 0, 0, }"
     ]
    }
   ],
   "source": [
    "String[] testArray = { \"dua\", \"tiga\", \"dua\", \"dua\", \"dua\", \"lima\"};\n",
    "\n",
    "prIntArray(eachNumberOfTimes(testArray)) // Should print \"{ 4, 1, 4, 4, 4, 1, }\"."
   ]
  },
  {
   "cell_type": "markdown",
   "id": "91bc41b4-7ba5-416d-bd26-f3c4cf3a18b2",
   "metadata": {
    "jp-MarkdownHeadingCollapsed": true,
    "tags": []
   },
   "source": [
    "#### L1.7 - Think about how to avoid repeat counting\n",
    "The easy way to write `eachNumberOfTimes` does a lot of unnecessary work \n",
    "and the bigger the array, the larger the proportion of wasted work, \n",
    "so the easy implementation scales poorly to large amounts of data.\n",
    "\n",
    "Think about how to avoid repeat counting. \n",
    "Not here in the Lab, think about it tonight when you wake up at 3 AM in a panic about being hired to wake up at 3 AM in a panic about scaling issues!"
   ]
  },
  {
   "cell_type": "markdown",
   "id": "1727a0eb-b0a9-420c-9bba-04bf48ebeae6",
   "metadata": {
    "jp-MarkdownHeadingCollapsed": true,
    "tags": []
   },
   "source": [
    "#### L1.8 - Take subjects from the array and return the one item\n",
    "\n",
    "Let's write some election code for Assignment 1."
   ]
  },
  {
   "cell_type": "markdown",
   "id": "53703c1f-e719-4a76-86c6-961de77a2092",
   "metadata": {
    "jp-MarkdownHeadingCollapsed": true,
    "tags": []
   },
   "source": [
    "Write a procedure `<T> oneMostFrequent(T[])` that takes an array of T's and returns a T that occurs most frequently. \n",
    "For example, given\n",
    "```\n",
    "{ 2, 3, 2, 2, 2, 5}\n",
    "``` \n",
    "it should return 2 because two occurs most frequently. Given\n",
    "```\n",
    "{ 2, 3, 7, 2, 7, 5}\n",
    "``` \n",
    "it can return either 2 or 7.\n",
    "\n",
    "Your code may assume it is passed an array with at least one element."
   ]
  },
  {
   "cell_type": "code",
   "execution_count": 33,
   "id": "d574f84d-8509-4031-9d2f-47b6e74374fd",
   "metadata": {},
   "outputs": [],
   "source": [
    "// Must not be passed an array or length zero!\n",
    "<T> T oneMostFrequent(T[] a) {\n",
    "    \n",
    "    // Default to first item. Finally we use assignment (=) at type T!\n",
    "    T r = a[0]; \n",
    "    \n",
    "    // hint: if (numberOfTimes(a[i],a) > largestCountSoFar) { ... use = at type T ...}\n",
    "    \n",
    "    return r;\n",
    "}"
   ]
  },
  {
   "cell_type": "code",
   "execution_count": 34,
   "id": "5f7f9fb3-43ea-4787-8070-6aaf25790f8b",
   "metadata": {},
   "outputs": [
    {
     "data": {
      "text/plain": [
       "1"
      ]
     },
     "execution_count": 34,
     "metadata": {},
     "output_type": "execute_result"
    }
   ],
   "source": [
    "Integer[] testArray = { 1, 3, 2, 2, 2, 5};\n",
    "oneMostFrequent(testArray) // Should evaluate to 2."
   ]
  },
  {
   "cell_type": "code",
   "execution_count": 35,
   "id": "e8d7e83c-8493-4f35-b4e9-74bb474467ba",
   "metadata": {},
   "outputs": [
    {
     "data": {
      "text/plain": [
       "1"
      ]
     },
     "execution_count": 35,
     "metadata": {},
     "output_type": "execute_result"
    }
   ],
   "source": [
    "Integer[] testArray = { 1, 2, 7, 2, 7, 5};\n",
    "oneMostFrequent(testArray) // Should evaluate to 2 or 7 (which will depend on how you write your code)."
   ]
  },
  {
   "cell_type": "markdown",
   "id": "93f04a77-d3bb-4f0a-addc-5d10acb1cd8b",
   "metadata": {},
   "source": [
    "Assuming you wrote it the easy way (calling `numberOfTimes`, as suggested by the hint) your code does not scale. Try it out on some largish amounts of data. Play with AMOUNT."
   ]
  },
  {
   "cell_type": "code",
   "execution_count": 36,
   "id": "6c546542-0146-4a53-a361-4b70eecf9318",
   "metadata": {},
   "outputs": [],
   "source": [
    "int AMOUNT = 10000;\n",
    "\n",
    "Random rs = new Random();\n",
    "\n",
    "Integer[] testArray = new Integer[AMOUNT];\n",
    "for (int i=0;i<testArray.length;i++)\n",
    "    testArray[i] = rs.nextInt(1000);"
   ]
  },
  {
   "cell_type": "code",
   "execution_count": 37,
   "id": "fa503e65-2370-4deb-b85a-bb7646d9c01c",
   "metadata": {},
   "outputs": [
    {
     "data": {
      "text/plain": [
       "867"
      ]
     },
     "execution_count": 37,
     "metadata": {},
     "output_type": "execute_result"
    }
   ],
   "source": [
    "oneMostFrequent(testArray)"
   ]
  },
  {
   "cell_type": "markdown",
   "id": "21638f65-7504-4071-8dc7-d627d2c885f5",
   "metadata": {},
   "source": [
    "Think about how to implement `<T> oneMostFrequent(T[])` in a way that scales better. You want to avoid counting things over and over."
   ]
  },
  {
   "cell_type": "markdown",
   "id": "9c9adab2-3b4d-404c-a26e-9b684b4dc970",
   "metadata": {
    "jp-MarkdownHeadingCollapsed": true,
    "tags": []
   },
   "source": [
    "#### L1.9 - Beyond Java's comfort zone\n",
    "If we want a procedure `allMostFrequent(T[])` that takes an array of T's and returns an array of the T's that occur most frequently, we come up against the limits of Java's type system. "
   ]
  },
  {
   "cell_type": "markdown",
   "id": "fd7224a1-74d9-42d9-8c8e-24e997784707",
   "metadata": {
    "tags": []
   },
   "source": [
    "For example, given\n",
    "```\n",
    "{ 2, 3, 7, 2, 7, 5}\n",
    "``` \n",
    "it should return\n",
    "```\n",
    "{ 2, 7}\n",
    "``` \n",
    "because 2 and 7 occur most frequently.\n",
    "\n",
    "With this spec, we can return an empty array when passed one,\n",
    "so we no longer have the problem with zero-length arrays that `oneMostFrequent` had.\n",
    "\n",
    "On the other hand, writing such a procedure is a little tricky \n",
    "because we have to work out how big the array of results is \n",
    "before we can create it and use it to store results. \n",
    "\n",
    "But it gets worse. Compile the stub below (without adding any code) and you will see Java isn't happy creating an array without a concrete type. "
   ]
  },
  {
   "cell_type": "markdown",
   "id": "d1f083c6-f7dd-4733-b349-db5439531835",
   "metadata": {
    "tags": []
   },
   "source": []
  },
  {
   "cell_type": "code",
   "execution_count": 38,
   "id": "4ff3dba1-5daf-438c-856c-328e4f2e9a95",
   "metadata": {},
   "outputs": [
    {
     "ename": "CompilationException",
     "evalue": "",
     "output_type": "error",
     "traceback": [
      "\u001b[1m\u001b[30m|   \u001b[1m\u001b[30m    T[] r = \u001b[0m\u001b[1m\u001b[30m\u001b[41mnew T[len]\u001b[0m\u001b[1m\u001b[30m;\u001b[0m",
      "\u001b[1m\u001b[31mgeneric array creation\u001b[0m",
      ""
     ]
    }
   ],
   "source": [
    "<T> T[] allMostFrequent(T[] a) {\n",
    "    int len = 0;\n",
    "    \n",
    "    // Code that increases len appropeiately.\n",
    "    \n",
    "    T[] r = new T[len];\n",
    "    \n",
    "    // Code that fills r.\n",
    "    \n",
    "    return r;\n",
    "}"
   ]
  },
  {
   "cell_type": "markdown",
   "id": "ed52904b-6e0b-4289-9105-673e06bbda71",
   "metadata": {},
   "source": [
    "Alas, we are reaching the limits of Java's ability to type generic code. \n",
    "\n",
    "If you hand-substitute any specific type for T, the code above works fine. \n",
    "For example, substituting the type `long` for T gives the code below, which compiles fine. It could be completed - have a go if you like - to work for longs and the same code would work for any other type, but you would have to do the type substitution manually. "
   ]
  },
  {
   "cell_type": "code",
   "execution_count": 39,
   "id": "147a6ac4-2b75-460c-a511-f6726733c03a",
   "metadata": {},
   "outputs": [],
   "source": [
    "long[] allMostFrequent(long[] a) {\n",
    "    int len = 0;\n",
    "    \n",
    "    // Code that increases len appropriately.\n",
    "    \n",
    "    long[] r = new long[len];\n",
    "    \n",
    "    // Code that fills r.\n",
    "    \n",
    "    return r;\n",
    "}"
   ]
  },
  {
   "cell_type": "markdown",
   "id": "b2f9daf5-0636-44b3-ad60-f38d0183e5fd",
   "metadata": {},
   "source": [
    "So you can do it easily by hand, but Java can't see its way to doing it for you - what a drag! What you should be learning here is that it can be easier to write code that works for all types than it is to convince Java of that fact.\n",
    "\n",
    "If you are willing to google about `Vector` in Java, you can have a go with the stub below. A Vector is like an array that can change length after it's created. You will have to learn about adding elements (and about clearing a Vector, if you are efficiency-minded)."
   ]
  },
  {
   "cell_type": "code",
   "execution_count": 44,
   "id": "40be018b-52db-4bd5-9229-0ba85393f5f6",
   "metadata": {},
   "outputs": [],
   "source": [
    "<T> T[] allMostFrequent(T[] a, T[] dummy) { // dummy shuold have length zero.\n",
    "\n",
    "    // Don't have to know in advance how long a Vector is.\n",
    "    Vector<T> r = new Vector<T>(); // Compiles without knowing type T in advance. \n",
    "    \n",
    "    r.add(a[0]); // Replace with code that fills r with just the most frequent items.\n",
    "    \n",
    "    return r.toArray(dummy); // Here, dummy only tells toArray what type to make its result (it's a hack Java uses).\n",
    "}"
   ]
  },
  {
   "cell_type": "code",
   "execution_count": 45,
   "id": "17137633-d4bd-4f90-bdb6-52edd9eadf54",
   "metadata": {},
   "outputs": [],
   "source": [
    "<T> void prArray(T[] a) {\n",
    "    System.out.print(\"{ \");\n",
    "    for (int i=0;i<a.length;i++) \n",
    "        System.out.print(a[i]+\", \");\n",
    "    System.out.print(\"}\");\n",
    "}"
   ]
  },
  {
   "cell_type": "code",
   "execution_count": 46,
   "id": "ac30f1b3-5534-4a51-ac6d-52a2baaf428a",
   "metadata": {},
   "outputs": [
    {
     "name": "stdout",
     "output_type": "stream",
     "text": [
      "{ 1, }"
     ]
    }
   ],
   "source": [
    "Integer[] testArray = { 1, 2, 7, 2, 7, 5}, hack = { };\n",
    "\n",
    "prArray(allMostFrequent(testArray, hack)) // Should print \"{ 2, 7, }\"."
   ]
  },
  {
   "cell_type": "markdown",
   "id": "53adc62a-aaea-4c67-b226-ff1e4248c4b5",
   "metadata": {
    "jp-MarkdownHeadingCollapsed": true,
    "tags": []
   },
   "source": [
    "### Abstraction\n",
    "Let's use = and == to write operations that work without knowing how anything is represented.\n",
    "\n",
    "In L1.10 we do something odd, but it should help you understand better how `vote()` works in Assignment 1.\n",
    "\n",
    "In L1.11 we go a little beyond the (very simple) procedure `vote`, with an output that actually depends on inputs.\n",
    "\n",
    "In L1.12 and L1.13 we consider two different ways of extending the idea, one promising and one quite hopeless."
   ]
  },
  {
   "cell_type": "markdown",
   "id": "9b4b0b27-8396-490d-8187-d223c9ba8fc4",
   "metadata": {
    "jp-MarkdownHeadingCollapsed": true,
    "tags": []
   },
   "source": [
    "#### L1.10 - Representing booleans\n",
    "We are going to represent booleans using integers, not the usual way with 0 for false and 1 for true, but with values we don't actually know.\n",
    "\n",
    "Then, when we write code for boolean operations, it _has_ to be abstract."
   ]
  },
  {
   "cell_type": "code",
   "execution_count": 47,
   "id": "6d560de9-d2e0-451c-8dfa-731dbe183723",
   "metadata": {},
   "outputs": [],
   "source": [
    "int TRUE = (new Random()).nextInt(); // Use some integer to represent true.\n",
    "int FALSE = (new Random()).nextInt(); // Use some other integer (unless you won the lottery) to represent false.\n",
    "while (FALSE == TRUE) FALSE = (new Random()).nextInt(); // Make sure you didn't win the lottery."
   ]
  },
  {
   "cell_type": "markdown",
   "id": "4f58e8d8-1131-4e92-a4d6-4f75690a33e5",
   "metadata": {},
   "source": [
    "Now write a function that converts the integer in TRUE to the string \"true\" and converts the one in FALSE to \"false\". It should return \"NaTV\" on any other integer."
   ]
  },
  {
   "cell_type": "code",
   "execution_count": 48,
   "id": "7393f025-4c20-425c-b958-1da9516da8be",
   "metadata": {},
   "outputs": [],
   "source": [
    "String truthValueToString(int v) {\n",
    "    String r = \"NaTV\";\n",
    "    \n",
    "    // Add if-else code here. \n",
    "    \n",
    "    return r;\n",
    "}"
   ]
  },
  {
   "cell_type": "code",
   "execution_count": 49,
   "id": "1a06fdf9-967e-4fcd-aa4c-252ca003f8c1",
   "metadata": {},
   "outputs": [
    {
     "data": {
      "text/plain": [
       "NaTV"
      ]
     },
     "execution_count": 49,
     "metadata": {},
     "output_type": "execute_result"
    }
   ],
   "source": [
    "truthValueToString(TRUE) // Should evaluate to \"true\"."
   ]
  },
  {
   "cell_type": "code",
   "execution_count": 50,
   "id": "e86fd225-7f8a-4a73-b2d2-b6ec28b54480",
   "metadata": {},
   "outputs": [
    {
     "data": {
      "text/plain": [
       "NaTV"
      ]
     },
     "execution_count": 50,
     "metadata": {},
     "output_type": "execute_result"
    }
   ],
   "source": [
    "truthValueToString(FALSE); // Should evaluate to \"false\"."
   ]
  },
  {
   "cell_type": "code",
   "execution_count": 52,
   "id": "eec18694-197e-41e3-844a-af108b1004b4",
   "metadata": {},
   "outputs": [
    {
     "data": {
      "text/plain": [
       "NaTV"
      ]
     },
     "execution_count": 52,
     "metadata": {},
     "output_type": "execute_result"
    }
   ],
   "source": [
    "truthValueToString(42); // Should print \"NaTV\" (unless you won the lottery)."
   ]
  },
  {
   "cell_type": "markdown",
   "id": "5701d820-832a-44cd-8857-615e06d5e2f4",
   "metadata": {
    "jp-MarkdownHeadingCollapsed": true,
    "tags": []
   },
   "source": [
    "#### L1.11 - Implementing logical operations using control flow.\n",
    "\n",
    "We can implement logical operations using control flow (branching). \n",
    "In these exercises, you are not allowed to use Java's built-in operators (&&, ||, +, etc) - \n",
    "the point is you can write 'and' yourself, without using &&."
   ]
  },
  {
   "cell_type": "markdown",
   "id": "e249f37e-c5d9-4327-8177-337eba9924a1",
   "metadata": {
    "jp-MarkdownHeadingCollapsed": true,
    "tags": []
   },
   "source": [
    "Write a logical 'and' function and use your `truthValueToString` to check it works."
   ]
  },
  {
   "cell_type": "code",
   "execution_count": 53,
   "id": "0a68a61e-0088-4329-bfb9-14a666438a7f",
   "metadata": {},
   "outputs": [],
   "source": [
    "int booleanAnd(int a, int b) {\n",
    "    \n",
    "    int r = FALSE; // Or should the default be TRUE?\n",
    "    \n",
    "    // Add if code here. Use '==' in the conditions and '=' in the bodies.\n",
    "    \n",
    "    return r;\n",
    "}"
   ]
  },
  {
   "cell_type": "code",
   "execution_count": 54,
   "id": "81be7d02-71a9-4417-a024-2e5ef2962faf",
   "metadata": {},
   "outputs": [
    {
     "data": {
      "text/plain": [
       "NaTV"
      ]
     },
     "execution_count": 54,
     "metadata": {},
     "output_type": "execute_result"
    }
   ],
   "source": [
    "truthValueToString(booleanAnd(TRUE, TRUE)) // Should give \"true\"."
   ]
  },
  {
   "cell_type": "code",
   "execution_count": 55,
   "id": "22e82a15-56f0-4590-a1c9-bc477a15b45d",
   "metadata": {},
   "outputs": [
    {
     "data": {
      "text/plain": [
       "NaTV"
      ]
     },
     "execution_count": 55,
     "metadata": {},
     "output_type": "execute_result"
    }
   ],
   "source": [
    "truthValueToString(booleanAnd(TRUE, FALSE)) // Should give \"false\"."
   ]
  },
  {
   "cell_type": "code",
   "execution_count": 56,
   "id": "dea1ae5c-c0e2-4e88-882f-7b8d51056348",
   "metadata": {},
   "outputs": [
    {
     "data": {
      "text/plain": [
       "NaTV"
      ]
     },
     "execution_count": 56,
     "metadata": {},
     "output_type": "execute_result"
    }
   ],
   "source": [
    "truthValueToString(booleanAnd(FALSE, TRUE)) // Should give \"false\"."
   ]
  },
  {
   "cell_type": "code",
   "execution_count": 57,
   "id": "f5211e23-3b91-4d7b-be21-07b70a0d2d33",
   "metadata": {},
   "outputs": [
    {
     "data": {
      "text/plain": [
       "NaTV"
      ]
     },
     "execution_count": 57,
     "metadata": {},
     "output_type": "execute_result"
    }
   ],
   "source": [
    "truthValueToString(booleanAnd(FALSE, FALSE)) // Should give \"false\"."
   ]
  },
  {
   "cell_type": "code",
   "execution_count": 58,
   "id": "4798217c-e268-4b01-9967-ed802ccee891",
   "metadata": {},
   "outputs": [
    {
     "data": {
      "text/plain": [
       "NaTV"
      ]
     },
     "execution_count": 58,
     "metadata": {},
     "output_type": "execute_result"
    }
   ],
   "source": [
    "truthValueToString(booleanAnd(42, FALSE)) // What should this give? What does it give?"
   ]
  },
  {
   "cell_type": "markdown",
   "id": "e821881c-9dd0-43eb-a320-a7b2103775b1",
   "metadata": {},
   "source": [
    "Now do boolean 'not'. Again, do not use the negation connective '!'. Just use 'if' with == and =."
   ]
  },
  {
   "cell_type": "code",
   "execution_count": 59,
   "id": "7c7f567c-e23c-4850-91bf-082cddc8c764",
   "metadata": {},
   "outputs": [],
   "source": [
    "int booleanNot(int a) {\n",
    "    \n",
    "    int r = FALSE; // Or should the default be TRUE?\n",
    "    \n",
    "    return r;\n",
    "}"
   ]
  },
  {
   "cell_type": "code",
   "execution_count": 60,
   "id": "09fecb08-3cc9-48f6-be4e-d84c04f33cdf",
   "metadata": {},
   "outputs": [
    {
     "data": {
      "text/plain": [
       "NaTV"
      ]
     },
     "execution_count": 60,
     "metadata": {},
     "output_type": "execute_result"
    }
   ],
   "source": [
    "truthValueToString(booleanNot(TRUE)) // Should give \"false\"."
   ]
  },
  {
   "cell_type": "code",
   "execution_count": 61,
   "id": "3d585c30-5951-4bc7-9b23-038c914ac021",
   "metadata": {},
   "outputs": [
    {
     "data": {
      "text/plain": [
       "NaTV"
      ]
     },
     "execution_count": 61,
     "metadata": {},
     "output_type": "execute_result"
    }
   ],
   "source": [
    "truthValueToString(booleanNot(FALSE)) // Should give \"true\"."
   ]
  },
  {
   "cell_type": "code",
   "execution_count": 62,
   "id": "f77ca82e-544b-4fc2-9be9-d4e9f85aa5b7",
   "metadata": {},
   "outputs": [
    {
     "data": {
      "text/plain": [
       "NaTV"
      ]
     },
     "execution_count": 62,
     "metadata": {},
     "output_type": "execute_result"
    }
   ],
   "source": [
    "truthValueToString(booleanNot(42)) // What should this give? What does it give?"
   ]
  },
  {
   "cell_type": "markdown",
   "id": "819cf7f1-f49d-4ad7-ad87-647502d43e51",
   "metadata": {},
   "source": [
    "Now that we have 'and' and 'not' we can use these to build other connectives. What is the formula for 'or' in terms of 'and' and 'not'?"
   ]
  },
  {
   "cell_type": "code",
   "execution_count": 63,
   "id": "eb684447-8c14-4a5f-a7aa-26ef509be3d5",
   "metadata": {},
   "outputs": [],
   "source": [
    "int booleanOr(int a, int b) {\n",
    "    return a; // Replace a with an expression involving a, b, booleanNot and booleanAnd.\n",
    "}"
   ]
  },
  {
   "cell_type": "code",
   "execution_count": 64,
   "id": "21e1f307-0d35-4a7c-97bc-abd0c5cb4c44",
   "metadata": {},
   "outputs": [
    {
     "data": {
      "text/plain": [
       "NaTV"
      ]
     },
     "execution_count": 64,
     "metadata": {},
     "output_type": "execute_result"
    }
   ],
   "source": [
    "truthValueToString(booleanOr(TRUE,TRUE)) // Should give \"true\"."
   ]
  },
  {
   "cell_type": "code",
   "execution_count": 65,
   "id": "f1b61153-8cd4-4c53-8cdd-46cc9b1d8caa",
   "metadata": {},
   "outputs": [
    {
     "data": {
      "text/plain": [
       "NaTV"
      ]
     },
     "execution_count": 65,
     "metadata": {},
     "output_type": "execute_result"
    }
   ],
   "source": [
    "truthValueToString(booleanOr(TRUE,FALSE)) // Should give \"false\"."
   ]
  },
  {
   "cell_type": "code",
   "execution_count": 66,
   "id": "ef43a05b-6ffb-4ef4-8414-a91dc55c1204",
   "metadata": {},
   "outputs": [
    {
     "data": {
      "text/plain": [
       "NaTV"
      ]
     },
     "execution_count": 66,
     "metadata": {},
     "output_type": "execute_result"
    }
   ],
   "source": [
    "truthValueToString(booleanOr(FALSE,TRUE)) // Should give \"false\"."
   ]
  },
  {
   "cell_type": "code",
   "execution_count": 67,
   "id": "45e00c35-28ed-4f72-bda7-03796a635633",
   "metadata": {},
   "outputs": [
    {
     "data": {
      "text/plain": [
       "NaTV"
      ]
     },
     "execution_count": 67,
     "metadata": {},
     "output_type": "execute_result"
    }
   ],
   "source": [
    "truthValueToString(booleanOr(FALSE,FALSE)) // Should give \"false\"."
   ]
  },
  {
   "cell_type": "code",
   "execution_count": 68,
   "id": "7c049b14-adbe-4989-98c8-a774416959a7",
   "metadata": {},
   "outputs": [
    {
     "data": {
      "text/plain": [
       "NaTV"
      ]
     },
     "execution_count": 68,
     "metadata": {},
     "output_type": "execute_result"
    }
   ],
   "source": [
    "truthValueToString(booleanOr(42, TRUE)) // What should this give? What does it give?"
   ]
  },
  {
   "cell_type": "markdown",
   "id": "8354e2a1-85d8-4680-a9dc-34da8bbd54de",
   "metadata": {
    "jp-MarkdownHeadingCollapsed": true,
    "tags": []
   },
   "source": [
    "#### L1.12 - Introducing a new truth value\n",
    "\n",
    "Let's provide a representation for a new truth value, MAYBE."
   ]
  },
  {
   "cell_type": "code",
   "execution_count": 69,
   "id": "26f318e6-5e8a-45dc-91f4-598c106ded52",
   "metadata": {},
   "outputs": [],
   "source": [
    "int MAYBE = (new Random()).nextInt();\n",
    "while (MAYBE == TRUE || MAYBE == FALSE) MAYBE = (new Random()).nextInt();"
   ]
  },
  {
   "cell_type": "markdown",
   "id": "0eab7c78-913a-4819-a67f-4e888e18e98e",
   "metadata": {},
   "source": [
    "We will need to extend - note the word extend! - our translation to String."
   ]
  },
  {
   "cell_type": "code",
   "execution_count": 70,
   "id": "c49bc16c-6ed3-4af8-9ef4-457889cce464",
   "metadata": {},
   "outputs": [],
   "source": [
    "String truthValueToString(int v) {\n",
    "    String r = \"NaTV\";\n",
    "    \n",
    "    // Copy in old truthValueToString and add case for MAYBE. \n",
    "    \n",
    "    return r;\n",
    "}"
   ]
  },
  {
   "cell_type": "markdown",
   "id": "9f13643c-9476-452a-bb21-c1676d0b3095",
   "metadata": {},
   "source": [
    "How do the operations you've written for TRUE and FALSE work when you simply start passing them MAYBE's along with TRUE's and FALSE's? "
   ]
  },
  {
   "cell_type": "code",
   "execution_count": 71,
   "id": "2d4b3de0-cee0-46b3-96eb-7fe6910f3569",
   "metadata": {},
   "outputs": [
    {
     "data": {
      "text/plain": [
       "NaTV"
      ]
     },
     "execution_count": 71,
     "metadata": {},
     "output_type": "execute_result"
    }
   ],
   "source": [
    "truthValueToString(booleanAnd(MAYBE, TRUE)) // What does this give? What should it give?"
   ]
  },
  {
   "cell_type": "code",
   "execution_count": 72,
   "id": "a9cf0e15-d275-43d5-b9fe-61665576c6ef",
   "metadata": {},
   "outputs": [
    {
     "data": {
      "text/plain": [
       "NaTV"
      ]
     },
     "execution_count": 72,
     "metadata": {},
     "output_type": "execute_result"
    }
   ],
   "source": [
    "truthValueToString(booleanOr(MAYBE,FALSE)) // What does this give? What should it give?"
   ]
  },
  {
   "cell_type": "markdown",
   "id": "f821d1e3-4592-4651-afaa-73da3bfbdfcf",
   "metadata": {},
   "source": [
    "Is there a 'principled' way of writing `booleanAnd`, `booleanNot` and `booleanOr` that would have produced the right results for MAYBE even though you had yet to add it as a truth value?\n",
    "\n",
    "See if you can go back and ret-con your code for `boooleanAnd` in L1.11 in a way that makes the tests below behave as you would expect for MAYBE **without mentioning MAYBE in your code**! The idea is to capture 'and' so deeply that it works for MAYBE even before you added MAYBE. Is this even **possible**? "
   ]
  },
  {
   "cell_type": "code",
   "execution_count": 73,
   "id": "6aaf3430-c162-4c3d-8067-8377c6846079",
   "metadata": {},
   "outputs": [
    {
     "data": {
      "text/plain": [
       "NaTV"
      ]
     },
     "execution_count": 73,
     "metadata": {},
     "output_type": "execute_result"
    }
   ],
   "source": [
    "truthValueToString(booleanAnd(MAYBE, TRUE)) // What does this give? What should it give?"
   ]
  },
  {
   "cell_type": "code",
   "execution_count": 74,
   "id": "742cde74-f3f6-4eb3-b100-11c5e3dc2178",
   "metadata": {},
   "outputs": [
    {
     "data": {
      "text/plain": [
       "NaTV"
      ]
     },
     "execution_count": 74,
     "metadata": {},
     "output_type": "execute_result"
    }
   ],
   "source": [
    "truthValueToString(booleanAnd(TRUE, MAYBE)) // What does this give? What should it give?"
   ]
  },
  {
   "cell_type": "markdown",
   "id": "6a84e929-4f42-4e34-87f1-dadcd54a4ee1",
   "metadata": {},
   "source": [
    "Did you find a way? Wow, welcome to the outer reaches of abstraction!\n",
    "\n",
    "Does it work for the derived `booleanOr`?"
   ]
  },
  {
   "cell_type": "code",
   "execution_count": 75,
   "id": "90069baf-1bfc-4382-ae57-493024fafed2",
   "metadata": {},
   "outputs": [
    {
     "data": {
      "text/plain": [
       "NaTV"
      ]
     },
     "execution_count": 75,
     "metadata": {},
     "output_type": "execute_result"
    }
   ],
   "source": [
    "truthValueToString(booleanOr(MAYBE,FALSE)) // What does this give? What should it give?"
   ]
  },
  {
   "cell_type": "code",
   "execution_count": 76,
   "id": "d14c42ae-6983-4b62-84a8-4ffa4a988096",
   "metadata": {
    "tags": []
   },
   "outputs": [
    {
     "data": {
      "text/plain": [
       "NaTV"
      ]
     },
     "execution_count": 76,
     "metadata": {},
     "output_type": "execute_result"
    }
   ],
   "source": [
    "truthValueToString(booleanOr(FALSE, MAYBE)) // What does this give? What should it give?"
   ]
  },
  {
   "cell_type": "markdown",
   "id": "191e1b57-8099-4182-90c8-cf635b887e0a",
   "metadata": {
    "jp-MarkdownHeadingCollapsed": true,
    "tags": []
   },
   "source": [
    "#### L1.13 - The difficulty with numbers\n",
    "\n",
    "Apparently, crows can count to six.\n",
    "Let's say \n",
    "[blue tits](https://www.rspb.org.uk/birds-and-wildlife/wildlife-guides/bird-a-z/blue-tit/) \n",
    "can count to two and lets use ints to represent their numbers."
   ]
  },
  {
   "cell_type": "code",
   "execution_count": 77,
   "id": "a90ff6c5-274e-4693-94ca-f4cbc9d54506",
   "metadata": {},
   "outputs": [],
   "source": [
    "int ZERO = (new Random()).nextInt(); // Use some integer to represent zero.\n",
    "\n",
    "int ONE = (new Random()).nextInt(); // Use some other integer (unless you won the lottery) to represent one.\n",
    "while (ONE == ZERO) ONE = (new Random()).nextInt(); // Make sure you didn't win the lottery.\n",
    "\n",
    "int TWO = (new Random()).nextInt(); // Use some other integer (unless you won a lottery) to represent two.\n",
    "while (TWO == ZERO || TWO == ONE) TWO = (new Random()).nextInt(); // Make sure you didn't win any lotteries.\n",
    "\n",
    "int ALOT = (new Random()).nextInt(); // Use some other integer (unless you won a lottery) to represent more than two.\n",
    "while (ALOT == ZERO || ALOT == ONE || ALOT == TWO) ALOT = (new Random()).nextInt(); // Make sure you didn't win any lotteries."
   ]
  },
  {
   "cell_type": "markdown",
   "id": "13969bf7-9e4d-4cd1-8533-83309faf4f00",
   "metadata": {},
   "source": [
    "Obviously this would not scale well to 4 billion integers."
   ]
  },
  {
   "cell_type": "code",
   "execution_count": 78,
   "id": "80e19ea7-c4d9-434e-b420-f6af22afd76d",
   "metadata": {},
   "outputs": [],
   "source": [
    "String numValueToString(int v) {\n",
    "    String r =\"NaN\";\n",
    "    \n",
    "    // Add if-else code here.\n",
    "    \n",
    "    return r;\n",
    "}"
   ]
  },
  {
   "cell_type": "code",
   "execution_count": 79,
   "id": "913d4302-ad50-4a52-ab2b-44b7d459bca3",
   "metadata": {},
   "outputs": [
    {
     "data": {
      "text/plain": [
       "NaN"
      ]
     },
     "execution_count": 79,
     "metadata": {},
     "output_type": "execute_result"
    }
   ],
   "source": [
    "numValueToString(ZERO) // Should print \"0\"."
   ]
  },
  {
   "cell_type": "code",
   "execution_count": 80,
   "id": "0292c77d-2278-457b-a08d-0a0d7ea04e31",
   "metadata": {},
   "outputs": [
    {
     "data": {
      "text/plain": [
       "NaN"
      ]
     },
     "execution_count": 80,
     "metadata": {},
     "output_type": "execute_result"
    }
   ],
   "source": [
    "numValueToString(ONE) // Should print \"1\"."
   ]
  },
  {
   "cell_type": "code",
   "execution_count": 81,
   "id": "58636c92-7aa5-4762-84f3-42fe3da35544",
   "metadata": {},
   "outputs": [
    {
     "data": {
      "text/plain": [
       "NaN"
      ]
     },
     "execution_count": 81,
     "metadata": {},
     "output_type": "execute_result"
    }
   ],
   "source": [
    "numValueToString(TWO) // Should print \"2\"."
   ]
  },
  {
   "cell_type": "code",
   "execution_count": 82,
   "id": "208cdc5e-1dd6-4a06-8594-5b87127a9f92",
   "metadata": {},
   "outputs": [
    {
     "data": {
      "text/plain": [
       "NaN"
      ]
     },
     "execution_count": 82,
     "metadata": {},
     "output_type": "execute_result"
    }
   ],
   "source": [
    "numValueToString(ALOT) // Should print \"♯\"."
   ]
  },
  {
   "cell_type": "code",
   "execution_count": 83,
   "id": "ee0da00e-5f6a-4213-ab36-a4934abb8505",
   "metadata": {},
   "outputs": [
    {
     "data": {
      "text/plain": [
       "NaN"
      ]
     },
     "execution_count": 83,
     "metadata": {},
     "output_type": "execute_result"
    }
   ],
   "source": [
    "numValueToString((new Random()).nextInt()) // Should print \"NaN\", for 'Not a Number'. (Unless you won a lottery.)"
   ]
  },
  {
   "cell_type": "markdown",
   "id": "f19ed6e0-99f4-4cc4-910f-5d97799beab5",
   "metadata": {},
   "source": [
    "Write an addition operation. How tedious, right?"
   ]
  },
  {
   "cell_type": "code",
   "execution_count": 84,
   "id": "3c4e28dd-55c8-449c-87e5-37dcbbb22cd9",
   "metadata": {},
   "outputs": [],
   "source": [
    "int numAdd(int a, int b) {\n",
    "    \n",
    "    return a + b; // Does not work at all (unless you win a lottery). Replace with if-else code.\n",
    "    \n",
    "}"
   ]
  },
  {
   "cell_type": "code",
   "execution_count": 85,
   "id": "e34e7ec2-38ce-4192-9985-ab3c29d73ba9",
   "metadata": {},
   "outputs": [
    {
     "data": {
      "text/plain": [
       "NaN"
      ]
     },
     "execution_count": 85,
     "metadata": {},
     "output_type": "execute_result"
    }
   ],
   "source": [
    "numValueToString(numAdd(ZERO,ZERO)) // Should print \"0\"."
   ]
  },
  {
   "cell_type": "code",
   "execution_count": 86,
   "id": "5ba813f2-88d3-48e1-8e50-adf921a68d59",
   "metadata": {},
   "outputs": [
    {
     "data": {
      "text/plain": [
       "NaN"
      ]
     },
     "execution_count": 86,
     "metadata": {},
     "output_type": "execute_result"
    }
   ],
   "source": [
    "numValueToString(numAdd(ZERO,ONE)) // Should print \"1\"."
   ]
  },
  {
   "cell_type": "code",
   "execution_count": 87,
   "id": "79f1f53a-d217-4c04-9b13-4dea56e49549",
   "metadata": {},
   "outputs": [
    {
     "data": {
      "text/plain": [
       "NaN"
      ]
     },
     "execution_count": 87,
     "metadata": {},
     "output_type": "execute_result"
    }
   ],
   "source": [
    "numValueToString(numAdd(ONE,ONE)) // Should print \"2\"."
   ]
  },
  {
   "cell_type": "code",
   "execution_count": 88,
   "id": "864c9b1d-f517-44ba-8009-c001dd135695",
   "metadata": {},
   "outputs": [
    {
     "data": {
      "text/plain": [
       "NaN"
      ]
     },
     "execution_count": 88,
     "metadata": {},
     "output_type": "execute_result"
    }
   ],
   "source": [
    "numValueToString(numAdd(ONE,TWO)) // Should print \"♯\"."
   ]
  },
  {
   "cell_type": "markdown",
   "id": "4f6af43e-f989-484a-b8aa-41d0fe50d494",
   "metadata": {
    "jp-MarkdownHeadingCollapsed": true,
    "tags": []
   },
   "source": [
    "## Appendix W - Java Wrapper Classes\n",
    "\n",
    "Java type parameters only range over classes.\n",
    "\n",
    "To make it sort of like they work for primitive types such as int and double, wrapper classes were introduced. "
   ]
  },
  {
   "cell_type": "markdown",
   "id": "3f22ba14-139e-4fa3-8744-651280667795",
   "metadata": {
    "jp-MarkdownHeadingCollapsed": true,
    "tags": []
   },
   "source": [
    "For int and double, the wrapper classes are Integer and Double. \n",
    "To hide this fudge, 'auto-boxing' was added, \n",
    "which automatically converts between primitive types and their wrapper classes - and obscures the fact that you are about to get bit in the rump.\n",
    "\n",
    "Check out the following examples. Keep them in mind as we study object identity this week."
   ]
  },
  {
   "cell_type": "code",
   "execution_count": 1,
   "id": "416a70b9-f320-471f-8b39-1ff21dfe442c",
   "metadata": {},
   "outputs": [
    {
     "data": {
      "text/plain": [
       "true"
      ]
     },
     "execution_count": 1,
     "metadata": {},
     "output_type": "execute_result"
    }
   ],
   "source": [
    "Integer a = 2; \n",
    "Integer b = 2;\n",
    "a == b"
   ]
  },
  {
   "cell_type": "code",
   "execution_count": 2,
   "id": "1cb638b4-585c-4580-837e-8e2fec43ad6f",
   "metadata": {},
   "outputs": [
    {
     "data": {
      "text/plain": [
       "true"
      ]
     },
     "execution_count": 2,
     "metadata": {},
     "output_type": "execute_result"
    }
   ],
   "source": [
    "Integer a = Integer.valueOf(2); \n",
    "Integer b = Integer.valueOf(2);\n",
    "a == b"
   ]
  },
  {
   "cell_type": "code",
   "execution_count": 3,
   "id": "deca0ae8-c719-44d8-be64-214a902d259e",
   "metadata": {},
   "outputs": [
    {
     "data": {
      "text/plain": [
       "false"
      ]
     },
     "execution_count": 3,
     "metadata": {},
     "output_type": "execute_result"
    }
   ],
   "source": [
    "Integer a = new Integer(2); \n",
    "Integer b = new Integer(2);\n",
    "a == b"
   ]
  },
  {
   "cell_type": "code",
   "execution_count": 4,
   "id": "f892c29c-4433-4f52-9b22-a9eb818a614e",
   "metadata": {},
   "outputs": [
    {
     "data": {
      "text/plain": [
       "false"
      ]
     },
     "execution_count": 4,
     "metadata": {},
     "output_type": "execute_result"
    }
   ],
   "source": [
    "Double a = 2.0; \n",
    "Double b = 2.0;\n",
    "a == b"
   ]
  },
  {
   "cell_type": "code",
   "execution_count": 5,
   "id": "b3ba35b3-6871-492a-9ab2-86b56d7f5d6b",
   "metadata": {},
   "outputs": [
    {
     "data": {
      "text/plain": [
       "false"
      ]
     },
     "execution_count": 5,
     "metadata": {},
     "output_type": "execute_result"
    }
   ],
   "source": [
    "Double a = Double.valueOf(2.0); \n",
    "Double b = Double.valueOf(2.0);\n",
    "a == b"
   ]
  },
  {
   "cell_type": "code",
   "execution_count": 6,
   "id": "0f3f8f10-3fbd-4d32-9195-ed4a93dcf78f",
   "metadata": {},
   "outputs": [
    {
     "data": {
      "text/plain": [
       "false"
      ]
     },
     "execution_count": 6,
     "metadata": {},
     "output_type": "execute_result"
    }
   ],
   "source": [
    "Double a = new Double(2.0); \n",
    "Double b = new Double(2.0);\n",
    "a == b"
   ]
  },
  {
   "cell_type": "code",
   "execution_count": 7,
   "id": "11d5a8b8-9410-45b9-805d-790057157084",
   "metadata": {},
   "outputs": [
    {
     "data": {
      "text/plain": [
       "true"
      ]
     },
     "execution_count": 7,
     "metadata": {},
     "output_type": "execute_result"
    }
   ],
   "source": [
    "String a = \"two\";\n",
    "String b = \"two\";\n",
    "a == b"
   ]
  },
  {
   "cell_type": "code",
   "execution_count": 8,
   "id": "76452442-699b-409d-869a-4eb4af46cc26",
   "metadata": {},
   "outputs": [
    {
     "data": {
      "text/plain": [
       "true"
      ]
     },
     "execution_count": 8,
     "metadata": {},
     "output_type": "execute_result"
    }
   ],
   "source": [
    "String a = String.valueOf(\"two\");\n",
    "String b = String.valueOf(\"two\");\n",
    "a == b"
   ]
  },
  {
   "cell_type": "code",
   "execution_count": 9,
   "id": "45978ee9-841e-4e29-ad74-2f6e15a62df7",
   "metadata": {},
   "outputs": [
    {
     "data": {
      "text/plain": [
       "false"
      ]
     },
     "execution_count": 9,
     "metadata": {},
     "output_type": "execute_result"
    }
   ],
   "source": [
    "String a = new String(\"two\");\n",
    "String b = new String(\"two\");\n",
    "a == b"
   ]
  },
  {
   "cell_type": "markdown",
   "id": "a52186d8-5f94-41f3-9627-05fd82329818",
   "metadata": {},
   "source": [
    "So it looks like Integer and String behave the same. But then..."
   ]
  },
  {
   "cell_type": "code",
   "execution_count": 10,
   "id": "937c5429-8d50-416b-b51a-703cee863fae",
   "metadata": {},
   "outputs": [
    {
     "data": {
      "text/plain": [
       "true"
      ]
     },
     "execution_count": 10,
     "metadata": {},
     "output_type": "execute_result"
    }
   ],
   "source": [
    "Integer a = 1;\n",
    "Integer b = 1;\n",
    "a + b == a + b"
   ]
  },
  {
   "cell_type": "code",
   "execution_count": 11,
   "id": "9d4afc2a-b917-4154-b0db-870f623243cd",
   "metadata": {
    "tags": []
   },
   "outputs": [
    {
     "data": {
      "text/plain": [
       "false"
      ]
     },
     "execution_count": 11,
     "metadata": {},
     "output_type": "execute_result"
    }
   ],
   "source": [
    "String a = \"o\";\n",
    "String b = \"o\";\n",
    "a + b == a + b"
   ]
  },
  {
   "cell_type": "markdown",
   "id": "c326c759-3303-4371-93a6-1b593ff1c9c1",
   "metadata": {},
   "source": [
    "If you are thoroughly confused, that is normal."
   ]
  }
 ],
 "metadata": {
  "kernelspec": {
   "display_name": "Java",
   "language": "java",
   "name": "java"
  },
  "language_info": {
   "codemirror_mode": "java",
   "file_extension": ".jshell",
   "mimetype": "text/x-java-source",
   "name": "Java",
   "pygments_lexer": "java",
   "version": "11.0.8+10-LTS"
  }
 },
 "nbformat": 4,
 "nbformat_minor": 5
}
