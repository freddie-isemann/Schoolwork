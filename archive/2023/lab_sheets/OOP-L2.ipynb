{
 "cells": [
  {
   "cell_type": "markdown",
   "id": "f59d85a7-d158-49bd-aa9f-86d66481a5f5",
   "metadata": {
    "tags": []
   },
   "source": [
    "# Lab 2 - Programming with Empty Classes\n",
    "\n",
    "We program with objects belonging to empty classes."
   ]
  },
  {
   "cell_type": "markdown",
   "id": "6433bafc-e7d0-4677-9cd7-f300fd780af8",
   "metadata": {
    "tags": []
   },
   "source": [
    "## Preparatory Work\n",
    "Do exercises L2.1 and L2.2 to prepare for the Lab Check."
   ]
  },
  {
   "cell_type": "markdown",
   "id": "8fd39bc2-82da-45a9-ae5c-b94ed7885419",
   "metadata": {},
   "source": [
    "### L2.1 All the same\n",
    "\n",
    "Like all types, empty classes have plain assignment = and identicality ==.\n",
    "\n",
    "Additionally, every class in Java inherits `equals` from the built-in class `Object`.\n",
    "The `equals` an empty class inherits from `Object` uses == and so, **for empty classes**,\n",
    "identicality (using ==) and equality (using `equals`) behave the same.\n",
    "\n",
    "Write four procedures that return true iff all three arguments are the same,\n",
    "two that use == and two that use equals(),\n",
    "two typed with a type parameter and two typed with Object.\n",
    "\n",
    "Name them `allIdenticalT`, `allIdenticalO`, `allEqualT` and `allEqualO`. \n",
    "Stubs for the first and last are provided. For the second and third, just the interface is provided."
   ]
  },
  {
   "cell_type": "code",
   "execution_count": 3,
   "id": "ac34ae5e-4827-4230-be2d-9549e416ec16",
   "metadata": {
    "tags": []
   },
   "outputs": [],
   "source": [
    "<T> boolean allIdenticalT(T a0, T a1, T a2) {\n",
    "    \n",
    "    boolean r = false; // Which default makes your code simpler?\n",
    "    \n",
    "    // Add code here to set r using ==.\n",
    "        \n",
    "    return r;\n",
    "}"
   ]
  },
  {
   "cell_type": "code",
   "execution_count": null,
   "id": "b2b95826-9a31-4a17-aeb1-3b7c74bdf3db",
   "metadata": {},
   "outputs": [],
   "source": [
    "boolean allIdenticalO(Object a0, Object a1, Object a2)"
   ]
  },
  {
   "cell_type": "code",
   "execution_count": null,
   "id": "64de14b5-7a1e-4b11-8ddc-1f2be1e5af73",
   "metadata": {},
   "outputs": [],
   "source": [
    "<T> boolean allEqualT(T a0, T a1, T a2)"
   ]
  },
  {
   "cell_type": "code",
   "execution_count": 148,
   "id": "ee97a28d-2e2b-413b-8d25-c4e96450d439",
   "metadata": {},
   "outputs": [],
   "source": [
    "boolean allEqualO(Object a0, Object a1, Object a2) {\n",
    "    \n",
    "    boolean r = false;\n",
    "    \n",
    "    // Add code here to set r using equals().\n",
    "\n",
    "    return r;\n",
    "}"
   ]
  },
  {
   "cell_type": "markdown",
   "id": "44895295-9b63-401c-9d30-2dc9d9e337f7",
   "metadata": {},
   "source": [
    "Can you find any differences in the behaviour of the four procedures using instances of empty classes? Here are some classes and objects to play with."
   ]
  },
  {
   "cell_type": "code",
   "execution_count": 121,
   "id": "d8496291-de5e-4a16-af35-969844d683d9",
   "metadata": {},
   "outputs": [],
   "source": [
    "class Node { }\n",
    "Node x = new Node();\n",
    "Node y = new Node();\n",
    "\n",
    "class Element { }\n",
    "Element a = new Element();\n",
    "Element b = new Element();"
   ]
  },
  {
   "cell_type": "code",
   "execution_count": 122,
   "id": "9a9d28d7-fe80-42b9-aaef-500c565963e0",
   "metadata": {},
   "outputs": [],
   "source": [
    "Object t0 = x, t1 = x, t2 = a; // Try different objects for t0, t1 and t2."
   ]
  },
  {
   "cell_type": "code",
   "execution_count": 123,
   "id": "c6c4b1c5-89d8-4094-8a26-6d7a0f363a07",
   "metadata": {},
   "outputs": [
    {
     "data": {
      "text/plain": [
       "true"
      ]
     },
     "execution_count": 123,
     "metadata": {},
     "output_type": "execute_result"
    }
   ],
   "source": [
    "allIdenticalT(t0, t1, t2) "
   ]
  },
  {
   "cell_type": "code",
   "execution_count": 124,
   "id": "fee6fdb9-1e55-4048-846c-31f00ea27759",
   "metadata": {},
   "outputs": [
    {
     "data": {
      "text/plain": [
       "true"
      ]
     },
     "execution_count": 124,
     "metadata": {},
     "output_type": "execute_result"
    }
   ],
   "source": [
    "allIdenticalO(t0, t1, t2)"
   ]
  },
  {
   "cell_type": "code",
   "execution_count": 125,
   "id": "1ec39036-0787-4d10-9254-ce298ebe9317",
   "metadata": {},
   "outputs": [
    {
     "data": {
      "text/plain": [
       "true"
      ]
     },
     "execution_count": 125,
     "metadata": {},
     "output_type": "execute_result"
    }
   ],
   "source": [
    "allEqualT(t0, t1, t2)"
   ]
  },
  {
   "cell_type": "code",
   "execution_count": 126,
   "id": "a727a84d-2f75-40a6-ace9-75d4a57ad7d8",
   "metadata": {},
   "outputs": [
    {
     "data": {
      "text/plain": [
       "true"
      ]
     },
     "execution_count": 126,
     "metadata": {},
     "output_type": "execute_result"
    }
   ],
   "source": [
    "allEqualO(t0, t1, t2)"
   ]
  },
  {
   "cell_type": "markdown",
   "id": "5dfc5bb2-69c4-4237-a932-14008fea509e",
   "metadata": {},
   "source": [
    "Notice that, with the class String (which is not at all empty), identically and equality behave differently. "
   ]
  },
  {
   "cell_type": "code",
   "execution_count": 4,
   "id": "cbb65c46-7635-4c3a-ada7-5d37c2ca2820",
   "metadata": {},
   "outputs": [],
   "source": [
    "String s1 = new String(\"s\");\n",
    "String s2 = new String(\"s\");"
   ]
  },
  {
   "cell_type": "code",
   "execution_count": 5,
   "id": "19aea9f7-19b5-47ef-b7d1-8ec41c5bb2df",
   "metadata": {},
   "outputs": [
    {
     "data": {
      "text/plain": [
       "false"
      ]
     },
     "execution_count": 5,
     "metadata": {},
     "output_type": "execute_result"
    }
   ],
   "source": [
    "allIdenticalT(s1, s1, s2) // Should give false."
   ]
  },
  {
   "cell_type": "code",
   "execution_count": 129,
   "id": "cdcdaf8a-27a2-4e70-9101-0e23e8cdd449",
   "metadata": {
    "tags": []
   },
   "outputs": [
    {
     "data": {
      "text/plain": [
       "true"
      ]
     },
     "execution_count": 129,
     "metadata": {},
     "output_type": "execute_result"
    }
   ],
   "source": [
    "allEqualT(s1, s1, s2) // Should give true."
   ]
  },
  {
   "cell_type": "markdown",
   "id": "d11d72b0-47be-4e11-b990-d609857c139b",
   "metadata": {},
   "source": [
    "### L2.2 - All Different\n",
    "\n",
    "Write a procedure `allUnequal` that returns true iff all three arguments are unequal (no two are equal).\n",
    "\n",
    "You may type your procedure with a variable type T or with the universal super-class Object, your choice."
   ]
  },
  {
   "cell_type": "code",
   "execution_count": 130,
   "id": "a4acac19-ac7f-44c9-89f1-cdb70b25e6aa",
   "metadata": {},
   "outputs": [],
   "source": [
    "<T> boolean allUnequal(T a0, T a1, T a2) {\n",
    "    \n",
    "    boolean r = ? // Which default makes your code simpler?\n",
    "    \n",
    "    // Add code here to set r using equals or !equals.\n",
    "        \n",
    "    return r;\n",
    "}"
   ]
  },
  {
   "cell_type": "markdown",
   "id": "79407b9f-9aa0-40e4-b647-9ea84dd8782f",
   "metadata": {
    "jp-MarkdownHeadingCollapsed": true,
    "tags": []
   },
   "source": [
    "## Lab Check\n",
    "\n",
    "For the Lab Check you will be asked to write a procedure that takes an array of objects \n",
    "and returns true iff the elements of the array are all distinct (no two are identical). \n",
    "This requires a for-loop in a for-loop.\n",
    "\n",
    "To prepare for the closed-book Tests, try your best to do the Lab Check entirely from your head, without talking to anyone or looking at anything else and certainly without cut-and-pasting from anywhere.\n",
    "\n",
    "[Lab Check 2](https://qmplus.qmul.ac.uk/mod/quiz/view.php?id=2176376)\n",
    "\n",
    "If you are unable to pass the Lab Check Quiz, see a demonstrator to pass a Lab Check Viva and have your name taken down for credit."
   ]
  },
  {
   "cell_type": "markdown",
   "id": "5d122f74-b49c-4c30-b610-0b6efb48a29a",
   "metadata": {
    "tags": []
   },
   "source": [
    "## Work Proper\n",
    "Now that you are warmed up, have a go with the following exercises. \n",
    "\n",
    "Do as much as you can and then **please do the [Lab Survey](https://qmplus.qmul.ac.uk/mod/questionnaire/view.php?id=2176439) before leaving**."
   ]
  },
  {
   "cell_type": "markdown",
   "id": "8f0460f1-32b5-48ea-bf33-e900349526c3",
   "metadata": {},
   "source": [
    "### L2.3 The Birthday Paradox\n",
    "\n",
    "Write a procedure `twoEqual` that takes an array and returns true iff at least two elements are equal. "
   ]
  },
  {
   "cell_type": "code",
   "execution_count": 12,
   "id": "61654dc7-6ef9-4a04-ab91-7c80f27a94c1",
   "metadata": {},
   "outputs": [],
   "source": [
    "<T> boolean twoEqual(T[] a) {\n",
    "    boolean r = false;\n",
    "       \n",
    "    // Loop that geos through the places of a.\n",
    "        // Loop that goes through the places of a _stricly_below the current place.\n",
    "            // Set r true if the two places are equal.\n",
    "        \n",
    "    return r;\n",
    "}"
   ]
  },
  {
   "cell_type": "code",
   "execution_count": 37,
   "id": "76891d82-9ad7-4619-95f9-7c92da9255f4",
   "metadata": {},
   "outputs": [
    {
     "data": {
      "text/plain": [
       "true"
      ]
     },
     "execution_count": 37,
     "metadata": {},
     "output_type": "execute_result"
    }
   ],
   "source": [
    "Integer[] testArray = {1, 2, 3, 8, 5, 6, 7, 8, 9}; // Change this to test your procedure.\n",
    "twoEqual(testArray)"
   ]
  },
  {
   "cell_type": "markdown",
   "id": "9fcbd073-b261-4948-896a-183683d5c376",
   "metadata": {},
   "source": [
    "Now let's see if two people in a room have the same birthday. Play with NUMBER_OF_PEOPLE."
   ]
  },
  {
   "cell_type": "code",
   "execution_count": 29,
   "id": "cbea1bce-670f-4a63-bb8d-80164eca9dae",
   "metadata": {},
   "outputs": [
    {
     "data": {
      "text/plain": [
       "true"
      ]
     },
     "execution_count": 29,
     "metadata": {},
     "output_type": "execute_result"
    }
   ],
   "source": [
    "class Birthday { }\n",
    "Birthday[] birthdays = new Birthday[366]; // 366 possible birthdays.\n",
    "for(int i=0;i<birthdays.length;i++) { birthdays[i] = new Birthday();}\n",
    "\n",
    "int NUMBER_OF_PEOPLE = 23; // 23 people in a room.\n",
    "Birthday[] peoplesBirthdays = new Birthday[NUMBER_OF_PEOPLE];\n",
    "for(int i=0;i<peoplesBirthdays.length;i++) {\n",
    "    peoplesBirthdays[i] = birthdays[(new Random()).nextInt(birthdays.length)];\n",
    "}\n",
    "twoEqual(peoplesBirthdays) // How likely is this?"
   ]
  },
  {
   "cell_type": "markdown",
   "id": "390c7a01-5b08-41f9-947e-710eb73ebf55",
   "metadata": {},
   "source": [
    "Let's answer the probability question empirically."
   ]
  },
  {
   "cell_type": "code",
   "execution_count": 34,
   "id": "017bc1bd-9be3-42dc-9b3b-38278a092fdb",
   "metadata": {},
   "outputs": [
    {
     "name": "stdout",
     "output_type": "stream",
     "text": [
      "It happened 50.675 percent of the time.\n"
     ]
    }
   ],
   "source": [
    "int count = 0;\n",
    "for (int n=0; n < 100000; n++) {\n",
    "    for(int i=0;i<peoplesBirthdays.length;i++) {\n",
    "        peoplesBirthdays[i] = birthdays[(new Random()).nextInt(birthdays.length)];\n",
    "    }\n",
    "    if (twoEqual(peoplesBirthdays)) count++;\n",
    "}\n",
    "System.out.println(\"It happened \"+count/1000.0+\" percent of the time.\");"
   ]
  },
  {
   "cell_type": "markdown",
   "id": "1f9445ab-3e85-4453-928c-ff27ba63a142",
   "metadata": {},
   "source": [
    "### Algorithms\n",
    "\n",
    "Now that we've done different (= no two the same), let's do how many different."
   ]
  },
  {
   "cell_type": "markdown",
   "id": "fe9f5fbf-c8d4-4953-90eb-23b72a25abc4",
   "metadata": {
    "tags": []
   },
   "source": [
    "#### L2.4 - Nullifying duplicates\n",
    "\n",
    "Write a procedure `nullifyDuplicates` that takes an array of objects \n",
    "and puts a `null' in place of any element that is equal to an earlier element. For example, given\n",
    "```\n",
    "array = { 2, 3, 2, 5, 2, 5}\n",
    "``` \n",
    "after calling `nullifyDuplicates(array)` the array should contain\n",
    "```\n",
    "{ 2, 3, null, 5, null, null}  \n",
    "```"
   ]
  },
  {
   "cell_type": "code",
   "execution_count": 131,
   "id": "6e8c63d7-98f8-4a01-bbe8-cf519c72373c",
   "metadata": {},
   "outputs": [],
   "source": [
    "<T> void nullifyDuplicates(T[] a) {\n",
    "    \n",
    "    // Loop that goes through a.\n",
    "        // Loop that checks earlier elements.\n",
    "        \n",
    "}"
   ]
  },
  {
   "cell_type": "code",
   "execution_count": 132,
   "id": "620601ae-d86f-4628-9c10-dab5d1b13f97",
   "metadata": {},
   "outputs": [],
   "source": [
    "<T> void printArray(T[] a) {\n",
    "    System.out.print(\"{ \");\n",
    "    for (int i=0;i<a.length;i++) \n",
    "        System.out.print(a[i]+\", \");\n",
    "    System.out.print(\"}\");\n",
    "}"
   ]
  },
  {
   "cell_type": "code",
   "execution_count": 133,
   "id": "5042d59d-9ad9-4920-aeba-e742e57e6aab",
   "metadata": {},
   "outputs": [
    {
     "name": "stdout",
     "output_type": "stream",
     "text": [
      "{ 2, 3, 2, 5, 2, 5, }"
     ]
    }
   ],
   "source": [
    "Integer[] array = { 2, 3, 2, 5, 2, 5};\n",
    "nullifyDuplicates(array);\n",
    "printArray(array)// Should print { 2, 3, null, 5, null, null, }"
   ]
  },
  {
   "cell_type": "markdown",
   "id": "c85a37ca-27f2-4c22-a876-22c0f3987adf",
   "metadata": {},
   "source": [
    "#### L2.5 Count different items\n",
    "\n",
    "Write a procedure `countDifferent` that takes an array \n",
    "and counts how many different (= unequal) elements the array contains.\n",
    "For example, given\n",
    "```\n",
    "array = { \"dua\", \"tiga\", \"dua\", \"dua\", \"dua\", \"lima\"}\n",
    "``` \n",
    "evaluating `countDifferent(array)` should give 3."
   ]
  },
  {
   "cell_type": "code",
   "execution_count": 134,
   "id": "e6151a7a-4d33-41b3-902b-8353dbcaaeaf",
   "metadata": {},
   "outputs": [],
   "source": [
    "<T> int countDifferent(T[] a) {\n",
    "    \n",
    "    int r = a.length;\n",
    "    \n",
    "    // Loop that goes through a.\n",
    "        // Loop that checks earlier elements.\n",
    "    \n",
    "    return r;    \n",
    "}"
   ]
  },
  {
   "cell_type": "code",
   "execution_count": 135,
   "id": "e75e58c0-d891-4fa6-97ab-4cbce376fc09",
   "metadata": {},
   "outputs": [
    {
     "data": {
      "text/plain": [
       "6"
      ]
     },
     "execution_count": 135,
     "metadata": {},
     "output_type": "execute_result"
    }
   ],
   "source": [
    "String[] array = { \"dua\", \"tiga\", \"dua\", \"dua\", \"dua\", \"lima\"};\n",
    "\n",
    "countDifferent(array) // Should print 3."
   ]
  },
  {
   "cell_type": "code",
   "execution_count": 136,
   "id": "6b872d41-d6c4-4697-8c75-8819d7cd6f9b",
   "metadata": {},
   "outputs": [
    {
     "data": {
      "text/plain": [
       "6"
      ]
     },
     "execution_count": 136,
     "metadata": {},
     "output_type": "execute_result"
    }
   ],
   "source": [
    "Double[] array = { 2.0, 3.0, 2.0, 2.0, 2.0, 5.0};\n",
    "\n",
    "countDifferent(array) // Should print 3."
   ]
  },
  {
   "cell_type": "markdown",
   "id": "046a0ceb-e1d3-42e7-89d1-015775eca547",
   "metadata": {},
   "source": [
    "#### L2.6 Remove duplicates\n",
    "\n",
    "Java has some issues with generic code returning arrays (as we saw in Lab 1), \n",
    "so we shall specialise to the empty class Node.\n",
    "\n",
    "Write a procedure `duplicatesRemoved` that takes an array of Node objects \n",
    "and returns a new array containing the same objects but without duplicates.\n",
    "For example, given\n",
    "```\n",
    "Node n0 = new Node(), n1 = new Node(), n2 = new Node();\n",
    "\n",
    "Node[] array = { n2, n1, n2, n1, n2, n0};\n",
    "``` \n",
    "the call `duplicatesRemoved(array)` should return an array equivalent, element-wise, to \n",
    "```\n",
    "{ n2, n1, n0}\n",
    "```"
   ]
  },
  {
   "cell_type": "code",
   "execution_count": 137,
   "id": "25ee6622-2fbf-47d1-8f68-c1eefcce77be",
   "metadata": {},
   "outputs": [],
   "source": [
    "Node[] duplicatesRemoved(Node[] a) {\n",
    "    \n",
    "    final int n = countDifferent(a);\n",
    "    Node[] r = new Node[n];\n",
    "    \n",
    "    // Loop that goes through a.\n",
    "        // Loop that checks earlier elements.\n",
    "    \n",
    "    return r;\n",
    "}"
   ]
  },
  {
   "cell_type": "code",
   "execution_count": 138,
   "id": "47097548-b002-4fdf-9d89-5ad35aa9012b",
   "metadata": {},
   "outputs": [],
   "source": [
    "<T> boolean equalArrays(T[] a, T[] b) {\n",
    "    if (a.length != b.length) return false;\n",
    "    boolean r = true;\n",
    "    for (int i=0;i<a.length;i++) \n",
    "        r = r && a[i] == b[i];\n",
    "    return r;\n",
    "}"
   ]
  },
  {
   "cell_type": "code",
   "execution_count": 139,
   "id": "51f158c2-a2b3-441e-aa2d-8d73c5e8ba24",
   "metadata": {},
   "outputs": [
    {
     "data": {
      "text/plain": [
       "false"
      ]
     },
     "execution_count": 139,
     "metadata": {},
     "output_type": "execute_result"
    }
   ],
   "source": [
    "Node n0 = new Node(), n1 = new Node(), n2 = new Node();\n",
    "Node[] testArray  = { n2, n1, n2, n1, n2, n0};\n",
    "Node[] correctArrayOut = { n2, n1, n0};\n",
    "\n",
    "equalArrays(duplicatesRemoved(testArray), correctArrayOut) // Should print true."
   ]
  },
  {
   "cell_type": "markdown",
   "id": "f20680f0-ab41-4a17-bad8-af4c2c4ab512",
   "metadata": {},
   "source": [
    "#### L2.7 Set equality\n",
    "\n",
    "Write a procedure `equalSetOfElements` that takes two arrays\n",
    "and returns true iff each element in the one is equal to some element in the other and vise versa.\n",
    "For example, given\n",
    "```\n",
    "array1 = { 2, 3, 2, 5, 2, 5};\n",
    "\n",
    "array2 = { 5, 2, 3, 2};\n",
    "``` \n",
    "`equalSetOfElements(array1, array2)` should give true."
   ]
  },
  {
   "cell_type": "code",
   "execution_count": 140,
   "id": "7c041027-f4fc-45f4-92ea-4fb81db2f096",
   "metadata": {},
   "outputs": [],
   "source": [
    "<T> boolean allAmong(T[] a1, T[] a2) {\n",
    "    boolean r = true;\n",
    "    \n",
    "    // Loop that goes through a1.\n",
    "        // Loop that checks if current element of a1 is in a2.\n",
    "        // Set r to false if not in.\n",
    "    \n",
    "    return r;\n",
    "}\n",
    "\n",
    "<T> boolean equalSetOfElements(T[] a1, T[] a2) {\n",
    "    return allAmong(a1,a2) && allAmong(a2,a1);\n",
    "}"
   ]
  },
  {
   "cell_type": "code",
   "execution_count": 141,
   "id": "4d879b7f-a8e5-4a1e-bc38-612473cd9fe5",
   "metadata": {},
   "outputs": [
    {
     "data": {
      "text/plain": [
       "true"
      ]
     },
     "execution_count": 141,
     "metadata": {},
     "output_type": "execute_result"
    }
   ],
   "source": [
    "Integer[] array1 = { 2, 3, 2, 5, 2, 5};\n",
    "\n",
    "Integer[] array2 = { 5, 2, 2};\n",
    "\n",
    "equalSetOfElements(array1,array2); // Should return false."
   ]
  },
  {
   "cell_type": "markdown",
   "id": "775576eb-0118-4a93-8bdd-808521cbb792",
   "metadata": {},
   "source": [
    "We can use `equalSetOfElements` to test `duplicatesRemoved`."
   ]
  },
  {
   "cell_type": "code",
   "execution_count": 146,
   "id": "d87bffba-ea1f-4c7e-967e-c7e2163c4209",
   "metadata": {},
   "outputs": [
    {
     "data": {
      "text/plain": [
       "true"
      ]
     },
     "execution_count": 146,
     "metadata": {},
     "output_type": "execute_result"
    }
   ],
   "source": [
    "Node[] n = {new Node(), new Node(), new Node()};\n",
    "Node[] ta = new Node[5]; for(int i=0;i<5;i++)ta[i]=n[(new Random()).nextInt(3)];\n",
    "\n",
    "equalSetOfElements(duplicatesRemoved(ta), ta) // Should always return true."
   ]
  },
  {
   "cell_type": "markdown",
   "id": "53adc62a-aaea-4c67-b226-ff1e4248c4b5",
   "metadata": {
    "tags": []
   },
   "source": [
    "### Abstraction\n",
    "\n",
    "We replace the `int` of Lab 1 with an empty class."
   ]
  },
  {
   "cell_type": "markdown",
   "id": "d2a225b4-bce3-4e84-8738-0c801d5fffa6",
   "metadata": {},
   "source": [
    "#### L2.8 - Representing truth values\n",
    "\n",
    "In Lab 1 we used the type `int` abstractly. Now we replace `int` with an empty class. Thanks to `new`, we no longer have to worry about winning a lottery. Life is always simpler when you don't have to worry about winning a lottery."
   ]
  },
  {
   "cell_type": "code",
   "execution_count": 38,
   "id": "6d560de9-d2e0-451c-8dfa-731dbe183723",
   "metadata": {
    "tags": []
   },
   "outputs": [],
   "source": [
    "class TruthValue { }\n",
    "TruthValue TRUE = new TruthValue(); // Use a TruthValue to represent true.\n",
    "TruthValue FALSE = new TruthValue(); // Use some other TruthValue to represent false."
   ]
  },
  {
   "cell_type": "markdown",
   "id": "4f58e8d8-1131-4e92-a4d6-4f75690a33e5",
   "metadata": {},
   "source": [
    "Now write a function that converts the TruthValue in TRUE to the string \"true\" and converts the one in FALSE to \"false\". It should return \"NaTV\" on any other TruthValue."
   ]
  },
  {
   "cell_type": "code",
   "execution_count": 39,
   "id": "7393f025-4c20-425c-b958-1da9516da8be",
   "metadata": {
    "tags": []
   },
   "outputs": [],
   "source": [
    "String truthValueToString(TruthValue v) {\n",
    "    String r = \"NaTV\";\n",
    "    \n",
    "    // Go get your code from Lab 1 - it works here becasue it is abstract.\n",
    "    \n",
    "    return r;\n",
    "}"
   ]
  },
  {
   "cell_type": "code",
   "execution_count": 40,
   "id": "1a06fdf9-967e-4fcd-aa4c-252ca003f8c1",
   "metadata": {
    "tags": []
   },
   "outputs": [
    {
     "data": {
      "text/plain": [
       "NaTV"
      ]
     },
     "execution_count": 40,
     "metadata": {},
     "output_type": "execute_result"
    }
   ],
   "source": [
    "truthValueToString(TRUE) // Should evaluate to \"true\"."
   ]
  },
  {
   "cell_type": "code",
   "execution_count": 41,
   "id": "e86fd225-7f8a-4a73-b2d2-b6ec28b54480",
   "metadata": {
    "tags": []
   },
   "outputs": [
    {
     "data": {
      "text/plain": [
       "NaTV"
      ]
     },
     "execution_count": 41,
     "metadata": {},
     "output_type": "execute_result"
    }
   ],
   "source": [
    "truthValueToString(FALSE); // Should evaluate to \"false\"."
   ]
  },
  {
   "cell_type": "code",
   "execution_count": 42,
   "id": "eec18694-197e-41e3-844a-af108b1004b4",
   "metadata": {
    "tags": []
   },
   "outputs": [
    {
     "data": {
      "text/plain": [
       "NaTV"
      ]
     },
     "execution_count": 42,
     "metadata": {},
     "output_type": "execute_result"
    }
   ],
   "source": [
    "truthValueToString(new TruthValue()); // Should print \"NaTV\"."
   ]
  },
  {
   "cell_type": "markdown",
   "id": "41cf7870-3383-4e0f-ac3f-db36560c0da8",
   "metadata": {
    "tags": []
   },
   "source": [
    "#### L2.9 - Boolean operations\n",
    "\n",
    "Write a logical 'and' function and use your `truthValueToString` to check it works."
   ]
  },
  {
   "cell_type": "code",
   "execution_count": 45,
   "id": "a164bda5-a772-49ea-ba0c-587f15f6388c",
   "metadata": {},
   "outputs": [],
   "source": [
    "TruthValue booleanAnd(TruthValue a, TruthValue b) {\n",
    "    \n",
    "    TruthValue r = FALSE; // Or should the default be TRUE?\n",
    "    \n",
    "    // Go get your code from Lab 1 - it works here becasue it is abstract.\n",
    "    \n",
    "    return r;\n",
    "}"
   ]
  },
  {
   "cell_type": "code",
   "execution_count": 46,
   "id": "7c266bee-9c34-4edc-bfc0-f1cc490d606b",
   "metadata": {},
   "outputs": [
    {
     "data": {
      "text/plain": [
       "NaTV"
      ]
     },
     "execution_count": 46,
     "metadata": {},
     "output_type": "execute_result"
    }
   ],
   "source": [
    "truthValueToString(booleanAnd(TRUE, TRUE)) // Should give \"true\"."
   ]
  },
  {
   "cell_type": "code",
   "execution_count": 47,
   "id": "a6ec1247-b46f-4848-856b-09c1ac329e05",
   "metadata": {},
   "outputs": [
    {
     "data": {
      "text/plain": [
       "NaTV"
      ]
     },
     "execution_count": 47,
     "metadata": {},
     "output_type": "execute_result"
    }
   ],
   "source": [
    "truthValueToString(booleanAnd(TRUE, FALSE)) // Should give \"false\"."
   ]
  },
  {
   "cell_type": "code",
   "execution_count": 48,
   "id": "b84bac17-fb9e-48b5-9403-aa643e59704d",
   "metadata": {},
   "outputs": [
    {
     "data": {
      "text/plain": [
       "NaTV"
      ]
     },
     "execution_count": 48,
     "metadata": {},
     "output_type": "execute_result"
    }
   ],
   "source": [
    "truthValueToString(booleanAnd(FALSE, TRUE)) // Should give \"false\"."
   ]
  },
  {
   "cell_type": "code",
   "execution_count": 49,
   "id": "7413f776-7efb-481b-99ba-f0e6a95f23cb",
   "metadata": {},
   "outputs": [
    {
     "data": {
      "text/plain": [
       "NaTV"
      ]
     },
     "execution_count": 49,
     "metadata": {},
     "output_type": "execute_result"
    }
   ],
   "source": [
    "truthValueToString(booleanAnd(FALSE, FALSE)) // Should give \"false\"."
   ]
  },
  {
   "cell_type": "code",
   "execution_count": 51,
   "id": "6fe308ec-52a6-45ee-a15f-490384c02924",
   "metadata": {},
   "outputs": [
    {
     "data": {
      "text/plain": [
       "NaTV"
      ]
     },
     "execution_count": 51,
     "metadata": {},
     "output_type": "execute_result"
    }
   ],
   "source": [
    "truthValueToString(booleanAnd(new TruthValue(), FALSE)) // What should this give? What does it give?"
   ]
  },
  {
   "cell_type": "markdown",
   "id": "37d0c71f-0fbf-4173-942d-860f7a3c52f5",
   "metadata": {
    "tags": []
   },
   "source": [
    "#### L1.10 - Introducing a new truth value\n",
    "\n",
    "Let's provide a representation for a new truth value, MAYBE."
   ]
  },
  {
   "cell_type": "code",
   "execution_count": 52,
   "id": "859cc2a7-ff5e-4cc9-b863-1328d4137869",
   "metadata": {},
   "outputs": [],
   "source": [
    "TruthValue MAYBE = new TruthValue();"
   ]
  },
  {
   "cell_type": "markdown",
   "id": "f1eb1255-4e2b-4671-940b-cd7040bfa7b7",
   "metadata": {},
   "source": [
    "We will need to extend - note the word extend! - our translation to String."
   ]
  },
  {
   "cell_type": "code",
   "execution_count": 53,
   "id": "1d2450af-0582-4aca-b3e3-bc7022ccce9c",
   "metadata": {},
   "outputs": [],
   "source": [
    "String truthValueToString(TruthValue v) {\n",
    "    String r = \"NaTV\";\n",
    "    \n",
    "    // Go get your code from Lab 1 - it works here becasue it is abstract.\n",
    "     \n",
    "    return r;\n",
    "}"
   ]
  },
  {
   "cell_type": "markdown",
   "id": "a204fa64-2e97-4d4c-8c0b-5577dbf01768",
   "metadata": {},
   "source": [
    "Did you write your code for `booleanAnd` in a way that makes the tests below behave as you would expect for MAYBE?"
   ]
  },
  {
   "cell_type": "code",
   "execution_count": 54,
   "id": "0632150a-04fd-44c3-9ada-5b747da32fd4",
   "metadata": {},
   "outputs": [
    {
     "data": {
      "text/plain": [
       "NaTV"
      ]
     },
     "execution_count": 54,
     "metadata": {},
     "output_type": "execute_result"
    }
   ],
   "source": [
    "truthValueToString(booleanAnd(MAYBE, TRUE)) // What does this give? What should it give?"
   ]
  },
  {
   "cell_type": "code",
   "execution_count": 55,
   "id": "d60b7389-21ca-40c0-894e-6f1b6fd19024",
   "metadata": {},
   "outputs": [
    {
     "data": {
      "text/plain": [
       "NaTV"
      ]
     },
     "execution_count": 55,
     "metadata": {},
     "output_type": "execute_result"
    }
   ],
   "source": [
    "truthValueToString(booleanAnd(TRUE, MAYBE)) // What does this give? What should it give?"
   ]
  },
  {
   "cell_type": "code",
   "execution_count": 55,
   "id": "b8cb06eb",
   "metadata": {},
   "outputs": [
    {
     "data": {
      "text/plain": [
       "NaTV"
      ]
     },
     "execution_count": 55,
     "metadata": {},
     "output_type": "execute_result"
    }
   ],
   "source": [
    "truthValueToString(booleanAnd(MAYBE, FALSE)) // What does this give? What should it give?"
   ]
  },
  {
   "cell_type": "code",
   "execution_count": 55,
   "id": "229b043f",
   "metadata": {},
   "outputs": [
    {
     "data": {
      "text/plain": [
       "NaTV"
      ]
     },
     "execution_count": 55,
     "metadata": {},
     "output_type": "execute_result"
    }
   ],
   "source": [
    "truthValueToString(booleanAnd(FALSE, MAYBE)) // What does this give? What should it give?"
   ]
  },
  {
   "cell_type": "markdown",
   "id": "9fcaf82f-0460-464e-ace9-f3bc5f4760b1",
   "metadata": {},
   "source": [
    "#### L2.11 - A node class for the states of a FSA\n",
    "\n",
    "Now that you have seen how to use an empty class in place of `int`, \n",
    "rewrite the class FSA from ECS421U Automata and Formal Languages using the emtpy class Node (below) in place of `int` for the states of an automaton."
   ]
  },
  {
   "cell_type": "code",
   "execution_count": null,
   "id": "413a607e-0d89-4153-93fe-f3ee9a4b712b",
   "metadata": {},
   "outputs": [],
   "source": [
    "class Node { }"
   ]
  },
  {
   "cell_type": "markdown",
   "id": "6fc19c7f-102f-4652-bc3c-2f25b4b38a39",
   "metadata": {},
   "source": [
    "In class FSA, replace\n",
    "```\n",
    "        public int numStates;\n",
    "        public String alphabet[];\n",
    "        public Transition delta[];\n",
    "        public int finalStates[];\n",
    "```\n",
    "with\n",
    "```\n",
    "        public Node states[];\n",
    "        public String alphabet[];\n",
    "        public Transition delta[];\n",
    "        public Node initialState;\n",
    "        public Node finalStates[];\n",
    "```\n",
    "and replace \n",
    "```\n",
    "        public FSA(int n, String[] a, Transition[] d, int[] f)\n",
    "        {\n",
    "            numStates = n;\n",
    "            alphabet = a;\n",
    "            finalStates = f;\n",
    "            delta = d;\n",
    "        }\n",
    "```\n",
    "with\n",
    "```\n",
    "        public FSA(int n, String[] a, Transition[] d, int[] f)\n",
    "        {\n",
    "            states = new Node[n];\n",
    "            alphabet = a;\n",
    "            initialState = states[0]\n",
    "            finalStates = f;\n",
    "            delta = d;\n",
    "        }\n",
    "```\n",
    "adjusting the rest of code to fit \n",
    "(including the class Transition, which will use `Node` in place of `int`).\n",
    "\n",
    "The next step would be to replace the checks with \n",
    "```\n",
    "        public FSA()\n",
    "        {\n",
    "            states = new Node[1];\n",
    "            alphabet = new String[0];\n",
    "            initialState = states[0]\n",
    "            finalStates = new Node[0];\n",
    "            delta = new Transition[0];\n",
    "        }\n",
    "```\n",
    "together with 'add' methods, such as\n",
    "```\n",
    "addTransition(Transition e) {...}\n",
    "```\n",
    "so that there is no way to create an invalid FSA in the first place.\n",
    "\n",
    "It's a whole little project. If there is interest, we can run a tutorial - let us know on the Lab Survey."
   ]
  },
  {
   "cell_type": "code",
   "execution_count": null,
   "id": "9feafdbd-f449-4910-8c1f-55e94939c281",
   "metadata": {},
   "outputs": [],
   "source": []
  }
 ],
 "metadata": {
  "kernelspec": {
   "display_name": "Java",
   "language": "java",
   "name": "java"
  },
  "language_info": {
   "codemirror_mode": "java",
   "file_extension": ".jshell",
   "mimetype": "text/x-java-source",
   "name": "Java",
   "pygments_lexer": "java",
   "version": "11.0.8+10-LTS"
  }
 },
 "nbformat": 4,
 "nbformat_minor": 5
}
