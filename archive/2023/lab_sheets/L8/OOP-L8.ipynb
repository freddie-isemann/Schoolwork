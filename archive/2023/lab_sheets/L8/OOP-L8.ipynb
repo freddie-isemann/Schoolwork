{
 "cells": [
  {
   "cell_type": "markdown",
   "id": "b5437322-7f6b-43cd-bf1d-80ddbc60576b",
   "metadata": {},
   "source": [
    "# Lab Sheet 8"
   ]
  },
  {
   "attachments": {},
   "cell_type": "markdown",
   "id": "5cfd57fe-e286-4b23-91d9-acd6efcdfa47",
   "metadata": {},
   "source": [
    "The purpose of this lab is to allow you to make use of the basics of Java that you have learned in the first part of the module. We will write a rudimentary implementation of the [M,n,k-game](https://en.wikipedia.org/wiki/M,n,k-game). This is a generalization of the usual noughts-and-crosses (or tic-tac-toe) that is played on a grid with `m` rows, `n` columns, and where you need to put `k` X's (or O's) in a row/column/diagonal to win. \n",
    "\n",
    "To this end, we are going to write three classes: \n",
    "\n",
    "1. `Index`, \n",
    "2. `Grid`,\n",
    "3. `Position`. \n",
    "\n",
    "The ultimate aim of the lab is to write a method `boolean winFor(Player p)` in the class `Position`, that will, of course, return true if the position is a win for player `p`. \n",
    "\n",
    "Please don't forget to answer the [questionnaire](https://qmplus.qmul.ac.uk/mod/questionnaire/complete.php?id=2200932) before leaving. \n",
    "\n",
    "For each exercise, first read the question completely, (perhaps ignoring the hint) and only then have a go at it.\n"
   ]
  },
  {
   "cell_type": "markdown",
   "id": "cb99574f-eb12-4ee2-b647-e798de41239e",
   "metadata": {},
   "source": [
    "## Exercise 1 - the class `Index`"
   ]
  },
  {
   "attachments": {},
   "cell_type": "markdown",
   "id": "94c013cf-9d6a-493c-a340-468d22ff75d0",
   "metadata": {},
   "source": [
    "We will first write the class `Index`. Open the file [Index.java](Index.java). You will see there that this class has two public instance variables called: `row` and `column`. Basically the way that one speaks about a cell in a grid is by saying for example: \"the cell in row 5 and column 2\". The \"row 5, column 2\" is the **index**. In our case, that particular index would be given by the object `new Index(4,1)`. Remember that arrays in java are indexed from `0` to `n-1` where `n` is the length of the array, that is why it is `new Index(4,1)` and not `new Index(5,2)`. \n",
    "\n",
    "Here are the indices for the usual noughts-and-crosses: \n",
    "\n",
    "![img](https://i.ibb.co/QNLNX5N/image.png)\n",
    "\n",
    "\n",
    "In this exercise we have to implement the static method `Index[] upTo(int m, int n)` . \n",
    "\n",
    "The method `upTo` should return **an array of size `m*n` of objects of class `Index`**. (remember that to create such an array we write `Index[] ret = new Index[m*n]`). The array that the method returns must contain all possible indices where the `row` variable is smaller than `m` and the `column` variable is smaller than `n`. Here are a couple of examples: "
   ]
  },
  {
   "cell_type": "raw",
   "id": "2af15651-ba71-4270-98ae-ae93b058bb40",
   "metadata": {},
   "source": [
    "upTo(3,3) should return the following array: \n",
    "\n",
    "[\n",
    "Index(0,0), \n",
    "Index(0,1), \n",
    "Index(0,2), \n",
    "Index(1,0), \n",
    "Index(1,1), \n",
    "Index(1,2), \n",
    "Index(2,0), \n",
    "Index(2,1), \n",
    "Index(2,2), \n",
    "]\n",
    "\n",
    "\n",
    "upTo(3,2) should return the following array:\n",
    "[\n",
    "Index(0,0), \n",
    "Index(0,1),\n",
    "Index(1,0),\n",
    "Index(1,1),\n",
    "Index(2,0),\n",
    "Index(2,1),\n",
    "]"
   ]
  },
  {
   "cell_type": "markdown",
   "id": "73de4814-6550-4510-84d9-291141101468",
   "metadata": {},
   "source": [
    "I have added the file [IndexTest.java](IndexTest.java) which contains a simple test of this method. \n",
    "\n",
    "Use the terminal, first go to the `L8` directory and then compile all the files `javac *.java` and run `java IndexTest`. If you have implemented the method correctly this should output:"
   ]
  },
  {
   "cell_type": "raw",
   "id": "0bdd5546-1526-495b-993d-e03d243860a8",
   "metadata": {},
   "source": [
    "jovyan@jupyter-eey675:~/teaching_material/ECS414U/jupyter_notebooks/lab_sheets/L8$ java IndexTest\n",
    "(0, 0)\n",
    "(0, 1)\n",
    "(1, 0)\n",
    "(1, 1)\n",
    "(2, 0)\n",
    "(2, 1)\n",
    "jovyan@jupyter-eey675:~/teaching_material/ECS414U/jupyter_notebooks/lab_sheets/L8$"
   ]
  },
  {
   "cell_type": "markdown",
   "id": "45872a7c-f42d-42c7-a31d-1c8111924dfc",
   "metadata": {},
   "source": [
    "<span style=\"color:red\"> Hint: </span> Use two nested `for` loops, one with `i` going from `0` to `m` and the other with `j` going from `0` to `n`. Inside which you do `ret[i*n+j]=...` where `ret` is the array that you are going to return"
   ]
  },
  {
   "cell_type": "markdown",
   "id": "c9649ad2-3b3e-42cb-9af2-7a2236d97b07",
   "metadata": {},
   "source": [
    "<span style=\"color:red\"> Common error: </span> If you get an `ArrayIndexOutOfBoundsException` it means that you are accessing out of the bounds of the array, for example: "
   ]
  },
  {
   "cell_type": "code",
   "execution_count": 20,
   "id": "cdee2bdb-1af7-4563-af65-1db93198f450",
   "metadata": {
    "vscode": {
     "languageId": "java"
    }
   },
   "outputs": [
    {
     "ename": "EvalException",
     "evalue": "Index 5 out of bounds for length 5",
     "output_type": "error",
     "traceback": [
      "\u001b[1m\u001b[31m---------------------------------------------------------------------------\u001b[0m",
      "\u001b[1m\u001b[31mjava.lang.ArrayIndexOutOfBoundsException: Index 5 out of bounds for length 5\u001b[0m",
      "\u001b[1m\u001b[31m\tat .(#37:1)\u001b[0m"
     ]
    }
   ],
   "source": [
    "int[] is = new int[5];\n",
    "is[5] = 2;"
   ]
  },
  {
   "cell_type": "markdown",
   "id": "7f985e79-afdd-4715-bd32-5958218cfb74",
   "metadata": {},
   "source": [
    "## Exercise 2 - Arrays of arrays"
   ]
  },
  {
   "cell_type": "markdown",
   "id": "11f54e5a-20d9-41a0-8d39-9912aac9f321",
   "metadata": {},
   "source": [
    "Up to now we have been indexing arrays as follows:"
   ]
  },
  {
   "cell_type": "code",
   "execution_count": 10,
   "id": "bd1e7d56-da38-49cd-b572-c3dc0d4e7af4",
   "metadata": {
    "vscode": {
     "languageId": "java"
    }
   },
   "outputs": [
    {
     "name": "stdout",
     "output_type": "stream",
     "text": [
      "0\n",
      "2\n",
      "4\n",
      "6\n",
      "8\n"
     ]
    }
   ],
   "source": [
    "int[] xs = new int[5];\n",
    "\n",
    "for(int i = 0; i < xs.length; i++)\n",
    "    xs[i] = i*2;\n",
    "\n",
    "for(int i = 0; i < xs.length; i++)\n",
    "    System.out.println(xs[i]); "
   ]
  },
  {
   "cell_type": "markdown",
   "id": "2ba729f0-969b-4979-bdea-2b4bc86a1bba",
   "metadata": {},
   "source": [
    "But Java also has this very nice syntax to do the same thing:"
   ]
  },
  {
   "cell_type": "code",
   "execution_count": 11,
   "id": "9423fa28-1ae5-4211-9d9d-3f3ad649e207",
   "metadata": {
    "vscode": {
     "languageId": "java"
    }
   },
   "outputs": [
    {
     "name": "stdout",
     "output_type": "stream",
     "text": [
      "0\n",
      "2\n",
      "4\n",
      "6\n",
      "8\n"
     ]
    }
   ],
   "source": [
    "for(int x : xs) {\n",
    "    System.out.println(x);\n",
    "}"
   ]
  },
  {
   "cell_type": "markdown",
   "id": "a2bd055c-86c4-4190-9063-0ea9c2d31fee",
   "metadata": {},
   "source": [
    "The two code fragments above have the same meaning but the second one is simpler, so we will be using that, when we can, from now on. So to repeat the syntax is: `for (T x : xs)` which means \"for every `x` in the array `xs` ...\" , where `T` is any type, and `xs` is of type `T[]`. Here is another example: "
   ]
  },
  {
   "cell_type": "code",
   "execution_count": 16,
   "id": "4e8685fe-e1e5-4699-9473-3e5044ad85ef",
   "metadata": {
    "vscode": {
     "languageId": "java"
    }
   },
   "outputs": [
    {
     "name": "stdout",
     "output_type": "stream",
     "text": [
      "Hello,\n",
      "I\n",
      "hope\n",
      "you\n",
      "are\n",
      "doing\n",
      "well.\n"
     ]
    }
   ],
   "source": [
    "String[] words = {\"Hello,\", \"I\", \"hope\", \"you\", \"are\", \"doing\", \"well.\"};\n",
    "for(String w : words)\n",
    "    System.out.println(w);"
   ]
  },
  {
   "cell_type": "markdown",
   "id": "b46bf982-d77b-4dbb-a05b-8a5d3f9ddc55",
   "metadata": {},
   "source": [
    "It is typically better for reading an array than for writing on it. "
   ]
  },
  {
   "cell_type": "markdown",
   "id": "f021e499-554d-4fda-b68a-be1e632d2e7b",
   "metadata": {},
   "source": [
    "In Java we can have **arrays of arrays**. Here is an example:"
   ]
  },
  {
   "cell_type": "code",
   "execution_count": 22,
   "id": "fa510ba7-0703-48e2-8981-f45a92ffcbf5",
   "metadata": {
    "vscode": {
     "languageId": "java"
    }
   },
   "outputs": [
    {
     "name": "stdout",
     "output_type": "stream",
     "text": [
      "We have: 23\n",
      "We have: 23\n",
      "We have: 23\n",
      "We have: 23\n",
      "We have: 23\n",
      "We have: 23\n"
     ]
    }
   ],
   "source": [
    "int[][] xss = new int[2][3];\n",
    "\n",
    "// fill this grid/matrix/array of arrays of ints with the number '23'\n",
    "for(int i = 0; i < 2; i++) {\n",
    "    for(int j = 0; j < 3; j++) {\n",
    "        xss[i][j] = 23; \n",
    "    }\n",
    "}\n",
    "\n",
    "// Print the contents of the array \n",
    "\n",
    "// Pay attention to the following line. Remember that xss[0], xss[1], ... are arrays themselves,\n",
    "// hence the syntax int[] xs : xss\n",
    "for(int[] xs : xss) { \n",
    "    for(int x : xs) {\n",
    "        System.out.println(\"We have: \" + x);\n",
    "    }\n",
    "}\n"
   ]
  },
  {
   "cell_type": "markdown",
   "id": "e5275faa-7cb1-4769-a2ae-404cd9f665dd",
   "metadata": {},
   "source": [
    "For this exercise, declare and initialize an array `String[][] wss` of sizes `[2][3]`, as above, and populate it with strings that say \"in row `x`, and column `y`\" (where `x` and `y` are of course the indices) such that the code below gives that expected output.\n",
    "\n",
    "(use the static method `Integer.toString( ... )` to turn an `int` to a `String`.)"
   ]
  },
  {
   "cell_type": "code",
   "execution_count": 3,
   "id": "36ced902-d82b-4bac-ba0b-bae9ed1b6a7e",
   "metadata": {
    "vscode": {
     "languageId": "java"
    }
   },
   "outputs": [],
   "source": [
    "// write code here"
   ]
  },
  {
   "cell_type": "code",
   "execution_count": 4,
   "id": "d1aac69a-d844-43a3-97a6-ed5d3d50edca",
   "metadata": {
    "vscode": {
     "languageId": "java"
    }
   },
   "outputs": [
    {
     "name": "stdout",
     "output_type": "stream",
     "text": [
      "in row 0, and column 0\n",
      "in row 0, and column 1\n",
      "in row 0, and column 2\n",
      "in row 1, and column 0\n",
      "in row 1, and column 1\n",
      "in row 1, and column 2\n"
     ]
    }
   ],
   "source": [
    "for(String[] ws: wss) {\n",
    "    for(String w : ws) {\n",
    "        System.out.println(w);\n",
    "    }\n",
    "}"
   ]
  },
  {
   "cell_type": "markdown",
   "id": "22877d46-9f90-4a2d-b2e5-eee314107244",
   "metadata": {},
   "source": [
    "## Lab check"
   ]
  },
  {
   "attachments": {},
   "cell_type": "markdown",
   "id": "d09cc5b1-cc87-47a8-9b07-0c1581a9615c",
   "metadata": {},
   "source": [
    "Do the [lab check](https://qmplus.qmul.ac.uk/mod/quiz/view.php?id=2200282). "
   ]
  },
  {
   "cell_type": "markdown",
   "id": "5965c32f-3958-4e76-b3b4-539622ebc444",
   "metadata": {},
   "source": [
    "## Exercise 3 - the class `Grid`"
   ]
  },
  {
   "cell_type": "markdown",
   "id": "ba9c4c92-8f54-4386-a252-7660cb6fa24e",
   "metadata": {},
   "source": [
    "Open the file [Grid.java](Grid.java). Here is a brief description of what you will find in this file:\n",
    "- `enum Cell {...}`\n",
    "    \n",
    "    a variable of type `Cell` can have only one of the three possible values `Cell.X`, `Cell.O`, or `Cell.Empty`. You can use it for example like this `Cell c = Cell.X;` or `if(c == Cell.O)` .\n",
    "    \n",
    "- Inside the class `Grid` we see that it has three private fields:\n",
    "\n",
    "    - `int m` : the number of rows the grid has,\n",
    "    - `int n` : the number of columns the grid has,\n",
    "    - `Cell[][] cs` : an array of arrays of type `Cell` constituting the actual elements of the grid.\n",
    "    \n",
    "- You will see that I have also implemented some methods in this class\n",
    "\n",
    "    - A constructor `Grid(int m, int n)` that initializes `cs` to `Cell.Empty`.\n",
    "    - A default constructor that makes the 3 by 3 grid\n",
    "    - a `set` and `get` method that puts (respectively gets) cells from the grid, note that they take an `Index` object as an argument.\n",
    "    - and a `toString()` method that helps us print the grid."
   ]
  },
  {
   "cell_type": "markdown",
   "id": "aba85c95-3960-4837-a32b-3726e1f4d9b5",
   "metadata": {},
   "source": [
    "Now if you have implemented the method `upTo()` in the first exercise correctly, if you do `javac *.java` and `java GridTest` it should give you the following output:"
   ]
  },
  {
   "cell_type": "raw",
   "id": "076af8a5-2409-4a8d-8aae-33c4f2ec3dc4",
   "metadata": {},
   "source": [
    "jovyan@jupyter-eey675:~/teaching_material/ECS414U/jupyter_notebooks/lab_sheets/L8$ java GridTest\n",
    "X _ _ \n",
    "_ _ _ \n",
    "_ _ _ \n",
    "\n",
    "jovyan@jupyter-eey675:~/teaching_material/ECS414U/jupyter_notebooks/lab_sheets/L8$ "
   ]
  },
  {
   "cell_type": "markdown",
   "id": "2527a874-4ebc-4452-8630-e08dbe10a387",
   "metadata": {},
   "source": [
    "Take a biref look at the file [GridTest.java](GridTest.java) to see how the `set()` method  has been used."
   ]
  },
  {
   "cell_type": "markdown",
   "id": "d52cd150-e2c8-4694-9b38-8f151cfc54b0",
   "metadata": {},
   "source": [
    "In this exercise you will implement a public method of the class `Grid`, with the signature\n",
    "\n",
    "`Index[][] getVerticals(int k)` \n",
    "\n",
    "It is supposed to return a list (or array) of *all* vertical lines of length `k`. (This method will be used to check whether player X for example has put `k` X's in a vertical line, and we will implement the same for the horizontal lines as well as diagonals.)\n",
    "\n",
    "Here is what I mean by this. Let us suppose that we have a 3 by 3 grid, and suppose that `k=2`. So we want this method to return all the vertical lines of length 2 in the 3 by 3 grid. Here is one such line:\n",
    "\n",
    "![img](https://i.ibb.co/JBYt3bp/image.png)\n",
    "\n",
    "and here is another: \n",
    "\n",
    "![img](https://i.ibb.co/rsr7d8c/image.png)\n",
    "\n",
    "Here are the remaining ones in this grid: \n",
    "\n",
    "![img](https://i.ibb.co/6WGHHHn/image.png) ![img](https://i.ibb.co/vvH4DRL/image.png) ![img](https://i.ibb.co/hY1rNVh/image.png) ![img](https://i.ibb.co/0m2wLwJ/image.png)"
   ]
  },
  {
   "cell_type": "markdown",
   "id": "eae5ed96-bee4-4539-acf1-3fee2a9bcc09",
   "metadata": {},
   "source": [
    "A **line** is an array of indices. For example the first vertical line above is `{new Index(0,0), new Index(1,0)}`, and the last one is `{new Index(1,2), new Index(2,2)}`. The method `getVerticals()` is supposed to give you a list of all vertical lines, i.e. an array of arrays. \n",
    "\n",
    "Here is how I would implement the same method for *horizontal* lines:"
   ]
  },
  {
   "cell_type": "code",
   "execution_count": null,
   "id": "a5435775-88f5-470b-a0a5-ee911a467c1b",
   "metadata": {
    "vscode": {
     "languageId": "java"
    }
   },
   "outputs": [],
   "source": [
    "public Index[][] getHorizontals(int k) {\n",
    "        // Every line is of length 'k', but how many horizontal lines are there? \n",
    "        // To simplify matters just put a safe number like n*m \n",
    "        // there cannot be more lines than this. \n",
    "        Index[][] temporary = new Index[n*m][k];\n",
    "\n",
    "        // count how many horizontal lines we have found\n",
    "        int count = 0;\n",
    "    \n",
    "        // for each index in the grid, check whether there is a horizontal line\n",
    "        // starting from here and going to the right\n",
    "        for(Index i : Index.upTo(m, n)) {\n",
    "            // by by going 'k' steps to the right do we get out of bounds?\n",
    "            if(i.column + k <= n) {\n",
    "                for(int l=0; l<k ; l++)\n",
    "                    temporary[count][l] = new Index(i.row, i.column + l);\n",
    "                count++;\n",
    "            }\n",
    "        }\n",
    "        \n",
    "        // Make an array 'ret' of the right size, and just copy the elements\n",
    "        Index[][] ret = new Index[count][k];\n",
    "        for(Index i : Index.upTo(count, k)) {\n",
    "            ret[i.row][i.column] = temporary[i.row][i.column];\n",
    "        }\n",
    "        return ret;\n",
    "    }"
   ]
  },
  {
   "cell_type": "markdown",
   "id": "0b22292d-8503-4253-a346-973f27f8ba21",
   "metadata": {},
   "source": [
    "Copy & paste this method to the `Grid` class and write your own getVerticals, based on this. If you have done it right, `javac *.java`, `java GridTest2` should give you this output. "
   ]
  },
  {
   "cell_type": "raw",
   "id": "faafcc50-6b09-47ba-a04f-430101417a01",
   "metadata": {},
   "source": [
    "jovyan@jupyter-eey675:~/teaching_material/ECS414U/jupyter_notebooks/lab_sheets/L8$ java GridTest2\n",
    "(0, 0),(1, 0),\n",
    "(0, 1),(1, 1),\n",
    "(0, 2),(1, 2),\n",
    "(1, 0),(2, 0),\n",
    "(1, 1),(2, 1),\n",
    "(1, 2),(2, 2),\n",
    "jovyan@jupyter-eey675:~/teaching_material/ECS414U/jupyter_notebooks/lab_sheets/L8$ "
   ]
  },
  {
   "cell_type": "markdown",
   "id": "8cb222c8-bcab-4650-bd7c-a43d85477f7a",
   "metadata": {},
   "source": [
    "<span style=\"color:red\"> Hint: </span> Basically you have to change two things, one in the `if` when you compare, instead of checking whether you can go `k` steps to the right, you check whether you can go `k` steps down. The other thing you have to change is in the `new Index(...)` bit. "
   ]
  },
  {
   "cell_type": "markdown",
   "id": "58ab66ce-053c-44a7-a06b-77171530d519",
   "metadata": {},
   "source": [
    "## Exercise 4 - the class `Position`"
   ]
  },
  {
   "cell_type": "markdown",
   "id": "fe7aa22b-daad-4b1e-ba47-a4c6395c0652",
   "metadata": {},
   "source": [
    "Before continuing with this exercise open the file [Repetition](Repetition) and copy & paste the two methods defined there (`getDiagonals()`, `getADiagonals()`) to the class `Grid`. (Java can make all this repetition disappear, but we will keep things simple, and perhaps refactor this code at a later lab or exercise.)  "
   ]
  },
  {
   "cell_type": "markdown",
   "id": "c3fdf20e-12f7-4ced-af87-44c37a9fff1f",
   "metadata": {},
   "source": [
    "Having done that, open the file [Position.java](Position.java). \n",
    "\n",
    "We see that the class `Position` is quite simple, it has four instance variables: one holding the grid, two holding the bounds of the grid `m`, and `n` and also variable `k` that keeps the length of the lines we are searching for. It also has some simple constructors. \n",
    "\n",
    "Here we will implement the method \n",
    "\n",
    "`boolean winFor(Cell player)`\n",
    "\n",
    "which is self-explanatory: it returns true if and only if player that represents the cell `player`,  has a horizontal/vertical/diagonal/adiagonal line of length `k`. If `player == Cell.Empty` return `false`. \n",
    "\n",
    "We search for lines in the grid `g` using the methods that we have written in Exercise 3. \n",
    "\n",
    "If you have implemented the method correctly, if you do a `javac *.java` and `java PositionTest` you should get the following output: "
   ]
  },
  {
   "cell_type": "raw",
   "id": "1e553248-c649-4087-b85d-70f2ce733a54",
   "metadata": {},
   "source": [
    "jovyan@jupyter-eey675:~/teaching_material/ECS414U/jupyter_notebooks/lab_sheets/L8$ java PositionTest\n",
    "This position is a win for X?\n",
    "_ _ _ \n",
    "_ _ _ \n",
    "_ _ _ \n",
    "\n",
    "Answer: false\n",
    "This position is a win for X?\n",
    "X _ _ \n",
    "_ X _ \n",
    "_ _ X \n",
    "\n",
    "Answer: true\n",
    "This position is a win for O?\n",
    "X O _ \n",
    "_ O _ \n",
    "_ O X \n",
    "\n",
    "Answer: true\n",
    "jovyan@jupyter-eey675:~/teaching_material/ECS414U/jupyter_notebooks/lab_sheets/L8$"
   ]
  },
  {
   "cell_type": "markdown",
   "id": "cf45baca-b569-4066-83f7-6f124b3af60d",
   "metadata": {},
   "source": [
    "---"
   ]
  },
  {
   "cell_type": "markdown",
   "id": "d90a9bf7-97e6-41c6-86ce-106ba21b5a7e",
   "metadata": {},
   "source": [
    "<center> End of Lab sheet </center>"
   ]
  },
  {
   "cell_type": "markdown",
   "id": "129bee66-0804-4a45-80dd-854a14f24532",
   "metadata": {},
   "source": [
    "---"
   ]
  },
  {
   "cell_type": "markdown",
   "id": "2ca678db-0042-44f7-9825-d0abfa76ae40",
   "metadata": {},
   "source": [
    "## Further discussion"
   ]
  },
  {
   "attachments": {},
   "cell_type": "markdown",
   "id": "aad89241-61ec-4bc7-b52c-5c315b0de9d2",
   "metadata": {},
   "source": [
    "By now you have probably thought about writing a program that can always beat you in this game; And if you have implemented all the methods above you are not very far from it. Here is one way you might proceed, if you are interested. \n",
    "\n",
    "Write a method with the signature (note the overloading)\n",
    "\n",
    "`boolean winFor(Cell player, int moves)`\n",
    "\n",
    "that returns `true` if `player` can win in `moves` number of moves. If `moves == 0` you simply call the method that you have defined above (note that you want the position to be a win for player `player` but *not a win* for his opponent). If `moves > 0` depending on whose turn it is (which you can gather by looking at how many cells are filled with X and how many with O) you can do the following: if it is `player`'s turn, you ask whether there exists a new position `p2` that has an X or O, depending on who `player` is, in one of the empty cells, such that `p2.winFor(player, moves-1)` is true.  If it is the opponents turn, you ask whether *for all* successive positions `p2`, `p2.winFor(player, moves-1)` returns true. (This means that wherever the opponent plays we can still win). \n",
    "\n",
    "If you implement this method correctly, then you can: (a) easily write a program that shows that if both players play perfectly in noughts-and-crosses the result will be a draw, and (b) write a program that plays perfectly in these games. \n",
    "\n",
    "Apparently four years ago, researchers showed that the 8,8,5-game (i.e. one played in a 8 by 8 grid, where you have to make 5 consecutive X's or O's) is also a draw when both players play perfectly. They did this by running (a much more efficient) program ... for three days. "
   ]
  },
  {
   "cell_type": "code",
   "execution_count": null,
   "id": "f4acdf4f-9391-4f04-b183-109e8904110b",
   "metadata": {
    "vscode": {
     "languageId": "java"
    }
   },
   "outputs": [],
   "source": []
  }
 ],
 "metadata": {
  "kernelspec": {
   "display_name": "Java",
   "language": "java",
   "name": "java"
  },
  "language_info": {
   "codemirror_mode": "java",
   "file_extension": ".jshell",
   "mimetype": "text/x-java-source",
   "name": "Java",
   "pygments_lexer": "java",
   "version": "11.0.8+10-LTS"
  }
 },
 "nbformat": 4,
 "nbformat_minor": 5
}
