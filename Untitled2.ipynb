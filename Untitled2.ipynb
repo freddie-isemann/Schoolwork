{
 "cells": [
  {
   "cell_type": "code",
   "execution_count": 10,
   "id": "7df0dc5a-09d6-4b43-be4d-51b2d37becd5",
   "metadata": {},
   "outputs": [],
   "source": [
    "class Wine {\n",
    "    String grape;\n",
    "    int year;\n",
    "    \n",
    "    public Wine (int year, String grape) {\n",
    "        this.year = year;\n",
    "        this.grape = grape;\n",
    "    }\n",
    "\n",
    "    public Wine() {}\n",
    "    \n",
    "    public void setGrape(String grape) {\n",
    "        this.grape = grape;\n",
    "    }\n",
    "    \n",
    "    public void setYear(int year) {\n",
    "        this.year = year;\n",
    "    }\n",
    "    \n",
    "    public String getGrape() {\n",
    "        return grape;\n",
    "    }\n",
    "    \n",
    "    public int getYear() {\n",
    "        return year;\n",
    "    }\n",
    "}"
   ]
  },
  {
   "cell_type": "code",
   "execution_count": 4,
   "id": "6bf54e58-711a-489c-91f5-ce60caaef1bf",
   "metadata": {},
   "outputs": [
    {
     "name": "stdout",
     "output_type": "stream",
     "text": [
      "Syrah\n",
      "2019\n"
     ]
    }
   ],
   "source": [
    "Wine p = new Wine(2019, \"Syrah\");\n",
    "System.out.println(p.getGrape());\n",
    "System.out.println(p.getYear());"
   ]
  },
  {
   "cell_type": "code",
   "execution_count": 9,
   "id": "f2972329-5afb-4c29-bee8-b1170e7f6e2b",
   "metadata": {},
   "outputs": [
    {
     "name": "stdout",
     "output_type": "stream",
     "text": [
      "Syrah\n",
      "2019\n"
     ]
    }
   ],
   "source": [
    "Wine p = new Wine();\n",
    "p.setYear(2019);\n",
    "p.setGrape(\"Syrah\");\n",
    "System.out.println(p.getGrape());\n",
    "System.out.println(p.getYear());"
   ]
  },
  {
   "cell_type": "code",
   "execution_count": 16,
   "id": "fabe235b-fea1-4fd2-8a84-ed3499a0e40f",
   "metadata": {},
   "outputs": [],
   "source": [
    "class Account {\n",
    "    String holder;\n",
    "    int balance;\n",
    "    \n",
    "    public Account(int balance, String holder) {\n",
    "        this.balance = balance;\n",
    "        this.holder = holder;\n",
    "    }\n",
    "    \n",
    "    public String toString() {\n",
    "        String state=\"\";\n",
    "        if(balance >= 0) {\n",
    "            state = \"credit\";\n",
    "        }\n",
    "        else if(balance < 0) {\n",
    "            state = \"debt\";\n",
    "        }\n",
    "        \n",
    "        double pounds = (double) balance / 100;\n",
    "        \n",
    "        String finalString = (holder + \": \" + pounds + \" \" + state);\n",
    "        return finalString;\n",
    "    }\n",
    "}"
   ]
  },
  {
   "cell_type": "code",
   "execution_count": 17,
   "id": "71f64b44-a0c2-4f10-b74c-6239cc2d73be",
   "metadata": {},
   "outputs": [
    {
     "name": "stdout",
     "output_type": "stream",
     "text": [
      "Freddie: 27.51 credit\n"
     ]
    }
   ],
   "source": [
    "Account user = new Account(2751, \"Freddie\");\n",
    "System.out.println(user.toString());"
   ]
  },
  {
   "cell_type": "code",
   "execution_count": 18,
   "id": "d33fd47d-37d2-4c09-83a6-8944eac9a4ee",
   "metadata": {},
   "outputs": [],
   "source": [
    "interface X {\n",
    "    void m();\n",
    "}\n",
    "\n",
    "class A implements X {\n",
    "\n",
    "    public A() {}\n",
    "    \n",
    "    public void m() {\n",
    "        System.out.println(\"in a\");\n",
    "    }\n",
    "}\n",
    "\n",
    "class B implements X {\n",
    "\n",
    "    public B() {}\n",
    "    \n",
    "    public void m() {\n",
    "        System.out.println(\"in b\");\n",
    "    }\n",
    "}"
   ]
  },
  {
   "cell_type": "code",
   "execution_count": 19,
   "id": "91e849b6-ad3e-4a07-a658-9dc3c47c2c47",
   "metadata": {},
   "outputs": [
    {
     "name": "stdout",
     "output_type": "stream",
     "text": [
      "in a\n",
      "in b\n"
     ]
    }
   ],
   "source": [
    "A a = new A();\n",
    "B b = new B();\n",
    "\n",
    "a.m();\n",
    "b.m();"
   ]
  },
  {
   "cell_type": "code",
   "execution_count": 34,
   "id": "3c2e3955-d72e-4de2-bc11-ad7a3e94c7f2",
   "metadata": {},
   "outputs": [],
   "source": [
    "public static void dbl (int[][] numbers) {\n",
    "    for(int i = 0; i < numbers.length; i++) {\n",
    "        for(int j = 0; j < numbers[i].length; j++) {\n",
    "            numbers[i][j] = numbers[i][j] * 2;\n",
    "        }\n",
    "    }\n",
    "}"
   ]
  },
  {
   "cell_type": "code",
   "execution_count": 37,
   "id": "ec90f3f3-5778-46ea-8314-809ef57187a7",
   "metadata": {},
   "outputs": [
    {
     "name": "stdout",
     "output_type": "stream",
     "text": [
      "2 \n",
      "4 \n",
      "6 \n",
      "4 \n",
      "6 \n",
      "2 \n",
      "6 \n",
      "2 \n",
      "4 \n"
     ]
    }
   ],
   "source": [
    "int[][] array = {\n",
    "    {1, 2, 3},\n",
    "    {2, 3, 1},\n",
    "    {3, 1, 2}\n",
    "};\n",
    "\n",
    "dbl(array);\n",
    "\n",
    "for(int row[] : array) {\n",
    "    for(int element : row) {\n",
    "        System.out.println(element + \" \");\n",
    "    }\n",
    "}"
   ]
  },
  {
   "cell_type": "code",
   "execution_count": 3,
   "id": "a1c013a2-bebd-4181-b818-90d6f52d602e",
   "metadata": {},
   "outputs": [],
   "source": [
    "public static <T> boolean noneAmong(T[] arrayOne, T[] arrayTwo) {\n",
    "    for(int i = 0; i < arrayOne.length; i++) {\n",
    "        for(int j = 0; j < arrayTwo.length; j++) {\n",
    "            if(arrayOne[i].equals(arrayTwo[j])) {\n",
    "                return false;\n",
    "            }\n",
    "        }\n",
    "    }\n",
    "    return true;\n",
    "}"
   ]
  },
  {
   "cell_type": "code",
   "execution_count": 5,
   "id": "493d4d94-06f5-4f6d-b0fd-468024d00fb2",
   "metadata": {},
   "outputs": [
    {
     "data": {
      "text/plain": [
       "false"
      ]
     },
     "execution_count": 5,
     "metadata": {},
     "output_type": "execute_result"
    }
   ],
   "source": [
    "Integer[] arrayOne = {1,2,3};\n",
    "Integer[] arrayTwo = {8,5,6,3};\n",
    "\n",
    "noneAmong(arrayOne, arrayTwo);"
   ]
  },
  {
   "cell_type": "code",
   "execution_count": 13,
   "id": "45d20720-8811-48d9-85d1-a7c1f3fe87c1",
   "metadata": {},
   "outputs": [],
   "source": [
    "public static <T> boolean allDisjoint(T[][] sets) {\n",
    "    int counter = 0;\n",
    "    for(int i = 0; i < sets.length-1; i++) {\n",
    "        for(int j = 0; j < sets[i].length; j++) {\n",
    "            for(int k = 0; k < sets[i].length; k++) {\n",
    "                if(sets[i][j].equals(sets[i+1][k])) {\n",
    "                    return false;\n",
    "                }\n",
    "            }\n",
    "        }\n",
    "    }\n",
    "    return true;\n",
    "}"
   ]
  },
  {
   "cell_type": "code",
   "execution_count": 16,
   "id": "2bc416ee-b066-4067-a853-2c08be2b8081",
   "metadata": {},
   "outputs": [
    {
     "data": {
      "text/plain": [
       "true"
      ]
     },
     "execution_count": 16,
     "metadata": {},
     "output_type": "execute_result"
    }
   ],
   "source": [
    "Integer[][] sets = {\n",
    "    {2,4},\n",
    "    {1,1},\n",
    "    {3,3}\n",
    "};\n",
    "\n",
    "allDisjoint(sets);"
   ]
  },
  {
   "cell_type": "code",
   "execution_count": null,
   "id": "1432809d-f803-4b48-ac37-54f9ca90a21e",
   "metadata": {},
   "outputs": [],
   "source": []
  }
 ],
 "metadata": {
  "kernelspec": {
   "display_name": "Java",
   "language": "java",
   "name": "java"
  },
  "language_info": {
   "codemirror_mode": "java",
   "file_extension": ".jshell",
   "mimetype": "text/x-java-source",
   "name": "Java",
   "pygments_lexer": "java",
   "version": "11.0.8+10-LTS"
  }
 },
 "nbformat": 4,
 "nbformat_minor": 5
}
