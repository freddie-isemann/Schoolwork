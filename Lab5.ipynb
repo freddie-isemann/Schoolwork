{
 "cells": [
  {
   "cell_type": "markdown",
   "id": "d38cef6e-ba9b-4e56-a69f-eb5e754433c7",
   "metadata": {},
   "source": [
    "# Lab 5\n",
    "\n",
    "Deadline: **Week 6** in your respective lab session"
   ]
  },
  {
   "cell_type": "markdown",
   "id": "3fd8d6f9-4682-450d-8faf-a4faf17daf50",
   "metadata": {},
   "source": [
    "### Name:\n",
    "### Student ID:"
   ]
  },
  {
   "cell_type": "markdown",
   "id": "60f3bcd4-15de-4b34-ae97-686e63abdbc5",
   "metadata": {},
   "source": [
    "***\n",
    "<span style=\"color: red;\">You should only use things we learned up to this week (week 5), i.e. ArrayLists, HashMaps, Hashtables, etc., are not allowed. If you are unfamiliar with them, you are not expected to at this stage. Some of them will be introduced in future weeks.</span>"
   ]
  },
  {
   "cell_type": "markdown",
   "id": "e59f7f40-2982-4996-b01e-63212844413b",
   "metadata": {},
   "source": [
    "***\n",
    "\n",
    "## Question 1 [1 mark]"
   ]
  },
  {
   "cell_type": "markdown",
   "id": "9a329058-b307-477a-89aa-bed21e076027",
   "metadata": {},
   "source": [
    "Write an interface `SquareDrawer` that contains two methods with return types `void`, `drawSquare` and `drawSpecialSquare`.\n",
    "\n",
    "Write an interface `StairCaseDrawer` which contains one method with return type `void` `drawStairCase`.\n",
    "\n",
    "Write a class `Drawer` with three class variables `sideLength`, `filler`, and `special` of type int, char, and char, respectively. This class should also contain a constructor which takes three parameters and sets fields to these values.\n",
    "\n",
    "Test your code!"
   ]
  },
  {
   "cell_type": "markdown",
   "id": "eb316635-97f3-4c19-bccf-4c6f69b18318",
   "metadata": {},
   "source": [
    "**Write your answer below:**\n"
   ]
  },
  {
   "cell_type": "code",
   "execution_count": 1,
   "id": "c9653abd-09c0-423d-b5ad-f3a50cea0361",
   "metadata": {
    "vscode": {
     "languageId": "java"
    }
   },
   "outputs": [],
   "source": [
    "interface SquareDrawer {\n",
    "    public void drawSquare();\n",
    "    public void drawSpecialSquare();\n",
    "}"
   ]
  },
  {
   "cell_type": "code",
   "execution_count": 2,
   "id": "185983a8-3f44-47d0-9b8d-3a607e704955",
   "metadata": {
    "vscode": {
     "languageId": "java"
    }
   },
   "outputs": [],
   "source": [
    "interface StaircaseDrawer {\n",
    "    public void drawStaircase();\n",
    "}"
   ]
  },
  {
   "cell_type": "code",
   "execution_count": 3,
   "id": "f25c9918-fc3e-4a22-b3ab-107cc49bf0c8",
   "metadata": {
    "vscode": {
     "languageId": "java"
    }
   },
   "outputs": [],
   "source": [
    "class Drawer {\n",
    "    int sideLength;\n",
    "    char filler;\n",
    "    char special;\n",
    "\n",
    "    public Drawer(int sideLength, char filler, char special) {\n",
    "        this.sideLength = sideLength;\n",
    "        this.filler = filler;\n",
    "        this.special = special;\n",
    "    }\n",
    "\n",
    "    public void drawSquare() {\n",
    "        for(int i = 0; i < sideLength; i++) {\n",
    "            for(int j = 0; j < sideLength; j++) {\n",
    "                System.out.print(filler + \" \");\n",
    "            }\n",
    "            System.out.println();\n",
    "        }\n",
    "    }\n",
    "\n",
    "    public void drawSpecialSquare() {\n",
    "        for(int i = 0; i < sideLength; i++) {\n",
    "            for(int j = 0; j < sideLength; j++) {\n",
    "                if(i == 0 || i == sideLength - 1 || j == 0 || j == sideLength - 1) {\n",
    "                    System.out.print(special + \" \");\n",
    "                }\n",
    "                else {\n",
    "                    System.out.print(filler + \" \");\n",
    "                }\n",
    "            }\n",
    "            System.out.println();\n",
    "        }\n",
    "    }\n",
    "\n",
    "    public void drawStaircase() {\n",
    "        for(int i = 0; i < sideLength; i++) {\n",
    "            for(int j = 0; j <= i; j++) {\n",
    "                System.out.print(filler + \" \");\n",
    "            }\n",
    "            System.out.println();\n",
    "        }\n",
    "    }\n",
    "}"
   ]
  },
  {
   "cell_type": "markdown",
   "id": "6fabf667-97b1-4343-96e3-86b4dd65765d",
   "metadata": {},
   "source": [
    "**Run your program:**\n"
   ]
  },
  {
   "cell_type": "code",
   "execution_count": 17,
   "id": "8aa692bb-3548-42a1-9306-11a72fcfbacd",
   "metadata": {
    "vscode": {
     "languageId": "java"
    }
   },
   "outputs": [],
   "source": [
    "class Main1 {\n",
    "    public static void main(String [] args) {\n",
    "        Drawer drawer = new Drawer(5, '#', 'X');\n",
    "\n",
    "        // Draw a square\n",
    "        System.out.println(\"Normal Square\");\n",
    "        drawer.drawSquare();\n",
    "        System.out.println();\n",
    "\n",
    "        // Draw a special square\n",
    "        System.out.println(\"Special Square\");\n",
    "        drawer.drawSpecialSquare();\n",
    "        System.out.println();\n",
    "\n",
    "        // Draw a staircase\n",
    "        System.out.println(\"Staircase\");\n",
    "        drawer.drawStaircase();\n",
    "        System.out.println();\n",
    "    }\n",
    "}"
   ]
  },
  {
   "cell_type": "code",
   "execution_count": 18,
   "id": "8d996a58-931e-4516-97fa-62e61d75d2b6",
   "metadata": {},
   "outputs": [
    {
     "name": "stdout",
     "output_type": "stream",
     "text": [
      "Normal Square\n",
      "# # # # # \n",
      "# # # # # \n",
      "# # # # # \n",
      "# # # # # \n",
      "# # # # # \n",
      "\n",
      "Special Square\n",
      "X X X X X \n",
      "X # # # X \n",
      "X # # # X \n",
      "X # # # X \n",
      "X X X X X \n",
      "\n",
      "Staircase\n",
      "# \n",
      "# # \n",
      "# # # \n",
      "# # # # \n",
      "# # # # # \n",
      "\n"
     ]
    }
   ],
   "source": [
    "Main1.main(null);"
   ]
  },
  {
   "cell_type": "markdown",
   "id": "4a31bb78-6117-412b-92d9-f150ba2ee053",
   "metadata": {},
   "source": [
    "***\n",
    "\n",
    "## Question 2 [1 mark]"
   ]
  },
  {
   "cell_type": "markdown",
   "id": "69e5f1d4-400d-4c56-b3e7-2cfacd1e88fb",
   "metadata": {},
   "source": [
    "Write a class `ShapeDrawer1`, a subclass of a Drawer, and implement the interface `SquareDrawer`.\n",
    "\n",
    "This class should make use of its superclass's constructor.\n",
    "\n",
    "`drawSquare` should print a square out of character stored inside `filler` with a side specified by `sideLength`.\n",
    "\n",
    "For example `drawSquare` where `sideLength = 5` and `filler = '#'` should print out the following:\n",
    "\n",
    "```\n",
    "#####\n",
    "#####\n",
    "#####\n",
    "#####\n",
    "#####\n",
    "```\n",
    "\n",
    "`drawSpecialSquare` should print a square like `drawSquare`, but now diagonals should be made out of characters stored inside `special`.\n",
    "\n",
    "For example `drawSpecialSquare` where `sideLength = 5`, `filler = '#'` and `special = 'X'` should print out the following:\n",
    "\n",
    "```\n",
    "X###X\n",
    "#X#X#\n",
    "##X##\n",
    "#X#X#\n",
    "X###X\n",
    "```\n",
    "\n",
    "You can assume the `sideLength` is always odd.\n",
    "\n",
    "Remember to test your code!\n",
    "\n"
   ]
  },
  {
   "cell_type": "markdown",
   "id": "661ca302-591d-4686-ba0c-09b186a7b981",
   "metadata": {},
   "source": [
    "**Write your answer below:**"
   ]
  },
  {
   "cell_type": "code",
   "execution_count": 6,
   "id": "e6919491-27b6-4393-9147-94dfb863a54d",
   "metadata": {
    "vscode": {
     "languageId": "java"
    }
   },
   "outputs": [],
   "source": [
    "class ShapeDrawer1 extends Drawer implements SquareDrawer {\n",
    "    public ShapeDrawer1(int sidelength, char filler, char special) {\n",
    "        super(sidelength, filler, special);\n",
    "    }\n",
    "\n",
    "     public void drawSquare() {\n",
    "        for(int i = 0; i < sideLength; i++) {\n",
    "            for(int j = 0; j < sideLength; j++) {\n",
    "                System.out.print(filler + \" \");\n",
    "            }\n",
    "            System.out.println();\n",
    "        }\n",
    "    }\n",
    "\n",
    "    public void drawSpecialSquare() {\n",
    "        for(int i = 0; i < sideLength; i++) {\n",
    "            for(int j = 0; j < sideLength; j++) {\n",
    "                if(i == 0 || i == sideLength - 1 || j == 0 || j == sideLength - 1) {\n",
    "                    System.out.print(special + \" \");\n",
    "                }\n",
    "                else {\n",
    "                    System.out.print(filler + \" \");\n",
    "                }\n",
    "            }\n",
    "            System.out.println();\n",
    "        }\n",
    "    }\n",
    "}"
   ]
  },
  {
   "cell_type": "markdown",
   "id": "86678292-eaf1-4144-8540-af5a2897235f",
   "metadata": {},
   "source": [
    "**Run your program:**\n"
   ]
  },
  {
   "cell_type": "code",
   "execution_count": 19,
   "id": "0ad396b2-a91f-474c-bfc3-8c395500544a",
   "metadata": {
    "vscode": {
     "languageId": "java"
    }
   },
   "outputs": [
    {
     "name": "stdout",
     "output_type": "stream",
     "text": [
      "# # # # # \n",
      "# # # # # \n",
      "# # # # # \n",
      "# # # # # \n",
      "# # # # # \n",
      "\n",
      "X X X X X \n",
      "X # # # X \n",
      "X # # # X \n",
      "X # # # X \n",
      "X X X X X \n"
     ]
    }
   ],
   "source": [
    "ShapeDrawer1 shapeDrawer = new ShapeDrawer1(5, '#', 'X');\n",
    "shapeDrawer.drawSquare();\n",
    "System.out.println();\n",
    "shapeDrawer.drawSpecialSquare();"
   ]
  },
  {
   "cell_type": "markdown",
   "id": "f7d78bc4-91d6-4599-9b1b-92f54ad04024",
   "metadata": {},
   "source": [
    "***\n",
    "## Question 3 [1 mark]"
   ]
  },
  {
   "cell_type": "markdown",
   "id": "3c8c2842-016a-4fc3-a860-08725ed30efd",
   "metadata": {},
   "source": [
    "Copy the class from Question 2 and rename `ShapeDrawer1` to `ShapeDrawer2` where appropriate.\n",
    "\n",
    "`ShapeDrawer2` should implement both `SquareDrawer` and `StaircaseDrawer`.\n",
    "\n",
    "The `StairCase` drawer should print out the staircase out of `filler` with each step of size `sideLength` in both dimensions with a number of steps specified by `sideLength`.\n",
    "\n",
    "For example where `sideLength = 5` and `filler = #` should print out the following:\n",
    "```\n",
    "#####\n",
    "#####\n",
    "#####\n",
    "#####\n",
    "#####\n",
    "##########\n",
    "##########\n",
    "##########\n",
    "##########\n",
    "##########\n",
    "###############\n",
    "###############\n",
    "###############\n",
    "###############\n",
    "###############\n",
    "####################\n",
    "####################\n",
    "####################\n",
    "####################\n",
    "####################\n",
    "#########################\n",
    "#########################\n",
    "#########################\n",
    "#########################\n",
    "#########################\n",
    "```\n",
    "\n",
    "Test whether all methods in `ShapeDrawer2` work as expected!\n",
    "\n"
   ]
  },
  {
   "cell_type": "markdown",
   "id": "c5fe0fd0-036e-485c-911a-437f103e1e2f",
   "metadata": {},
   "source": [
    "**Write your answer below:**"
   ]
  },
  {
   "cell_type": "code",
   "execution_count": 20,
   "id": "f765cc02-b3ea-49c6-b3d3-f73526086582",
   "metadata": {
    "vscode": {
     "languageId": "java"
    }
   },
   "outputs": [],
   "source": [
    "// The class declaration below defines ShapeDrawer2 as a subclass, implementing both interfaces SquareDrawer and StaircaseDrawer.\n",
    "\n",
    "class ShapeDrawer2 extends Drawer implements SquareDrawer, StaircaseDrawer {\n",
    "    public ShapeDrawer2(int sidelength, char filler, char special) {\n",
    "        super(sidelength, filler, special);\n",
    "    }\n",
    "\n",
    "    public void drawSquare() {\n",
    "        for(int i = 0; i < sideLength; i++) {\n",
    "            for(int j = 0; j < sideLength; j++) {\n",
    "                System.out.print(filler + \" \");\n",
    "            }\n",
    "            System.out.println();\n",
    "        }\n",
    "    }\n",
    "\n",
    "    // Prints out a staircase\n",
    "    public void drawStaircase() {\n",
    "        // For every element of every row\n",
    "        for (int i = 0; i < sideLength; i++) {\n",
    "            // For every row\n",
    "            for (int j = 0; j < sideLength; j++) {\n",
    "                // For every implementation of sidelength (basically multiplies sidelength by i + 1 so it doubles the width with every iteration)\n",
    "                for(int k = 0; k < (sideLength * (i + 1)); k++) {\n",
    "                    // Prints out a filler char (basically ensuring that it loops over and over and over such that it prints out filler for the number of sidelength x i (the current number of repetitions), and with each new square prints it out an exact number of times\n",
    "                    System.out.print(filler);\n",
    "                }\n",
    "                System.out.println();\n",
    "                if (j == sideLength - 1) {\n",
    "                    break;\n",
    "                }\n",
    "            }\n",
    "        }\n",
    "    }\n",
    "\n",
    "\n",
    "}"
   ]
  },
  {
   "cell_type": "markdown",
   "id": "cbf3c460-6088-4e9f-aced-e51555d57b4e",
   "metadata": {},
   "source": [
    "**Run your program:**\n"
   ]
  },
  {
   "cell_type": "code",
   "execution_count": 21,
   "id": "ac33953a-bc70-4107-924e-511d71686f12",
   "metadata": {
    "vscode": {
     "languageId": "java"
    }
   },
   "outputs": [
    {
     "name": "stdout",
     "output_type": "stream",
     "text": [
      "###\n",
      "###\n",
      "###\n",
      "######\n",
      "######\n",
      "######\n",
      "#########\n",
      "#########\n",
      "#########\n"
     ]
    }
   ],
   "source": [
    "ShapeDrawer2 shapeDrawer2 = new ShapeDrawer2(3, '#', 'X');\n",
    "shapeDrawer2.drawStaircase();"
   ]
  },
  {
   "cell_type": "markdown",
   "id": "f4db984e-b240-4b08-98b2-4950400706c2",
   "metadata": {},
   "source": [
    "***"
   ]
  },
  {
   "cell_type": "markdown",
   "id": "139be293-bfe1-4ded-b6ef-eecf28decfa5",
   "metadata": {},
   "source": [
    "## Question 4 [1 mark]"
   ]
  },
  {
   "cell_type": "markdown",
   "id": "49def47a",
   "metadata": {},
   "source": [
    "You are given three methods below, one for each `String`, `Integer`, and `Boolean`, respectively, that takes two objects and checks whether they store the same value.\n",
    "\n",
    "Write one method that does the same check but works for all types.\n",
    "\n",
    "You are expected to test your code thoroughly!\n",
    "\n",
    "Hint: Use generics."
   ]
  },
  {
   "cell_type": "markdown",
   "id": "e361e947",
   "metadata": {},
   "source": [
    "**Write your answer below:**"
   ]
  },
  {
   "cell_type": "code",
   "execution_count": 20,
   "id": "a62a4c53-9680-410e-a100-d6894b4c4a4b",
   "metadata": {
    "vscode": {
     "languageId": "java"
    }
   },
   "outputs": [],
   "source": [
    "public static boolean areEqual(String s1, String s2) {\n",
    "    return s1.equals(s2);\n",
    "}\n",
    "\n",
    "public static boolean areEqual(Integer i1, Integer i2) {\n",
    "    return i1.equals(i2);\n",
    "}\n",
    "\n",
    "public static boolean areEqual(Boolean b1, Boolean b2) {\n",
    "    return b1.equals(b2);\n",
    "}"
   ]
  },
  {
   "cell_type": "code",
   "execution_count": 22,
   "id": "feb972af-ce6d-4da3-9609-453ed8335b94",
   "metadata": {},
   "outputs": [],
   "source": [
    "// The method below checks for null values - this is because null values cannot be checked using .equals and therefore must be checked separately before using .equals to check if the values of the two items are equal (provided both of them are NOT null).\n",
    "\n",
    "public static <T> boolean areEqual(T item1, T item2) {\n",
    "    // Cannot check/compare null values using .equals\n",
    "    if(item1 == null && item2 == null) {\n",
    "        return true;\n",
    "    }\n",
    "    else if(item1 == null ^ item2 == null) {\n",
    "        return false;\n",
    "    }\n",
    "\n",
    "    return item1.equals(item2);\n",
    "    \n",
    "}"
   ]
  },
  {
   "cell_type": "code",
   "execution_count": 23,
   "id": "b0e0ad9d",
   "metadata": {
    "vscode": {
     "languageId": "java"
    }
   },
   "outputs": [
    {
     "name": "stdout",
     "output_type": "stream",
     "text": [
      "true\n",
      "true\n",
      "true\n",
      "false\n",
      "false\n",
      "false\n",
      "true\n",
      "true\n",
      "false\n",
      "false\n",
      "false\n",
      "false\n",
      "false\n",
      "false\n"
     ]
    }
   ],
   "source": [
    "System.out.println(areEqual(\"hello\", \"hello\"));\n",
    "System.out.println(areEqual(1, 1)); \n",
    "System.out.println(areEqual(true, true));\n",
    "\n",
    "// Above should print true - Below should print false\n",
    "\n",
    "System.out.println(areEqual(\"hello\", \"there\"));\n",
    "System.out.println(areEqual(1, 2));\n",
    "System.out.println(areEqual(true, false));\n",
    "\n",
    "// Should print out as true\n",
    "System.out.println(areEqual((String)null, (String)null));\n",
    "System.out.println(areEqual((Integer)null, (Integer)null));\n",
    "\n",
    "// Should print out as false\n",
    "System.out.println(areEqual(\"hello\", null));\n",
    "System.out.println(areEqual(1, null));\n",
    "System.out.println(areEqual(true, null));\n",
    "System.out.println(areEqual(\"hello\", 1));\n",
    "System.out.println(areEqual(true, 1));\n",
    "\n",
    "// Should print as false due to data types differing\n",
    "System.out.println(areEqual(1.0, 1));"
   ]
  },
  {
   "cell_type": "markdown",
   "id": "57b12d04",
   "metadata": {},
   "source": [
    "**Run your program:**\n"
   ]
  },
  {
   "cell_type": "code",
   "execution_count": 13,
   "id": "7a139c49",
   "metadata": {
    "vscode": {
     "languageId": "java"
    }
   },
   "outputs": [
    {
     "name": "stdout",
     "output_type": "stream",
     "text": [
      "true\n",
      "true\n",
      "true\n",
      "false\n",
      "false\n",
      "false\n",
      "true\n",
      "true\n",
      "false\n",
      "false\n",
      "false\n",
      "false\n",
      "false\n",
      "false\n"
     ]
    }
   ],
   "source": [
    "System.out.println(areEqual(\"hello\", \"hello\"));\n",
    "System.out.println(areEqual(1, 1)); \n",
    "System.out.println(areEqual(true, true));\n",
    "\n",
    "// Above should print true - Below should print false\n",
    "\n",
    "System.out.println(areEqual(\"hello\", \"there\"));\n",
    "System.out.println(areEqual(1, 2));\n",
    "System.out.println(areEqual(true, false));\n",
    "\n",
    "// Should print out as true\n",
    "System.out.println(areEqual((String)null, (String)null));\n",
    "System.out.println(areEqual((Integer)null, (Integer)null));\n",
    "\n",
    "// Should print out as false\n",
    "System.out.println(areEqual(\"hello\", null));\n",
    "System.out.println(areEqual(1, null));\n",
    "System.out.println(areEqual(true, null));\n",
    "System.out.println(areEqual(\"hello\", 1));\n",
    "System.out.println(areEqual(true, 1));\n",
    "\n",
    "// Should print as false due to data types differing\n",
    "System.out.println(areEqual(1.0, 1));"
   ]
  },
  {
   "cell_type": "markdown",
   "id": "36473178",
   "metadata": {},
   "source": [
    "***"
   ]
  },
  {
   "cell_type": "markdown",
   "id": "a2769fc4-0864-4328-85f3-7dcb7034045c",
   "metadata": {},
   "source": [
    "## Question 5 [1 mark]"
   ]
  },
  {
   "cell_type": "markdown",
   "id": "c86c6dbc",
   "metadata": {},
   "source": [
    "Write a method `isReachable` which takes two `Node` arguments, one for the start node and one for the end node. The method returns `true` if and only if it is possible to go from the node `start` to the node `end` in the directed graph, following the arrows.\n",
    "\n",
    "You are provided with a class `Node`, which represents a node within a graph, `label` corresponds to the \"name\" of the node, and the array `outgoing` is all the nodes that are connected to the current node by outgoing arrows.\n",
    "\n",
    "The image below shows an example directed graph that we also coded below to make testing easier.\n",
    "\n",
    "We wrote some tests for you, but you are expected to write a few more.\n",
    "\n",
    "<img src=\"https://camo.githubusercontent.com/d36c136d2afa645793b0bdca36541ba98eb7eefa016a25d21f13a3ce29598608/68747470733a2f2f636f6d7075746572736369656e636577696b692e6f72672f696d616765732f632f63362f44697265637465645f67726170682e706e67\" alt=\"Image\" style=\"background-color: white;\">\n"
   ]
  },
  {
   "cell_type": "markdown",
   "id": "adbd95c5",
   "metadata": {},
   "source": [
    "**Write your answer below:**"
   ]
  },
  {
   "cell_type": "code",
   "execution_count": 25,
   "id": "e26a8794-1eb8-4e68-8f16-90b753380c18",
   "metadata": {
    "vscode": {
     "languageId": "java"
    }
   },
   "outputs": [],
   "source": [
    "class Node {\n",
    "    String label;\n",
    "    Node[] outgoing;\n",
    "\n",
    "    Node(String label) {\n",
    "        this.label = label;\n",
    "        this.outgoing = null;\n",
    "    }\n",
    "    public void linkTo(Node n) {\n",
    "        if(outgoing == null) {\n",
    "            outgoing = new Node[1];\n",
    "            outgoing[0] = n;\n",
    "            return;\n",
    "        }\n",
    "\n",
    "        Node[] newOutgoing = new Node[outgoing.length+1];\n",
    "        for(int i = 0; i < outgoing.length; i++) {\n",
    "            newOutgoing[i] = outgoing[i];\n",
    "        }\n",
    "        newOutgoing[outgoing.length] = n;\n",
    "        outgoing = newOutgoing;\n",
    "    }\n",
    "}"
   ]
  },
  {
   "cell_type": "code",
   "execution_count": 24,
   "id": "3540b103-e972-4d1a-a8d5-1c08521944a1",
   "metadata": {
    "vscode": {
     "languageId": "java"
    }
   },
   "outputs": [],
   "source": [
    "public static boolean isReachable(Node start, Node end) {\n",
    "    if(start == end) {\n",
    "        return true;\n",
    "    }\n",
    "\n",
    "    if(start.outgoing == null) {\n",
    "        return false;\n",
    "    }\n",
    "\n",
    "    for (int i = 0; i < start.outgoing.length; i++) {\n",
    "        if(isReachable(start.outgoing[i], end)) {\n",
    "            return true;\n",
    "        }\n",
    "    }\n",
    "\n",
    "    return false;\n",
    "}"
   ]
  },
  {
   "cell_type": "markdown",
   "id": "592174e5",
   "metadata": {},
   "source": [
    "**Run your program:**\n"
   ]
  },
  {
   "cell_type": "code",
   "execution_count": 26,
   "id": "3de85efc",
   "metadata": {
    "vscode": {
     "languageId": "java"
    }
   },
   "outputs": [
    {
     "name": "stdout",
     "output_type": "stream",
     "text": [
      "true\n",
      "false\n",
      "true\n",
      "true\n",
      "false\n"
     ]
    }
   ],
   "source": [
    "Node a = new Node(\"A\");\n",
    "Node b = new Node(\"B\");\n",
    "Node c = new Node(\"C\");\n",
    "Node d = new Node(\"D\");\n",
    "Node e = new Node(\"E\");\n",
    "Node f = new Node(\"F\");\n",
    "\n",
    "a.linkTo(b);\n",
    "b.linkTo(c);\n",
    "c.linkTo(e);\n",
    "e.linkTo(f);\n",
    "e.linkTo(d);\n",
    "d.linkTo(b);\n",
    "\n",
    "System.out.println(isReachable(a, e)); // true\n",
    "System.out.println(isReachable(f, a)); // false\n",
    "\n",
    "// MORE TESTS HERE\n",
    "\n",
    "System.out.println(isReachable(a, a)); // can reach itself - true\n",
    "System.out.println(isReachable(b, f)); // direct link - true\n",
    "System.out.println(isReachable(f, a)); // cannot go anywhere from f"
   ]
  },
  {
   "cell_type": "code",
   "execution_count": null,
   "id": "a0f4422b-9c49-4c92-80f2-dfcf1466df5d",
   "metadata": {
    "vscode": {
     "languageId": "java"
    }
   },
   "outputs": [],
   "source": []
  }
 ],
 "metadata": {
  "kernelspec": {
   "display_name": "Java",
   "language": "java",
   "name": "java"
  },
  "language_info": {
   "codemirror_mode": "java",
   "file_extension": ".jshell",
   "mimetype": "text/x-java-source",
   "name": "Java",
   "pygments_lexer": "java",
   "version": "11.0.8+10-LTS"
  }
 },
 "nbformat": 4,
 "nbformat_minor": 5
}
