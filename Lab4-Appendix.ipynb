{
 "cells": [
  {
   "cell_type": "markdown",
   "id": "d38cef6e-ba9b-4e56-a69f-eb5e754433c7",
   "metadata": {},
   "source": [
    "# Lab 4\n",
    "\n",
    "Deadline: **Week 5** in your respective lab session"
   ]
  },
  {
   "cell_type": "markdown",
   "id": "3fd8d6f9-4682-450d-8faf-a4faf17daf50",
   "metadata": {},
   "source": [
    "### Name:\n",
    "### Student ID:"
   ]
  },
  {
   "cell_type": "markdown",
   "id": "a2769fc4-0864-4328-85f3-7dcb7034045c",
   "metadata": {},
   "source": [
    "## Question 5 [1 mark]"
   ]
  },
  {
   "cell_type": "markdown",
   "id": "c86c6dbc",
   "metadata": {},
   "source": [
    "A unit fraction contains  $1$ in the numerator. The decimal representation of the unit fractions with denominators $2$ to $10$ are given:\n",
    "\n",
    "$1/2=0.5$  \n",
    "$1/3=0.(3)$  \n",
    "$1/4=0.25$  \n",
    "$1/5=0.2$  \n",
    "$1/6=0.1(6)$  \n",
    "$1/7=0.(142857)$  \n",
    "$1/8=0.125$  \n",
    "$1/9=0.(1)$  \n",
    "$1/10=0.1$  \n",
    "\n",
    "Where $0.1(6)$ means $0.166666$..., and has a $1$-digit recurring cycle. It can be seen that $1/7$ has a $6$-digit recurring cycle.\n",
    "\n",
    "Find the value of $d < 1000$ for which $1/d$ contains the longest recurring cycle in its decimal fraction part.\n",
    "\n",
    "To understand how one can compute the length of the recurring cycle of $1/d$ we have to look at the division algorithm in more detail. Let us take the case of $1/7$. The first part of the algorithm multiplies the numerator by $10$ until it becomes larger than the denominator. In our case we multiply $1\\cdot 10$ (if we had $d>10$ we would multiply by 100, and if we had $d>100$ we would multiply by $1000$).\n",
    "\n",
    "Now the division algorithm proceeds as follows\n",
    "- First $10/7$ is $1$ with a remainder of $3$,\n",
    "- Then $10 \\cdot 3 / 7$ is $4$ with a remainder of $2$, \n",
    "- Then $10 \\cdot 2 / 7$ is $2$ with a remainder of $6$, \n",
    "- Then $10 \\cdot 6 / 7$ is $8$ with a remainder of $4$,\n",
    "- Then $10 \\cdot 4 / 7$ is $5$ with a remainder of $5$,\n",
    "- Then $10 \\cdot 5 / 7$ is $7$ with a remainder of $1$, \n",
    "- And $10 \\cdot 1 / 7$ is $1$ with a remainder of $3$.  \n",
    "\n",
    "Now it is clear that this process would repeat, and that the length of this cycle is $6$. The important observation here is that if $r_1$ is the first remainder, in the next step we are doing $r_2 = (10\\cdot r_1) \\% 7$ to get the second remainder, and so on, $r_n = (10\\cdot r_{n-1}) \\% 7$. The sequence $r_1,r_2,\\ldots$ has to have a cycle because its entries are numbers between $0$ and $6$ (because we are taking reminders mod $7$). \n"
   ]
  },
  {
   "cell_type": "markdown",
   "id": "adbd95c5",
   "metadata": {},
   "source": [
    "**Write your answer below:**"
   ]
  },
  {
   "cell_type": "code",
   "execution_count": null,
   "id": "3540b103-e972-4d1a-a8d5-1c08521944a1",
   "metadata": {
    "vscode": {
     "languageId": "java"
    }
   },
   "outputs": [],
   "source": []
  },
  {
   "cell_type": "markdown",
   "id": "592174e5",
   "metadata": {},
   "source": [
    "**Run your program:**\n"
   ]
  },
  {
   "cell_type": "code",
   "execution_count": null,
   "id": "3de85efc",
   "metadata": {
    "vscode": {
     "languageId": "java"
    }
   },
   "outputs": [],
   "source": []
  }
 ],
 "metadata": {
  "kernelspec": {
   "display_name": "Java",
   "language": "java",
   "name": "java"
  },
  "language_info": {
   "codemirror_mode": "java",
   "file_extension": ".jshell",
   "mimetype": "text/x-java-source",
   "name": "Java",
   "pygments_lexer": "java",
   "version": "11.0.8+10-LTS"
  }
 },
 "nbformat": 4,
 "nbformat_minor": 5
}
