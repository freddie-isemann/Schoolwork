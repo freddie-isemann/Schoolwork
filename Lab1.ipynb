{
 "cells": [
  {
   "cell_type": "markdown",
   "id": "d38cef6e-ba9b-4e56-a69f-eb5e754433c7",
   "metadata": {},
   "source": [
    "# Lab 1\n",
    "\n",
    "Deadline: **Week 2** in your respective lab session"
   ]
  },
  {
   "cell_type": "markdown",
   "id": "3fd8d6f9-4682-450d-8faf-a4faf17daf50",
   "metadata": {},
   "source": [
    "### Name: Freddie Isemann\n",
    "### Student ID: 230248298"
   ]
  },
  {
   "cell_type": "markdown",
   "id": "e59f7f40-2982-4996-b01e-63212844413b",
   "metadata": {},
   "source": [
    "***\n",
    "\n",
    "## Question 1 [1 mark]"
   ]
  },
  {
   "cell_type": "markdown",
   "id": "9a329058-b307-477a-89aa-bed21e076027",
   "metadata": {},
   "source": [
    "Write a full Java program (meaning a class that contains a main method) that asks the user for their average percentage across all modules and then prints out their classification: `1st`, `2:1`, `2:2`, `3rd`, `Pass` or `Fail`.\n",
    "\n",
    "[Click here to see the degree class boundaries.](https://eecs.qmul.ac.uk/~norman/exam_stuff/exam_procedures/how_we_decide_degree_class.htm)\n",
    "\n",
    "Example runs:  \n",
    "`What is your average percentage?` **`67`**  \n",
    "`Congratulations! You are on a track to graduate with a 2:1!`\n",
    "\n",
    "`What is your average percentage?` **`38`**  \n",
    "`Unfortunately, your current classification is a Fail.`\n",
    "\n"
   ]
  },
  {
   "cell_type": "markdown",
   "id": "eb316635-97f3-4c19-bccf-4c6f69b18318",
   "metadata": {},
   "source": [
    "**Write your answer below:**\n"
   ]
  },
  {
   "cell_type": "code",
   "execution_count": 2,
   "id": "c9653abd-09c0-423d-b5ad-f3a50cea0361",
   "metadata": {
    "vscode": {
     "languageId": "java"
    }
   },
   "outputs": [],
   "source": [
    "class classification {\n",
    "\n",
    "    public static void main(String [] args) {\n",
    "        calculator();\n",
    "    }\n",
    "\n",
    "    // Allows user to enter percentage\n",
    "    public static int input() {\n",
    "        Scanner keyboard = new Scanner(System.in);\n",
    "        System.out.println(\"What is your average percentage? \");\n",
    "        String userInput = keyboard.nextLine();\n",
    "        Integer avPercentage = Integer.parseInt(userInput);\n",
    "\n",
    "        return avPercentage;\n",
    "    }\n",
    "\n",
    "    // Calculates degree classification\n",
    "    public static void calculator() {\n",
    "        String message = \"Congratulations! You are on track to graduate with \";\n",
    "        int avPercentage = input();\n",
    "        if (avPercentage > 70){\n",
    "            System.out.println(message + \"a 1st!\");\n",
    "        }\n",
    "        else if (avPercentage >= 60 && avPercentage <= 69.9) {\n",
    "            System.out.println(message + \"a 2:1!\");\n",
    "        }\n",
    "        else if (avPercentage >= 50 && avPercentage <= 59.9) {\n",
    "            System.out.println(message + \"a 2:2!\");\n",
    "        }\n",
    "        else if (avPercentage >= 45 && avPercentage <= 49.9) {\n",
    "            System.out.println(message + \"a 3rd!\");\n",
    "        }\n",
    "        else if (avPercentage >= 40 && avPercentage <= 44.9) {\n",
    "            message = \"You are on track to graduate with a pass!\";\n",
    "            System.out.println(message);\n",
    "        }\n",
    "        else {\n",
    "            message = \"Unfortunately, your current classification is a Fail.\";\n",
    "            System.out.println(message);\n",
    "        }\n",
    "    }\n",
    "}\n",
    "\n",
    "        \n",
    "        "
   ]
  },
  {
   "cell_type": "markdown",
   "id": "6fabf667-97b1-4343-96e3-86b4dd65765d",
   "metadata": {},
   "source": [
    "**Run your program:**\n"
   ]
  },
  {
   "cell_type": "code",
   "execution_count": 4,
   "id": "8aa692bb-3548-42a1-9306-11a72fcfbacd",
   "metadata": {
    "vscode": {
     "languageId": "java"
    }
   },
   "outputs": [
    {
     "name": "stdout",
     "output_type": "stream",
     "text": [
      "What is your average percentage? \n"
     ]
    },
    {
     "name": "stdin",
     "output_type": "stream",
     "text": [
      " 12\n"
     ]
    },
    {
     "name": "stdout",
     "output_type": "stream",
     "text": [
      "Unfortunately, your current classification is a Fail.\n"
     ]
    }
   ],
   "source": [
    "classification.main(null);"
   ]
  },
  {
   "cell_type": "markdown",
   "id": "4a31bb78-6117-412b-92d9-f150ba2ee053",
   "metadata": {},
   "source": [
    "***\n",
    "\n",
    "## Question 2 [1 mark]"
   ]
  },
  {
   "cell_type": "markdown",
   "id": "69e5f1d4-400d-4c56-b3e7-2cfacd1e88fb",
   "metadata": {},
   "source": [
    "Write a new version of the program from Questions 2 with added input validation. Now the program should ask the user <u>**repeatedly**</u> for their average percentage until a user inputs a number between `0` and `100`.\n",
    "\n",
    "You may assume that the input is always an integer.\n",
    "\n",
    "Example run:  \n",
    "`What is your average percentage?` **`-20`**  \n",
    "`Invalid input. The number you provided is too low. Please give a number between 0 and 100.`\n",
    "\n",
    "`What is your average percentage?` **`150`**  \n",
    "`Invalid input. The number you provided is too high. Please give a number between 0 and 100.`\n",
    "\n",
    "`What is your average percentage?` **`78`**  \n",
    "`Congratulations! You are on a track to graduate with a 1st!`"
   ]
  },
  {
   "cell_type": "markdown",
   "id": "661ca302-591d-4686-ba0c-09b186a7b981",
   "metadata": {},
   "source": [
    "**Write your answer below:**"
   ]
  },
  {
   "cell_type": "code",
   "execution_count": 8,
   "id": "efdd1738-1564-4787-a811-fbc99e8ca644",
   "metadata": {
    "vscode": {
     "languageId": "java"
    }
   },
   "outputs": [],
   "source": [
    "class classification {\n",
    "\n",
    "    public static void main(String [] args) {\n",
    "        calculator();\n",
    "    }\n",
    "\n",
    "    // Allows use to input number percentage\n",
    "    public static int input() {\n",
    "        Scanner keyboard = new Scanner(System.in);\n",
    "        Integer avPercentage = -1;\n",
    "        // Declaring and initialising an empty string ensures loop runs at least once\n",
    "        String userInput = \"\";\n",
    "        while (avPercentage > 100 || avPercentage < 0) {\n",
    "            System.out.println(\"What is your average percentage? \");\n",
    "            userInput = keyboard.nextLine();\n",
    "            avPercentage = Integer.parseInt(userInput);\n",
    "            // Checks that percentage is in acceptable range and gives the message to the user as to what their mistake was\n",
    "            if (avPercentage > 100) {\n",
    "                System.out.println(\"Error: You have entered a number that is too large and not a percentage!\");\n",
    "                System.out.println(\"Please enter a percentage number lower than or equal to 100!\");\n",
    "            }\n",
    "            else if (avPercentage < 0) {\n",
    "                System.out.println(\"Error: You have entered a number that is too low and not a percentage!\");\n",
    "                System.out.println(\"Please enter a percentage number greater than or equal to 0!\");\n",
    "            }\n",
    "        }\n",
    "        return avPercentage;\n",
    "    }\n",
    "\n",
    "    // Calculates grades as specified\n",
    "    public static void calculator() {\n",
    "        String message = \"Congratulations! You are on track to graduate with \";\n",
    "        int avPercentage = input();\n",
    "        if (avPercentage > 70){\n",
    "            System.out.println(message + \"a 1st!\");\n",
    "        }\n",
    "        else if (avPercentage >= 60 && avPercentage <= 69.9) {\n",
    "            System.out.println(message + \"a 2:1!\");\n",
    "        }\n",
    "        else if (avPercentage >= 50 && avPercentage <= 59.9) {\n",
    "            System.out.println(message + \"a 2:2!\");\n",
    "        }\n",
    "        else if (avPercentage >= 45 && avPercentage <= 49.9) {\n",
    "            System.out.println(message + \"a 3rd!\");\n",
    "        }\n",
    "        else if (avPercentage >= 40 && avPercentage <= 44.9) {\n",
    "            message = \"You are on track to graduate with a pass!\";\n",
    "            System.out.println(message);\n",
    "        }\n",
    "        else {\n",
    "            message = \"Unfortunately, your current classification is a Fail.\";\n",
    "            System.out.println(message);\n",
    "        }\n",
    "    }\n",
    "}"
   ]
  },
  {
   "cell_type": "markdown",
   "id": "86678292-eaf1-4144-8540-af5a2897235f",
   "metadata": {},
   "source": [
    "**Run your program:**\n"
   ]
  },
  {
   "cell_type": "code",
   "execution_count": 9,
   "id": "db86ba98-81d2-4c6b-97ea-8e70ae03d441",
   "metadata": {
    "vscode": {
     "languageId": "java"
    }
   },
   "outputs": [
    {
     "name": "stdout",
     "output_type": "stream",
     "text": [
      "What is your average percentage? \n"
     ]
    },
    {
     "name": "stdin",
     "output_type": "stream",
     "text": [
      " 150\n"
     ]
    },
    {
     "name": "stdout",
     "output_type": "stream",
     "text": [
      "Error: You have entered a number that is too large and not a percentage!\n",
      "Please enter a percentage number lower than or equal to 100!\n",
      "What is your average percentage? \n"
     ]
    },
    {
     "name": "stdin",
     "output_type": "stream",
     "text": [
      " 12\n"
     ]
    },
    {
     "name": "stdout",
     "output_type": "stream",
     "text": [
      "Unfortunately, your current classification is a Fail.\n"
     ]
    }
   ],
   "source": [
    "classification.main(null);"
   ]
  },
  {
   "cell_type": "markdown",
   "id": "f7d78bc4-91d6-4599-9b1b-92f54ad04024",
   "metadata": {},
   "source": [
    "***\n",
    "## Question 3 [1 mark]"
   ]
  },
  {
   "cell_type": "markdown",
   "id": "3c8c2842-016a-4fc3-a860-08725ed30efd",
   "metadata": {},
   "source": [
    "Define a class `Student` with two instance variables, `name` and `average`. Add two methods to this class: `printWelcomeMessage` and `determineDegreeClassification`. \n",
    "\n",
    "`printWelcomeMessage` should print a welcome message that will include the student's name.  \n",
    "`determineDegreeClassification` should print the degree classifications based on the student's average.  \n",
    "\n",
    "Then define another class called `Main3` that contains the `main` method. The program should ask the user for their name and average. It should then use the inputted information to create an instance of a `Student` and call `printWelcomeMessage` followed by `determineDegreeClassification`.\n",
    "\n",
    "Example run:  \n",
    "`What is your name?` **`Bob`**  \n",
    "`What is your average percentage?` **`67`** \n",
    "\n",
    "`Welcome Bob to OOP!`  \n",
    "`Congratulations! You are on a track to graduate with a 2:1!`\n",
    "\n",
    "\n",
    "\n",
    "\n"
   ]
  },
  {
   "cell_type": "markdown",
   "id": "c5fe0fd0-036e-485c-911a-437f103e1e2f",
   "metadata": {},
   "source": [
    "**Write your answer below:**"
   ]
  },
  {
   "cell_type": "code",
   "execution_count": 10,
   "id": "fe90afcc-eef7-4bba-bdc0-f57caee04b93",
   "metadata": {
    "vscode": {
     "languageId": "java"
    }
   },
   "outputs": [],
   "source": [
    "class Main3 {\n",
    "\n",
    "    public static void main(String[] args) {\n",
    "        // Declaring basic variables\n",
    "        Scanner keyboard = new Scanner(System.in);\n",
    "        Integer avPercentage = -1;\n",
    "        String userInput = \"\";\n",
    "        String userName;\n",
    "\n",
    "        // Input validation for inputs regarding average percentage\n",
    "        while (avPercentage > 100 || avPercentage < 0) {\n",
    "            System.out.println(\"What is your average percentage? \");\n",
    "            userInput = keyboard.nextLine();\n",
    "            avPercentage = Integer.parseInt(userInput);\n",
    "            if (avPercentage > 100) {\n",
    "                System.out.println(\"Error: You have entered a number that is too large and not a percentage!\");\n",
    "                System.out.println(\"Please enter a percentage number lower than or equal to 100!\");\n",
    "            }\n",
    "            else if (avPercentage < 0) {\n",
    "                System.out.println(\"Error: You have entered a number that is too low and not a percentage!\");\n",
    "                System.out.println(\"Please enter a percentage number greater than or equal to 0!\");\n",
    "            }\n",
    "        }\n",
    "        \n",
    "        // Allows user to enter name\n",
    "        System.out.println(\"Please enter your name: \");\n",
    "        userName = keyboard.nextLine();\n",
    "\n",
    "        // Creates new object instance of class 'Student' and provides a name and average for that student\n",
    "        Student student = new Student();\n",
    "        student.name = userName;\n",
    "        student.average = avPercentage;\n",
    "        // Runs the method 'printWelcomeMessage' from the new object (class instance) that we have created called 'student'\n",
    "        student.printWelcomeMessage();\n",
    "        \n",
    "    }\n",
    "}\n",
    "\n",
    "class Student {\n",
    "    String name;\n",
    "    Integer average;\n",
    "\n",
    "    // Prints out welcome message including the user name\n",
    "    public void printWelcomeMessage() {\n",
    "        System.out.println(\"Welcome \" + name + \" to OOP\");\n",
    "        determineDegreeClassification();\n",
    "    }\n",
    "\n",
    "    // Calculates degree classifications\n",
    "    public void determineDegreeClassification() {\n",
    "        String message = \"Congratulations! You are on track to graduate with \";\n",
    "        int avPercentage = average;\n",
    "        if (avPercentage > 70){\n",
    "            System.out.println(message + \"a 1st!\");\n",
    "        }\n",
    "        else if (avPercentage >= 60 && avPercentage <= 69.9) {\n",
    "            System.out.println(message + \"a 2:1!\");\n",
    "        }\n",
    "        else if (avPercentage >= 50 && avPercentage <= 59.9) {\n",
    "            System.out.println(message + \"a 2:2!\");\n",
    "        }\n",
    "        else if (avPercentage >= 45 && avPercentage <= 49.9) {\n",
    "            System.out.println(message + \"a 3rd!\");\n",
    "        }\n",
    "        else if (avPercentage >= 40 && avPercentage <= 44.9) {\n",
    "            message = \"You are on track to graduate with a pass!\";\n",
    "            System.out.println(message);\n",
    "        }\n",
    "        else {\n",
    "            message = \"Unfortunately, your current classification is a Fail.\";\n",
    "            System.out.println(message);\n",
    "        }\n",
    "    }\n",
    "}\n",
    "\n"
   ]
  },
  {
   "cell_type": "code",
   "execution_count": 11,
   "id": "5115a195-6098-4937-981b-3dc903ce867d",
   "metadata": {
    "vscode": {
     "languageId": "java"
    }
   },
   "outputs": [
    {
     "name": "stdout",
     "output_type": "stream",
     "text": [
      "What is your average percentage? \n"
     ]
    },
    {
     "name": "stdin",
     "output_type": "stream",
     "text": [
      " 150\n"
     ]
    },
    {
     "name": "stdout",
     "output_type": "stream",
     "text": [
      "Error: You have entered a number that is too large and not a percentage!\n",
      "Please enter a percentage number lower than or equal to 100!\n",
      "What is your average percentage? \n"
     ]
    },
    {
     "name": "stdin",
     "output_type": "stream",
     "text": [
      " -12\n"
     ]
    },
    {
     "name": "stdout",
     "output_type": "stream",
     "text": [
      "Error: You have entered a number that is too low and not a percentage!\n",
      "Please enter a percentage number greater than or equal to 0!\n",
      "What is your average percentage? \n"
     ]
    },
    {
     "name": "stdin",
     "output_type": "stream",
     "text": [
      " 29\n"
     ]
    },
    {
     "name": "stdout",
     "output_type": "stream",
     "text": [
      "Please enter your name: \n"
     ]
    },
    {
     "name": "stdin",
     "output_type": "stream",
     "text": [
      " Freddie\n"
     ]
    },
    {
     "name": "stdout",
     "output_type": "stream",
     "text": [
      "Welcome Freddie to OOP\n",
      "Unfortunately, your current classification is a Fail.\n"
     ]
    }
   ],
   "source": [
    "Main3.main(null);"
   ]
  },
  {
   "cell_type": "markdown",
   "id": "cbf3c460-6088-4e9f-aced-e51555d57b4e",
   "metadata": {},
   "source": [
    "**Run your program:**\n"
   ]
  },
  {
   "cell_type": "code",
   "execution_count": null,
   "id": "ac33953a-bc70-4107-924e-511d71686f12",
   "metadata": {
    "vscode": {
     "languageId": "java"
    }
   },
   "outputs": [],
   "source": [
    "Main3.main(null);"
   ]
  },
  {
   "cell_type": "markdown",
   "id": "f4db984e-b240-4b08-98b2-4950400706c2",
   "metadata": {},
   "source": [
    "***"
   ]
  },
  {
   "cell_type": "markdown",
   "id": "49def47a",
   "metadata": {},
   "source": [
    "## Question 4 [1 mark]\n",
    "\n",
    "Write a method\n",
    "\n",
    "`int countDuplicates(int[] xs)`\n",
    "\n",
    "which should return the number of duplicate entries in `xs`. \n",
    "For example if `xs = {1,1,1}`, the method should return `3` because `xs[0], xs[1]` constitutes one duplicate pair, `xs[0], xs[2]` the second, and `xs[1],xs[2]` the third. In the example `xs = {0,2,1,0,2,3,0}` the method should return `4` because the duplicate pairs are:\n",
    "1. `xs[0], xs[3]`,\n",
    "2. `xs[0], xs[6]`,\n",
    "3. `xs[3], xs[6]`, and\n",
    "4. `xs[1], xs[4]`."
   ]
  },
  {
   "cell_type": "markdown",
   "id": "e361e947",
   "metadata": {},
   "source": [
    "**Write your answer below:**"
   ]
  },
  {
   "cell_type": "code",
   "execution_count": 14,
   "id": "dab36fad-03e4-48d8-9c1c-7d78172db0a3",
   "metadata": {},
   "outputs": [],
   "source": [
    "public static int countDuplicates(int[] xs) {\n",
    "    // Declaring variables\n",
    "    int i = 0;\n",
    "    int j = 1;\n",
    "    int k = 1;\n",
    "    int duplicatePairs = 0;\n",
    "    // Checks that the loop can continue based on k being the setter variable for k - since K is used to set J, if it becomes equal to i, then it is about to exceed the index length of the array\n",
    "    while(i < k) {\n",
    "        for (j = k; j < xs.length; j++) {\n",
    "            // Loop above iterates through each array element \n",
    "            if(xs[i] == xs[j]) {\n",
    "                duplicatePairs = duplicatePairs + 1;\n",
    "            }\n",
    "        }\n",
    "        // Increments i - changes the first element checked in each pair - ensuring no pairs are counted twice\n",
    "        i++;\n",
    "        // IF statement below ensures that the length of the array is not exceeded, preventing errors\n",
    "        if (k == xs.length) {\n",
    "            continue;\n",
    "        }\n",
    "        // Continues loop if k is not equal to the array length\n",
    "        else {\n",
    "            k++;\n",
    "        }\n",
    "    }\n",
    "    return duplicatePairs;\n",
    "}"
   ]
  },
  {
   "cell_type": "markdown",
   "id": "57b12d04",
   "metadata": {},
   "source": [
    "**Run your program:**\n"
   ]
  },
  {
   "cell_type": "code",
   "execution_count": 15,
   "id": "5bae9b39-6bd9-4b0a-8f98-6c88442b6a29",
   "metadata": {
    "vscode": {
     "languageId": "java"
    }
   },
   "outputs": [
    {
     "data": {
      "text/plain": [
       "4"
      ]
     },
     "execution_count": 15,
     "metadata": {},
     "output_type": "execute_result"
    }
   ],
   "source": [
    "int[] xs = {0,2,1,0,2,3,0};\n",
    "countDuplicates(xs);"
   ]
  },
  {
   "cell_type": "markdown",
   "id": "36473178",
   "metadata": {},
   "source": [
    "***"
   ]
  },
  {
   "cell_type": "markdown",
   "id": "c86c6dbc",
   "metadata": {},
   "source": [
    "## Question 5 [1 mark]\n",
    "\n",
    "Write a method\n",
    "\n",
    "`int[] filterAndReverse(int[] xs, int k)`\n",
    "\n",
    "which does the following. If `k` is `0` it prints `wrong argument` and immediately returns. Otherwise, it takes only those entries in `xs` that are divisble by the number `k`, reverses them and puts them on a new array which is then returned. \n",
    "\n",
    "For example when called on the array `{1,2,3,4}` with `k=2`, it should return the array `{4,2}`. This is because we take only the numbers that are divisible by `2`, which in this case is `{2,4}`, and we reverse this array to get `{4,2}`. If we call this method on the array `{1,2,3}` with `k=1`, it should return the array `{3,2,1}`, this is because every number is divisible by `1`. \n",
    "\n",
    "*Hint:* First go through the array `xs` to see how many entries are divisble by `k`, this number will be the length of the array which you should return. "
   ]
  },
  {
   "cell_type": "markdown",
   "id": "adbd95c5",
   "metadata": {},
   "source": [
    "**Write your answer below:**"
   ]
  },
  {
   "cell_type": "code",
   "execution_count": 16,
   "id": "8321ac04",
   "metadata": {
    "vscode": {
     "languageId": "java"
    }
   },
   "outputs": [],
   "source": [
    "// Imports array functionality\n",
    "\n",
    "import java.util.Arrays;\n",
    "\n",
    "public static int[] filterAndReverse(int[] xs, int k) {\n",
    "    // Sets variables used for iteration and adder/incrementer variables\n",
    "    int i = 0;\n",
    "    int j = 1;\n",
    "    int l = 1;\n",
    "    int newArrayLength = 0;\n",
    "    int newLargest = 0;\n",
    "    // Declares array to end the whole method early without causing errors if needed\n",
    "    int[] newArray;\n",
    "    // Ends method early if k = 0\n",
    "    if(k == 0) {\n",
    "        System.out.println(\"Wrong argument\");\n",
    "        newArray = new int[0];\n",
    "    }\n",
    "        \n",
    "    // Runs the program if k does not equal 0 - this also means I can easily end the entire program with the above IF statement outcome.\n",
    "    else {\n",
    "        // Below loop finds out length - i is set to be lesser than l so if l eventually equals the length of the array it will not be incremented, ending the loop\n",
    "        for(j = l; j < xs.length; j++) {\n",
    "            if((xs[j] % k) == 0) {\n",
    "                newArrayLength = newArrayLength + 1;\n",
    "            }\n",
    "        }\n",
    "\n",
    "        // Initialises array with correct length\n",
    "        newArray = new int[newArrayLength];\n",
    "\n",
    "        j = 0;\n",
    "\n",
    "        // FOR loop decrements to be able to check from largest to smallest items in the array\n",
    "        for(i = xs.length-1; i >= 0; i--) {\n",
    "            if(xs[i] % k == 0) {\n",
    "                // Increments J such that with each iteration it is ensuring that the next element in the new array is written into, avoiding overwriting.\n",
    "                newArray[j++] = xs[i];\n",
    "            }\n",
    "        }\n",
    "\n",
    "        // Prints out the array\n",
    "        System.out.println(java.util.Arrays.toString(newArray));\n",
    "\n",
    "    }\n",
    "\n",
    "    return newArray;\n",
    "\n",
    "}\n",
    "    \n",
    "                \n"
   ]
  },
  {
   "cell_type": "markdown",
   "id": "592174e5",
   "metadata": {},
   "source": [
    "**Run your program:**\n"
   ]
  },
  {
   "cell_type": "code",
   "execution_count": 18,
   "id": "3de85efc",
   "metadata": {
    "vscode": {
     "languageId": "java"
    }
   },
   "outputs": [
    {
     "name": "stdout",
     "output_type": "stream",
     "text": [
      "[3]\n"
     ]
    },
    {
     "data": {
      "text/plain": [
       "[I@522bd678"
      ]
     },
     "execution_count": 18,
     "metadata": {},
     "output_type": "execute_result"
    }
   ],
   "source": [
    "int[] xs = {1,2,3,4};\n",
    "int k = 3;\n",
    "filterAndReverse(xs, k);"
   ]
  },
  {
   "cell_type": "code",
   "execution_count": null,
   "id": "1c236d73-38e7-4e60-9982-8e1849a56fb4",
   "metadata": {},
   "outputs": [],
   "source": []
  }
 ],
 "metadata": {
  "kernelspec": {
   "display_name": "Java",
   "language": "java",
   "name": "java"
  },
  "language_info": {
   "codemirror_mode": "java",
   "file_extension": ".jshell",
   "mimetype": "text/x-java-source",
   "name": "Java",
   "pygments_lexer": "java",
   "version": "11.0.8+10-LTS"
  }
 },
 "nbformat": 4,
 "nbformat_minor": 5
}
