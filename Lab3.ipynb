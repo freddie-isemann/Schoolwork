{
 "cells": [
  {
   "cell_type": "markdown",
   "id": "d38cef6e-ba9b-4e56-a69f-eb5e754433c7",
   "metadata": {},
   "source": [
    "# Lab 3\n",
    "\n",
    "Deadline: **Week 4** in your respective lab session"
   ]
  },
  {
   "cell_type": "markdown",
   "id": "3fd8d6f9-4682-450d-8faf-a4faf17daf50",
   "metadata": {},
   "source": [
    "### Name:\n",
    "### Student ID:"
   ]
  },
  {
   "cell_type": "markdown",
   "id": "e59f7f40-2982-4996-b01e-63212844413b",
   "metadata": {},
   "source": [
    "***\n",
    "\n",
    "## Question 1 [1 mark]"
   ]
  },
  {
   "cell_type": "markdown",
   "id": "9a329058-b307-477a-89aa-bed21e076027",
   "metadata": {},
   "source": [
    "Write class `Utils`, which will contain useful constants and methods. It should contain a `final` class variable `PI` and store a value `3.14`. The class `Utils` should also contain two class methods, `circlePerimeter` and `circleArea`.\n",
    "\n",
    "`circlePerimeter` should take the circle's radius as an argument, calculate and return the circle's perimeter with such radius with exactly 1 decimal place rounded down. \n",
    "\n",
    "The formula for the perimeter of a circle is:  \n",
    "$circle\\ \\ perimeter = 2πr$ where $r$ is a radius.\n",
    "\n",
    "`circleArea` should take the circle's radius as an argument, calculate and return the area of the circle with such radius with exactly 1 decimal place rounded down. \n",
    "\n",
    "The formula for the area of a circle is:  \n",
    "$circle\\ \\ area = πr^2$ where $r$ is a radius.\n",
    "\n",
    "You are NOT allowed to use libraries or modify a String representation of the number to achieve this.\n",
    "\n",
    "Lastly, write class `Main1` with the main method that asks the user to input the circle's radius and prints out the value of π, the circle perimeter and the area with such radius. To achieve this, you must use a variable and methods defined within `Utils`.\n",
    "\n",
    "Example run:  \n",
    "`What is the radius of your circle?` **`26`**  \n",
    "`The value of π is 3.14`  \n",
    "`The perimeter of your circle is 163.2 units`  \n",
    "`The area of your circle is 2122.6 square units`\n",
    "\n",
    "\n"
   ]
  },
  {
   "cell_type": "markdown",
   "id": "eb316635-97f3-4c19-bccf-4c6f69b18318",
   "metadata": {},
   "source": [
    "**Write your answer below:**\n"
   ]
  },
  {
   "cell_type": "code",
   "execution_count": 50,
   "id": "c9653abd-09c0-423d-b5ad-f3a50cea0361",
   "metadata": {
    "vscode": {
     "languageId": "java"
    }
   },
   "outputs": [],
   "source": [
    "public class Utils {\n",
    "    public static final double PI = 3.14;\n",
    "\n",
    "    public static double circlePerimeter(double r) {\n",
    "        int perimeterInt = ((int) (2 * PI * r) * 10);\n",
    "        double perimeter = (double) perimeterInt / 10.0;\n",
    "        return perimeter;\n",
    "    }\n",
    "\n",
    "    public static double circleArea(double r) {\n",
    "        int areaInt = ((int)(PI * (r * r)) * 10);\n",
    "        double area = areaInt / 10.0;\n",
    "        return area;\n",
    "    }\n",
    "}"
   ]
  },
  {
   "cell_type": "code",
   "execution_count": 51,
   "id": "f25c9918-fc3e-4a22-b3ab-107cc49bf0c8",
   "metadata": {},
   "outputs": [],
   "source": [
    "public class Main1 {\n",
    "\n",
    "    public static void main(String [] args) {\n",
    "        Scanner keyboard = new Scanner(System.in);\n",
    "        System.out.println(\"What is the radius of your circle? \");\n",
    "        double radius = keyboard.nextDouble();\n",
    "        System.out.println(\"The value of π is 3.14\");\n",
    "    \n",
    "        double perimeter = Utils.circlePerimeter(radius);\n",
    "        double area = Utils.circleArea(radius);\n",
    "    \n",
    "        System.out.println(\"The perimeter of your circle is \" + perimeter + \" units.\");\n",
    "        System.out.println(\"The area of your circle is \" + area + \" square units.\");\n",
    "    }\n",
    "}"
   ]
  },
  {
   "cell_type": "markdown",
   "id": "6fabf667-97b1-4343-96e3-86b4dd65765d",
   "metadata": {},
   "source": [
    "**Run your program:**\n"
   ]
  },
  {
   "cell_type": "code",
   "execution_count": 52,
   "id": "8aa692bb-3548-42a1-9306-11a72fcfbacd",
   "metadata": {
    "vscode": {
     "languageId": "java"
    }
   },
   "outputs": [
    {
     "name": "stdout",
     "output_type": "stream",
     "text": [
      "What is the radius of your circle? \n"
     ]
    },
    {
     "name": "stdin",
     "output_type": "stream",
     "text": [
      " 10\n"
     ]
    },
    {
     "name": "stdout",
     "output_type": "stream",
     "text": [
      "The value of π is 3.14\n",
      "The perimeter of your circle is 62.0 units.\n",
      "The area of your circle is 314.0 square units.\n"
     ]
    }
   ],
   "source": [
    "Main1.main(null)"
   ]
  },
  {
   "cell_type": "markdown",
   "id": "4a31bb78-6117-412b-92d9-f150ba2ee053",
   "metadata": {},
   "source": [
    "***\n",
    "\n",
    "## Question 2 [1 mark]"
   ]
  },
  {
   "cell_type": "markdown",
   "id": "69e5f1d4-400d-4c56-b3e7-2cfacd1e88fb",
   "metadata": {},
   "source": [
    "Write a class `Dictionary` which can store up to `10000` words and their definitions.\n",
    "\n",
    "The class `Dictionary` has two instance methods `addEntry` and `findDefition`.\n",
    "\n",
    "`addEntry` takes two Strings as arguments, a word and its definitions and adds them to the array with all the other entries.\n",
    "\n",
    "`findDefinition` takes a String as an argument, a word, and checks whether it was entered in the dictionary. If found, it returns its definitions; otherwise, it returns `\"Not Found.\"`.\n",
    "\n",
    "Solutions that concatenate a word and its definition into 1 String to store them inside the array will not be accepted. We are looking for an Object-Oriented solution.\n",
    "\n",
    "Hint: Write another class, `DictionaryEntry`.\n",
    "\n"
   ]
  },
  {
   "cell_type": "markdown",
   "id": "661ca302-591d-4686-ba0c-09b186a7b981",
   "metadata": {},
   "source": [
    "**Write your answer below:**"
   ]
  },
  {
   "cell_type": "code",
   "execution_count": 53,
   "id": "e6919491-27b6-4393-9147-94dfb863a54d",
   "metadata": {},
   "outputs": [],
   "source": [
    "public class DictionaryEntry {\n",
    "    String word;\n",
    "    String definition;\n",
    "\n",
    "    public DictionaryEntry(String userWord, String userDefinition) {\n",
    "        this.word = userWord;\n",
    "        this.definition = userDefinition;\n",
    "    }\n",
    "}"
   ]
  },
  {
   "cell_type": "code",
   "execution_count": 42,
   "id": "efdd1738-1564-4787-a811-fbc99e8ca644",
   "metadata": {
    "vscode": {
     "languageId": "java"
    }
   },
   "outputs": [],
   "source": [
    "public class Dictionary {\n",
    "\n",
    "    public DictionaryEntry[] words = new DictionaryEntry[10000];\n",
    "    DictionaryEntry notFound = new DictionaryEntry(\"Not Found\", \"\");\n",
    "    public int entries = 0;\n",
    "\n",
    "    public void addEntry(String word, String definition) {\n",
    "        if(entries >= 9999) {\n",
    "            System.out.println(\"Dictionary full! Cannot add any more words and definitions!\");\n",
    "        }\n",
    "\n",
    "        words[entries] = new DictionaryEntry(word, definition);\n",
    "        entries = entries + 1;\n",
    "        System.out.println(\"Entry successfully added!\");\n",
    "    }\n",
    "\n",
    "    public String findDefinition(String word) {\n",
    "        int i = 0;\n",
    "        int index = 0;\n",
    "        for(i = 0; i < entries; i++) {\n",
    "            if(words[i] != null && words[i].word.equals(word)) {\n",
    "                return words[i].definition;\n",
    "            }\n",
    "        }\n",
    "        return \"Not Found.\";\n",
    "    }\n",
    "}"
   ]
  },
  {
   "cell_type": "code",
   "execution_count": 54,
   "id": "4f2fc57c-53d7-4bfb-ad37-4cb4217f8408",
   "metadata": {},
   "outputs": [],
   "source": [
    "public class Main2 {\n",
    "    public static void main(String[] args) {\n",
    "        Dictionary englishLanguage = new Dictionary();\n",
    "    \n",
    "        englishLanguage.addEntry(\"dog\", \"A loyal mammal, domesticated for companionship, belonging to the Canidae family.\");\n",
    "        englishLanguage.addEntry(\"cat\", \"A cat is a domesticated feline mammal, valued for companionship, belonging to the Felidae family.\");\n",
    "\n",
    "        System.out.println(englishLanguage.findDefinition(\"dog\"));\n",
    "        System.out.println(englishLanguage.findDefinition(\"cat\"));\n",
    "        System.out.println(englishLanguage.findDefinition(\"octopus\"));\n",
    "    }\n",
    "}\n"
   ]
  },
  {
   "cell_type": "markdown",
   "id": "86678292-eaf1-4144-8540-af5a2897235f",
   "metadata": {},
   "source": [
    "**Run your program:**\n"
   ]
  },
  {
   "cell_type": "code",
   "execution_count": 55,
   "id": "0ad396b2-a91f-474c-bfc3-8c395500544a",
   "metadata": {
    "vscode": {
     "languageId": "java"
    }
   },
   "outputs": [
    {
     "name": "stdout",
     "output_type": "stream",
     "text": [
      "Entry successfully added!\n",
      "Entry successfully added!\n",
      "A loyal mammal, domesticated for companionship, belonging to the Canidae family.\n",
      "A cat is a domesticated feline mammal, valued for companionship, belonging to the Felidae family.\n",
      "Not Found.\n"
     ]
    }
   ],
   "source": [
    "Main2.main(null);"
   ]
  },
  {
   "cell_type": "markdown",
   "id": "f7d78bc4-91d6-4599-9b1b-92f54ad04024",
   "metadata": {},
   "source": [
    "***\n",
    "## Question 3 [1 mark]"
   ]
  },
  {
   "cell_type": "markdown",
   "id": "3c8c2842-016a-4fc3-a860-08725ed30efd",
   "metadata": {},
   "source": [
    "Paste your code from Question 2 below and modify it (start by renaming each class) to implement the Singleton Design Pattern so that you can create only one instance of a class `Dictionary`. If you attempt to create a second instance of a `Dictionary`, print out an error message `\"This class is a singleton!\"` and return `null`.\n",
    "\n",
    "Singleton is a design pattern in software engineering. It is used to ensure there is only one instance of a particular class. It prevents us from accidentally creating more instances than we want to have. \n",
    "\n",
    "For example, if we are developing a system to manage books in the library, we would only want one instance to keep track of all the books. Accidentally creating multiple instances storing data about all the books would (unintentionally) lead to numerous inconsistencies."
   ]
  },
  {
   "cell_type": "markdown",
   "id": "c5fe0fd0-036e-485c-911a-437f103e1e2f",
   "metadata": {},
   "source": [
    "**Write your answer below:**"
   ]
  },
  {
   "cell_type": "code",
   "execution_count": 56,
   "id": "7b967f8a-1b0b-4e2e-bcab-2a1c39588b9f",
   "metadata": {},
   "outputs": [],
   "source": [
    "public class DictionaryEntry2 {\n",
    "    String word;\n",
    "    String definition;\n",
    "\n",
    "    public DictionaryEntry2(String userWord, String userDefinition) {\n",
    "        this.word = userWord;\n",
    "        this.definition = userDefinition;\n",
    "    }\n",
    "}"
   ]
  },
  {
   "cell_type": "code",
   "execution_count": 65,
   "id": "fe90afcc-eef7-4bba-bdc0-f57caee04b93",
   "metadata": {
    "vscode": {
     "languageId": "java"
    }
   },
   "outputs": [],
   "source": [
    "public class Dictionary2 {\n",
    "\n",
    "    private static Dictionary2 instance = null;\n",
    "    public DictionaryEntry2[] words = new DictionaryEntry2[10000];\n",
    "    DictionaryEntry2 notFound = new DictionaryEntry2(\"Not Found\", \"\");\n",
    "    public int entries = 0;\n",
    "    // Private constructor\n",
    "    private Dictionary2() {}\n",
    "\n",
    "    // Singleton Design Pattern makes the 'instance' variable the literal new instance so after creating the first dictionary it NEVER goes back to null and can NEVER create more\n",
    "    // Than one instance\n",
    "    public static Dictionary2 getInstance() {\n",
    "        if(instance == null) {\n",
    "            instance = new Dictionary2();\n",
    "        }\n",
    "        else {\n",
    "            System.out.println(\"This class is a singleton!\");\n",
    "            return instance;\n",
    "        }\n",
    "        return instance;\n",
    "    }\n",
    "\n",
    "    public static Dictionary2 createDictionary2() {\n",
    "        return getInstance();\n",
    "    }\n",
    "\n",
    "    public void addEntry(String word, String definition) {\n",
    "        if(entries >= 9999) {\n",
    "            System.out.println(\"Dictionary full! Cannot add any more words and definitions!\");\n",
    "        }\n",
    "\n",
    "        words[entries] = new DictionaryEntry2(word, definition);\n",
    "        entries = entries + 1;\n",
    "        System.out.println(\"Entry successfully added!\");\n",
    "    }\n",
    "\n",
    "    public String findDefinition(String word) {\n",
    "        int i = 0;\n",
    "        int index = 0;\n",
    "        for(i = 0; i < entries; i++) {\n",
    "            if(words[i] != null && words[i].word.equals(word)) {\n",
    "                return words[i].definition;\n",
    "            }\n",
    "        }\n",
    "        return \"Not Found.\";\n",
    "    }\n",
    "}"
   ]
  },
  {
   "cell_type": "code",
   "execution_count": 70,
   "id": "f765cc02-b3ea-49c6-b3d3-f73526086582",
   "metadata": {},
   "outputs": [],
   "source": [
    "class Main3 {\n",
    "    public static void main(String[] args) {\n",
    "        Dictionary2 englishLanguage = Dictionary2.createDictionary2();\n",
    "        Dictionary2 welshLanguage = Dictionary2.createDictionary2();\n",
    "    \n",
    "        englishLanguage.addEntry(\"dog\", \"A loyal mammal, domesticated for companionship, belonging to the Canidae family.\");\n",
    "        englishLanguage.addEntry(\"cat\", \"A cat is a domesticated feline mammal, valued for companionship, belonging to the Felidae family.\");\n",
    "\n",
    "        System.out.println(englishLanguage.findDefinition(\"dog\"));\n",
    "        System.out.println(englishLanguage.findDefinition(\"cat\"));\n",
    "        System.out.println(englishLanguage.findDefinition(\"octopus\"));\n",
    "        \n",
    "        System.out.println(welshLanguage); // null\n",
    "    }\n",
    "}\n"
   ]
  },
  {
   "cell_type": "markdown",
   "id": "cbf3c460-6088-4e9f-aced-e51555d57b4e",
   "metadata": {},
   "source": [
    "**Run your program:**\n"
   ]
  },
  {
   "cell_type": "code",
   "execution_count": 71,
   "id": "ac33953a-bc70-4107-924e-511d71686f12",
   "metadata": {
    "vscode": {
     "languageId": "java"
    }
   },
   "outputs": [
    {
     "name": "stdout",
     "output_type": "stream",
     "text": [
      "This class is a singleton!\n",
      "This class is a singleton!\n",
      "Entry successfully added!\n",
      "Entry successfully added!\n",
      "A loyal mammal, domesticated for companionship, belonging to the Canidae family.\n",
      "A cat is a domesticated feline mammal, valued for companionship, belonging to the Felidae family.\n",
      "Not Found.\n",
      "REPL.$JShell$30E$Dictionary2@1b4d781d\n"
     ]
    }
   ],
   "source": [
    "Main3.main(null);"
   ]
  },
  {
   "cell_type": "markdown",
   "id": "f4db984e-b240-4b08-98b2-4950400706c2",
   "metadata": {},
   "source": [
    "***"
   ]
  },
  {
   "cell_type": "markdown",
   "id": "139be293-bfe1-4ded-b6ef-eecf28decfa5",
   "metadata": {},
   "source": [
    "## Question 4 [1 mark]"
   ]
  },
  {
   "cell_type": "markdown",
   "id": "49def47a",
   "metadata": {},
   "source": [
    "Write class `Animal`, which stores the animal's name and age. It also contains a constructor and a method `displayInfo` that prints out information about the animal. The class `Animal` has 2 sub-classes `Dog` and `Cat`.\n",
    "\n",
    "`Dog` has an instance variable `bread`, which is initialised through its constructor. It also has a method `bark` that prints out a bark sound and the dog's breed.\n",
    "\n",
    "`Cat` has an instance variable `hasClaws` which is initialised through its constructor. It also has a method `meow` that prints out a meow sound and whether a cat has claws.\n",
    "\n",
    "Lastly, define class `Main4` to test your code.\n",
    "\n"
   ]
  },
  {
   "cell_type": "markdown",
   "id": "e361e947",
   "metadata": {},
   "source": [
    "**Write your answer below:**"
   ]
  },
  {
   "cell_type": "code",
   "execution_count": 76,
   "id": "a62a4c53-9680-410e-a100-d6894b4c4a4b",
   "metadata": {},
   "outputs": [],
   "source": [
    "class Cat extends animal {\n",
    "    boolean hasClaws;\n",
    "\n",
    "    public Cat(String name, int age, boolean claws) {\n",
    "        super(name, age);\n",
    "        this.hasClaws = claws;\n",
    "    }\n",
    "\n",
    "    public void meow() {\n",
    "        System.out.println(\"Meow!\");\n",
    "        System.out.println(this.hasClaws);\n",
    "    }\n",
    "}"
   ]
  },
  {
   "cell_type": "code",
   "execution_count": 77,
   "id": "b0e0ad9d",
   "metadata": {
    "vscode": {
     "languageId": "java"
    }
   },
   "outputs": [],
   "source": [
    "class Dog extends animal {\n",
    "    String breed;\n",
    "\n",
    "    public Dog(String name, int age, String breed) {\n",
    "        super(name, age);\n",
    "        this.breed = breed;\n",
    "    }\n",
    "\n",
    "    public void bark() {\n",
    "        System.out.println(\"Bark!\");\n",
    "        System.out.println(this.breed);\n",
    "    }\n",
    "}"
   ]
  },
  {
   "cell_type": "code",
   "execution_count": 75,
   "id": "f90085cd-4631-47d9-aeec-94343798cc35",
   "metadata": {},
   "outputs": [],
   "source": [
    "class animal {\n",
    "    String name;\n",
    "    int age;\n",
    "\n",
    "    public animal(String name, int age) {\n",
    "        this.name = name;\n",
    "        this.age = age;\n",
    "    }\n",
    "\n",
    "    public void displayInfo() {\n",
    "        System.out.println(this.name);\n",
    "        System.out.println(this.age);\n",
    "    }\n",
    "\n",
    "}"
   ]
  },
  {
   "cell_type": "code",
   "execution_count": 78,
   "id": "78536c69-eef2-45ad-8006-632dacda48b8",
   "metadata": {},
   "outputs": [],
   "source": [
    "class Main4 {\n",
    "    public static void main(String[] args) {\n",
    "        Dog myDog = new Dog(\"Buddy\", 3, \"Golden Retriever\");\n",
    "        myDog.displayInfo();\n",
    "        myDog.bark();\n",
    "\n",
    "        System.out.println();\n",
    "\n",
    "        Cat myCat = new Cat(\"Whiskers\", 2, true);\n",
    "        myCat.displayInfo();\n",
    "        myCat.meow();\n",
    "    }\n",
    "}"
   ]
  },
  {
   "cell_type": "markdown",
   "id": "57b12d04",
   "metadata": {},
   "source": [
    "**Run your program:**\n"
   ]
  },
  {
   "cell_type": "code",
   "execution_count": 79,
   "id": "7a139c49",
   "metadata": {
    "vscode": {
     "languageId": "java"
    }
   },
   "outputs": [
    {
     "name": "stdout",
     "output_type": "stream",
     "text": [
      "Buddy\n",
      "3\n",
      "Bark!\n",
      "Golden Retriever\n",
      "\n",
      "Whiskers\n",
      "2\n",
      "Meow!\n",
      "true\n"
     ]
    }
   ],
   "source": [
    "Main4.main(null);"
   ]
  },
  {
   "cell_type": "markdown",
   "id": "36473178",
   "metadata": {},
   "source": [
    "***"
   ]
  },
  {
   "cell_type": "markdown",
   "id": "a2769fc4-0864-4328-85f3-7dcb7034045c",
   "metadata": {},
   "source": [
    "## Question 5 [1 mark]"
   ]
  },
  {
   "cell_type": "markdown",
   "id": "c86c6dbc",
   "metadata": {},
   "source": [
    "You and two of your friends are arguing about the following probability puzzle: \n",
    "\n",
    "You are given a black box containing $100$ balls, $n$ of them are red, and $100-n$ are green, where $n$ is an integer that is chosen uniformly at random from the set $\\{0, 1, ..., 100\\}$. You take a random ball out of the urn. It turns out to be red, you discard it. The next ball that you pick out of the black box out of the $99$ remaining is:  \n",
    "a) Equally likely  \n",
    "b) More likely to be green,   \n",
    "c) More likely to be red. \n",
    "\n",
    "Each of you hold one of the three conclusions: a, b and c. In order to end the argument you decide to implement a small Java program that simulates this experiment for 100k times. Write this program below. \n",
    "\n",
    "Remember to `import java.util.Random`. Then you can do the following:   \n",
    "`Random r = new Random();`  \n",
    "`int x = r.nextInt(55);`   \n",
    "\n",
    "Picks a number uniformly at random in the set $\\{0, 1, 2, ..., 54\\}$. "
   ]
  },
  {
   "cell_type": "markdown",
   "id": "adbd95c5",
   "metadata": {},
   "source": [
    "**Write your answer below:**"
   ]
  },
  {
   "cell_type": "code",
   "execution_count": 28,
   "id": "8321ac04",
   "metadata": {
    "vscode": {
     "languageId": "java"
    }
   },
   "outputs": [],
   "source": [
    "import java.util.Random;\n",
    "\n",
    "public static void probabilityPuzzle() {\n",
    "    int simulationIterations = 100000;\n",
    "    int redBalls = 0;\n",
    "    int greenBalls = 0;\n",
    "\n",
    "    int redCounted = 0;\n",
    "    int greenCounted = 0;\n",
    "\n",
    "    Random r = new Random(); // Creates a new random number of total balls for the simulation between 1 and 54\n",
    "\n",
    "    for(int i = 0; i < simulationIterations; i++) {\n",
    "        int totalBalls = r.nextInt(101); // Picks a number at random in the set 0 - 54\n",
    "        redBalls = r.nextInt(totalBalls + 1); // Makes red balls pick another random number between 0 and 55\n",
    "        greenBalls = totalBalls - redBalls; // Number of green balls is every ball that is left\n",
    "        redBalls--; // Discard a red ball\n",
    "        totalBalls--; // Discard that red ball from the total number of balls\n",
    "\n",
    "        if(greenBalls > 0) {\n",
    "            greenCounted++; // Tracks green balls\n",
    "        }\n",
    "        else if(redBalls > 0) {\n",
    "            redCounted++; // Tracks red balls\n",
    "        }\n",
    "    }\n",
    "\n",
    "    double probabilityOfGreen = ((double) greenBalls / simulationIterations) * 100000; // This calculates the probability of green balls\n",
    "    double probabilityOfRed = ((double) redBalls / simulationIterations) * 100000; // Calculates the probability of red balls\n",
    "\n",
    "    System.out.println(\"Results after 100000 simulations: \");\n",
    "    System.out.println(\"Probability of picking a green ball next: \" + probabilityOfGreen);\n",
    "    System.out.println(\"Probability of picking a red ball next: \" + probabilityOfRed);\n",
    "}"
   ]
  },
  {
   "cell_type": "markdown",
   "id": "592174e5",
   "metadata": {},
   "source": [
    "**Run your program:**\n"
   ]
  },
  {
   "cell_type": "code",
   "execution_count": 29,
   "id": "3de85efc",
   "metadata": {
    "vscode": {
     "languageId": "java"
    }
   },
   "outputs": [
    {
     "name": "stdout",
     "output_type": "stream",
     "text": [
      "Results after 100000 simulations: \n",
      "Probability of picking a green ball next: 55.0\n",
      "Probability of picking a red ball next: 36.0\n"
     ]
    }
   ],
   "source": [
    "probabilityPuzzle();"
   ]
  },
  {
   "cell_type": "code",
   "execution_count": null,
   "id": "a3eb9a86-24a8-4a9e-8a34-4bd053df5a60",
   "metadata": {},
   "outputs": [],
   "source": []
  }
 ],
 "metadata": {
  "kernelspec": {
   "display_name": "Java",
   "language": "java",
   "name": "java"
  },
  "language_info": {
   "codemirror_mode": "java",
   "file_extension": ".jshell",
   "mimetype": "text/x-java-source",
   "name": "Java",
   "pygments_lexer": "java",
   "version": "11.0.8+10-LTS"
  }
 },
 "nbformat": 4,
 "nbformat_minor": 5
}
